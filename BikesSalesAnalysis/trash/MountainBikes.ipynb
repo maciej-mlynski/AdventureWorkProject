{
 "cells": [
  {
   "cell_type": "code",
   "execution_count": 1,
   "id": "9fa99e9d",
   "metadata": {},
   "outputs": [],
   "source": [
    "import pandas as pd\n",
    "import numpy as np\n",
    "import matplotlib as plt\n",
    "%matplotlib inline"
   ]
  },
  {
   "cell_type": "code",
   "execution_count": 27,
   "id": "756694f5",
   "metadata": {},
   "outputs": [],
   "source": [
    "pd.set_option('display.max_columns', None)"
   ]
  },
  {
   "cell_type": "code",
   "execution_count": 132,
   "id": "c3a1c974",
   "metadata": {},
   "outputs": [],
   "source": [
    "df = pd.read_csv('../AdventureWorks2019.csv', sep=';', header=0)"
   ]
  },
  {
   "cell_type": "code",
   "execution_count": 19,
   "id": "ae8b00e3",
   "metadata": {},
   "outputs": [
    {
     "data": {
      "text/plain": [
       "array(['Bikes', 'Clothing', 'Accessories', 'Components'], dtype=object)"
      ]
     },
     "execution_count": 19,
     "metadata": {},
     "output_type": "execute_result"
    }
   ],
   "source": [
    "df['CatName'].unique()"
   ]
  },
  {
   "cell_type": "code",
   "execution_count": 23,
   "id": "58a9a09b",
   "metadata": {},
   "outputs": [
    {
     "data": {
      "text/plain": [
       "array(['Mountain Bikes', 'Road Bikes', 'Touring Bikes'], dtype=object)"
      ]
     },
     "execution_count": 23,
     "metadata": {},
     "output_type": "execute_result"
    }
   ],
   "source": [
    "df['SubName'][df['CatName'] == 'Bikes'].unique()"
   ]
  },
  {
   "cell_type": "code",
   "execution_count": 133,
   "id": "92e086a9",
   "metadata": {},
   "outputs": [],
   "source": [
    "MountainBikes = df[df['SubName'] == 'Mountain Bikes']"
   ]
  },
  {
   "cell_type": "code",
   "execution_count": 59,
   "id": "27854175",
   "metadata": {},
   "outputs": [
    {
     "data": {
      "text/plain": [
       "array(['U ', 'W '], dtype=object)"
      ]
     },
     "execution_count": 59,
     "metadata": {},
     "output_type": "execute_result"
    }
   ],
   "source": [
    "MountainBikes['Style'].unique()"
   ]
  },
  {
   "cell_type": "markdown",
   "id": "9fdb103e",
   "metadata": {},
   "source": [
    "#### How many individuals mountain bikes has been stored in Adv2019?"
   ]
  },
  {
   "cell_type": "code",
   "execution_count": 79,
   "id": "9de7c2f0",
   "metadata": {},
   "outputs": [
    {
     "data": {
      "text/plain": [
       "32"
      ]
     },
     "execution_count": 79,
     "metadata": {},
     "output_type": "execute_result"
    }
   ],
   "source": [
    "allBikesMB = len(MountainBikes['ProductID'].unique())\n",
    "allBikesMB"
   ]
  },
  {
   "cell_type": "markdown",
   "id": "cdc4881e",
   "metadata": {},
   "source": [
    "#### How many mountain bikes has been salled in Adv Store at all?"
   ]
  },
  {
   "cell_type": "code",
   "execution_count": 78,
   "id": "e277e5fa",
   "metadata": {},
   "outputs": [
    {
     "data": {
      "text/plain": [
       "28321"
      ]
     },
     "execution_count": 78,
     "metadata": {},
     "output_type": "execute_result"
    }
   ],
   "source": [
    "allSalesMB = MountainBikes['OrderQty'].sum()\n",
    "allSalesMB"
   ]
  },
  {
   "cell_type": "markdown",
   "id": "46f0c8ed",
   "metadata": {},
   "source": [
    "#### Which are the 5 top all time sellable mountain bikes by quantity of orders?"
   ]
  },
  {
   "cell_type": "code",
   "execution_count": 143,
   "id": "0219d1ed",
   "metadata": {},
   "outputs": [
    {
     "data": {
      "text/plain": [
       "28321"
      ]
     },
     "execution_count": 143,
     "metadata": {},
     "output_type": "execute_result"
    }
   ],
   "source": [
    "MountainBikes['OrderQty'].sum()"
   ]
  },
  {
   "cell_type": "code",
   "execution_count": 170,
   "id": "13fa5817",
   "metadata": {},
   "outputs": [
    {
     "data": {
      "text/html": [
       "<div>\n",
       "<style scoped>\n",
       "    .dataframe tbody tr th:only-of-type {\n",
       "        vertical-align: middle;\n",
       "    }\n",
       "\n",
       "    .dataframe tbody tr th {\n",
       "        vertical-align: top;\n",
       "    }\n",
       "\n",
       "    .dataframe thead th {\n",
       "        text-align: right;\n",
       "    }\n",
       "</style>\n",
       "<table border=\"1\" class=\"dataframe\">\n",
       "  <thead>\n",
       "    <tr style=\"text-align: right;\">\n",
       "      <th></th>\n",
       "      <th>OrderQty</th>\n",
       "    </tr>\n",
       "    <tr>\n",
       "      <th>ProductID</th>\n",
       "      <th></th>\n",
       "    </tr>\n",
       "  </thead>\n",
       "  <tbody>\n",
       "    <tr>\n",
       "      <th>782</th>\n",
       "      <td>2977</td>\n",
       "    </tr>\n",
       "    <tr>\n",
       "      <th>783</th>\n",
       "      <td>2664</td>\n",
       "    </tr>\n",
       "    <tr>\n",
       "      <th>779</th>\n",
       "      <td>2394</td>\n",
       "    </tr>\n",
       "    <tr>\n",
       "      <th>780</th>\n",
       "      <td>2234</td>\n",
       "    </tr>\n",
       "    <tr>\n",
       "      <th>781</th>\n",
       "      <td>2216</td>\n",
       "    </tr>\n",
       "  </tbody>\n",
       "</table>\n",
       "</div>"
      ],
      "text/plain": [
       "           OrderQty\n",
       "ProductID          \n",
       "782            2977\n",
       "783            2664\n",
       "779            2394\n",
       "780            2234\n",
       "781            2216"
      ]
     },
     "execution_count": 170,
     "metadata": {},
     "output_type": "execute_result"
    }
   ],
   "source": [
    "sumOrderQty = MountainBikes[['OrderQty', 'ProductID']].groupby('ProductID').sum().sort_values('OrderQty', ascending=False)\n",
    "sumOrderQty.head(5)"
   ]
  },
  {
   "cell_type": "markdown",
   "id": "9fb2884d",
   "metadata": {},
   "source": [
    "##### How many bikes is currently aveliable in the store?"
   ]
  },
  {
   "cell_type": "code",
   "execution_count": 89,
   "id": "27a04954",
   "metadata": {},
   "outputs": [],
   "source": [
    "MountainBikesAveliable = MountainBikes[MountainBikes['SellEndDate'].isna()]"
   ]
  },
  {
   "cell_type": "code",
   "execution_count": 90,
   "id": "4b3dfca6",
   "metadata": {},
   "outputs": [
    {
     "data": {
      "text/plain": [
       "20"
      ]
     },
     "execution_count": 90,
     "metadata": {},
     "output_type": "execute_result"
    }
   ],
   "source": [
    "len(MountainBikesAveliable['ProductID'].unique())"
   ]
  },
  {
   "cell_type": "markdown",
   "id": "ffbb7383",
   "metadata": {},
   "source": [
    "##### Top 5 most sellable bikes which are no longer aveliable on sale"
   ]
  },
  {
   "cell_type": "code",
   "execution_count": 93,
   "id": "25f8d9e0",
   "metadata": {},
   "outputs": [],
   "source": [
    "MountainBikesUnaveliable = MountainBikes[MountainBikes['SellEndDate'].isnull() == False]"
   ]
  },
  {
   "cell_type": "code",
   "execution_count": 94,
   "id": "1ea7e493",
   "metadata": {},
   "outputs": [
    {
     "data": {
      "text/html": [
       "<div>\n",
       "<style scoped>\n",
       "    .dataframe tbody tr th:only-of-type {\n",
       "        vertical-align: middle;\n",
       "    }\n",
       "\n",
       "    .dataframe tbody tr th {\n",
       "        vertical-align: top;\n",
       "    }\n",
       "\n",
       "    .dataframe thead th {\n",
       "        text-align: right;\n",
       "    }\n",
       "</style>\n",
       "<table border=\"1\" class=\"dataframe\">\n",
       "  <thead>\n",
       "    <tr style=\"text-align: right;\">\n",
       "      <th></th>\n",
       "      <th>OrderQty</th>\n",
       "    </tr>\n",
       "    <tr>\n",
       "      <th>ProductID</th>\n",
       "      <th></th>\n",
       "    </tr>\n",
       "  </thead>\n",
       "  <tbody>\n",
       "    <tr>\n",
       "      <th>786</th>\n",
       "      <td>776</td>\n",
       "    </tr>\n",
       "    <tr>\n",
       "      <th>787</th>\n",
       "      <td>747</td>\n",
       "    </tr>\n",
       "    <tr>\n",
       "      <th>788</th>\n",
       "      <td>740</td>\n",
       "    </tr>\n",
       "    <tr>\n",
       "      <th>785</th>\n",
       "      <td>684</td>\n",
       "    </tr>\n",
       "    <tr>\n",
       "      <th>775</th>\n",
       "      <td>682</td>\n",
       "    </tr>\n",
       "    <tr>\n",
       "      <th>777</th>\n",
       "      <td>678</td>\n",
       "    </tr>\n",
       "    <tr>\n",
       "      <th>771</th>\n",
       "      <td>642</td>\n",
       "    </tr>\n",
       "    <tr>\n",
       "      <th>776</th>\n",
       "      <td>634</td>\n",
       "    </tr>\n",
       "    <tr>\n",
       "      <th>778</th>\n",
       "      <td>616</td>\n",
       "    </tr>\n",
       "    <tr>\n",
       "      <th>773</th>\n",
       "      <td>601</td>\n",
       "    </tr>\n",
       "  </tbody>\n",
       "</table>\n",
       "</div>"
      ],
      "text/plain": [
       "           OrderQty\n",
       "ProductID          \n",
       "786             776\n",
       "787             747\n",
       "788             740\n",
       "785             684\n",
       "775             682\n",
       "777             678\n",
       "771             642\n",
       "776             634\n",
       "778             616\n",
       "773             601"
      ]
     },
     "execution_count": 94,
     "metadata": {},
     "output_type": "execute_result"
    }
   ],
   "source": [
    "MountainBikesUnaveliable[['OrderQty', 'ProductID']].groupby('ProductID').sum().sort_values('OrderQty', ascending=False).head(10)"
   ]
  },
  {
   "cell_type": "markdown",
   "id": "e771aacd",
   "metadata": {},
   "source": [
    "#### Which are the most profitable Mountain bikes?"
   ]
  },
  {
   "cell_type": "code",
   "execution_count": 134,
   "id": "1bf8d5e1",
   "metadata": {
    "scrolled": true
   },
   "outputs": [
    {
     "name": "stderr",
     "output_type": "stream",
     "text": [
      "<ipython-input-134-d50f9e45fd40>:1: SettingWithCopyWarning: \n",
      "A value is trying to be set on a copy of a slice from a DataFrame.\n",
      "Try using .loc[row_indexer,col_indexer] = value instead\n",
      "\n",
      "See the caveats in the documentation: https://pandas.pydata.org/pandas-docs/stable/user_guide/indexing.html#returning-a-view-versus-a-copy\n",
      "  MountainBikes['UnitPrice'] = MountainBikes[['UnitPrice']].applymap(lambda x: str(x.replace(',','.'))).astype('float')\n"
     ]
    }
   ],
   "source": [
    "MountainBikes['UnitPrice'] = MountainBikes[['UnitPrice']].applymap(lambda x: str(x.replace(',','.'))).astype('float')"
   ]
  },
  {
   "cell_type": "code",
   "execution_count": 135,
   "id": "49e17050",
   "metadata": {},
   "outputs": [
    {
     "name": "stderr",
     "output_type": "stream",
     "text": [
      "<ipython-input-135-a3105d908444>:1: SettingWithCopyWarning: \n",
      "A value is trying to be set on a copy of a slice from a DataFrame.\n",
      "Try using .loc[row_indexer,col_indexer] = value instead\n",
      "\n",
      "See the caveats in the documentation: https://pandas.pydata.org/pandas-docs/stable/user_guide/indexing.html#returning-a-view-versus-a-copy\n",
      "  MountainBikes['StandardCost'] = MountainBikes[['StandardCost']].applymap(lambda x: str(x.replace(',','.'))).astype('float')\n"
     ]
    }
   ],
   "source": [
    "MountainBikes['StandardCost'] = MountainBikes[['StandardCost']].applymap(lambda x: str(x.replace(',','.'))).astype('float')"
   ]
  },
  {
   "cell_type": "code",
   "execution_count": 136,
   "id": "cd039a6a",
   "metadata": {},
   "outputs": [
    {
     "name": "stderr",
     "output_type": "stream",
     "text": [
      "<ipython-input-136-183930049dee>:1: SettingWithCopyWarning: \n",
      "A value is trying to be set on a copy of a slice from a DataFrame.\n",
      "Try using .loc[row_indexer,col_indexer] = value instead\n",
      "\n",
      "See the caveats in the documentation: https://pandas.pydata.org/pandas-docs/stable/user_guide/indexing.html#returning-a-view-versus-a-copy\n",
      "  MountainBikes['UnitPriceDiscount'] = MountainBikes[['UnitPriceDiscount']].applymap(lambda x: str(x.replace(',','.'))).astype('float')\n"
     ]
    }
   ],
   "source": [
    "MountainBikes['UnitPriceDiscount'] = MountainBikes[['UnitPriceDiscount']].applymap(lambda x: str(x.replace(',','.'))).astype('float')"
   ]
  },
  {
   "cell_type": "code",
   "execution_count": 137,
   "id": "906b347a",
   "metadata": {},
   "outputs": [
    {
     "name": "stderr",
     "output_type": "stream",
     "text": [
      "<ipython-input-137-b7c96151bb3e>:1: SettingWithCopyWarning: \n",
      "A value is trying to be set on a copy of a slice from a DataFrame.\n",
      "Try using .loc[row_indexer,col_indexer] = value instead\n",
      "\n",
      "See the caveats in the documentation: https://pandas.pydata.org/pandas-docs/stable/user_guide/indexing.html#returning-a-view-versus-a-copy\n",
      "  MountainBikes['AmtOfSale'] = MountainBikes['UnitPrice'] * MountainBikes['OrderQty'] * (1-MountainBikes['UnitPriceDiscount'])\n"
     ]
    }
   ],
   "source": [
    "MountainBikes['AmtOfSale'] = MountainBikes['UnitPrice'] * MountainBikes['OrderQty'] * (1-MountainBikes['UnitPriceDiscount'])"
   ]
  },
  {
   "cell_type": "code",
   "execution_count": 139,
   "id": "d2ad6664",
   "metadata": {},
   "outputs": [
    {
     "name": "stderr",
     "output_type": "stream",
     "text": [
      "<ipython-input-139-51b81425b59d>:1: SettingWithCopyWarning: \n",
      "A value is trying to be set on a copy of a slice from a DataFrame.\n",
      "Try using .loc[row_indexer,col_indexer] = value instead\n",
      "\n",
      "See the caveats in the documentation: https://pandas.pydata.org/pandas-docs/stable/user_guide/indexing.html#returning-a-view-versus-a-copy\n",
      "  MountainBikes['AmtOfDisc'] = MountainBikes['UnitPrice'] * MountainBikes['OrderQty'] * MountainBikes['UnitPriceDiscount']\n"
     ]
    }
   ],
   "source": [
    "MountainBikes['AmtOfDisc'] = MountainBikes['UnitPrice'] * MountainBikes['OrderQty'] * MountainBikes['UnitPriceDiscount']"
   ]
  },
  {
   "cell_type": "code",
   "execution_count": 189,
   "id": "3de0713a",
   "metadata": {},
   "outputs": [
    {
     "name": "stderr",
     "output_type": "stream",
     "text": [
      "<ipython-input-189-f6895a880f43>:1: SettingWithCopyWarning: \n",
      "A value is trying to be set on a copy of a slice from a DataFrame.\n",
      "Try using .loc[row_indexer,col_indexer] = value instead\n",
      "\n",
      "See the caveats in the documentation: https://pandas.pydata.org/pandas-docs/stable/user_guide/indexing.html#returning-a-view-versus-a-copy\n",
      "  MountainBikes['GrossProfit'] = MountainBikes['AmtOfSale'] - MountainBikes['StandardCost']*MountainBikes['OrderQty']\n"
     ]
    }
   ],
   "source": [
    "MountainBikes['GrossProfit'] = MountainBikes['AmtOfSale'] - MountainBikes['StandardCost']*MountainBikes['OrderQty']"
   ]
  },
  {
   "cell_type": "code",
   "execution_count": 190,
   "id": "c205d24a",
   "metadata": {},
   "outputs": [
    {
     "data": {
      "text/html": [
       "<div>\n",
       "<style scoped>\n",
       "    .dataframe tbody tr th:only-of-type {\n",
       "        vertical-align: middle;\n",
       "    }\n",
       "\n",
       "    .dataframe tbody tr th {\n",
       "        vertical-align: top;\n",
       "    }\n",
       "\n",
       "    .dataframe thead th {\n",
       "        text-align: right;\n",
       "    }\n",
       "</style>\n",
       "<table border=\"1\" class=\"dataframe\">\n",
       "  <thead>\n",
       "    <tr style=\"text-align: right;\">\n",
       "      <th></th>\n",
       "      <th>TotalProfit</th>\n",
       "    </tr>\n",
       "    <tr>\n",
       "      <th>ProductID</th>\n",
       "      <th></th>\n",
       "    </tr>\n",
       "  </thead>\n",
       "  <tbody>\n",
       "    <tr>\n",
       "      <th>783</th>\n",
       "      <td>674216.578641</td>\n",
       "    </tr>\n",
       "    <tr>\n",
       "      <th>782</th>\n",
       "      <td>673444.470300</td>\n",
       "    </tr>\n",
       "  </tbody>\n",
       "</table>\n",
       "</div>"
      ],
      "text/plain": [
       "             TotalProfit\n",
       "ProductID               \n",
       "783        674216.578641\n",
       "782        673444.470300"
      ]
     },
     "execution_count": 190,
     "metadata": {},
     "output_type": "execute_result"
    }
   ],
   "source": [
    "totaltProfit = MountainBikes[['GrossProfit', 'ProductID']].groupby('ProductID').sum().sort_values('GrossProfit', ascending=False).rename(columns = {'GrossProfit':'TotalProfit'})\n",
    "totaltProfit.head(2)"
   ]
  },
  {
   "cell_type": "markdown",
   "id": "84087a5f",
   "metadata": {},
   "source": [
    "This is the most prfitable bikes all time"
   ]
  },
  {
   "cell_type": "markdown",
   "id": "c7ae0029",
   "metadata": {},
   "source": [
    "##### What is an average profit from singular bike sell?"
   ]
  },
  {
   "cell_type": "code",
   "execution_count": 191,
   "id": "5a68df52",
   "metadata": {},
   "outputs": [
    {
     "data": {
      "text/html": [
       "<div>\n",
       "<style scoped>\n",
       "    .dataframe tbody tr th:only-of-type {\n",
       "        vertical-align: middle;\n",
       "    }\n",
       "\n",
       "    .dataframe tbody tr th {\n",
       "        vertical-align: top;\n",
       "    }\n",
       "\n",
       "    .dataframe thead th {\n",
       "        text-align: right;\n",
       "    }\n",
       "</style>\n",
       "<table border=\"1\" class=\"dataframe\">\n",
       "  <thead>\n",
       "    <tr style=\"text-align: right;\">\n",
       "      <th></th>\n",
       "      <th>AvgProfit</th>\n",
       "    </tr>\n",
       "    <tr>\n",
       "      <th>ProductID</th>\n",
       "      <th></th>\n",
       "    </tr>\n",
       "  </thead>\n",
       "  <tbody>\n",
       "    <tr>\n",
       "      <th>784</th>\n",
       "      <td>629.594611</td>\n",
       "    </tr>\n",
       "    <tr>\n",
       "      <th>779</th>\n",
       "      <td>606.750404</td>\n",
       "    </tr>\n",
       "  </tbody>\n",
       "</table>\n",
       "</div>"
      ],
      "text/plain": [
       "            AvgProfit\n",
       "ProductID            \n",
       "784        629.594611\n",
       "779        606.750404"
      ]
     },
     "execution_count": 191,
     "metadata": {},
     "output_type": "execute_result"
    }
   ],
   "source": [
    "avgProfit = MountainBikes[['GrossProfit', 'ProductID']].groupby('ProductID').mean().sort_values('GrossProfit', ascending=False).rename(columns = {'GrossProfit':'AvgProfit'})\n",
    "avgProfit.head(2)"
   ]
  },
  {
   "cell_type": "code",
   "execution_count": 192,
   "id": "05133ca9",
   "metadata": {},
   "outputs": [],
   "source": [
    "sumOrderQty = sumOrderQty.sort_index()\n",
    "avgProfit = avgProfit.sort_index()\n",
    "totaltProfit = totaltProfit.sort_index()"
   ]
  },
  {
   "cell_type": "code",
   "execution_count": 193,
   "id": "f437e3f2",
   "metadata": {},
   "outputs": [],
   "source": [
    "dictionary = {'sumOfOrders': sumOrderQty['OrderQty'], 'avgProfit' : avgProfit['AvgProfit'], 'totalProfit': totaltProfit['TotalProfit']}"
   ]
  },
  {
   "cell_type": "code",
   "execution_count": 194,
   "id": "d6e993b1",
   "metadata": {},
   "outputs": [
    {
     "data": {
      "text/plain": [
       "32"
      ]
     },
     "execution_count": 194,
     "metadata": {},
     "output_type": "execute_result"
    }
   ],
   "source": [
    "len(sumOrderQty)"
   ]
  },
  {
   "cell_type": "code",
   "execution_count": 195,
   "id": "d2a893bb",
   "metadata": {},
   "outputs": [],
   "source": [
    "MBSummary = pd.DataFrame(dictionary)"
   ]
  },
  {
   "cell_type": "code",
   "execution_count": 196,
   "id": "c4f318e0",
   "metadata": {},
   "outputs": [],
   "source": [
    "MBSummary['totalProfit'] = MBSummary['totalProfit'].round(2)"
   ]
  },
  {
   "cell_type": "code",
   "execution_count": 197,
   "id": "12cb3a26",
   "metadata": {},
   "outputs": [
    {
     "data": {
      "text/html": [
       "<div>\n",
       "<style scoped>\n",
       "    .dataframe tbody tr th:only-of-type {\n",
       "        vertical-align: middle;\n",
       "    }\n",
       "\n",
       "    .dataframe tbody tr th {\n",
       "        vertical-align: top;\n",
       "    }\n",
       "\n",
       "    .dataframe thead th {\n",
       "        text-align: right;\n",
       "    }\n",
       "</style>\n",
       "<table border=\"1\" class=\"dataframe\">\n",
       "  <thead>\n",
       "    <tr style=\"text-align: right;\">\n",
       "      <th></th>\n",
       "      <th>sumOfOrders</th>\n",
       "      <th>avgProfit</th>\n",
       "      <th>totalProfit</th>\n",
       "    </tr>\n",
       "    <tr>\n",
       "      <th>ProductID</th>\n",
       "      <th></th>\n",
       "      <th></th>\n",
       "      <th></th>\n",
       "    </tr>\n",
       "  </thead>\n",
       "  <tbody>\n",
       "    <tr>\n",
       "      <th>783</th>\n",
       "      <td>2664</td>\n",
       "      <td>572.826320</td>\n",
       "      <td>674216.58</td>\n",
       "    </tr>\n",
       "    <tr>\n",
       "      <th>782</th>\n",
       "      <td>2977</td>\n",
       "      <td>537.894944</td>\n",
       "      <td>673444.47</td>\n",
       "    </tr>\n",
       "    <tr>\n",
       "      <th>784</th>\n",
       "      <td>2111</td>\n",
       "      <td>629.594611</td>\n",
       "      <td>666740.69</td>\n",
       "    </tr>\n",
       "    <tr>\n",
       "      <th>779</th>\n",
       "      <td>2394</td>\n",
       "      <td>606.750404</td>\n",
       "      <td>663784.94</td>\n",
       "    </tr>\n",
       "    <tr>\n",
       "      <th>781</th>\n",
       "      <td>2216</td>\n",
       "      <td>597.385323</td>\n",
       "      <td>629644.13</td>\n",
       "    </tr>\n",
       "    <tr>\n",
       "      <th>780</th>\n",
       "      <td>2234</td>\n",
       "      <td>587.581632</td>\n",
       "      <td>611084.90</td>\n",
       "    </tr>\n",
       "    <tr>\n",
       "      <th>777</th>\n",
       "      <td>678</td>\n",
       "      <td>326.216425</td>\n",
       "      <td>78944.37</td>\n",
       "    </tr>\n",
       "    <tr>\n",
       "      <th>773</th>\n",
       "      <td>601</td>\n",
       "      <td>291.869380</td>\n",
       "      <td>68005.57</td>\n",
       "    </tr>\n",
       "    <tr>\n",
       "      <th>778</th>\n",
       "      <td>616</td>\n",
       "      <td>267.694979</td>\n",
       "      <td>65049.88</td>\n",
       "    </tr>\n",
       "    <tr>\n",
       "      <th>981</th>\n",
       "      <td>617</td>\n",
       "      <td>214.951986</td>\n",
       "      <td>64700.55</td>\n",
       "    </tr>\n",
       "    <tr>\n",
       "      <th>771</th>\n",
       "      <td>642</td>\n",
       "      <td>266.662139</td>\n",
       "      <td>64265.58</td>\n",
       "    </tr>\n",
       "    <tr>\n",
       "      <th>980</th>\n",
       "      <td>425</td>\n",
       "      <td>250.466158</td>\n",
       "      <td>63367.94</td>\n",
       "    </tr>\n",
       "    <tr>\n",
       "      <th>983</th>\n",
       "      <td>401</td>\n",
       "      <td>246.931083</td>\n",
       "      <td>59016.53</td>\n",
       "    </tr>\n",
       "    <tr>\n",
       "      <th>982</th>\n",
       "      <td>385</td>\n",
       "      <td>241.745411</td>\n",
       "      <td>55843.19</td>\n",
       "    </tr>\n",
       "    <tr>\n",
       "      <th>774</th>\n",
       "      <td>505</td>\n",
       "      <td>264.799162</td>\n",
       "      <td>54019.03</td>\n",
       "    </tr>\n",
       "    <tr>\n",
       "      <th>772</th>\n",
       "      <td>593</td>\n",
       "      <td>237.951543</td>\n",
       "      <td>52587.29</td>\n",
       "    </tr>\n",
       "    <tr>\n",
       "      <th>776</th>\n",
       "      <td>634</td>\n",
       "      <td>225.135450</td>\n",
       "      <td>51330.88</td>\n",
       "    </tr>\n",
       "    <tr>\n",
       "      <th>775</th>\n",
       "      <td>682</td>\n",
       "      <td>194.431085</td>\n",
       "      <td>45496.87</td>\n",
       "    </tr>\n",
       "    <tr>\n",
       "      <th>786</th>\n",
       "      <td>776</td>\n",
       "      <td>167.098676</td>\n",
       "      <td>37263.00</td>\n",
       "    </tr>\n",
       "    <tr>\n",
       "      <th>787</th>\n",
       "      <td>747</td>\n",
       "      <td>162.369624</td>\n",
       "      <td>37020.27</td>\n",
       "    </tr>\n",
       "    <tr>\n",
       "      <th>788</th>\n",
       "      <td>740</td>\n",
       "      <td>162.465041</td>\n",
       "      <td>36229.70</td>\n",
       "    </tr>\n",
       "    <tr>\n",
       "      <th>785</th>\n",
       "      <td>684</td>\n",
       "      <td>150.669424</td>\n",
       "      <td>33147.27</td>\n",
       "    </tr>\n",
       "    <tr>\n",
       "      <th>992</th>\n",
       "      <td>449</td>\n",
       "      <td>109.063779</td>\n",
       "      <td>25302.80</td>\n",
       "    </tr>\n",
       "    <tr>\n",
       "      <th>991</th>\n",
       "      <td>350</td>\n",
       "      <td>118.252710</td>\n",
       "      <td>22822.77</td>\n",
       "    </tr>\n",
       "    <tr>\n",
       "      <th>990</th>\n",
       "      <td>388</td>\n",
       "      <td>112.802833</td>\n",
       "      <td>21996.55</td>\n",
       "    </tr>\n",
       "    <tr>\n",
       "      <th>989</th>\n",
       "      <td>282</td>\n",
       "      <td>124.417604</td>\n",
       "      <td>18662.64</td>\n",
       "    </tr>\n",
       "    <tr>\n",
       "      <th>993</th>\n",
       "      <td>272</td>\n",
       "      <td>115.455655</td>\n",
       "      <td>16856.53</td>\n",
       "    </tr>\n",
       "    <tr>\n",
       "      <th>984</th>\n",
       "      <td>450</td>\n",
       "      <td>28.920258</td>\n",
       "      <td>6391.38</td>\n",
       "    </tr>\n",
       "    <tr>\n",
       "      <th>986</th>\n",
       "      <td>381</td>\n",
       "      <td>26.058522</td>\n",
       "      <td>5081.41</td>\n",
       "    </tr>\n",
       "    <tr>\n",
       "      <th>988</th>\n",
       "      <td>515</td>\n",
       "      <td>10.852232</td>\n",
       "      <td>2561.13</td>\n",
       "    </tr>\n",
       "    <tr>\n",
       "      <th>987</th>\n",
       "      <td>457</td>\n",
       "      <td>8.954783</td>\n",
       "      <td>2041.69</td>\n",
       "    </tr>\n",
       "    <tr>\n",
       "      <th>985</th>\n",
       "      <td>455</td>\n",
       "      <td>5.073998</td>\n",
       "      <td>1121.35</td>\n",
       "    </tr>\n",
       "  </tbody>\n",
       "</table>\n",
       "</div>"
      ],
      "text/plain": [
       "           sumOfOrders   avgProfit  totalProfit\n",
       "ProductID                                      \n",
       "783               2664  572.826320    674216.58\n",
       "782               2977  537.894944    673444.47\n",
       "784               2111  629.594611    666740.69\n",
       "779               2394  606.750404    663784.94\n",
       "781               2216  597.385323    629644.13\n",
       "780               2234  587.581632    611084.90\n",
       "777                678  326.216425     78944.37\n",
       "773                601  291.869380     68005.57\n",
       "778                616  267.694979     65049.88\n",
       "981                617  214.951986     64700.55\n",
       "771                642  266.662139     64265.58\n",
       "980                425  250.466158     63367.94\n",
       "983                401  246.931083     59016.53\n",
       "982                385  241.745411     55843.19\n",
       "774                505  264.799162     54019.03\n",
       "772                593  237.951543     52587.29\n",
       "776                634  225.135450     51330.88\n",
       "775                682  194.431085     45496.87\n",
       "786                776  167.098676     37263.00\n",
       "787                747  162.369624     37020.27\n",
       "788                740  162.465041     36229.70\n",
       "785                684  150.669424     33147.27\n",
       "992                449  109.063779     25302.80\n",
       "991                350  118.252710     22822.77\n",
       "990                388  112.802833     21996.55\n",
       "989                282  124.417604     18662.64\n",
       "993                272  115.455655     16856.53\n",
       "984                450   28.920258      6391.38\n",
       "986                381   26.058522      5081.41\n",
       "988                515   10.852232      2561.13\n",
       "987                457    8.954783      2041.69\n",
       "985                455    5.073998      1121.35"
      ]
     },
     "execution_count": 197,
     "metadata": {},
     "output_type": "execute_result"
    }
   ],
   "source": [
    "MBSummary.sort_values('totalProfit', ascending=False)"
   ]
  },
  {
   "cell_type": "code",
   "execution_count": null,
   "id": "97916e61",
   "metadata": {},
   "outputs": [],
   "source": []
  },
  {
   "cell_type": "code",
   "execution_count": null,
   "id": "135e48d0",
   "metadata": {},
   "outputs": [],
   "source": []
  },
  {
   "cell_type": "code",
   "execution_count": null,
   "id": "0efff2b5",
   "metadata": {},
   "outputs": [],
   "source": []
  },
  {
   "cell_type": "code",
   "execution_count": null,
   "id": "1fcec312",
   "metadata": {},
   "outputs": [],
   "source": []
  },
  {
   "cell_type": "code",
   "execution_count": null,
   "id": "f2707a2f",
   "metadata": {},
   "outputs": [],
   "source": []
  },
  {
   "cell_type": "code",
   "execution_count": null,
   "id": "e84c7bde",
   "metadata": {},
   "outputs": [],
   "source": []
  },
  {
   "cell_type": "code",
   "execution_count": null,
   "id": "a3ae5152",
   "metadata": {},
   "outputs": [],
   "source": []
  },
  {
   "cell_type": "code",
   "execution_count": null,
   "id": "f6da1c08",
   "metadata": {},
   "outputs": [],
   "source": []
  },
  {
   "cell_type": "code",
   "execution_count": null,
   "id": "764bc527",
   "metadata": {},
   "outputs": [],
   "source": []
  },
  {
   "cell_type": "code",
   "execution_count": null,
   "id": "a6be8498",
   "metadata": {},
   "outputs": [],
   "source": []
  },
  {
   "cell_type": "code",
   "execution_count": null,
   "id": "456b46b1",
   "metadata": {},
   "outputs": [],
   "source": []
  },
  {
   "cell_type": "code",
   "execution_count": null,
   "id": "5f044573",
   "metadata": {},
   "outputs": [],
   "source": []
  },
  {
   "cell_type": "code",
   "execution_count": null,
   "id": "53e9616f",
   "metadata": {},
   "outputs": [],
   "source": []
  },
  {
   "cell_type": "code",
   "execution_count": null,
   "id": "9b17578e",
   "metadata": {},
   "outputs": [],
   "source": []
  },
  {
   "cell_type": "code",
   "execution_count": null,
   "id": "e3b47992",
   "metadata": {},
   "outputs": [],
   "source": []
  },
  {
   "cell_type": "code",
   "execution_count": null,
   "id": "03b93607",
   "metadata": {},
   "outputs": [],
   "source": []
  },
  {
   "cell_type": "code",
   "execution_count": null,
   "id": "f35ea004",
   "metadata": {},
   "outputs": [],
   "source": []
  },
  {
   "cell_type": "code",
   "execution_count": null,
   "id": "78cb8ef3",
   "metadata": {},
   "outputs": [],
   "source": []
  },
  {
   "cell_type": "code",
   "execution_count": null,
   "id": "0d1b43ee",
   "metadata": {},
   "outputs": [],
   "source": []
  },
  {
   "cell_type": "code",
   "execution_count": null,
   "id": "aa9e9df4",
   "metadata": {},
   "outputs": [],
   "source": []
  }
 ],
 "metadata": {
  "kernelspec": {
   "display_name": "Python 3",
   "language": "python",
   "name": "python3"
  },
  "language_info": {
   "codemirror_mode": {
    "name": "ipython",
    "version": 3
   },
   "file_extension": ".py",
   "mimetype": "text/x-python",
   "name": "python",
   "nbconvert_exporter": "python",
   "pygments_lexer": "ipython3",
   "version": "3.8.8"
  }
 },
 "nbformat": 4,
 "nbformat_minor": 5
}
