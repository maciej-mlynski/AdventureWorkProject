{
 "cells": [
  {
   "cell_type": "code",
   "execution_count": 1,
   "id": "a865ab4e",
   "metadata": {},
   "outputs": [],
   "source": [
    "import pandas as pd\n",
    "import numpy as np\n",
    "import matplotlib as plt\n",
    "%matplotlib inline"
   ]
  },
  {
   "cell_type": "code",
   "execution_count": 257,
   "id": "e3e24c1f",
   "metadata": {},
   "outputs": [],
   "source": [
    "pd.set_option('display.max_columns', None)"
   ]
  },
  {
   "cell_type": "code",
   "execution_count": 258,
   "id": "cd253084",
   "metadata": {},
   "outputs": [],
   "source": [
    "df = pd.read_csv('../AdventureWorks2019withBikeNames.csv', sep=';', header=0)"
   ]
  },
  {
   "cell_type": "code",
   "execution_count": 259,
   "id": "395dda85",
   "metadata": {},
   "outputs": [
    {
     "data": {
      "text/plain": [
       "array(['Bikes', 'Clothing', 'Accessories', 'Components'], dtype=object)"
      ]
     },
     "execution_count": 259,
     "metadata": {},
     "output_type": "execute_result"
    }
   ],
   "source": [
    "df['CatName'].unique()"
   ]
  },
  {
   "cell_type": "code",
   "execution_count": 260,
   "id": "9d13d015",
   "metadata": {},
   "outputs": [
    {
     "data": {
      "text/plain": [
       "array(['Mountain Bikes', 'Road Bikes', 'Touring Bikes'], dtype=object)"
      ]
     },
     "execution_count": 260,
     "metadata": {},
     "output_type": "execute_result"
    }
   ],
   "source": [
    "df['SubName'][df['CatName'] == 'Bikes'].unique()"
   ]
  },
  {
   "cell_type": "code",
   "execution_count": 261,
   "id": "1640e7a6",
   "metadata": {},
   "outputs": [
    {
     "data": {
      "text/html": [
       "<div>\n",
       "<style scoped>\n",
       "    .dataframe tbody tr th:only-of-type {\n",
       "        vertical-align: middle;\n",
       "    }\n",
       "\n",
       "    .dataframe tbody tr th {\n",
       "        vertical-align: top;\n",
       "    }\n",
       "\n",
       "    .dataframe thead th {\n",
       "        text-align: right;\n",
       "    }\n",
       "</style>\n",
       "<table border=\"1\" class=\"dataframe\">\n",
       "  <thead>\n",
       "    <tr style=\"text-align: right;\">\n",
       "      <th></th>\n",
       "      <th>StandardCost</th>\n",
       "      <th>UnitPrice</th>\n",
       "      <th>UnitPriceDiscount</th>\n",
       "      <th>SubTotal</th>\n",
       "    </tr>\n",
       "  </thead>\n",
       "  <tbody>\n",
       "    <tr>\n",
       "      <th>0</th>\n",
       "      <td>1898,0944</td>\n",
       "      <td>2024,994</td>\n",
       "      <td>0,00</td>\n",
       "      <td>20565,6206</td>\n",
       "    </tr>\n",
       "    <tr>\n",
       "      <th>1</th>\n",
       "      <td>1898,0944</td>\n",
       "      <td>2024,994</td>\n",
       "      <td>0,00</td>\n",
       "      <td>20565,6206</td>\n",
       "    </tr>\n",
       "  </tbody>\n",
       "</table>\n",
       "</div>"
      ],
      "text/plain": [
       "  StandardCost UnitPrice UnitPriceDiscount    SubTotal\n",
       "0    1898,0944  2024,994              0,00  20565,6206\n",
       "1    1898,0944  2024,994              0,00  20565,6206"
      ]
     },
     "execution_count": 261,
     "metadata": {},
     "output_type": "execute_result"
    }
   ],
   "source": [
    "df[['StandardCost', 'UnitPrice', 'UnitPriceDiscount', 'SubTotal']].head(2)"
   ]
  },
  {
   "cell_type": "markdown",
   "id": "916f8660",
   "metadata": {},
   "source": [
    "The values in table has wrong format. I need to change , for . and change format to float"
   ]
  },
  {
   "cell_type": "code",
   "execution_count": 262,
   "id": "6c59beb5",
   "metadata": {},
   "outputs": [],
   "source": [
    "df['UnitPrice'] = df[['UnitPrice']].applymap(lambda x: str(x.replace(',','.'))).astype('float')"
   ]
  },
  {
   "cell_type": "code",
   "execution_count": 263,
   "id": "063823f8",
   "metadata": {},
   "outputs": [],
   "source": [
    "df['StandardCost'] = df[['StandardCost']].applymap(lambda x: str(x.replace(',','.'))).astype('float')\n",
    "df['UnitPriceDiscount'] = df[['UnitPriceDiscount']].applymap(lambda x: str(x.replace(',','.'))).astype('float')\n",
    "df['SubTotal'] = df[['SubTotal']].applymap(lambda x: str(x.replace(',','.'))).astype('float')"
   ]
  },
  {
   "cell_type": "code",
   "execution_count": 264,
   "id": "61793faf",
   "metadata": {},
   "outputs": [],
   "source": [
    "df['ListPrice'] = df[['ListPrice']].applymap(lambda x: str(x.replace(',','.'))).astype('float')"
   ]
  },
  {
   "cell_type": "markdown",
   "id": "8b1f50c3",
   "metadata": {},
   "source": [
    "#### Last order has been done on 2014-06-30"
   ]
  },
  {
   "cell_type": "code",
   "execution_count": 265,
   "id": "4b1cd741",
   "metadata": {},
   "outputs": [],
   "source": [
    "from dateutil import relativedelta\n"
   ]
  },
  {
   "cell_type": "code",
   "execution_count": 266,
   "id": "0fe23440",
   "metadata": {},
   "outputs": [],
   "source": [
    "from datetime import datetime"
   ]
  },
  {
   "cell_type": "code",
   "execution_count": 267,
   "id": "bc78c4aa",
   "metadata": {},
   "outputs": [],
   "source": [
    "df['SellStartDate'] =  pd.to_datetime(df['SellStartDate'])"
   ]
  },
  {
   "cell_type": "code",
   "execution_count": 268,
   "id": "aa163533",
   "metadata": {},
   "outputs": [],
   "source": [
    "df['SellEndDate'] =  pd.to_datetime(df['SellEndDate'])"
   ]
  },
  {
   "cell_type": "markdown",
   "id": "f8a6b82e",
   "metadata": {},
   "source": [
    "I want to count how many mounths bikes is or has benn aveliable to buy"
   ]
  },
  {
   "cell_type": "code",
   "execution_count": 270,
   "id": "e93eec83",
   "metadata": {},
   "outputs": [],
   "source": [
    "from dateutil import relativedelta"
   ]
  },
  {
   "cell_type": "code",
   "execution_count": 271,
   "id": "6a75964c",
   "metadata": {},
   "outputs": [],
   "source": [
    "last_order = '2014-06-30'\n",
    "last_order = pd.to_datetime(last_order)"
   ]
  },
  {
   "cell_type": "code",
   "execution_count": null,
   "id": "85212694",
   "metadata": {},
   "outputs": [],
   "source": []
  },
  {
   "cell_type": "code",
   "execution_count": 277,
   "id": "1aeb8ea0",
   "metadata": {},
   "outputs": [
    {
     "data": {
      "text/plain": [
       "True"
      ]
     },
     "execution_count": 277,
     "metadata": {},
     "output_type": "execute_result"
    }
   ],
   "source": [
    "pd.isnull(df['SellEndDate'].iloc[22])"
   ]
  },
  {
   "cell_type": "code",
   "execution_count": 281,
   "id": "b07a1e6c",
   "metadata": {},
   "outputs": [],
   "source": [
    "df['difM'] = 0"
   ]
  },
  {
   "cell_type": "code",
   "execution_count": 282,
   "id": "3befea01",
   "metadata": {},
   "outputs": [
    {
     "name": "stderr",
     "output_type": "stream",
     "text": [
      "C:\\ProgramData\\Anaconda3\\lib\\site-packages\\pandas\\core\\indexing.py:1732: SettingWithCopyWarning: \n",
      "A value is trying to be set on a copy of a slice from a DataFrame\n",
      "\n",
      "See the caveats in the documentation: https://pandas.pydata.org/pandas-docs/stable/user_guide/indexing.html#returning-a-view-versus-a-copy\n",
      "  self._setitem_single_block(indexer, value, name)\n"
     ]
    }
   ],
   "source": [
    "for i in range(len(df)):\n",
    "    if pd.isnull(df['SellEndDate'].iloc[i]) == False:\n",
    "        df['difM'].iloc[i] = round((relativedelta.relativedelta(df['SellEndDate'][i], df['SellStartDate'][i])).months + (relativedelta.relativedelta(df['SellEndDate'][i], df['SellStartDate'][i])).years * 12 + ((relativedelta.relativedelta(df['SellEndDate'][i], df['SellStartDate'][i])).days)/30, 0)\n",
    "    else:\n",
    "        df['difM'].iloc[i] = round((relativedelta.relativedelta(last_order, df['SellStartDate'][i])).months + (relativedelta.relativedelta(last_order, df['SellStartDate'][i])).years * 12 + ((relativedelta.relativedelta(last_order, df['SellStartDate'][i])).days)/30, 0)"
   ]
  },
  {
   "cell_type": "code",
   "execution_count": 284,
   "id": "d2ff481e",
   "metadata": {},
   "outputs": [
    {
     "data": {
      "text/plain": [
       "array([12, 37, 24, 25, 13], dtype=int64)"
      ]
     },
     "execution_count": 284,
     "metadata": {},
     "output_type": "execute_result"
    }
   ],
   "source": [
    "df['difM'].unique()"
   ]
  },
  {
   "cell_type": "code",
   "execution_count": 286,
   "id": "7beeda28",
   "metadata": {},
   "outputs": [
    {
     "data": {
      "text/plain": [
       "array(['2011-05-31T00:00:00.000000000', '2012-05-30T00:00:00.000000000',\n",
       "       '2013-05-30T00:00:00.000000000'], dtype='datetime64[ns]')"
      ]
     },
     "execution_count": 286,
     "metadata": {},
     "output_type": "execute_result"
    }
   ],
   "source": [
    "df['SellStartDate'].unique()"
   ]
  },
  {
   "cell_type": "markdown",
   "id": "1a62026b",
   "metadata": {},
   "source": [
    "As we can see the shop has 5 different period of aveliability in store. We know that first bike ship in 2011 and the lat oreder is from 2014, so its 4 years of existing. We can also conclude that shop launch new models once a year"
   ]
  },
  {
   "cell_type": "markdown",
   "id": "79756351",
   "metadata": {},
   "source": [
    "I would like to split products by 3 periods categories:\n",
    "- around 1 year\n",
    "- around 2 years\n",
    "- around 3 years"
   ]
  },
  {
   "cell_type": "code",
   "execution_count": 291,
   "id": "bbbc6c04",
   "metadata": {},
   "outputs": [
    {
     "data": {
      "text/plain": [
       "74848"
      ]
     },
     "execution_count": 291,
     "metadata": {},
     "output_type": "execute_result"
    }
   ],
   "source": [
    "len(df[df['difM'] <= 13])"
   ]
  },
  {
   "cell_type": "code",
   "execution_count": 295,
   "id": "5bd4d489",
   "metadata": {},
   "outputs": [
    {
     "data": {
      "text/plain": [
       "26198"
      ]
     },
     "execution_count": 295,
     "metadata": {},
     "output_type": "execute_result"
    }
   ],
   "source": [
    "len(df[(df['difM'] >= 24) & (df['difM'] <= 25)])"
   ]
  },
  {
   "cell_type": "code",
   "execution_count": 296,
   "id": "a99223a2",
   "metadata": {},
   "outputs": [
    {
     "data": {
      "text/plain": [
       "20271"
      ]
     },
     "execution_count": 296,
     "metadata": {},
     "output_type": "execute_result"
    }
   ],
   "source": [
    "len(df[df['difM'] >= 37])"
   ]
  },
  {
   "cell_type": "markdown",
   "id": "1738263b",
   "metadata": {},
   "source": [
    "We must keep in mind that some of the bikes are no longer aveliable also and they can cluster in each 3 groups. That is why we should split them also by aviability. The question is if it's better to make 2 analysis or split them into 6 group. The big advantage is that I would like to split them also by subcategory so in the end I will get 18 groups to analyze"
   ]
  },
  {
   "cell_type": "markdown",
   "id": "00a71f71",
   "metadata": {},
   "source": [
    "-----------------------------------------------\n",
    "I decided that I will not split them by 3 periods of aveliability"
   ]
  },
  {
   "cell_type": "code",
   "execution_count": 299,
   "id": "601849a8",
   "metadata": {},
   "outputs": [],
   "source": [
    "one_y_bikes = df[df['difM'] <= 13].copy()"
   ]
  },
  {
   "cell_type": "code",
   "execution_count": 300,
   "id": "ecf9d249",
   "metadata": {},
   "outputs": [],
   "source": [
    "two_y_bikes = df[(df['difM'] >= 24) & (df['difM'] <= 25)].copy()\n",
    "three_y_bikes = df[df['difM'] >= 37].copy()"
   ]
  },
  {
   "cell_type": "code",
   "execution_count": 301,
   "id": "37e34cfc",
   "metadata": {},
   "outputs": [
    {
     "data": {
      "text/plain": [
       "0.6"
      ]
     },
     "execution_count": 301,
     "metadata": {},
     "output_type": "execute_result"
    }
   ],
   "source": [
    "3/5"
   ]
  },
  {
   "cell_type": "code",
   "execution_count": 305,
   "id": "5e7dbd07",
   "metadata": {},
   "outputs": [
    {
     "data": {
      "text/plain": [
       "1.2"
      ]
     },
     "execution_count": 305,
     "metadata": {},
     "output_type": "execute_result"
    }
   ],
   "source": [
    "300/250"
   ]
  },
  {
   "cell_type": "code",
   "execution_count": null,
   "id": "625a1f4a",
   "metadata": {},
   "outputs": [],
   "source": []
  },
  {
   "cell_type": "code",
   "execution_count": null,
   "id": "4b94d4a7",
   "metadata": {},
   "outputs": [],
   "source": []
  },
  {
   "cell_type": "code",
   "execution_count": null,
   "id": "7a9dd608",
   "metadata": {},
   "outputs": [],
   "source": []
  },
  {
   "cell_type": "code",
   "execution_count": null,
   "id": "e70ecf0b",
   "metadata": {},
   "outputs": [],
   "source": []
  },
  {
   "cell_type": "code",
   "execution_count": null,
   "id": "35667dbb",
   "metadata": {},
   "outputs": [],
   "source": []
  },
  {
   "cell_type": "code",
   "execution_count": null,
   "id": "36aa0f20",
   "metadata": {},
   "outputs": [],
   "source": []
  },
  {
   "cell_type": "code",
   "execution_count": null,
   "id": "77d854c9",
   "metadata": {},
   "outputs": [],
   "source": []
  },
  {
   "cell_type": "code",
   "execution_count": null,
   "id": "5f7c7283",
   "metadata": {},
   "outputs": [],
   "source": []
  },
  {
   "cell_type": "code",
   "execution_count": null,
   "id": "c3c94ccb",
   "metadata": {},
   "outputs": [],
   "source": []
  },
  {
   "cell_type": "code",
   "execution_count": null,
   "id": "066a60f9",
   "metadata": {},
   "outputs": [],
   "source": []
  },
  {
   "cell_type": "markdown",
   "id": "d0ed9b7f",
   "metadata": {},
   "source": [
    "## 3 subcategory of bikes:"
   ]
  },
  {
   "cell_type": "code",
   "execution_count": 46,
   "id": "e09ee9cc",
   "metadata": {},
   "outputs": [],
   "source": [
    "RoadBikes = df[df['SubName'] == 'Road Bikes']\n",
    "MountainBikes = df[df['SubName'] == 'Mountain Bikes']\n",
    "TouringBikes = df[df['SubName'] == 'Touring Bikes']"
   ]
  },
  {
   "cell_type": "code",
   "execution_count": null,
   "id": "d2d7ebfe",
   "metadata": {},
   "outputs": [],
   "source": []
  },
  {
   "cell_type": "code",
   "execution_count": null,
   "id": "16d058b8",
   "metadata": {},
   "outputs": [],
   "source": []
  },
  {
   "cell_type": "code",
   "execution_count": null,
   "id": "e9dc8007",
   "metadata": {},
   "outputs": [],
   "source": []
  },
  {
   "cell_type": "code",
   "execution_count": null,
   "id": "691cb11d",
   "metadata": {},
   "outputs": [],
   "source": []
  },
  {
   "cell_type": "code",
   "execution_count": null,
   "id": "261e00fc",
   "metadata": {},
   "outputs": [],
   "source": []
  },
  {
   "cell_type": "code",
   "execution_count": null,
   "id": "ffbf17ae",
   "metadata": {},
   "outputs": [],
   "source": []
  },
  {
   "cell_type": "code",
   "execution_count": null,
   "id": "5d274fa3",
   "metadata": {},
   "outputs": [],
   "source": []
  },
  {
   "cell_type": "code",
   "execution_count": null,
   "id": "d3414552",
   "metadata": {},
   "outputs": [],
   "source": []
  },
  {
   "cell_type": "code",
   "execution_count": null,
   "id": "8cc54d51",
   "metadata": {},
   "outputs": [],
   "source": []
  },
  {
   "cell_type": "code",
   "execution_count": null,
   "id": "6babf722",
   "metadata": {},
   "outputs": [],
   "source": []
  },
  {
   "cell_type": "code",
   "execution_count": null,
   "id": "ad24182d",
   "metadata": {},
   "outputs": [],
   "source": []
  },
  {
   "cell_type": "code",
   "execution_count": null,
   "id": "0c736def",
   "metadata": {},
   "outputs": [],
   "source": []
  },
  {
   "cell_type": "code",
   "execution_count": null,
   "id": "454d73c5",
   "metadata": {},
   "outputs": [],
   "source": []
  },
  {
   "cell_type": "code",
   "execution_count": null,
   "id": "fd9389c4",
   "metadata": {},
   "outputs": [],
   "source": []
  },
  {
   "cell_type": "code",
   "execution_count": null,
   "id": "d86bc384",
   "metadata": {},
   "outputs": [],
   "source": []
  },
  {
   "cell_type": "code",
   "execution_count": null,
   "id": "eb3ecfbe",
   "metadata": {},
   "outputs": [],
   "source": []
  },
  {
   "cell_type": "code",
   "execution_count": null,
   "id": "83300e75",
   "metadata": {},
   "outputs": [],
   "source": []
  },
  {
   "cell_type": "code",
   "execution_count": null,
   "id": "c79e2e70",
   "metadata": {},
   "outputs": [],
   "source": []
  },
  {
   "cell_type": "code",
   "execution_count": null,
   "id": "c8a4fe91",
   "metadata": {},
   "outputs": [],
   "source": []
  },
  {
   "cell_type": "code",
   "execution_count": null,
   "id": "d33596bb",
   "metadata": {},
   "outputs": [],
   "source": []
  },
  {
   "cell_type": "code",
   "execution_count": null,
   "id": "75472f21",
   "metadata": {},
   "outputs": [],
   "source": []
  },
  {
   "cell_type": "code",
   "execution_count": null,
   "id": "49c6ddee",
   "metadata": {},
   "outputs": [],
   "source": []
  },
  {
   "cell_type": "code",
   "execution_count": null,
   "id": "eabc4bb5",
   "metadata": {},
   "outputs": [],
   "source": []
  },
  {
   "cell_type": "code",
   "execution_count": null,
   "id": "0fb9887f",
   "metadata": {},
   "outputs": [],
   "source": []
  },
  {
   "cell_type": "code",
   "execution_count": null,
   "id": "79bd10af",
   "metadata": {},
   "outputs": [],
   "source": []
  },
  {
   "cell_type": "code",
   "execution_count": null,
   "id": "011b6f50",
   "metadata": {},
   "outputs": [],
   "source": []
  },
  {
   "cell_type": "code",
   "execution_count": null,
   "id": "331cd730",
   "metadata": {},
   "outputs": [],
   "source": []
  },
  {
   "cell_type": "code",
   "execution_count": null,
   "id": "3fdf98dd",
   "metadata": {},
   "outputs": [],
   "source": []
  },
  {
   "cell_type": "code",
   "execution_count": null,
   "id": "c64585cd",
   "metadata": {},
   "outputs": [],
   "source": []
  },
  {
   "cell_type": "code",
   "execution_count": null,
   "id": "aacd4a87",
   "metadata": {},
   "outputs": [],
   "source": []
  },
  {
   "cell_type": "code",
   "execution_count": null,
   "id": "f557a413",
   "metadata": {},
   "outputs": [],
   "source": []
  },
  {
   "cell_type": "code",
   "execution_count": null,
   "id": "0c0ac63d",
   "metadata": {},
   "outputs": [],
   "source": []
  },
  {
   "cell_type": "code",
   "execution_count": null,
   "id": "244e4504",
   "metadata": {},
   "outputs": [],
   "source": []
  },
  {
   "cell_type": "code",
   "execution_count": null,
   "id": "ba4bf678",
   "metadata": {},
   "outputs": [],
   "source": []
  },
  {
   "cell_type": "code",
   "execution_count": null,
   "id": "44e44949",
   "metadata": {},
   "outputs": [],
   "source": []
  },
  {
   "cell_type": "code",
   "execution_count": null,
   "id": "961977e4",
   "metadata": {},
   "outputs": [],
   "source": []
  },
  {
   "cell_type": "code",
   "execution_count": null,
   "id": "ee99ea64",
   "metadata": {},
   "outputs": [],
   "source": []
  },
  {
   "cell_type": "code",
   "execution_count": null,
   "id": "4e6c3f10",
   "metadata": {},
   "outputs": [],
   "source": []
  },
  {
   "cell_type": "code",
   "execution_count": null,
   "id": "f52b5449",
   "metadata": {},
   "outputs": [],
   "source": []
  },
  {
   "cell_type": "code",
   "execution_count": null,
   "id": "5884d265",
   "metadata": {},
   "outputs": [],
   "source": []
  },
  {
   "cell_type": "code",
   "execution_count": null,
   "id": "08ffd736",
   "metadata": {},
   "outputs": [],
   "source": []
  },
  {
   "cell_type": "code",
   "execution_count": null,
   "id": "b91bbcba",
   "metadata": {},
   "outputs": [],
   "source": []
  },
  {
   "cell_type": "code",
   "execution_count": null,
   "id": "e0ceb205",
   "metadata": {},
   "outputs": [],
   "source": []
  },
  {
   "cell_type": "code",
   "execution_count": null,
   "id": "29ee4709",
   "metadata": {},
   "outputs": [],
   "source": []
  },
  {
   "cell_type": "markdown",
   "id": "082a8993",
   "metadata": {},
   "source": [
    "## Spliting bikes\n",
    "\n",
    "Firt of all I would like to split bikes by avebility, becouse some of the bikes are no longer aveliable in store. I will concat them in the end to compare"
   ]
  },
  {
   "cell_type": "code",
   "execution_count": 47,
   "id": "957b1288",
   "metadata": {},
   "outputs": [],
   "source": [
    "# Unaveliable car has SellEndDate, so if it is not null it means that the bike is o longer avliable to buy\n",
    "UnaveliableMB = MountainBikes[MountainBikes['SellEndDate'].isnull() == False]\n",
    "UnaveliableRB = RoadBikes[RoadBikes['SellEndDate'].isnull() == False]\n",
    "UnaveliableTB = TouringBikes[TouringBikes['SellEndDate'].isnull() == False]"
   ]
  },
  {
   "cell_type": "code",
   "execution_count": 48,
   "id": "84508c3d",
   "metadata": {},
   "outputs": [],
   "source": [
    "# analogously\n",
    "AveliableMB = MountainBikes[MountainBikes['SellEndDate'].isnull() == True]\n",
    "AveliableRB = RoadBikes[RoadBikes['SellEndDate'].isnull() == True]\n",
    "AveliableTB = TouringBikes[TouringBikes['SellEndDate'].isnull() == True]"
   ]
  },
  {
   "cell_type": "markdown",
   "id": "e6519af5",
   "metadata": {},
   "source": [
    "### Question 1\n",
    "###### How many bicykles shop has now and how many are no longer aveliable in each subcategory? "
   ]
  },
  {
   "cell_type": "code",
   "execution_count": 49,
   "id": "4fbc617e",
   "metadata": {},
   "outputs": [
    {
     "name": "stdout",
     "output_type": "stream",
     "text": [
      "There is 12 unaveliable Mountain bikes\n",
      "There is 25 unaveliable Road bikes\n",
      "There is 0 unaveliable Touring bikes\n",
      "------------------------------------------\n",
      "There is 20 unaveliable Mountain bikes\n",
      "There is 18 unaveliable Road bikes\n",
      "There is 22 unaveliable Touring bikes\n"
     ]
    }
   ],
   "source": [
    "x1 = len(UnaveliableMB.groupby('ProductID').count())\n",
    "x2 = len(UnaveliableRB.groupby('ProductID').count())\n",
    "x3 = len(UnaveliableTB.groupby('ProductID').count())\n",
    "\n",
    "x11 = len(AveliableMB.groupby('ProductID').count())\n",
    "x12 = len(AveliableRB.groupby('ProductID').count())\n",
    "x13 = len(AveliableTB.groupby('ProductID').count())\n",
    "\n",
    "\n",
    "print(f'There is {x1} unaveliable Mountain bikes')\n",
    "print(f'There is {x2} unaveliable Road bikes')\n",
    "print(f'There is {x3} unaveliable Touring bikes')\n",
    "print('------------------------------------------')\n",
    "print(f'There is {x11} unaveliable Mountain bikes')\n",
    "print(f'There is {x12} unaveliable Road bikes')\n",
    "print(f'There is {x13} unaveliable Touring bikes')"
   ]
  },
  {
   "cell_type": "markdown",
   "id": "47f7dd19",
   "metadata": {},
   "source": [
    "Intresting thing is that there is no unaveliable Touring bikes. It means that it might be new Subcategory of bikes in the Store. It looks like company has given up Road bicycles in favor of Touring bikes."
   ]
  },
  {
   "cell_type": "code",
   "execution_count": 50,
   "id": "abc99d97",
   "metadata": {},
   "outputs": [
    {
     "data": {
      "text/plain": [
       "array([762, 758, 764, 770, 754, 765, 768, 753, 756, 763, 749, 760, 766,\n",
       "       755, 761, 767, 750, 751, 752, 759, 769, 757, 790, 789, 791],\n",
       "      dtype=int64)"
      ]
     },
     "execution_count": 50,
     "metadata": {},
     "output_type": "execute_result"
    }
   ],
   "source": [
    "UnaveliableRB['ProductID'].unique()"
   ]
  },
  {
   "cell_type": "code",
   "execution_count": 51,
   "id": "6213e2f1",
   "metadata": {},
   "outputs": [
    {
     "data": {
      "text/plain": [
       "array([957, 969, 972, 954, 965, 964, 958, 970, 967, 956, 978, 966, 961,\n",
       "       953, 955, 968, 971, 963, 979, 959, 962, 960], dtype=int64)"
      ]
     },
     "execution_count": 51,
     "metadata": {},
     "output_type": "execute_result"
    }
   ],
   "source": [
    "AveliableTB['ProductID'].unique()"
   ]
  },
  {
   "cell_type": "markdown",
   "id": "020b0d5d",
   "metadata": {},
   "source": [
    "### Question 2\n",
    "\n",
    "###### Which bikes are the most/the least ordered in each grups (6)?"
   ]
  },
  {
   "cell_type": "code",
   "execution_count": 118,
   "id": "96c20404",
   "metadata": {},
   "outputs": [],
   "source": [
    "# I count sum of orders for each ProductID\n",
    "QuantUnavMB = UnaveliableMB[['OrderQty', 'ProductID']].groupby('ProductID').sum().sort_values('ProductID', ascending=False)"
   ]
  },
  {
   "cell_type": "code",
   "execution_count": 119,
   "id": "f0767210",
   "metadata": {},
   "outputs": [],
   "source": [
    "QuantUnavMB['SubName'] = 'MountainBikes'\n",
    "QuantUnavMB['Aveliablility'] = False"
   ]
  },
  {
   "cell_type": "code",
   "execution_count": 120,
   "id": "6f51bbea",
   "metadata": {},
   "outputs": [],
   "source": [
    "QuantUnavRB = UnaveliableRB[['OrderQty', 'ProductID']].groupby('ProductID').sum().sort_values('ProductID', ascending=False)\n",
    "QuantUnavRB['SubName'] = 'RoadBikes'\n",
    "QuantUnavRB['Aveliablility'] = False\n",
    "\n",
    "# There is no Touring bikes unavelible so I will skip that"
   ]
  },
  {
   "cell_type": "code",
   "execution_count": 121,
   "id": "5d043a88",
   "metadata": {},
   "outputs": [],
   "source": [
    "QuantAvMB = AveliableMB[['OrderQty', 'ProductID']].groupby('ProductID').sum().sort_values('ProductID', ascending=False)\n",
    "QuantAvMB['SubName'] = 'MountainBikes'\n",
    "QuantAvMB['Aveliablility'] = True\n",
    "\n",
    "QuantAvRB = AveliableRB[['OrderQty', 'ProductID']].groupby('ProductID').sum().sort_values('ProductID', ascending=False)\n",
    "QuantAvRB['SubName'] = 'RoadBikes'\n",
    "QuantAvRB['Aveliablility'] = True\n",
    "\n",
    "QuantAvTB = AveliableTB[['OrderQty', 'ProductID']].groupby('ProductID').sum().sort_values('ProductID', ascending=False)\n",
    "QuantAvTB['SubName'] = 'TouringBikes'\n",
    "QuantAvTB['Aveliablility'] = True"
   ]
  },
  {
   "cell_type": "markdown",
   "id": "ce871b3c",
   "metadata": {},
   "source": [
    "###### Best selling"
   ]
  },
  {
   "cell_type": "code",
   "execution_count": 131,
   "id": "e52f4862",
   "metadata": {},
   "outputs": [
    {
     "data": {
      "text/html": [
       "<div>\n",
       "<style scoped>\n",
       "    .dataframe tbody tr th:only-of-type {\n",
       "        vertical-align: middle;\n",
       "    }\n",
       "\n",
       "    .dataframe tbody tr th {\n",
       "        vertical-align: top;\n",
       "    }\n",
       "\n",
       "    .dataframe thead th {\n",
       "        text-align: right;\n",
       "    }\n",
       "</style>\n",
       "<table border=\"1\" class=\"dataframe\">\n",
       "  <thead>\n",
       "    <tr style=\"text-align: right;\">\n",
       "      <th></th>\n",
       "      <th>OrderQty</th>\n",
       "      <th>SubName</th>\n",
       "      <th>Aveliablility</th>\n",
       "    </tr>\n",
       "    <tr>\n",
       "      <th>ProductID</th>\n",
       "      <th></th>\n",
       "      <th></th>\n",
       "      <th></th>\n",
       "    </tr>\n",
       "  </thead>\n",
       "  <tbody>\n",
       "    <tr>\n",
       "      <th>786</th>\n",
       "      <td>776</td>\n",
       "      <td>MountainBikes</td>\n",
       "      <td>False</td>\n",
       "    </tr>\n",
       "    <tr>\n",
       "      <th>787</th>\n",
       "      <td>747</td>\n",
       "      <td>MountainBikes</td>\n",
       "      <td>False</td>\n",
       "    </tr>\n",
       "  </tbody>\n",
       "</table>\n",
       "</div>"
      ],
      "text/plain": [
       "           OrderQty        SubName  Aveliablility\n",
       "ProductID                                        \n",
       "786             776  MountainBikes          False\n",
       "787             747  MountainBikes          False"
      ]
     },
     "execution_count": 131,
     "metadata": {},
     "output_type": "execute_result"
    }
   ],
   "source": [
    "QuantUnavMB.sort_values('OrderQty', ascending=False).head(2)"
   ]
  },
  {
   "cell_type": "code",
   "execution_count": 132,
   "id": "b603b221",
   "metadata": {},
   "outputs": [
    {
     "data": {
      "text/html": [
       "<div>\n",
       "<style scoped>\n",
       "    .dataframe tbody tr th:only-of-type {\n",
       "        vertical-align: middle;\n",
       "    }\n",
       "\n",
       "    .dataframe tbody tr th {\n",
       "        vertical-align: top;\n",
       "    }\n",
       "\n",
       "    .dataframe thead th {\n",
       "        text-align: right;\n",
       "    }\n",
       "</style>\n",
       "<table border=\"1\" class=\"dataframe\">\n",
       "  <thead>\n",
       "    <tr style=\"text-align: right;\">\n",
       "      <th></th>\n",
       "      <th>OrderQty</th>\n",
       "      <th>SubName</th>\n",
       "      <th>Aveliablility</th>\n",
       "    </tr>\n",
       "    <tr>\n",
       "      <th>ProductID</th>\n",
       "      <th></th>\n",
       "      <th></th>\n",
       "      <th></th>\n",
       "    </tr>\n",
       "  </thead>\n",
       "  <tbody>\n",
       "    <tr>\n",
       "      <th>770</th>\n",
       "      <td>2270</td>\n",
       "      <td>RoadBikes</td>\n",
       "      <td>False</td>\n",
       "    </tr>\n",
       "    <tr>\n",
       "      <th>762</th>\n",
       "      <td>2254</td>\n",
       "      <td>RoadBikes</td>\n",
       "      <td>False</td>\n",
       "    </tr>\n",
       "  </tbody>\n",
       "</table>\n",
       "</div>"
      ],
      "text/plain": [
       "           OrderQty    SubName  Aveliablility\n",
       "ProductID                                    \n",
       "770            2270  RoadBikes          False\n",
       "762            2254  RoadBikes          False"
      ]
     },
     "execution_count": 132,
     "metadata": {},
     "output_type": "execute_result"
    }
   ],
   "source": [
    "QuantUnavRB.sort_values('OrderQty', ascending=False).head(2)"
   ]
  },
  {
   "cell_type": "code",
   "execution_count": 133,
   "id": "63a93635",
   "metadata": {},
   "outputs": [
    {
     "data": {
      "text/html": [
       "<div>\n",
       "<style scoped>\n",
       "    .dataframe tbody tr th:only-of-type {\n",
       "        vertical-align: middle;\n",
       "    }\n",
       "\n",
       "    .dataframe tbody tr th {\n",
       "        vertical-align: top;\n",
       "    }\n",
       "\n",
       "    .dataframe thead th {\n",
       "        text-align: right;\n",
       "    }\n",
       "</style>\n",
       "<table border=\"1\" class=\"dataframe\">\n",
       "  <thead>\n",
       "    <tr style=\"text-align: right;\">\n",
       "      <th></th>\n",
       "      <th>OrderQty</th>\n",
       "      <th>SubName</th>\n",
       "      <th>Aveliablility</th>\n",
       "    </tr>\n",
       "    <tr>\n",
       "      <th>ProductID</th>\n",
       "      <th></th>\n",
       "      <th></th>\n",
       "      <th></th>\n",
       "    </tr>\n",
       "  </thead>\n",
       "  <tbody>\n",
       "    <tr>\n",
       "      <th>782</th>\n",
       "      <td>2977</td>\n",
       "      <td>MountainBikes</td>\n",
       "      <td>True</td>\n",
       "    </tr>\n",
       "    <tr>\n",
       "      <th>783</th>\n",
       "      <td>2664</td>\n",
       "      <td>MountainBikes</td>\n",
       "      <td>True</td>\n",
       "    </tr>\n",
       "  </tbody>\n",
       "</table>\n",
       "</div>"
      ],
      "text/plain": [
       "           OrderQty        SubName  Aveliablility\n",
       "ProductID                                        \n",
       "782            2977  MountainBikes           True\n",
       "783            2664  MountainBikes           True"
      ]
     },
     "execution_count": 133,
     "metadata": {},
     "output_type": "execute_result"
    }
   ],
   "source": [
    "QuantAvMB.sort_values('OrderQty', ascending=False).head(2)"
   ]
  },
  {
   "cell_type": "code",
   "execution_count": 134,
   "id": "5500e3ea",
   "metadata": {},
   "outputs": [
    {
     "data": {
      "text/html": [
       "<div>\n",
       "<style scoped>\n",
       "    .dataframe tbody tr th:only-of-type {\n",
       "        vertical-align: middle;\n",
       "    }\n",
       "\n",
       "    .dataframe tbody tr th {\n",
       "        vertical-align: top;\n",
       "    }\n",
       "\n",
       "    .dataframe thead th {\n",
       "        text-align: right;\n",
       "    }\n",
       "</style>\n",
       "<table border=\"1\" class=\"dataframe\">\n",
       "  <thead>\n",
       "    <tr style=\"text-align: right;\">\n",
       "      <th></th>\n",
       "      <th>OrderQty</th>\n",
       "      <th>SubName</th>\n",
       "      <th>Aveliablility</th>\n",
       "    </tr>\n",
       "    <tr>\n",
       "      <th>ProductID</th>\n",
       "      <th></th>\n",
       "      <th></th>\n",
       "      <th></th>\n",
       "    </tr>\n",
       "  </thead>\n",
       "  <tbody>\n",
       "    <tr>\n",
       "      <th>801</th>\n",
       "      <td>1763</td>\n",
       "      <td>RoadBikes</td>\n",
       "      <td>True</td>\n",
       "    </tr>\n",
       "    <tr>\n",
       "      <th>797</th>\n",
       "      <td>1744</td>\n",
       "      <td>RoadBikes</td>\n",
       "      <td>True</td>\n",
       "    </tr>\n",
       "  </tbody>\n",
       "</table>\n",
       "</div>"
      ],
      "text/plain": [
       "           OrderQty    SubName  Aveliablility\n",
       "ProductID                                    \n",
       "801            1763  RoadBikes           True\n",
       "797            1744  RoadBikes           True"
      ]
     },
     "execution_count": 134,
     "metadata": {},
     "output_type": "execute_result"
    }
   ],
   "source": [
    "QuantAvRB.sort_values('OrderQty', ascending=False).head(2)"
   ]
  },
  {
   "cell_type": "code",
   "execution_count": 135,
   "id": "62a4cb59",
   "metadata": {},
   "outputs": [
    {
     "data": {
      "text/html": [
       "<div>\n",
       "<style scoped>\n",
       "    .dataframe tbody tr th:only-of-type {\n",
       "        vertical-align: middle;\n",
       "    }\n",
       "\n",
       "    .dataframe tbody tr th {\n",
       "        vertical-align: top;\n",
       "    }\n",
       "\n",
       "    .dataframe thead th {\n",
       "        text-align: right;\n",
       "    }\n",
       "</style>\n",
       "<table border=\"1\" class=\"dataframe\">\n",
       "  <thead>\n",
       "    <tr style=\"text-align: right;\">\n",
       "      <th></th>\n",
       "      <th>OrderQty</th>\n",
       "      <th>SubName</th>\n",
       "      <th>Aveliablility</th>\n",
       "    </tr>\n",
       "    <tr>\n",
       "      <th>ProductID</th>\n",
       "      <th></th>\n",
       "      <th></th>\n",
       "      <th></th>\n",
       "    </tr>\n",
       "  </thead>\n",
       "  <tbody>\n",
       "    <tr>\n",
       "      <th>969</th>\n",
       "      <td>1120</td>\n",
       "      <td>TouringBikes</td>\n",
       "      <td>True</td>\n",
       "    </tr>\n",
       "    <tr>\n",
       "      <th>957</th>\n",
       "      <td>1114</td>\n",
       "      <td>TouringBikes</td>\n",
       "      <td>True</td>\n",
       "    </tr>\n",
       "  </tbody>\n",
       "</table>\n",
       "</div>"
      ],
      "text/plain": [
       "           OrderQty       SubName  Aveliablility\n",
       "ProductID                                       \n",
       "969            1120  TouringBikes           True\n",
       "957            1114  TouringBikes           True"
      ]
     },
     "execution_count": 135,
     "metadata": {},
     "output_type": "execute_result"
    }
   ],
   "source": [
    "QuantAvTB.sort_values('OrderQty', ascending=False).head(2)"
   ]
  },
  {
   "cell_type": "markdown",
   "id": "170e44da",
   "metadata": {},
   "source": [
    "Conclusion TOP sales Bikes unaveliable belongs deffinitly to RoadBikes. First top sell bike from this group has been sold more than 2270 times. If we look at only aveliable bikes we can se that this reliance has split for top Road and Toring bikes. We can to say much more untill we compare quantity to income or ROI. Letter I will try to find out what the best and worst selling bikes has in common."
   ]
  },
  {
   "cell_type": "markdown",
   "id": "c2cb98db",
   "metadata": {},
   "source": [
    "###### Worst selling"
   ]
  },
  {
   "cell_type": "code",
   "execution_count": 136,
   "id": "728e3c8a",
   "metadata": {},
   "outputs": [
    {
     "data": {
      "text/html": [
       "<div>\n",
       "<style scoped>\n",
       "    .dataframe tbody tr th:only-of-type {\n",
       "        vertical-align: middle;\n",
       "    }\n",
       "\n",
       "    .dataframe tbody tr th {\n",
       "        vertical-align: top;\n",
       "    }\n",
       "\n",
       "    .dataframe thead th {\n",
       "        text-align: right;\n",
       "    }\n",
       "</style>\n",
       "<table border=\"1\" class=\"dataframe\">\n",
       "  <thead>\n",
       "    <tr style=\"text-align: right;\">\n",
       "      <th></th>\n",
       "      <th>OrderQty</th>\n",
       "      <th>SubName</th>\n",
       "      <th>Aveliablility</th>\n",
       "    </tr>\n",
       "    <tr>\n",
       "      <th>ProductID</th>\n",
       "      <th></th>\n",
       "      <th></th>\n",
       "      <th></th>\n",
       "    </tr>\n",
       "  </thead>\n",
       "  <tbody>\n",
       "    <tr>\n",
       "      <th>774</th>\n",
       "      <td>505</td>\n",
       "      <td>MountainBikes</td>\n",
       "      <td>False</td>\n",
       "    </tr>\n",
       "    <tr>\n",
       "      <th>772</th>\n",
       "      <td>593</td>\n",
       "      <td>MountainBikes</td>\n",
       "      <td>False</td>\n",
       "    </tr>\n",
       "  </tbody>\n",
       "</table>\n",
       "</div>"
      ],
      "text/plain": [
       "           OrderQty        SubName  Aveliablility\n",
       "ProductID                                        \n",
       "774             505  MountainBikes          False\n",
       "772             593  MountainBikes          False"
      ]
     },
     "execution_count": 136,
     "metadata": {},
     "output_type": "execute_result"
    }
   ],
   "source": [
    "QuantUnavMB.sort_values('OrderQty', ascending=True).head(2)"
   ]
  },
  {
   "cell_type": "code",
   "execution_count": 138,
   "id": "78d68361",
   "metadata": {},
   "outputs": [
    {
     "data": {
      "text/html": [
       "<div>\n",
       "<style scoped>\n",
       "    .dataframe tbody tr th:only-of-type {\n",
       "        vertical-align: middle;\n",
       "    }\n",
       "\n",
       "    .dataframe tbody tr th {\n",
       "        vertical-align: top;\n",
       "    }\n",
       "\n",
       "    .dataframe thead th {\n",
       "        text-align: right;\n",
       "    }\n",
       "</style>\n",
       "<table border=\"1\" class=\"dataframe\">\n",
       "  <thead>\n",
       "    <tr style=\"text-align: right;\">\n",
       "      <th></th>\n",
       "      <th>OrderQty</th>\n",
       "      <th>SubName</th>\n",
       "      <th>Aveliablility</th>\n",
       "    </tr>\n",
       "    <tr>\n",
       "      <th>ProductID</th>\n",
       "      <th></th>\n",
       "      <th></th>\n",
       "      <th></th>\n",
       "    </tr>\n",
       "  </thead>\n",
       "  <tbody>\n",
       "    <tr>\n",
       "      <th>757</th>\n",
       "      <td>156</td>\n",
       "      <td>RoadBikes</td>\n",
       "      <td>False</td>\n",
       "    </tr>\n",
       "    <tr>\n",
       "      <th>756</th>\n",
       "      <td>346</td>\n",
       "      <td>RoadBikes</td>\n",
       "      <td>False</td>\n",
       "    </tr>\n",
       "  </tbody>\n",
       "</table>\n",
       "</div>"
      ],
      "text/plain": [
       "           OrderQty    SubName  Aveliablility\n",
       "ProductID                                    \n",
       "757             156  RoadBikes          False\n",
       "756             346  RoadBikes          False"
      ]
     },
     "execution_count": 138,
     "metadata": {},
     "output_type": "execute_result"
    }
   ],
   "source": [
    "QuantUnavRB.sort_values('OrderQty', ascending=True).head(2)"
   ]
  },
  {
   "cell_type": "code",
   "execution_count": 140,
   "id": "afd7369d",
   "metadata": {},
   "outputs": [
    {
     "data": {
      "text/html": [
       "<div>\n",
       "<style scoped>\n",
       "    .dataframe tbody tr th:only-of-type {\n",
       "        vertical-align: middle;\n",
       "    }\n",
       "\n",
       "    .dataframe tbody tr th {\n",
       "        vertical-align: top;\n",
       "    }\n",
       "\n",
       "    .dataframe thead th {\n",
       "        text-align: right;\n",
       "    }\n",
       "</style>\n",
       "<table border=\"1\" class=\"dataframe\">\n",
       "  <thead>\n",
       "    <tr style=\"text-align: right;\">\n",
       "      <th></th>\n",
       "      <th>OrderQty</th>\n",
       "      <th>SubName</th>\n",
       "      <th>Aveliablility</th>\n",
       "    </tr>\n",
       "    <tr>\n",
       "      <th>ProductID</th>\n",
       "      <th></th>\n",
       "      <th></th>\n",
       "      <th></th>\n",
       "    </tr>\n",
       "  </thead>\n",
       "  <tbody>\n",
       "    <tr>\n",
       "      <th>993</th>\n",
       "      <td>272</td>\n",
       "      <td>MountainBikes</td>\n",
       "      <td>True</td>\n",
       "    </tr>\n",
       "    <tr>\n",
       "      <th>989</th>\n",
       "      <td>282</td>\n",
       "      <td>MountainBikes</td>\n",
       "      <td>True</td>\n",
       "    </tr>\n",
       "  </tbody>\n",
       "</table>\n",
       "</div>"
      ],
      "text/plain": [
       "           OrderQty        SubName  Aveliablility\n",
       "ProductID                                        \n",
       "993             272  MountainBikes           True\n",
       "989             282  MountainBikes           True"
      ]
     },
     "execution_count": 140,
     "metadata": {},
     "output_type": "execute_result"
    }
   ],
   "source": [
    "QuantAvMB.sort_values('OrderQty', ascending=True).head(2)"
   ]
  },
  {
   "cell_type": "code",
   "execution_count": 141,
   "id": "066a2115",
   "metadata": {},
   "outputs": [
    {
     "data": {
      "text/html": [
       "<div>\n",
       "<style scoped>\n",
       "    .dataframe tbody tr th:only-of-type {\n",
       "        vertical-align: middle;\n",
       "    }\n",
       "\n",
       "    .dataframe tbody tr th {\n",
       "        vertical-align: top;\n",
       "    }\n",
       "\n",
       "    .dataframe thead th {\n",
       "        text-align: right;\n",
       "    }\n",
       "</style>\n",
       "<table border=\"1\" class=\"dataframe\">\n",
       "  <thead>\n",
       "    <tr style=\"text-align: right;\">\n",
       "      <th></th>\n",
       "      <th>OrderQty</th>\n",
       "      <th>SubName</th>\n",
       "      <th>Aveliablility</th>\n",
       "    </tr>\n",
       "    <tr>\n",
       "      <th>ProductID</th>\n",
       "      <th></th>\n",
       "      <th></th>\n",
       "      <th></th>\n",
       "    </tr>\n",
       "  </thead>\n",
       "  <tbody>\n",
       "    <tr>\n",
       "      <th>975</th>\n",
       "      <td>536</td>\n",
       "      <td>RoadBikes</td>\n",
       "      <td>True</td>\n",
       "    </tr>\n",
       "    <tr>\n",
       "      <th>997</th>\n",
       "      <td>656</td>\n",
       "      <td>RoadBikes</td>\n",
       "      <td>True</td>\n",
       "    </tr>\n",
       "  </tbody>\n",
       "</table>\n",
       "</div>"
      ],
      "text/plain": [
       "           OrderQty    SubName  Aveliablility\n",
       "ProductID                                    \n",
       "975             536  RoadBikes           True\n",
       "997             656  RoadBikes           True"
      ]
     },
     "execution_count": 141,
     "metadata": {},
     "output_type": "execute_result"
    }
   ],
   "source": [
    "QuantAvRB.sort_values('OrderQty', ascending=True).head(2)"
   ]
  },
  {
   "cell_type": "code",
   "execution_count": 142,
   "id": "a124033d",
   "metadata": {},
   "outputs": [
    {
     "data": {
      "text/html": [
       "<div>\n",
       "<style scoped>\n",
       "    .dataframe tbody tr th:only-of-type {\n",
       "        vertical-align: middle;\n",
       "    }\n",
       "\n",
       "    .dataframe tbody tr th {\n",
       "        vertical-align: top;\n",
       "    }\n",
       "\n",
       "    .dataframe thead th {\n",
       "        text-align: right;\n",
       "    }\n",
       "</style>\n",
       "<table border=\"1\" class=\"dataframe\">\n",
       "  <thead>\n",
       "    <tr style=\"text-align: right;\">\n",
       "      <th></th>\n",
       "      <th>OrderQty</th>\n",
       "      <th>SubName</th>\n",
       "      <th>Aveliablility</th>\n",
       "    </tr>\n",
       "    <tr>\n",
       "      <th>ProductID</th>\n",
       "      <th></th>\n",
       "      <th></th>\n",
       "      <th></th>\n",
       "    </tr>\n",
       "  </thead>\n",
       "  <tbody>\n",
       "    <tr>\n",
       "      <th>960</th>\n",
       "      <td>281</td>\n",
       "      <td>TouringBikes</td>\n",
       "      <td>True</td>\n",
       "    </tr>\n",
       "    <tr>\n",
       "      <th>978</th>\n",
       "      <td>292</td>\n",
       "      <td>TouringBikes</td>\n",
       "      <td>True</td>\n",
       "    </tr>\n",
       "  </tbody>\n",
       "</table>\n",
       "</div>"
      ],
      "text/plain": [
       "           OrderQty       SubName  Aveliablility\n",
       "ProductID                                       \n",
       "960             281  TouringBikes           True\n",
       "978             292  TouringBikes           True"
      ]
     },
     "execution_count": 142,
     "metadata": {},
     "output_type": "execute_result"
    }
   ],
   "source": [
    "QuantAvTB.sort_values('OrderQty', ascending=True).head(2)"
   ]
  },
  {
   "cell_type": "markdown",
   "id": "a17ed7c1",
   "metadata": {},
   "source": [
    "If we look at worst selling bikes we can see that even the worst selling road bikes doing quite well in both av/unave groups, specially now. We can see also that new MB do not sell the best compered to the old one. This may be due to late start of the sale of bike"
   ]
  },
  {
   "cell_type": "markdown",
   "id": "b3fd9f39",
   "metadata": {},
   "source": [
    "### Question 3\n",
    "\n",
    "##### Which bikes gives the best income? (Without cross selling)"
   ]
  },
  {
   "cell_type": "code",
   "execution_count": null,
   "id": "48191e4e",
   "metadata": {},
   "outputs": [],
   "source": [
    "QuantUnavMB"
   ]
  },
  {
   "cell_type": "code",
   "execution_count": null,
   "id": "d7cee7fb",
   "metadata": {},
   "outputs": [],
   "source": []
  },
  {
   "cell_type": "code",
   "execution_count": null,
   "id": "b2c7898c",
   "metadata": {},
   "outputs": [],
   "source": []
  },
  {
   "cell_type": "code",
   "execution_count": null,
   "id": "1610b18a",
   "metadata": {},
   "outputs": [],
   "source": []
  },
  {
   "cell_type": "code",
   "execution_count": null,
   "id": "0b427124",
   "metadata": {},
   "outputs": [],
   "source": []
  },
  {
   "cell_type": "code",
   "execution_count": null,
   "id": "190595bf",
   "metadata": {},
   "outputs": [],
   "source": []
  },
  {
   "cell_type": "code",
   "execution_count": null,
   "id": "ece6ef1a",
   "metadata": {},
   "outputs": [],
   "source": []
  },
  {
   "cell_type": "code",
   "execution_count": null,
   "id": "b60c1120",
   "metadata": {},
   "outputs": [],
   "source": []
  },
  {
   "cell_type": "code",
   "execution_count": null,
   "id": "ba60b23c",
   "metadata": {},
   "outputs": [],
   "source": []
  },
  {
   "cell_type": "code",
   "execution_count": null,
   "id": "9a713d29",
   "metadata": {},
   "outputs": [],
   "source": []
  },
  {
   "cell_type": "code",
   "execution_count": null,
   "id": "b5e13f65",
   "metadata": {},
   "outputs": [],
   "source": []
  },
  {
   "cell_type": "code",
   "execution_count": null,
   "id": "2a1ca9b8",
   "metadata": {},
   "outputs": [],
   "source": []
  },
  {
   "cell_type": "code",
   "execution_count": null,
   "id": "05927903",
   "metadata": {},
   "outputs": [],
   "source": []
  },
  {
   "cell_type": "code",
   "execution_count": null,
   "id": "210ec0c4",
   "metadata": {},
   "outputs": [],
   "source": []
  },
  {
   "cell_type": "code",
   "execution_count": null,
   "id": "e770b9dd",
   "metadata": {},
   "outputs": [],
   "source": []
  },
  {
   "cell_type": "code",
   "execution_count": null,
   "id": "97e6dc6a",
   "metadata": {},
   "outputs": [],
   "source": []
  },
  {
   "cell_type": "code",
   "execution_count": null,
   "id": "192d408f",
   "metadata": {},
   "outputs": [],
   "source": []
  },
  {
   "cell_type": "code",
   "execution_count": null,
   "id": "7d2028aa",
   "metadata": {},
   "outputs": [],
   "source": []
  },
  {
   "cell_type": "code",
   "execution_count": null,
   "id": "4edac250",
   "metadata": {},
   "outputs": [],
   "source": []
  },
  {
   "cell_type": "code",
   "execution_count": null,
   "id": "7fa766b2",
   "metadata": {},
   "outputs": [],
   "source": []
  },
  {
   "cell_type": "code",
   "execution_count": null,
   "id": "b7e1d673",
   "metadata": {},
   "outputs": [],
   "source": []
  },
  {
   "cell_type": "code",
   "execution_count": null,
   "id": "a3d2b4b6",
   "metadata": {},
   "outputs": [],
   "source": []
  },
  {
   "cell_type": "code",
   "execution_count": null,
   "id": "4e48b049",
   "metadata": {},
   "outputs": [],
   "source": []
  },
  {
   "cell_type": "code",
   "execution_count": null,
   "id": "59c166ba",
   "metadata": {},
   "outputs": [],
   "source": []
  },
  {
   "cell_type": "code",
   "execution_count": null,
   "id": "c282cf7c",
   "metadata": {},
   "outputs": [],
   "source": []
  },
  {
   "cell_type": "code",
   "execution_count": null,
   "id": "3b793ef7",
   "metadata": {},
   "outputs": [],
   "source": []
  },
  {
   "cell_type": "code",
   "execution_count": null,
   "id": "fbe9e0a4",
   "metadata": {},
   "outputs": [],
   "source": []
  },
  {
   "cell_type": "code",
   "execution_count": null,
   "id": "0a18f43b",
   "metadata": {},
   "outputs": [],
   "source": []
  },
  {
   "cell_type": "code",
   "execution_count": null,
   "id": "31e1c267",
   "metadata": {},
   "outputs": [],
   "source": []
  },
  {
   "cell_type": "code",
   "execution_count": null,
   "id": "ba075b85",
   "metadata": {},
   "outputs": [],
   "source": []
  },
  {
   "cell_type": "code",
   "execution_count": null,
   "id": "c3d208c7",
   "metadata": {},
   "outputs": [],
   "source": []
  },
  {
   "cell_type": "code",
   "execution_count": null,
   "id": "1c64cf73",
   "metadata": {},
   "outputs": [],
   "source": []
  },
  {
   "cell_type": "code",
   "execution_count": null,
   "id": "a8ffb48d",
   "metadata": {},
   "outputs": [],
   "source": []
  },
  {
   "cell_type": "code",
   "execution_count": null,
   "id": "feeef8fb",
   "metadata": {},
   "outputs": [],
   "source": []
  },
  {
   "cell_type": "code",
   "execution_count": null,
   "id": "d3a15ee9",
   "metadata": {},
   "outputs": [],
   "source": []
  },
  {
   "cell_type": "code",
   "execution_count": null,
   "id": "3360fa20",
   "metadata": {},
   "outputs": [],
   "source": []
  },
  {
   "cell_type": "code",
   "execution_count": null,
   "id": "5efca150",
   "metadata": {},
   "outputs": [],
   "source": []
  },
  {
   "cell_type": "code",
   "execution_count": null,
   "id": "e3e69903",
   "metadata": {},
   "outputs": [],
   "source": []
  },
  {
   "cell_type": "code",
   "execution_count": null,
   "id": "7bdd50b1",
   "metadata": {},
   "outputs": [],
   "source": []
  },
  {
   "cell_type": "code",
   "execution_count": null,
   "id": "c9dda6a5",
   "metadata": {},
   "outputs": [],
   "source": []
  },
  {
   "cell_type": "code",
   "execution_count": null,
   "id": "16bf8e3d",
   "metadata": {},
   "outputs": [],
   "source": []
  },
  {
   "cell_type": "code",
   "execution_count": null,
   "id": "1206af11",
   "metadata": {},
   "outputs": [],
   "source": []
  },
  {
   "cell_type": "code",
   "execution_count": null,
   "id": "8757d289",
   "metadata": {},
   "outputs": [],
   "source": []
  },
  {
   "cell_type": "code",
   "execution_count": null,
   "id": "7730231a",
   "metadata": {},
   "outputs": [],
   "source": []
  },
  {
   "cell_type": "code",
   "execution_count": null,
   "id": "ad2a4402",
   "metadata": {},
   "outputs": [],
   "source": []
  },
  {
   "cell_type": "code",
   "execution_count": null,
   "id": "d7bf9f45",
   "metadata": {},
   "outputs": [],
   "source": []
  },
  {
   "cell_type": "code",
   "execution_count": null,
   "id": "bf448c55",
   "metadata": {},
   "outputs": [],
   "source": []
  },
  {
   "cell_type": "code",
   "execution_count": null,
   "id": "2d8b6d87",
   "metadata": {},
   "outputs": [],
   "source": []
  },
  {
   "cell_type": "code",
   "execution_count": null,
   "id": "f576e171",
   "metadata": {},
   "outputs": [],
   "source": []
  },
  {
   "cell_type": "code",
   "execution_count": null,
   "id": "ade5a5f9",
   "metadata": {},
   "outputs": [],
   "source": []
  },
  {
   "cell_type": "code",
   "execution_count": null,
   "id": "1f6e1acc",
   "metadata": {},
   "outputs": [],
   "source": []
  },
  {
   "cell_type": "code",
   "execution_count": null,
   "id": "6c8532bb",
   "metadata": {},
   "outputs": [],
   "source": []
  },
  {
   "cell_type": "code",
   "execution_count": null,
   "id": "d40df658",
   "metadata": {},
   "outputs": [],
   "source": []
  },
  {
   "cell_type": "code",
   "execution_count": null,
   "id": "85471498",
   "metadata": {},
   "outputs": [],
   "source": []
  },
  {
   "cell_type": "code",
   "execution_count": null,
   "id": "6b00b2ab",
   "metadata": {},
   "outputs": [],
   "source": []
  },
  {
   "cell_type": "code",
   "execution_count": null,
   "id": "656ec110",
   "metadata": {},
   "outputs": [],
   "source": []
  },
  {
   "cell_type": "code",
   "execution_count": null,
   "id": "8f6f17c2",
   "metadata": {},
   "outputs": [],
   "source": []
  },
  {
   "cell_type": "code",
   "execution_count": null,
   "id": "b8b60450",
   "metadata": {},
   "outputs": [],
   "source": []
  },
  {
   "cell_type": "code",
   "execution_count": null,
   "id": "a0e3b472",
   "metadata": {},
   "outputs": [],
   "source": []
  },
  {
   "cell_type": "code",
   "execution_count": null,
   "id": "1ba1f436",
   "metadata": {},
   "outputs": [],
   "source": []
  },
  {
   "cell_type": "code",
   "execution_count": null,
   "id": "dd522ede",
   "metadata": {},
   "outputs": [],
   "source": []
  }
 ],
 "metadata": {
  "kernelspec": {
   "display_name": "Python 3",
   "language": "python",
   "name": "python3"
  },
  "language_info": {
   "codemirror_mode": {
    "name": "ipython",
    "version": 3
   },
   "file_extension": ".py",
   "mimetype": "text/x-python",
   "name": "python",
   "nbconvert_exporter": "python",
   "pygments_lexer": "ipython3",
   "version": "3.8.8"
  }
 },
 "nbformat": 4,
 "nbformat_minor": 5
}
