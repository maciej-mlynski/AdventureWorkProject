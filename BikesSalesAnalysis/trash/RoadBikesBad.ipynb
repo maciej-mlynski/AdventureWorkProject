{
 "cells": [
  {
   "cell_type": "code",
   "execution_count": 1,
   "id": "9fa99e9d",
   "metadata": {},
   "outputs": [],
   "source": [
    "import pandas as pd\n",
    "import numpy as np\n",
    "import matplotlib as plt\n",
    "%matplotlib inline"
   ]
  },
  {
   "cell_type": "code",
   "execution_count": 10,
   "id": "756694f5",
   "metadata": {},
   "outputs": [],
   "source": [
    "pd.set_option('display.max_columns', None)"
   ]
  },
  {
   "cell_type": "code",
   "execution_count": 11,
   "id": "c3a1c974",
   "metadata": {},
   "outputs": [],
   "source": [
    "df = pd.read_csv('../AdventureWorks2019.csv', sep=';', header=0)"
   ]
  },
  {
   "cell_type": "code",
   "execution_count": 12,
   "id": "ae8b00e3",
   "metadata": {},
   "outputs": [
    {
     "data": {
      "text/plain": [
       "array(['Bikes', 'Clothing', 'Accessories', 'Components'], dtype=object)"
      ]
     },
     "execution_count": 12,
     "metadata": {},
     "output_type": "execute_result"
    }
   ],
   "source": [
    "df['CatName'].unique()"
   ]
  },
  {
   "cell_type": "code",
   "execution_count": 13,
   "id": "58a9a09b",
   "metadata": {},
   "outputs": [
    {
     "data": {
      "text/plain": [
       "array(['Mountain Bikes', 'Road Bikes', 'Touring Bikes'], dtype=object)"
      ]
     },
     "execution_count": 13,
     "metadata": {},
     "output_type": "execute_result"
    }
   ],
   "source": [
    "df['SubName'][df['CatName'] == 'Bikes'].unique()"
   ]
  },
  {
   "cell_type": "code",
   "execution_count": 14,
   "id": "92e086a9",
   "metadata": {},
   "outputs": [],
   "source": [
    "RoadBikes = df[df['SubName'] == 'Road Bikes']"
   ]
  },
  {
   "cell_type": "code",
   "execution_count": 15,
   "id": "27854175",
   "metadata": {},
   "outputs": [
    {
     "data": {
      "text/plain": [
       "array(['U ', 'W '], dtype=object)"
      ]
     },
     "execution_count": 15,
     "metadata": {},
     "output_type": "execute_result"
    }
   ],
   "source": [
    "RoadBikes['Style'].unique()"
   ]
  },
  {
   "cell_type": "markdown",
   "id": "9fdb103e",
   "metadata": {},
   "source": [
    "#### How many individuals Road bikes has been stored in Adv2019?"
   ]
  },
  {
   "cell_type": "code",
   "execution_count": 16,
   "id": "9de7c2f0",
   "metadata": {},
   "outputs": [
    {
     "data": {
      "text/plain": [
       "43"
      ]
     },
     "execution_count": 16,
     "metadata": {},
     "output_type": "execute_result"
    }
   ],
   "source": [
    "allBikes = len(RoadBikes['ProductID'].unique())\n",
    "allBikes"
   ]
  },
  {
   "cell_type": "markdown",
   "id": "cdc4881e",
   "metadata": {},
   "source": [
    "#### How many Road bikes has been salled in Adv Store at all?"
   ]
  },
  {
   "cell_type": "code",
   "execution_count": 17,
   "id": "e277e5fa",
   "metadata": {},
   "outputs": [
    {
     "data": {
      "text/plain": [
       "47196"
      ]
     },
     "execution_count": 17,
     "metadata": {},
     "output_type": "execute_result"
    }
   ],
   "source": [
    "allSales = RoadBikes['OrderQty'].sum()\n",
    "allSales"
   ]
  },
  {
   "cell_type": "markdown",
   "id": "46f0c8ed",
   "metadata": {},
   "source": [
    "#### Which are the 5 top all time sellable Road bikes by quantity of orders?"
   ]
  },
  {
   "cell_type": "code",
   "execution_count": 18,
   "id": "0219d1ed",
   "metadata": {},
   "outputs": [
    {
     "data": {
      "text/plain": [
       "47196"
      ]
     },
     "execution_count": 18,
     "metadata": {},
     "output_type": "execute_result"
    }
   ],
   "source": [
    "RoadBikes['OrderQty'].sum()"
   ]
  },
  {
   "cell_type": "code",
   "execution_count": 19,
   "id": "13fa5817",
   "metadata": {},
   "outputs": [
    {
     "data": {
      "text/html": [
       "<div>\n",
       "<style scoped>\n",
       "    .dataframe tbody tr th:only-of-type {\n",
       "        vertical-align: middle;\n",
       "    }\n",
       "\n",
       "    .dataframe tbody tr th {\n",
       "        vertical-align: top;\n",
       "    }\n",
       "\n",
       "    .dataframe thead th {\n",
       "        text-align: right;\n",
       "    }\n",
       "</style>\n",
       "<table border=\"1\" class=\"dataframe\">\n",
       "  <thead>\n",
       "    <tr style=\"text-align: right;\">\n",
       "      <th></th>\n",
       "      <th>OrderQty</th>\n",
       "    </tr>\n",
       "    <tr>\n",
       "      <th>ProductID</th>\n",
       "      <th></th>\n",
       "    </tr>\n",
       "  </thead>\n",
       "  <tbody>\n",
       "    <tr>\n",
       "      <th>770</th>\n",
       "      <td>2270</td>\n",
       "    </tr>\n",
       "    <tr>\n",
       "      <th>762</th>\n",
       "      <td>2254</td>\n",
       "    </tr>\n",
       "    <tr>\n",
       "      <th>760</th>\n",
       "      <td>2232</td>\n",
       "    </tr>\n",
       "    <tr>\n",
       "      <th>761</th>\n",
       "      <td>1896</td>\n",
       "    </tr>\n",
       "    <tr>\n",
       "      <th>763</th>\n",
       "      <td>1888</td>\n",
       "    </tr>\n",
       "  </tbody>\n",
       "</table>\n",
       "</div>"
      ],
      "text/plain": [
       "           OrderQty\n",
       "ProductID          \n",
       "770            2270\n",
       "762            2254\n",
       "760            2232\n",
       "761            1896\n",
       "763            1888"
      ]
     },
     "execution_count": 19,
     "metadata": {},
     "output_type": "execute_result"
    }
   ],
   "source": [
    "sumOrderQty = RoadBikes[['OrderQty', 'ProductID']].groupby('ProductID').sum().sort_values('OrderQty', ascending=False)\n",
    "sumOrderQty.head(5)"
   ]
  },
  {
   "cell_type": "markdown",
   "id": "9fb2884d",
   "metadata": {},
   "source": [
    "##### How many bikes is currently aveliable in the store?"
   ]
  },
  {
   "cell_type": "code",
   "execution_count": 20,
   "id": "27a04954",
   "metadata": {},
   "outputs": [],
   "source": [
    "RoadBikesAveliable = RoadBikes[RoadBikes['SellEndDate'].isna()]"
   ]
  },
  {
   "cell_type": "code",
   "execution_count": 21,
   "id": "4b3dfca6",
   "metadata": {},
   "outputs": [
    {
     "data": {
      "text/plain": [
       "18"
      ]
     },
     "execution_count": 21,
     "metadata": {},
     "output_type": "execute_result"
    }
   ],
   "source": [
    "len(RoadBikesAveliable['ProductID'].unique())"
   ]
  },
  {
   "cell_type": "markdown",
   "id": "ffbb7383",
   "metadata": {},
   "source": [
    "##### Top 5 most sellable bikes which are no longer aveliable on sale"
   ]
  },
  {
   "cell_type": "code",
   "execution_count": 22,
   "id": "25f8d9e0",
   "metadata": {},
   "outputs": [],
   "source": [
    "RoadBikesUnaveliable = RoadBikes[RoadBikes['SellEndDate'].isnull() == False]"
   ]
  },
  {
   "cell_type": "code",
   "execution_count": 23,
   "id": "1ea7e493",
   "metadata": {},
   "outputs": [
    {
     "data": {
      "text/html": [
       "<div>\n",
       "<style scoped>\n",
       "    .dataframe tbody tr th:only-of-type {\n",
       "        vertical-align: middle;\n",
       "    }\n",
       "\n",
       "    .dataframe tbody tr th {\n",
       "        vertical-align: top;\n",
       "    }\n",
       "\n",
       "    .dataframe thead th {\n",
       "        text-align: right;\n",
       "    }\n",
       "</style>\n",
       "<table border=\"1\" class=\"dataframe\">\n",
       "  <thead>\n",
       "    <tr style=\"text-align: right;\">\n",
       "      <th></th>\n",
       "      <th>OrderQty</th>\n",
       "    </tr>\n",
       "    <tr>\n",
       "      <th>ProductID</th>\n",
       "      <th></th>\n",
       "    </tr>\n",
       "  </thead>\n",
       "  <tbody>\n",
       "    <tr>\n",
       "      <th>770</th>\n",
       "      <td>2270</td>\n",
       "    </tr>\n",
       "    <tr>\n",
       "      <th>762</th>\n",
       "      <td>2254</td>\n",
       "    </tr>\n",
       "    <tr>\n",
       "      <th>760</th>\n",
       "      <td>2232</td>\n",
       "    </tr>\n",
       "    <tr>\n",
       "      <th>761</th>\n",
       "      <td>1896</td>\n",
       "    </tr>\n",
       "    <tr>\n",
       "      <th>763</th>\n",
       "      <td>1888</td>\n",
       "    </tr>\n",
       "    <tr>\n",
       "      <th>765</th>\n",
       "      <td>1871</td>\n",
       "    </tr>\n",
       "    <tr>\n",
       "      <th>764</th>\n",
       "      <td>1112</td>\n",
       "    </tr>\n",
       "    <tr>\n",
       "      <th>766</th>\n",
       "      <td>1100</td>\n",
       "    </tr>\n",
       "    <tr>\n",
       "      <th>768</th>\n",
       "      <td>1080</td>\n",
       "    </tr>\n",
       "    <tr>\n",
       "      <th>789</th>\n",
       "      <td>895</td>\n",
       "    </tr>\n",
       "  </tbody>\n",
       "</table>\n",
       "</div>"
      ],
      "text/plain": [
       "           OrderQty\n",
       "ProductID          \n",
       "770            2270\n",
       "762            2254\n",
       "760            2232\n",
       "761            1896\n",
       "763            1888\n",
       "765            1871\n",
       "764            1112\n",
       "766            1100\n",
       "768            1080\n",
       "789             895"
      ]
     },
     "execution_count": 23,
     "metadata": {},
     "output_type": "execute_result"
    }
   ],
   "source": [
    "RoadBikesUnaveliable[['OrderQty', 'ProductID']].groupby('ProductID').sum().sort_values('OrderQty', ascending=False).head(10)"
   ]
  },
  {
   "cell_type": "markdown",
   "id": "e771aacd",
   "metadata": {},
   "source": [
    "#### Which are the most profitable Road bikes?"
   ]
  },
  {
   "cell_type": "code",
   "execution_count": 24,
   "id": "1bf8d5e1",
   "metadata": {
    "scrolled": true
   },
   "outputs": [
    {
     "name": "stderr",
     "output_type": "stream",
     "text": [
      "<ipython-input-24-a34fcae9da73>:1: SettingWithCopyWarning: \n",
      "A value is trying to be set on a copy of a slice from a DataFrame.\n",
      "Try using .loc[row_indexer,col_indexer] = value instead\n",
      "\n",
      "See the caveats in the documentation: https://pandas.pydata.org/pandas-docs/stable/user_guide/indexing.html#returning-a-view-versus-a-copy\n",
      "  RoadBikes['UnitPrice'] = RoadBikes[['UnitPrice']].applymap(lambda x: str(x.replace(',','.'))).astype('float')\n"
     ]
    }
   ],
   "source": [
    "RoadBikes['UnitPrice'] = RoadBikes[['UnitPrice']].applymap(lambda x: str(x.replace(',','.'))).astype('float')"
   ]
  },
  {
   "cell_type": "code",
   "execution_count": 25,
   "id": "49e17050",
   "metadata": {},
   "outputs": [
    {
     "name": "stderr",
     "output_type": "stream",
     "text": [
      "<ipython-input-25-7cc8b7afd722>:1: SettingWithCopyWarning: \n",
      "A value is trying to be set on a copy of a slice from a DataFrame.\n",
      "Try using .loc[row_indexer,col_indexer] = value instead\n",
      "\n",
      "See the caveats in the documentation: https://pandas.pydata.org/pandas-docs/stable/user_guide/indexing.html#returning-a-view-versus-a-copy\n",
      "  RoadBikes['StandardCost'] = RoadBikes[['StandardCost']].applymap(lambda x: str(x.replace(',','.'))).astype('float')\n"
     ]
    }
   ],
   "source": [
    "RoadBikes['StandardCost'] = RoadBikes[['StandardCost']].applymap(lambda x: str(x.replace(',','.'))).astype('float')"
   ]
  },
  {
   "cell_type": "code",
   "execution_count": 26,
   "id": "cd039a6a",
   "metadata": {},
   "outputs": [
    {
     "name": "stderr",
     "output_type": "stream",
     "text": [
      "<ipython-input-26-cfb71e043e24>:1: SettingWithCopyWarning: \n",
      "A value is trying to be set on a copy of a slice from a DataFrame.\n",
      "Try using .loc[row_indexer,col_indexer] = value instead\n",
      "\n",
      "See the caveats in the documentation: https://pandas.pydata.org/pandas-docs/stable/user_guide/indexing.html#returning-a-view-versus-a-copy\n",
      "  RoadBikes['UnitPriceDiscount'] = RoadBikes[['UnitPriceDiscount']].applymap(lambda x: str(x.replace(',','.'))).astype('float')\n"
     ]
    }
   ],
   "source": [
    "RoadBikes['UnitPriceDiscount'] = RoadBikes[['UnitPriceDiscount']].applymap(lambda x: str(x.replace(',','.'))).astype('float')"
   ]
  },
  {
   "cell_type": "code",
   "execution_count": 27,
   "id": "906b347a",
   "metadata": {},
   "outputs": [
    {
     "name": "stderr",
     "output_type": "stream",
     "text": [
      "<ipython-input-27-affde11483de>:1: SettingWithCopyWarning: \n",
      "A value is trying to be set on a copy of a slice from a DataFrame.\n",
      "Try using .loc[row_indexer,col_indexer] = value instead\n",
      "\n",
      "See the caveats in the documentation: https://pandas.pydata.org/pandas-docs/stable/user_guide/indexing.html#returning-a-view-versus-a-copy\n",
      "  RoadBikes['AmtOfSale'] = RoadBikes['UnitPrice'] * RoadBikes['OrderQty'] * (1-RoadBikes['UnitPriceDiscount'])\n"
     ]
    }
   ],
   "source": [
    "RoadBikes['AmtOfSale'] = RoadBikes['UnitPrice'] * RoadBikes['OrderQty'] * (1-RoadBikes['UnitPriceDiscount'])"
   ]
  },
  {
   "cell_type": "code",
   "execution_count": 28,
   "id": "d2ad6664",
   "metadata": {},
   "outputs": [
    {
     "name": "stderr",
     "output_type": "stream",
     "text": [
      "<ipython-input-28-7401af16a45f>:1: SettingWithCopyWarning: \n",
      "A value is trying to be set on a copy of a slice from a DataFrame.\n",
      "Try using .loc[row_indexer,col_indexer] = value instead\n",
      "\n",
      "See the caveats in the documentation: https://pandas.pydata.org/pandas-docs/stable/user_guide/indexing.html#returning-a-view-versus-a-copy\n",
      "  RoadBikes['AmtOfDisc'] = RoadBikes['UnitPrice'] * RoadBikes['OrderQty'] * RoadBikes['UnitPriceDiscount']\n"
     ]
    }
   ],
   "source": [
    "RoadBikes['AmtOfDisc'] = RoadBikes['UnitPrice'] * RoadBikes['OrderQty'] * RoadBikes['UnitPriceDiscount']"
   ]
  },
  {
   "cell_type": "code",
   "execution_count": 29,
   "id": "3de0713a",
   "metadata": {},
   "outputs": [
    {
     "name": "stderr",
     "output_type": "stream",
     "text": [
      "<ipython-input-29-f255fa0dadb8>:1: SettingWithCopyWarning: \n",
      "A value is trying to be set on a copy of a slice from a DataFrame.\n",
      "Try using .loc[row_indexer,col_indexer] = value instead\n",
      "\n",
      "See the caveats in the documentation: https://pandas.pydata.org/pandas-docs/stable/user_guide/indexing.html#returning-a-view-versus-a-copy\n",
      "  RoadBikes['GrossProfit'] = RoadBikes['AmtOfSale'] - RoadBikes['StandardCost']*RoadBikes['OrderQty']\n"
     ]
    }
   ],
   "source": [
    "RoadBikes['GrossProfit'] = RoadBikes['AmtOfSale'] - RoadBikes['StandardCost']*RoadBikes['OrderQty']"
   ]
  },
  {
   "cell_type": "code",
   "execution_count": 30,
   "id": "c205d24a",
   "metadata": {},
   "outputs": [
    {
     "data": {
      "text/html": [
       "<div>\n",
       "<style scoped>\n",
       "    .dataframe tbody tr th:only-of-type {\n",
       "        vertical-align: middle;\n",
       "    }\n",
       "\n",
       "    .dataframe tbody tr th {\n",
       "        vertical-align: top;\n",
       "    }\n",
       "\n",
       "    .dataframe thead th {\n",
       "        text-align: right;\n",
       "    }\n",
       "</style>\n",
       "<table border=\"1\" class=\"dataframe\">\n",
       "  <thead>\n",
       "    <tr style=\"text-align: right;\">\n",
       "      <th></th>\n",
       "      <th>TotalProfit</th>\n",
       "    </tr>\n",
       "    <tr>\n",
       "      <th>ProductID</th>\n",
       "      <th></th>\n",
       "    </tr>\n",
       "  </thead>\n",
       "  <tbody>\n",
       "    <tr>\n",
       "      <th>751</th>\n",
       "      <td>470355.0214</td>\n",
       "    </tr>\n",
       "    <tr>\n",
       "      <th>749</th>\n",
       "      <td>466320.1680</td>\n",
       "    </tr>\n",
       "  </tbody>\n",
       "</table>\n",
       "</div>"
      ],
      "text/plain": [
       "           TotalProfit\n",
       "ProductID             \n",
       "751        470355.0214\n",
       "749        466320.1680"
      ]
     },
     "execution_count": 30,
     "metadata": {},
     "output_type": "execute_result"
    }
   ],
   "source": [
    "totaltProfit = RoadBikes[['GrossProfit', 'ProductID']].groupby('ProductID').sum().sort_values('GrossProfit', ascending=False).rename(columns = {'GrossProfit':'TotalProfit'})\n",
    "totaltProfit.head(2)"
   ]
  },
  {
   "cell_type": "markdown",
   "id": "84087a5f",
   "metadata": {},
   "source": [
    "This is the most prfitable bikes all time"
   ]
  },
  {
   "cell_type": "markdown",
   "id": "c7ae0029",
   "metadata": {},
   "source": [
    "##### What is an average profit from singular bike sell?"
   ]
  },
  {
   "cell_type": "code",
   "execution_count": 31,
   "id": "5a68df52",
   "metadata": {},
   "outputs": [
    {
     "data": {
      "text/html": [
       "<div>\n",
       "<style scoped>\n",
       "    .dataframe tbody tr th:only-of-type {\n",
       "        vertical-align: middle;\n",
       "    }\n",
       "\n",
       "    .dataframe tbody tr th {\n",
       "        vertical-align: top;\n",
       "    }\n",
       "\n",
       "    .dataframe thead th {\n",
       "        text-align: right;\n",
       "    }\n",
       "</style>\n",
       "<table border=\"1\" class=\"dataframe\">\n",
       "  <thead>\n",
       "    <tr style=\"text-align: right;\">\n",
       "      <th></th>\n",
       "      <th>AvgProfit</th>\n",
       "    </tr>\n",
       "    <tr>\n",
       "      <th>ProductID</th>\n",
       "      <th></th>\n",
       "    </tr>\n",
       "  </thead>\n",
       "  <tbody>\n",
       "    <tr>\n",
       "      <th>751</th>\n",
       "      <td>1150.012277</td>\n",
       "    </tr>\n",
       "    <tr>\n",
       "      <th>752</th>\n",
       "      <td>1114.049916</td>\n",
       "    </tr>\n",
       "  </tbody>\n",
       "</table>\n",
       "</div>"
      ],
      "text/plain": [
       "             AvgProfit\n",
       "ProductID             \n",
       "751        1150.012277\n",
       "752        1114.049916"
      ]
     },
     "execution_count": 31,
     "metadata": {},
     "output_type": "execute_result"
    }
   ],
   "source": [
    "avgProfit = RoadBikes[['GrossProfit', 'ProductID']].groupby('ProductID').mean().sort_values('GrossProfit', ascending=False).rename(columns = {'GrossProfit':'AvgProfit'})\n",
    "avgProfit.head(2)"
   ]
  },
  {
   "cell_type": "code",
   "execution_count": 32,
   "id": "05133ca9",
   "metadata": {},
   "outputs": [],
   "source": [
    "sumOrderQty = sumOrderQty.sort_index()\n",
    "avgProfit = avgProfit.sort_index()\n",
    "totaltProfit = totaltProfit.sort_index()"
   ]
  },
  {
   "cell_type": "code",
   "execution_count": 33,
   "id": "f437e3f2",
   "metadata": {},
   "outputs": [],
   "source": [
    "dictionary = {'sumOfOrders': sumOrderQty['OrderQty'], 'avgProfit' : avgProfit['AvgProfit'], 'totalProfit': totaltProfit['TotalProfit']}"
   ]
  },
  {
   "cell_type": "code",
   "execution_count": 34,
   "id": "d6e993b1",
   "metadata": {},
   "outputs": [
    {
     "data": {
      "text/plain": [
       "43"
      ]
     },
     "execution_count": 34,
     "metadata": {},
     "output_type": "execute_result"
    }
   ],
   "source": [
    "len(sumOrderQty)"
   ]
  },
  {
   "cell_type": "code",
   "execution_count": 35,
   "id": "d2a893bb",
   "metadata": {},
   "outputs": [],
   "source": [
    "MBSummary = pd.DataFrame(dictionary)"
   ]
  },
  {
   "cell_type": "code",
   "execution_count": 36,
   "id": "c4f318e0",
   "metadata": {},
   "outputs": [],
   "source": [
    "MBSummary['totalProfit'] = MBSummary['totalProfit'].round(2)"
   ]
  },
  {
   "cell_type": "code",
   "execution_count": 53,
   "id": "12cb3a26",
   "metadata": {},
   "outputs": [],
   "source": [
    "MBSummary = MBSummary.sort_values('totalProfit', ascending=False)"
   ]
  },
  {
   "cell_type": "code",
   "execution_count": 54,
   "id": "97916e61",
   "metadata": {},
   "outputs": [],
   "source": [
    "UnavelRBList = RoadBikesUnaveliable.groupby('ProductID').sum().reset_index()['ProductID']"
   ]
  },
  {
   "cell_type": "code",
   "execution_count": 55,
   "id": "0efff2b5",
   "metadata": {},
   "outputs": [
    {
     "data": {
      "text/html": [
       "<div>\n",
       "<style scoped>\n",
       "    .dataframe tbody tr th:only-of-type {\n",
       "        vertical-align: middle;\n",
       "    }\n",
       "\n",
       "    .dataframe tbody tr th {\n",
       "        vertical-align: top;\n",
       "    }\n",
       "\n",
       "    .dataframe thead th {\n",
       "        text-align: right;\n",
       "    }\n",
       "</style>\n",
       "<table border=\"1\" class=\"dataframe\">\n",
       "  <thead>\n",
       "    <tr style=\"text-align: right;\">\n",
       "      <th></th>\n",
       "      <th>sumOfOrders</th>\n",
       "      <th>avgProfit</th>\n",
       "      <th>totalProfit</th>\n",
       "    </tr>\n",
       "    <tr>\n",
       "      <th>ProductID</th>\n",
       "      <th></th>\n",
       "      <th></th>\n",
       "      <th></th>\n",
       "    </tr>\n",
       "  </thead>\n",
       "  <tbody>\n",
       "    <tr>\n",
       "      <th>751</th>\n",
       "      <td>493</td>\n",
       "      <td>1150.012277</td>\n",
       "      <td>470355.02</td>\n",
       "    </tr>\n",
       "    <tr>\n",
       "      <th>749</th>\n",
       "      <td>600</td>\n",
       "      <td>992.170570</td>\n",
       "      <td>466320.17</td>\n",
       "    </tr>\n",
       "    <tr>\n",
       "      <th>752</th>\n",
       "      <td>458</td>\n",
       "      <td>1114.049916</td>\n",
       "      <td>421110.87</td>\n",
       "    </tr>\n",
       "    <tr>\n",
       "      <th>753</th>\n",
       "      <td>664</td>\n",
       "      <td>854.903746</td>\n",
       "      <td>406079.28</td>\n",
       "    </tr>\n",
       "    <tr>\n",
       "      <th>750</th>\n",
       "      <td>437</td>\n",
       "      <td>1093.755242</td>\n",
       "      <td>391564.38</td>\n",
       "    </tr>\n",
       "  </tbody>\n",
       "</table>\n",
       "</div>"
      ],
      "text/plain": [
       "           sumOfOrders    avgProfit  totalProfit\n",
       "ProductID                                       \n",
       "751                493  1150.012277    470355.02\n",
       "749                600   992.170570    466320.17\n",
       "752                458  1114.049916    421110.87\n",
       "753                664   854.903746    406079.28\n",
       "750                437  1093.755242    391564.38"
      ]
     },
     "execution_count": 55,
     "metadata": {},
     "output_type": "execute_result"
    }
   ],
   "source": [
    "MBSummary.head(5)"
   ]
  },
  {
   "cell_type": "code",
   "execution_count": 56,
   "id": "170a6f02",
   "metadata": {},
   "outputs": [],
   "source": [
    "MBSummary.reset_index(inplace=True)"
   ]
  },
  {
   "cell_type": "code",
   "execution_count": null,
   "id": "764bc527",
   "metadata": {},
   "outputs": [],
   "source": []
  },
  {
   "cell_type": "code",
   "execution_count": null,
   "id": "a6be8498",
   "metadata": {},
   "outputs": [],
   "source": []
  },
  {
   "cell_type": "code",
   "execution_count": null,
   "id": "456b46b1",
   "metadata": {},
   "outputs": [],
   "source": []
  },
  {
   "cell_type": "code",
   "execution_count": null,
   "id": "5f044573",
   "metadata": {},
   "outputs": [],
   "source": []
  },
  {
   "cell_type": "code",
   "execution_count": null,
   "id": "53e9616f",
   "metadata": {},
   "outputs": [],
   "source": []
  },
  {
   "cell_type": "code",
   "execution_count": null,
   "id": "9b17578e",
   "metadata": {},
   "outputs": [],
   "source": []
  },
  {
   "cell_type": "code",
   "execution_count": null,
   "id": "e3b47992",
   "metadata": {},
   "outputs": [],
   "source": []
  },
  {
   "cell_type": "code",
   "execution_count": null,
   "id": "03b93607",
   "metadata": {},
   "outputs": [],
   "source": []
  },
  {
   "cell_type": "code",
   "execution_count": null,
   "id": "f35ea004",
   "metadata": {},
   "outputs": [],
   "source": []
  },
  {
   "cell_type": "code",
   "execution_count": null,
   "id": "78cb8ef3",
   "metadata": {},
   "outputs": [],
   "source": []
  },
  {
   "cell_type": "code",
   "execution_count": null,
   "id": "0d1b43ee",
   "metadata": {},
   "outputs": [],
   "source": []
  },
  {
   "cell_type": "code",
   "execution_count": null,
   "id": "aa9e9df4",
   "metadata": {},
   "outputs": [],
   "source": []
  }
 ],
 "metadata": {
  "kernelspec": {
   "display_name": "Python 3",
   "language": "python",
   "name": "python3"
  },
  "language_info": {
   "codemirror_mode": {
    "name": "ipython",
    "version": 3
   },
   "file_extension": ".py",
   "mimetype": "text/x-python",
   "name": "python",
   "nbconvert_exporter": "python",
   "pygments_lexer": "ipython3",
   "version": "3.8.8"
  }
 },
 "nbformat": 4,
 "nbformat_minor": 5
}
