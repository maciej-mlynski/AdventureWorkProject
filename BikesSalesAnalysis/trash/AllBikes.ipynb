{
 "cells": [
  {
   "cell_type": "code",
   "execution_count": 1,
   "id": "f6cc95cc",
   "metadata": {},
   "outputs": [],
   "source": [
    "import pandas as pd\n",
    "import numpy as np\n",
    "import matplotlib.pyplot as plt\n",
    "%matplotlib inline\n",
    "import seaborn as sns"
   ]
  },
  {
   "cell_type": "code",
   "execution_count": 2,
   "id": "7353acbe",
   "metadata": {},
   "outputs": [],
   "source": [
    "pd.set_option('display.max_columns', None)"
   ]
  },
  {
   "cell_type": "code",
   "execution_count": 3,
   "id": "ed751b9d",
   "metadata": {},
   "outputs": [],
   "source": [
    "df = pd.read_csv('../AdventureWorks2019.csv', sep=';', header=0)"
   ]
  },
  {
   "cell_type": "code",
   "execution_count": 4,
   "id": "8ffa0fc4",
   "metadata": {},
   "outputs": [],
   "source": [
    "Bikes = df[df['CatName'] == 'Bikes']"
   ]
  },
  {
   "cell_type": "code",
   "execution_count": 5,
   "id": "43464909",
   "metadata": {},
   "outputs": [
    {
     "data": {
      "text/html": [
       "<div>\n",
       "<style scoped>\n",
       "    .dataframe tbody tr th:only-of-type {\n",
       "        vertical-align: middle;\n",
       "    }\n",
       "\n",
       "    .dataframe tbody tr th {\n",
       "        vertical-align: top;\n",
       "    }\n",
       "\n",
       "    .dataframe thead th {\n",
       "        text-align: right;\n",
       "    }\n",
       "</style>\n",
       "<table border=\"1\" class=\"dataframe\">\n",
       "  <thead>\n",
       "    <tr style=\"text-align: right;\">\n",
       "      <th></th>\n",
       "      <th>ProductID</th>\n",
       "      <th>ListPrice</th>\n",
       "      <th>StandardCost</th>\n",
       "      <th>Color</th>\n",
       "      <th>Size</th>\n",
       "      <th>SizeUnitMeasureCode</th>\n",
       "      <th>Weight</th>\n",
       "      <th>WeightUnitMeasureCode</th>\n",
       "      <th>Style</th>\n",
       "      <th>class</th>\n",
       "      <th>SubName</th>\n",
       "      <th>CatName</th>\n",
       "      <th>UnitPrice</th>\n",
       "      <th>UnitPriceDiscount</th>\n",
       "      <th>OrderQty</th>\n",
       "      <th>TotalDue</th>\n",
       "      <th>SubTotal</th>\n",
       "      <th>TerritoryID</th>\n",
       "      <th>OnlineOrderFlag</th>\n",
       "      <th>Status</th>\n",
       "      <th>SellStartDate</th>\n",
       "      <th>SellEndDate</th>\n",
       "    </tr>\n",
       "  </thead>\n",
       "  <tbody>\n",
       "    <tr>\n",
       "      <th>0</th>\n",
       "      <td>776</td>\n",
       "      <td>3374,99</td>\n",
       "      <td>1898,0944</td>\n",
       "      <td>Black</td>\n",
       "      <td>42</td>\n",
       "      <td>CM</td>\n",
       "      <td>20.77</td>\n",
       "      <td>LB</td>\n",
       "      <td>U</td>\n",
       "      <td>H</td>\n",
       "      <td>Mountain Bikes</td>\n",
       "      <td>Bikes</td>\n",
       "      <td>2024,994</td>\n",
       "      <td>0,00</td>\n",
       "      <td>1</td>\n",
       "      <td>23153,2339</td>\n",
       "      <td>20565,6206</td>\n",
       "      <td>5</td>\n",
       "      <td>0</td>\n",
       "      <td>5</td>\n",
       "      <td>2011-05-31 00:00:00.000</td>\n",
       "      <td>2012-05-29 00:00:00.000</td>\n",
       "    </tr>\n",
       "    <tr>\n",
       "      <th>1</th>\n",
       "      <td>777</td>\n",
       "      <td>3374,99</td>\n",
       "      <td>1898,0944</td>\n",
       "      <td>Black</td>\n",
       "      <td>44</td>\n",
       "      <td>CM</td>\n",
       "      <td>21.13</td>\n",
       "      <td>LB</td>\n",
       "      <td>U</td>\n",
       "      <td>H</td>\n",
       "      <td>Mountain Bikes</td>\n",
       "      <td>Bikes</td>\n",
       "      <td>2024,994</td>\n",
       "      <td>0,00</td>\n",
       "      <td>3</td>\n",
       "      <td>23153,2339</td>\n",
       "      <td>20565,6206</td>\n",
       "      <td>5</td>\n",
       "      <td>0</td>\n",
       "      <td>5</td>\n",
       "      <td>2011-05-31 00:00:00.000</td>\n",
       "      <td>2012-05-29 00:00:00.000</td>\n",
       "    </tr>\n",
       "    <tr>\n",
       "      <th>2</th>\n",
       "      <td>778</td>\n",
       "      <td>3374,99</td>\n",
       "      <td>1898,0944</td>\n",
       "      <td>Black</td>\n",
       "      <td>48</td>\n",
       "      <td>CM</td>\n",
       "      <td>21.42</td>\n",
       "      <td>LB</td>\n",
       "      <td>U</td>\n",
       "      <td>H</td>\n",
       "      <td>Mountain Bikes</td>\n",
       "      <td>Bikes</td>\n",
       "      <td>2024,994</td>\n",
       "      <td>0,00</td>\n",
       "      <td>1</td>\n",
       "      <td>23153,2339</td>\n",
       "      <td>20565,6206</td>\n",
       "      <td>5</td>\n",
       "      <td>0</td>\n",
       "      <td>5</td>\n",
       "      <td>2011-05-31 00:00:00.000</td>\n",
       "      <td>2012-05-29 00:00:00.000</td>\n",
       "    </tr>\n",
       "    <tr>\n",
       "      <th>3</th>\n",
       "      <td>771</td>\n",
       "      <td>3399,99</td>\n",
       "      <td>1912,1544</td>\n",
       "      <td>Silver</td>\n",
       "      <td>38</td>\n",
       "      <td>CM</td>\n",
       "      <td>20.35</td>\n",
       "      <td>LB</td>\n",
       "      <td>U</td>\n",
       "      <td>H</td>\n",
       "      <td>Mountain Bikes</td>\n",
       "      <td>Bikes</td>\n",
       "      <td>2039,994</td>\n",
       "      <td>0,00</td>\n",
       "      <td>1</td>\n",
       "      <td>23153,2339</td>\n",
       "      <td>20565,6206</td>\n",
       "      <td>5</td>\n",
       "      <td>0</td>\n",
       "      <td>5</td>\n",
       "      <td>2011-05-31 00:00:00.000</td>\n",
       "      <td>2012-05-29 00:00:00.000</td>\n",
       "    </tr>\n",
       "    <tr>\n",
       "      <th>4</th>\n",
       "      <td>772</td>\n",
       "      <td>3399,99</td>\n",
       "      <td>1912,1544</td>\n",
       "      <td>Silver</td>\n",
       "      <td>42</td>\n",
       "      <td>CM</td>\n",
       "      <td>20.77</td>\n",
       "      <td>LB</td>\n",
       "      <td>U</td>\n",
       "      <td>H</td>\n",
       "      <td>Mountain Bikes</td>\n",
       "      <td>Bikes</td>\n",
       "      <td>2039,994</td>\n",
       "      <td>0,00</td>\n",
       "      <td>1</td>\n",
       "      <td>23153,2339</td>\n",
       "      <td>20565,6206</td>\n",
       "      <td>5</td>\n",
       "      <td>0</td>\n",
       "      <td>5</td>\n",
       "      <td>2011-05-31 00:00:00.000</td>\n",
       "      <td>2012-05-29 00:00:00.000</td>\n",
       "    </tr>\n",
       "    <tr>\n",
       "      <th>...</th>\n",
       "      <td>...</td>\n",
       "      <td>...</td>\n",
       "      <td>...</td>\n",
       "      <td>...</td>\n",
       "      <td>...</td>\n",
       "      <td>...</td>\n",
       "      <td>...</td>\n",
       "      <td>...</td>\n",
       "      <td>...</td>\n",
       "      <td>...</td>\n",
       "      <td>...</td>\n",
       "      <td>...</td>\n",
       "      <td>...</td>\n",
       "      <td>...</td>\n",
       "      <td>...</td>\n",
       "      <td>...</td>\n",
       "      <td>...</td>\n",
       "      <td>...</td>\n",
       "      <td>...</td>\n",
       "      <td>...</td>\n",
       "      <td>...</td>\n",
       "      <td>...</td>\n",
       "    </tr>\n",
       "    <tr>\n",
       "      <th>119097</th>\n",
       "      <td>999</td>\n",
       "      <td>539,99</td>\n",
       "      <td>343,6496</td>\n",
       "      <td>Black</td>\n",
       "      <td>52</td>\n",
       "      <td>CM</td>\n",
       "      <td>20.42</td>\n",
       "      <td>LB</td>\n",
       "      <td>U</td>\n",
       "      <td>L</td>\n",
       "      <td>Road Bikes</td>\n",
       "      <td>Bikes</td>\n",
       "      <td>539,99</td>\n",
       "      <td>0,00</td>\n",
       "      <td>1</td>\n",
       "      <td>639,1983</td>\n",
       "      <td>578,46</td>\n",
       "      <td>10</td>\n",
       "      <td>1</td>\n",
       "      <td>5</td>\n",
       "      <td>2013-05-30 00:00:00.000</td>\n",
       "      <td>NaN</td>\n",
       "    </tr>\n",
       "    <tr>\n",
       "      <th>119101</th>\n",
       "      <td>967</td>\n",
       "      <td>2384,07</td>\n",
       "      <td>1481,9379</td>\n",
       "      <td>Blue</td>\n",
       "      <td>50</td>\n",
       "      <td>CM</td>\n",
       "      <td>25.42</td>\n",
       "      <td>LB</td>\n",
       "      <td>U</td>\n",
       "      <td>H</td>\n",
       "      <td>Touring Bikes</td>\n",
       "      <td>Bikes</td>\n",
       "      <td>2384,07</td>\n",
       "      <td>0,00</td>\n",
       "      <td>1</td>\n",
       "      <td>2673,0613</td>\n",
       "      <td>2419,06</td>\n",
       "      <td>8</td>\n",
       "      <td>1</td>\n",
       "      <td>5</td>\n",
       "      <td>2013-05-30 00:00:00.000</td>\n",
       "      <td>NaN</td>\n",
       "    </tr>\n",
       "    <tr>\n",
       "      <th>119103</th>\n",
       "      <td>954</td>\n",
       "      <td>2384,07</td>\n",
       "      <td>1481,9379</td>\n",
       "      <td>Yellow</td>\n",
       "      <td>46</td>\n",
       "      <td>CM</td>\n",
       "      <td>25.13</td>\n",
       "      <td>LB</td>\n",
       "      <td>U</td>\n",
       "      <td>H</td>\n",
       "      <td>Touring Bikes</td>\n",
       "      <td>Bikes</td>\n",
       "      <td>2384,07</td>\n",
       "      <td>0,00</td>\n",
       "      <td>1</td>\n",
       "      <td>2634,3974</td>\n",
       "      <td>2384,07</td>\n",
       "      <td>9</td>\n",
       "      <td>1</td>\n",
       "      <td>5</td>\n",
       "      <td>2013-05-30 00:00:00.000</td>\n",
       "      <td>NaN</td>\n",
       "    </tr>\n",
       "    <tr>\n",
       "      <th>119104</th>\n",
       "      <td>977</td>\n",
       "      <td>539,99</td>\n",
       "      <td>343,6496</td>\n",
       "      <td>Black</td>\n",
       "      <td>58</td>\n",
       "      <td>CM</td>\n",
       "      <td>20.79</td>\n",
       "      <td>LB</td>\n",
       "      <td>U</td>\n",
       "      <td>L</td>\n",
       "      <td>Road Bikes</td>\n",
       "      <td>Bikes</td>\n",
       "      <td>539,99</td>\n",
       "      <td>0,00</td>\n",
       "      <td>1</td>\n",
       "      <td>596,689</td>\n",
       "      <td>539,99</td>\n",
       "      <td>9</td>\n",
       "      <td>1</td>\n",
       "      <td>5</td>\n",
       "      <td>2013-05-30 00:00:00.000</td>\n",
       "      <td>NaN</td>\n",
       "    </tr>\n",
       "    <tr>\n",
       "      <th>119105</th>\n",
       "      <td>998</td>\n",
       "      <td>539,99</td>\n",
       "      <td>343,6496</td>\n",
       "      <td>Black</td>\n",
       "      <td>48</td>\n",
       "      <td>CM</td>\n",
       "      <td>20.13</td>\n",
       "      <td>LB</td>\n",
       "      <td>U</td>\n",
       "      <td>L</td>\n",
       "      <td>Road Bikes</td>\n",
       "      <td>Bikes</td>\n",
       "      <td>539,99</td>\n",
       "      <td>0,00</td>\n",
       "      <td>1</td>\n",
       "      <td>680,0944</td>\n",
       "      <td>615,47</td>\n",
       "      <td>9</td>\n",
       "      <td>1</td>\n",
       "      <td>5</td>\n",
       "      <td>2013-05-30 00:00:00.000</td>\n",
       "      <td>NaN</td>\n",
       "    </tr>\n",
       "  </tbody>\n",
       "</table>\n",
       "<p>40031 rows × 22 columns</p>\n",
       "</div>"
      ],
      "text/plain": [
       "        ProductID ListPrice StandardCost   Color Size SizeUnitMeasureCode  \\\n",
       "0             776   3374,99    1898,0944   Black   42                 CM    \n",
       "1             777   3374,99    1898,0944   Black   44                 CM    \n",
       "2             778   3374,99    1898,0944   Black   48                 CM    \n",
       "3             771   3399,99    1912,1544  Silver   38                 CM    \n",
       "4             772   3399,99    1912,1544  Silver   42                 CM    \n",
       "...           ...       ...          ...     ...  ...                 ...   \n",
       "119097        999    539,99     343,6496   Black   52                 CM    \n",
       "119101        967   2384,07    1481,9379    Blue   50                 CM    \n",
       "119103        954   2384,07    1481,9379  Yellow   46                 CM    \n",
       "119104        977    539,99     343,6496   Black   58                 CM    \n",
       "119105        998    539,99     343,6496   Black   48                 CM    \n",
       "\n",
       "        Weight WeightUnitMeasureCode Style class         SubName CatName  \\\n",
       "0        20.77                   LB     U     H   Mountain Bikes   Bikes   \n",
       "1        21.13                   LB     U     H   Mountain Bikes   Bikes   \n",
       "2        21.42                   LB     U     H   Mountain Bikes   Bikes   \n",
       "3        20.35                   LB     U     H   Mountain Bikes   Bikes   \n",
       "4        20.77                   LB     U     H   Mountain Bikes   Bikes   \n",
       "...        ...                   ...   ...   ...             ...     ...   \n",
       "119097   20.42                   LB     U     L       Road Bikes   Bikes   \n",
       "119101   25.42                   LB     U     H    Touring Bikes   Bikes   \n",
       "119103   25.13                   LB     U     H    Touring Bikes   Bikes   \n",
       "119104   20.79                   LB     U     L       Road Bikes   Bikes   \n",
       "119105   20.13                   LB     U     L       Road Bikes   Bikes   \n",
       "\n",
       "       UnitPrice UnitPriceDiscount  OrderQty    TotalDue    SubTotal  \\\n",
       "0       2024,994              0,00         1  23153,2339  20565,6206   \n",
       "1       2024,994              0,00         3  23153,2339  20565,6206   \n",
       "2       2024,994              0,00         1  23153,2339  20565,6206   \n",
       "3       2039,994              0,00         1  23153,2339  20565,6206   \n",
       "4       2039,994              0,00         1  23153,2339  20565,6206   \n",
       "...          ...               ...       ...         ...         ...   \n",
       "119097    539,99              0,00         1    639,1983      578,46   \n",
       "119101   2384,07              0,00         1   2673,0613     2419,06   \n",
       "119103   2384,07              0,00         1   2634,3974     2384,07   \n",
       "119104    539,99              0,00         1     596,689      539,99   \n",
       "119105    539,99              0,00         1    680,0944      615,47   \n",
       "\n",
       "        TerritoryID  OnlineOrderFlag  Status            SellStartDate  \\\n",
       "0                 5                0       5  2011-05-31 00:00:00.000   \n",
       "1                 5                0       5  2011-05-31 00:00:00.000   \n",
       "2                 5                0       5  2011-05-31 00:00:00.000   \n",
       "3                 5                0       5  2011-05-31 00:00:00.000   \n",
       "4                 5                0       5  2011-05-31 00:00:00.000   \n",
       "...             ...              ...     ...                      ...   \n",
       "119097           10                1       5  2013-05-30 00:00:00.000   \n",
       "119101            8                1       5  2013-05-30 00:00:00.000   \n",
       "119103            9                1       5  2013-05-30 00:00:00.000   \n",
       "119104            9                1       5  2013-05-30 00:00:00.000   \n",
       "119105            9                1       5  2013-05-30 00:00:00.000   \n",
       "\n",
       "                    SellEndDate  \n",
       "0       2012-05-29 00:00:00.000  \n",
       "1       2012-05-29 00:00:00.000  \n",
       "2       2012-05-29 00:00:00.000  \n",
       "3       2012-05-29 00:00:00.000  \n",
       "4       2012-05-29 00:00:00.000  \n",
       "...                         ...  \n",
       "119097                      NaN  \n",
       "119101                      NaN  \n",
       "119103                      NaN  \n",
       "119104                      NaN  \n",
       "119105                      NaN  \n",
       "\n",
       "[40031 rows x 22 columns]"
      ]
     },
     "execution_count": 5,
     "metadata": {},
     "output_type": "execute_result"
    }
   ],
   "source": [
    "Bikes"
   ]
  },
  {
   "cell_type": "code",
   "execution_count": 6,
   "id": "9ca458b6",
   "metadata": {},
   "outputs": [
    {
     "name": "stdout",
     "output_type": "stream",
     "text": [
      "<class 'pandas.core.frame.DataFrame'>\n",
      "Int64Index: 40031 entries, 0 to 119105\n",
      "Data columns (total 22 columns):\n",
      " #   Column                 Non-Null Count  Dtype  \n",
      "---  ------                 --------------  -----  \n",
      " 0   ProductID              40031 non-null  int64  \n",
      " 1   ListPrice              40031 non-null  object \n",
      " 2   StandardCost           40031 non-null  object \n",
      " 3   Color                  40031 non-null  object \n",
      " 4   Size                   40031 non-null  object \n",
      " 5   SizeUnitMeasureCode    40031 non-null  object \n",
      " 6   Weight                 40031 non-null  float64\n",
      " 7   WeightUnitMeasureCode  40031 non-null  object \n",
      " 8   Style                  40031 non-null  object \n",
      " 9   class                  40031 non-null  object \n",
      " 10  SubName                40031 non-null  object \n",
      " 11  CatName                40031 non-null  object \n",
      " 12  UnitPrice              40031 non-null  object \n",
      " 13  UnitPriceDiscount      40031 non-null  object \n",
      " 14  OrderQty               40031 non-null  int64  \n",
      " 15  TotalDue               40031 non-null  object \n",
      " 16  SubTotal               40031 non-null  object \n",
      " 17  TerritoryID            40031 non-null  int64  \n",
      " 18  OnlineOrderFlag        40031 non-null  int64  \n",
      " 19  Status                 40031 non-null  int64  \n",
      " 20  SellStartDate          40031 non-null  object \n",
      " 21  SellEndDate            13000 non-null  object \n",
      "dtypes: float64(1), int64(5), object(16)\n",
      "memory usage: 7.0+ MB\n"
     ]
    }
   ],
   "source": [
    "Bikes.info()"
   ]
  },
  {
   "cell_type": "code",
   "execution_count": 7,
   "id": "1603bca1",
   "metadata": {},
   "outputs": [
    {
     "name": "stderr",
     "output_type": "stream",
     "text": [
      "<ipython-input-7-bdd1009d7764>:1: SettingWithCopyWarning: \n",
      "A value is trying to be set on a copy of a slice from a DataFrame.\n",
      "Try using .loc[row_indexer,col_indexer] = value instead\n",
      "\n",
      "See the caveats in the documentation: https://pandas.pydata.org/pandas-docs/stable/user_guide/indexing.html#returning-a-view-versus-a-copy\n",
      "  Bikes['UnitPrice'] = Bikes[['UnitPrice']].applymap(lambda x: str(x.replace(',','.'))).astype('float')\n",
      "<ipython-input-7-bdd1009d7764>:2: SettingWithCopyWarning: \n",
      "A value is trying to be set on a copy of a slice from a DataFrame.\n",
      "Try using .loc[row_indexer,col_indexer] = value instead\n",
      "\n",
      "See the caveats in the documentation: https://pandas.pydata.org/pandas-docs/stable/user_guide/indexing.html#returning-a-view-versus-a-copy\n",
      "  Bikes['StandardCost'] = Bikes[['StandardCost']].applymap(lambda x: str(x.replace(',','.'))).astype('float')\n",
      "<ipython-input-7-bdd1009d7764>:3: SettingWithCopyWarning: \n",
      "A value is trying to be set on a copy of a slice from a DataFrame.\n",
      "Try using .loc[row_indexer,col_indexer] = value instead\n",
      "\n",
      "See the caveats in the documentation: https://pandas.pydata.org/pandas-docs/stable/user_guide/indexing.html#returning-a-view-versus-a-copy\n",
      "  Bikes['UnitPriceDiscount'] = Bikes[['UnitPriceDiscount']].applymap(lambda x: str(x.replace(',','.'))).astype('float')\n"
     ]
    }
   ],
   "source": [
    "Bikes['UnitPrice'] = Bikes[['UnitPrice']].applymap(lambda x: str(x.replace(',','.'))).astype('float')\n",
    "Bikes['StandardCost'] = Bikes[['StandardCost']].applymap(lambda x: str(x.replace(',','.'))).astype('float')\n",
    "Bikes['UnitPriceDiscount'] = Bikes[['UnitPriceDiscount']].applymap(lambda x: str(x.replace(',','.'))).astype('float')"
   ]
  },
  {
   "cell_type": "code",
   "execution_count": 8,
   "id": "c399e96b",
   "metadata": {},
   "outputs": [
    {
     "name": "stderr",
     "output_type": "stream",
     "text": [
      "<ipython-input-8-9224e905b531>:1: SettingWithCopyWarning: \n",
      "A value is trying to be set on a copy of a slice from a DataFrame.\n",
      "Try using .loc[row_indexer,col_indexer] = value instead\n",
      "\n",
      "See the caveats in the documentation: https://pandas.pydata.org/pandas-docs/stable/user_guide/indexing.html#returning-a-view-versus-a-copy\n",
      "  Bikes['AmtOfSale'] = Bikes['UnitPrice'] * Bikes['OrderQty'] * (1-Bikes['UnitPriceDiscount'])\n",
      "<ipython-input-8-9224e905b531>:2: SettingWithCopyWarning: \n",
      "A value is trying to be set on a copy of a slice from a DataFrame.\n",
      "Try using .loc[row_indexer,col_indexer] = value instead\n",
      "\n",
      "See the caveats in the documentation: https://pandas.pydata.org/pandas-docs/stable/user_guide/indexing.html#returning-a-view-versus-a-copy\n",
      "  Bikes['GrossProfit'] = Bikes['AmtOfSale'] - (Bikes['StandardCost']) * Bikes['OrderQty']\n"
     ]
    }
   ],
   "source": [
    "Bikes['AmtOfSale'] = Bikes['UnitPrice'] * Bikes['OrderQty'] * (1-Bikes['UnitPriceDiscount'])\n",
    "Bikes['GrossProfit'] = Bikes['AmtOfSale'] - (Bikes['StandardCost']) * Bikes['OrderQty']"
   ]
  },
  {
   "cell_type": "code",
   "execution_count": 9,
   "id": "4f7b555f",
   "metadata": {},
   "outputs": [
    {
     "data": {
      "text/html": [
       "<div>\n",
       "<style scoped>\n",
       "    .dataframe tbody tr th:only-of-type {\n",
       "        vertical-align: middle;\n",
       "    }\n",
       "\n",
       "    .dataframe tbody tr th {\n",
       "        vertical-align: top;\n",
       "    }\n",
       "\n",
       "    .dataframe thead th {\n",
       "        text-align: right;\n",
       "    }\n",
       "</style>\n",
       "<table border=\"1\" class=\"dataframe\">\n",
       "  <thead>\n",
       "    <tr style=\"text-align: right;\">\n",
       "      <th></th>\n",
       "      <th>ProductID</th>\n",
       "      <th>ListPrice</th>\n",
       "      <th>StandardCost</th>\n",
       "      <th>Color</th>\n",
       "      <th>Size</th>\n",
       "      <th>SizeUnitMeasureCode</th>\n",
       "      <th>Weight</th>\n",
       "      <th>WeightUnitMeasureCode</th>\n",
       "      <th>Style</th>\n",
       "      <th>class</th>\n",
       "      <th>SubName</th>\n",
       "      <th>CatName</th>\n",
       "      <th>UnitPrice</th>\n",
       "      <th>UnitPriceDiscount</th>\n",
       "      <th>OrderQty</th>\n",
       "      <th>TotalDue</th>\n",
       "      <th>SubTotal</th>\n",
       "      <th>TerritoryID</th>\n",
       "      <th>OnlineOrderFlag</th>\n",
       "      <th>Status</th>\n",
       "      <th>SellStartDate</th>\n",
       "      <th>SellEndDate</th>\n",
       "      <th>AmtOfSale</th>\n",
       "      <th>GrossProfit</th>\n",
       "    </tr>\n",
       "  </thead>\n",
       "  <tbody>\n",
       "    <tr>\n",
       "      <th>0</th>\n",
       "      <td>776</td>\n",
       "      <td>3374,99</td>\n",
       "      <td>1898.0944</td>\n",
       "      <td>Black</td>\n",
       "      <td>42</td>\n",
       "      <td>CM</td>\n",
       "      <td>20.77</td>\n",
       "      <td>LB</td>\n",
       "      <td>U</td>\n",
       "      <td>H</td>\n",
       "      <td>Mountain Bikes</td>\n",
       "      <td>Bikes</td>\n",
       "      <td>2024.994</td>\n",
       "      <td>0.0</td>\n",
       "      <td>1</td>\n",
       "      <td>23153,2339</td>\n",
       "      <td>20565,6206</td>\n",
       "      <td>5</td>\n",
       "      <td>0</td>\n",
       "      <td>5</td>\n",
       "      <td>2011-05-31 00:00:00.000</td>\n",
       "      <td>2012-05-29 00:00:00.000</td>\n",
       "      <td>2024.994</td>\n",
       "      <td>126.8996</td>\n",
       "    </tr>\n",
       "    <tr>\n",
       "      <th>1</th>\n",
       "      <td>777</td>\n",
       "      <td>3374,99</td>\n",
       "      <td>1898.0944</td>\n",
       "      <td>Black</td>\n",
       "      <td>44</td>\n",
       "      <td>CM</td>\n",
       "      <td>21.13</td>\n",
       "      <td>LB</td>\n",
       "      <td>U</td>\n",
       "      <td>H</td>\n",
       "      <td>Mountain Bikes</td>\n",
       "      <td>Bikes</td>\n",
       "      <td>2024.994</td>\n",
       "      <td>0.0</td>\n",
       "      <td>3</td>\n",
       "      <td>23153,2339</td>\n",
       "      <td>20565,6206</td>\n",
       "      <td>5</td>\n",
       "      <td>0</td>\n",
       "      <td>5</td>\n",
       "      <td>2011-05-31 00:00:00.000</td>\n",
       "      <td>2012-05-29 00:00:00.000</td>\n",
       "      <td>6074.982</td>\n",
       "      <td>380.6988</td>\n",
       "    </tr>\n",
       "    <tr>\n",
       "      <th>2</th>\n",
       "      <td>778</td>\n",
       "      <td>3374,99</td>\n",
       "      <td>1898.0944</td>\n",
       "      <td>Black</td>\n",
       "      <td>48</td>\n",
       "      <td>CM</td>\n",
       "      <td>21.42</td>\n",
       "      <td>LB</td>\n",
       "      <td>U</td>\n",
       "      <td>H</td>\n",
       "      <td>Mountain Bikes</td>\n",
       "      <td>Bikes</td>\n",
       "      <td>2024.994</td>\n",
       "      <td>0.0</td>\n",
       "      <td>1</td>\n",
       "      <td>23153,2339</td>\n",
       "      <td>20565,6206</td>\n",
       "      <td>5</td>\n",
       "      <td>0</td>\n",
       "      <td>5</td>\n",
       "      <td>2011-05-31 00:00:00.000</td>\n",
       "      <td>2012-05-29 00:00:00.000</td>\n",
       "      <td>2024.994</td>\n",
       "      <td>126.8996</td>\n",
       "    </tr>\n",
       "    <tr>\n",
       "      <th>3</th>\n",
       "      <td>771</td>\n",
       "      <td>3399,99</td>\n",
       "      <td>1912.1544</td>\n",
       "      <td>Silver</td>\n",
       "      <td>38</td>\n",
       "      <td>CM</td>\n",
       "      <td>20.35</td>\n",
       "      <td>LB</td>\n",
       "      <td>U</td>\n",
       "      <td>H</td>\n",
       "      <td>Mountain Bikes</td>\n",
       "      <td>Bikes</td>\n",
       "      <td>2039.994</td>\n",
       "      <td>0.0</td>\n",
       "      <td>1</td>\n",
       "      <td>23153,2339</td>\n",
       "      <td>20565,6206</td>\n",
       "      <td>5</td>\n",
       "      <td>0</td>\n",
       "      <td>5</td>\n",
       "      <td>2011-05-31 00:00:00.000</td>\n",
       "      <td>2012-05-29 00:00:00.000</td>\n",
       "      <td>2039.994</td>\n",
       "      <td>127.8396</td>\n",
       "    </tr>\n",
       "    <tr>\n",
       "      <th>4</th>\n",
       "      <td>772</td>\n",
       "      <td>3399,99</td>\n",
       "      <td>1912.1544</td>\n",
       "      <td>Silver</td>\n",
       "      <td>42</td>\n",
       "      <td>CM</td>\n",
       "      <td>20.77</td>\n",
       "      <td>LB</td>\n",
       "      <td>U</td>\n",
       "      <td>H</td>\n",
       "      <td>Mountain Bikes</td>\n",
       "      <td>Bikes</td>\n",
       "      <td>2039.994</td>\n",
       "      <td>0.0</td>\n",
       "      <td>1</td>\n",
       "      <td>23153,2339</td>\n",
       "      <td>20565,6206</td>\n",
       "      <td>5</td>\n",
       "      <td>0</td>\n",
       "      <td>5</td>\n",
       "      <td>2011-05-31 00:00:00.000</td>\n",
       "      <td>2012-05-29 00:00:00.000</td>\n",
       "      <td>2039.994</td>\n",
       "      <td>127.8396</td>\n",
       "    </tr>\n",
       "  </tbody>\n",
       "</table>\n",
       "</div>"
      ],
      "text/plain": [
       "   ProductID ListPrice  StandardCost   Color Size SizeUnitMeasureCode  Weight  \\\n",
       "0        776   3374,99     1898.0944   Black   42                 CM    20.77   \n",
       "1        777   3374,99     1898.0944   Black   44                 CM    21.13   \n",
       "2        778   3374,99     1898.0944   Black   48                 CM    21.42   \n",
       "3        771   3399,99     1912.1544  Silver   38                 CM    20.35   \n",
       "4        772   3399,99     1912.1544  Silver   42                 CM    20.77   \n",
       "\n",
       "  WeightUnitMeasureCode Style class         SubName CatName  UnitPrice  \\\n",
       "0                   LB     U     H   Mountain Bikes   Bikes   2024.994   \n",
       "1                   LB     U     H   Mountain Bikes   Bikes   2024.994   \n",
       "2                   LB     U     H   Mountain Bikes   Bikes   2024.994   \n",
       "3                   LB     U     H   Mountain Bikes   Bikes   2039.994   \n",
       "4                   LB     U     H   Mountain Bikes   Bikes   2039.994   \n",
       "\n",
       "   UnitPriceDiscount  OrderQty    TotalDue    SubTotal  TerritoryID  \\\n",
       "0                0.0         1  23153,2339  20565,6206            5   \n",
       "1                0.0         3  23153,2339  20565,6206            5   \n",
       "2                0.0         1  23153,2339  20565,6206            5   \n",
       "3                0.0         1  23153,2339  20565,6206            5   \n",
       "4                0.0         1  23153,2339  20565,6206            5   \n",
       "\n",
       "   OnlineOrderFlag  Status            SellStartDate              SellEndDate  \\\n",
       "0                0       5  2011-05-31 00:00:00.000  2012-05-29 00:00:00.000   \n",
       "1                0       5  2011-05-31 00:00:00.000  2012-05-29 00:00:00.000   \n",
       "2                0       5  2011-05-31 00:00:00.000  2012-05-29 00:00:00.000   \n",
       "3                0       5  2011-05-31 00:00:00.000  2012-05-29 00:00:00.000   \n",
       "4                0       5  2011-05-31 00:00:00.000  2012-05-29 00:00:00.000   \n",
       "\n",
       "   AmtOfSale  GrossProfit  \n",
       "0   2024.994     126.8996  \n",
       "1   6074.982     380.6988  \n",
       "2   2024.994     126.8996  \n",
       "3   2039.994     127.8396  \n",
       "4   2039.994     127.8396  "
      ]
     },
     "execution_count": 9,
     "metadata": {},
     "output_type": "execute_result"
    }
   ],
   "source": [
    "Bikes.head(5)"
   ]
  },
  {
   "cell_type": "code",
   "execution_count": 10,
   "id": "62aece00",
   "metadata": {},
   "outputs": [
    {
     "data": {
      "text/plain": [
       "<AxesSubplot:xlabel='SubName', ylabel='GrossProfit'>"
      ]
     },
     "execution_count": 10,
     "metadata": {},
     "output_type": "execute_result"
    },
    {
     "data": {
      "image/png": "[encoded data removed]",
      "text/plain": [
       "<Figure size 864x576 with 1 Axes>"
      ]
     },
     "metadata": {
      "needs_background": "light"
     },
     "output_type": "display_data"
    }
   ],
   "source": [
    "# Gross PRofit by cat Name split into class grups of bike form L-Low to H-High\n",
    "plt.figure(figsize=(12,8))\n",
    "sns.boxplot(x=\"SubName\", y=\"GrossProfit\", hue='class',data=Bikes)"
   ]
  },
  {
   "cell_type": "markdown",
   "id": "0f652784",
   "metadata": {},
   "source": [
    "This chart will not show as anythig clear becouse of many outliers"
   ]
  },
  {
   "cell_type": "code",
   "execution_count": 11,
   "id": "6e14753f",
   "metadata": {},
   "outputs": [],
   "source": [
    "negativeProfit = Bikes[Bikes['GrossProfit']<0]"
   ]
  },
  {
   "cell_type": "markdown",
   "id": "bb127df9",
   "metadata": {},
   "source": [
    "There is 19 340 order where shop get negative profit from selling"
   ]
  },
  {
   "cell_type": "code",
   "execution_count": 12,
   "id": "ad7b17f2",
   "metadata": {},
   "outputs": [
    {
     "data": {
      "text/plain": [
       "1366"
      ]
     },
     "execution_count": 12,
     "metadata": {},
     "output_type": "execute_result"
    }
   ],
   "source": [
    "negativeProfitDiscount = negativeProfit[negativeProfit['UnitPriceDiscount']>0]\n",
    "len(negativeProfitDiscount)"
   ]
  },
  {
   "cell_type": "markdown",
   "id": "70b328f1",
   "metadata": {},
   "source": [
    "1 366 of them has been sold on discount"
   ]
  },
  {
   "cell_type": "markdown",
   "id": "8f6332f3",
   "metadata": {},
   "source": [
    "# Which bikes are unprfitable?"
   ]
  },
  {
   "cell_type": "code",
   "execution_count": 13,
   "id": "1e2bede8",
   "metadata": {},
   "outputs": [],
   "source": [
    "BikesProfit = Bikes[['GrossProfit','ProductID', 'SubName']].groupby(['ProductID', 'SubName'])['GrossProfit'].sum().rename({0:'gross'})"
   ]
  },
  {
   "cell_type": "code",
   "execution_count": 14,
   "id": "b5abe6a0",
   "metadata": {},
   "outputs": [],
   "source": [
    "UnprofitableBikes = pd.DataFrame(BikesProfit[BikesProfit<0].sort_values())"
   ]
  },
  {
   "cell_type": "code",
   "execution_count": 15,
   "id": "c4f29f37",
   "metadata": {},
   "outputs": [],
   "source": [
    "UnprofitableBikes.reset_index(inplace=True)"
   ]
  },
  {
   "cell_type": "code",
   "execution_count": 16,
   "id": "bdb4e425",
   "metadata": {},
   "outputs": [
    {
     "data": {
      "text/plain": [
       "<AxesSubplot:xlabel='SubName', ylabel='count'>"
      ]
     },
     "execution_count": 16,
     "metadata": {},
     "output_type": "execute_result"
    },
    {
     "data": {
      "image/png": "[encoded data removed]",
      "text/plain": [
       "<Figure size 432x288 with 1 Axes>"
      ]
     },
     "metadata": {
      "needs_background": "light"
     },
     "output_type": "display_data"
    }
   ],
   "source": [
    "sns.countplot(x=\"SubName\", data=UnprofitableBikes)"
   ]
  },
  {
   "cell_type": "markdown",
   "id": "4dc75082",
   "metadata": {},
   "source": [
    "There is 18 Road Bikes which gives negative profit to the shop, and 10 Touring Bikes which no ptofit"
   ]
  },
  {
   "cell_type": "markdown",
   "id": "828e5e18",
   "metadata": {},
   "source": [
    "In the future I will try to find out why some of products are unprofitable:\n",
    "- is it becouse there was to high discount?\n",
    "- is it becouse shop cut the price becouse they want to discard the product at all?"
   ]
  },
  {
   "cell_type": "code",
   "execution_count": 17,
   "id": "5962205f",
   "metadata": {},
   "outputs": [
    {
     "data": {
      "text/plain": [
       "<AxesSubplot:xlabel='SubName', ylabel='GrossProfit'>"
      ]
     },
     "execution_count": 17,
     "metadata": {},
     "output_type": "execute_result"
    },
    {
     "data": {
      "image/png": "[encoded data removed]",
      "text/plain": [
       "<Figure size 1152x576 with 1 Axes>"
      ]
     },
     "metadata": {
      "needs_background": "light"
     },
     "output_type": "display_data"
    }
   ],
   "source": [
    "# Gross PRofit by cat Name split into user style like M-Man, W-Woman U-Unisex\n",
    "plt.figure(figsize=(16,8))\n",
    "sns.boxplot(x=\"SubName\", y=\"GrossProfit\", hue='Style',data=Bikes)"
   ]
  },
  {
   "cell_type": "code",
   "execution_count": 12,
   "id": "6a1cc467",
   "metadata": {},
   "outputs": [
    {
     "data": {
      "text/plain": [
       "<AxesSubplot:xlabel='SubName', ylabel='AmtOfSale'>"
      ]
     },
     "execution_count": 12,
     "metadata": {},
     "output_type": "execute_result"
    },
    {
     "data": {
      "image/png": "[encoded data removed]",
      "text/plain": [
       "<Figure size 1152x576 with 1 Axes>"
      ]
     },
     "metadata": {
      "needs_background": "light"
     },
     "output_type": "display_data"
    }
   ],
   "source": [
    "# AmtOfSale by cat Name split into class grups of bike form L-Low to H-High\n",
    "plt.figure(figsize=(16,8))\n",
    "sns.boxplot(x=\"SubName\", y=\"AmtOfSale\", hue='class',data=Bikes)"
   ]
  },
  {
   "cell_type": "code",
   "execution_count": 13,
   "id": "6271babb",
   "metadata": {},
   "outputs": [
    {
     "data": {
      "text/plain": [
       "<AxesSubplot:xlabel='SubName', ylabel='AmtOfSale'>"
      ]
     },
     "execution_count": 13,
     "metadata": {},
     "output_type": "execute_result"
    },
    {
     "data": {
      "image/png": "[encoded data removed]",
      "text/plain": [
       "<Figure size 1152x576 with 1 Axes>"
      ]
     },
     "metadata": {
      "needs_background": "light"
     },
     "output_type": "display_data"
    }
   ],
   "source": [
    "# AmtOfSale by cat Name split into user style like M-Man, W-Woman U-Unisex\n",
    "plt.figure(figsize=(16,8))\n",
    "sns.boxplot(x=\"SubName\", y=\"AmtOfSale\", hue='Style',data=Bikes)"
   ]
  },
  {
   "cell_type": "markdown",
   "id": "348e187a",
   "metadata": {},
   "source": [
    "## Let's count ROI and repeate calc\n",
    "\n",
    "I think taking grossprofit is quite unfair becouse there is different quntity of orders in each sales. ROI = Standard cost * quantity (divided by) gross prfit. Thanks that we get the absolute value for each bike "
   ]
  },
  {
   "cell_type": "code",
   "execution_count": 18,
   "id": "3e3c906e",
   "metadata": {},
   "outputs": [
    {
     "name": "stderr",
     "output_type": "stream",
     "text": [
      "<ipython-input-18-64dedac07269>:1: SettingWithCopyWarning: \n",
      "A value is trying to be set on a copy of a slice from a DataFrame.\n",
      "Try using .loc[row_indexer,col_indexer] = value instead\n",
      "\n",
      "See the caveats in the documentation: https://pandas.pydata.org/pandas-docs/stable/user_guide/indexing.html#returning-a-view-versus-a-copy\n",
      "  Bikes['ROI'] = Bikes['GrossProfit'] / (Bikes['StandardCost'] * Bikes['OrderQty'])\n"
     ]
    }
   ],
   "source": [
    "Bikes['ROI'] = Bikes['GrossProfit'] / (Bikes['StandardCost'] * Bikes['OrderQty'])"
   ]
  },
  {
   "cell_type": "code",
   "execution_count": 20,
   "id": "bc7617d9",
   "metadata": {},
   "outputs": [
    {
     "data": {
      "text/plain": [
       "<AxesSubplot:xlabel='SubName', ylabel='ROI'>"
      ]
     },
     "execution_count": 20,
     "metadata": {},
     "output_type": "execute_result"
    },
    {
     "data": {
      "image/png": "[encoded data removed]",
      "text/plain": [
       "<Figure size 1152x576 with 1 Axes>"
      ]
     },
     "metadata": {
      "needs_background": "light"
     },
     "output_type": "display_data"
    }
   ],
   "source": [
    "plt.figure(figsize=(16,8))\n",
    "sns.boxplot(x=\"SubName\", y=\"ROI\", hue='class',data=Bikes)"
   ]
  },
  {
   "cell_type": "code",
   "execution_count": 16,
   "id": "c6876cb7",
   "metadata": {},
   "outputs": [
    {
     "data": {
      "text/plain": [
       "<AxesSubplot:xlabel='SubName', ylabel='ROI'>"
      ]
     },
     "execution_count": 16,
     "metadata": {},
     "output_type": "execute_result"
    },
    {
     "data": {
      "image/png": "[encoded data removed]",
      "text/plain": [
       "<Figure size 1152x576 with 1 Axes>"
      ]
     },
     "metadata": {
      "needs_background": "light"
     },
     "output_type": "display_data"
    }
   ],
   "source": [
    "plt.figure(figsize=(16,8))\n",
    "sns.boxplot(x=\"SubName\", y=\"ROI\", hue='Style',data=Bikes)"
   ]
  },
  {
   "cell_type": "markdown",
   "id": "5b9f21a7",
   "metadata": {},
   "source": [
    "# Let's check what is quantity of orders in diff subcat"
   ]
  },
  {
   "cell_type": "code",
   "execution_count": 17,
   "id": "31204612",
   "metadata": {},
   "outputs": [
    {
     "data": {
      "text/plain": [
       "<AxesSubplot:xlabel='SubName', ylabel='OrderQty'>"
      ]
     },
     "execution_count": 17,
     "metadata": {},
     "output_type": "execute_result"
    },
    {
     "data": {
      "image/png": "[encoded data removed]",
      "text/plain": [
       "<Figure size 1152x576 with 1 Axes>"
      ]
     },
     "metadata": {
      "needs_background": "light"
     },
     "output_type": "display_data"
    }
   ],
   "source": [
    "plt.figure(figsize=(16,8))\n",
    "sns.boxplot(x=\"SubName\", y=\"OrderQty\", hue='class',data=Bikes)"
   ]
  },
  {
   "cell_type": "code",
   "execution_count": 18,
   "id": "b38e56fe",
   "metadata": {},
   "outputs": [
    {
     "data": {
      "text/plain": [
       "30"
      ]
     },
     "execution_count": 18,
     "metadata": {},
     "output_type": "execute_result"
    }
   ],
   "source": [
    "Bikes['OrderQty'].max()"
   ]
  },
  {
   "cell_type": "markdown",
   "id": "e64f5137",
   "metadata": {},
   "source": [
    "If we look at pure quantity orders we realize that there is single order like 30 bikes. It gives me idea that we have at least 2 clients: individuals and companies. In feature I can check which kind of models sell better to each group of clients, by spliting them into two groups."
   ]
  },
  {
   "cell_type": "markdown",
   "id": "978a35d5",
   "metadata": {},
   "source": [
    "# Now I want to analize the sales by color, size, class and territoryID"
   ]
  },
  {
   "cell_type": "code",
   "execution_count": 19,
   "id": "43949bf0",
   "metadata": {},
   "outputs": [
    {
     "data": {
      "text/plain": [
       "<AxesSubplot:xlabel='Color', ylabel='ROI'>"
      ]
     },
     "execution_count": 19,
     "metadata": {},
     "output_type": "execute_result"
    },
    {
     "data": {
      "image/png": "[encoded data removed]",
      "text/plain": [
       "<Figure size 1152x576 with 1 Axes>"
      ]
     },
     "metadata": {
      "needs_background": "light"
     },
     "output_type": "display_data"
    }
   ],
   "source": [
    "plt.figure(figsize=(16,8))\n",
    "sns.boxplot(x=\"Color\", y=\"ROI\", hue='SubName',data=Bikes)"
   ]
  },
  {
   "cell_type": "code",
   "execution_count": 20,
   "id": "1a4b1605",
   "metadata": {},
   "outputs": [
    {
     "data": {
      "text/plain": [
       "19358"
      ]
     },
     "execution_count": 20,
     "metadata": {},
     "output_type": "execute_result"
    }
   ],
   "source": [
    "Bikes['ROI'].argmax()"
   ]
  },
  {
   "cell_type": "code",
   "execution_count": 101,
   "id": "ebc9306e",
   "metadata": {},
   "outputs": [
    {
     "data": {
      "text/plain": [
       "<AxesSubplot:xlabel='Size', ylabel='ROI'>"
      ]
     },
     "execution_count": 101,
     "metadata": {},
     "output_type": "execute_result"
    },
    {
     "data": {
      "image/png": "[encoded data removed]",
      "text/plain": [
       "<Figure size 1152x576 with 1 Axes>"
      ]
     },
     "metadata": {
      "needs_background": "light"
     },
     "output_type": "display_data"
    }
   ],
   "source": [
    "plt.figure(figsize=(16,8))\n",
    "sns.boxplot(x=\"Size\", y=\"ROI\", hue='SubName',data=Bikes)"
   ]
  },
  {
   "cell_type": "code",
   "execution_count": 102,
   "id": "5097b048",
   "metadata": {},
   "outputs": [
    {
     "data": {
      "text/plain": [
       "<AxesSubplot:xlabel='class', ylabel='ROI'>"
      ]
     },
     "execution_count": 102,
     "metadata": {},
     "output_type": "execute_result"
    },
    {
     "data": {
      "image/png": "[encoded data removed]",
      "text/plain": [
       "<Figure size 1152x576 with 1 Axes>"
      ]
     },
     "metadata": {
      "needs_background": "light"
     },
     "output_type": "display_data"
    }
   ],
   "source": [
    "plt.figure(figsize=(16,8))\n",
    "sns.boxplot(x=\"class\", y=\"ROI\", hue='SubName',data=Bikes)"
   ]
  },
  {
   "cell_type": "code",
   "execution_count": 103,
   "id": "ac8ead38",
   "metadata": {},
   "outputs": [
    {
     "data": {
      "text/plain": [
       "<AxesSubplot:xlabel='Style', ylabel='ROI'>"
      ]
     },
     "execution_count": 103,
     "metadata": {},
     "output_type": "execute_result"
    },
    {
     "data": {
      "image/png": "[encoded data removed]",
      "text/plain": [
       "<Figure size 1152x576 with 1 Axes>"
      ]
     },
     "metadata": {
      "needs_background": "light"
     },
     "output_type": "display_data"
    }
   ],
   "source": [
    "plt.figure(figsize=(16,8))\n",
    "sns.boxplot(x=\"Style\", y=\"ROI\", hue='SubName',data=Bikes)"
   ]
  },
  {
   "cell_type": "code",
   "execution_count": 104,
   "id": "f14667c6",
   "metadata": {},
   "outputs": [
    {
     "data": {
      "text/html": [
       "<div>\n",
       "<style scoped>\n",
       "    .dataframe tbody tr th:only-of-type {\n",
       "        vertical-align: middle;\n",
       "    }\n",
       "\n",
       "    .dataframe tbody tr th {\n",
       "        vertical-align: top;\n",
       "    }\n",
       "\n",
       "    .dataframe thead th {\n",
       "        text-align: right;\n",
       "    }\n",
       "</style>\n",
       "<table border=\"1\" class=\"dataframe\">\n",
       "  <thead>\n",
       "    <tr style=\"text-align: right;\">\n",
       "      <th></th>\n",
       "      <th>ProductID</th>\n",
       "      <th>ListPrice</th>\n",
       "      <th>StandardCost</th>\n",
       "      <th>Color</th>\n",
       "      <th>Size</th>\n",
       "      <th>SizeUnitMeasureCode</th>\n",
       "      <th>Weight</th>\n",
       "      <th>WeightUnitMeasureCode</th>\n",
       "      <th>Style</th>\n",
       "      <th>class</th>\n",
       "      <th>SubName</th>\n",
       "      <th>CatName</th>\n",
       "      <th>UnitPrice</th>\n",
       "      <th>UnitPriceDiscount</th>\n",
       "      <th>OrderQty</th>\n",
       "      <th>TotalDue</th>\n",
       "      <th>SubTotal</th>\n",
       "      <th>TerritoryID</th>\n",
       "      <th>OnlineOrderFlag</th>\n",
       "      <th>Status</th>\n",
       "      <th>SellStartDate</th>\n",
       "      <th>SellEndDate</th>\n",
       "      <th>AmtOfSale</th>\n",
       "      <th>GrossProfit</th>\n",
       "      <th>ROI</th>\n",
       "    </tr>\n",
       "  </thead>\n",
       "  <tbody>\n",
       "    <tr>\n",
       "      <th>0</th>\n",
       "      <td>776</td>\n",
       "      <td>3374,99</td>\n",
       "      <td>1898.0944</td>\n",
       "      <td>Black</td>\n",
       "      <td>42</td>\n",
       "      <td>CM</td>\n",
       "      <td>20.77</td>\n",
       "      <td>LB</td>\n",
       "      <td>U</td>\n",
       "      <td>H</td>\n",
       "      <td>Mountain Bikes</td>\n",
       "      <td>Bikes</td>\n",
       "      <td>2024.994</td>\n",
       "      <td>0.0</td>\n",
       "      <td>1</td>\n",
       "      <td>23153,2339</td>\n",
       "      <td>20565,6206</td>\n",
       "      <td>5</td>\n",
       "      <td>0</td>\n",
       "      <td>5</td>\n",
       "      <td>2011-05-31 00:00:00.000</td>\n",
       "      <td>2012-05-29 00:00:00.000</td>\n",
       "      <td>2024.994</td>\n",
       "      <td>126.8996</td>\n",
       "      <td>0.066856</td>\n",
       "    </tr>\n",
       "    <tr>\n",
       "      <th>1</th>\n",
       "      <td>777</td>\n",
       "      <td>3374,99</td>\n",
       "      <td>1898.0944</td>\n",
       "      <td>Black</td>\n",
       "      <td>44</td>\n",
       "      <td>CM</td>\n",
       "      <td>21.13</td>\n",
       "      <td>LB</td>\n",
       "      <td>U</td>\n",
       "      <td>H</td>\n",
       "      <td>Mountain Bikes</td>\n",
       "      <td>Bikes</td>\n",
       "      <td>2024.994</td>\n",
       "      <td>0.0</td>\n",
       "      <td>3</td>\n",
       "      <td>23153,2339</td>\n",
       "      <td>20565,6206</td>\n",
       "      <td>5</td>\n",
       "      <td>0</td>\n",
       "      <td>5</td>\n",
       "      <td>2011-05-31 00:00:00.000</td>\n",
       "      <td>2012-05-29 00:00:00.000</td>\n",
       "      <td>6074.982</td>\n",
       "      <td>380.6988</td>\n",
       "      <td>0.066856</td>\n",
       "    </tr>\n",
       "    <tr>\n",
       "      <th>2</th>\n",
       "      <td>778</td>\n",
       "      <td>3374,99</td>\n",
       "      <td>1898.0944</td>\n",
       "      <td>Black</td>\n",
       "      <td>48</td>\n",
       "      <td>CM</td>\n",
       "      <td>21.42</td>\n",
       "      <td>LB</td>\n",
       "      <td>U</td>\n",
       "      <td>H</td>\n",
       "      <td>Mountain Bikes</td>\n",
       "      <td>Bikes</td>\n",
       "      <td>2024.994</td>\n",
       "      <td>0.0</td>\n",
       "      <td>1</td>\n",
       "      <td>23153,2339</td>\n",
       "      <td>20565,6206</td>\n",
       "      <td>5</td>\n",
       "      <td>0</td>\n",
       "      <td>5</td>\n",
       "      <td>2011-05-31 00:00:00.000</td>\n",
       "      <td>2012-05-29 00:00:00.000</td>\n",
       "      <td>2024.994</td>\n",
       "      <td>126.8996</td>\n",
       "      <td>0.066856</td>\n",
       "    </tr>\n",
       "    <tr>\n",
       "      <th>3</th>\n",
       "      <td>771</td>\n",
       "      <td>3399,99</td>\n",
       "      <td>1912.1544</td>\n",
       "      <td>Silver</td>\n",
       "      <td>38</td>\n",
       "      <td>CM</td>\n",
       "      <td>20.35</td>\n",
       "      <td>LB</td>\n",
       "      <td>U</td>\n",
       "      <td>H</td>\n",
       "      <td>Mountain Bikes</td>\n",
       "      <td>Bikes</td>\n",
       "      <td>2039.994</td>\n",
       "      <td>0.0</td>\n",
       "      <td>1</td>\n",
       "      <td>23153,2339</td>\n",
       "      <td>20565,6206</td>\n",
       "      <td>5</td>\n",
       "      <td>0</td>\n",
       "      <td>5</td>\n",
       "      <td>2011-05-31 00:00:00.000</td>\n",
       "      <td>2012-05-29 00:00:00.000</td>\n",
       "      <td>2039.994</td>\n",
       "      <td>127.8396</td>\n",
       "      <td>0.066856</td>\n",
       "    </tr>\n",
       "    <tr>\n",
       "      <th>4</th>\n",
       "      <td>772</td>\n",
       "      <td>3399,99</td>\n",
       "      <td>1912.1544</td>\n",
       "      <td>Silver</td>\n",
       "      <td>42</td>\n",
       "      <td>CM</td>\n",
       "      <td>20.77</td>\n",
       "      <td>LB</td>\n",
       "      <td>U</td>\n",
       "      <td>H</td>\n",
       "      <td>Mountain Bikes</td>\n",
       "      <td>Bikes</td>\n",
       "      <td>2039.994</td>\n",
       "      <td>0.0</td>\n",
       "      <td>1</td>\n",
       "      <td>23153,2339</td>\n",
       "      <td>20565,6206</td>\n",
       "      <td>5</td>\n",
       "      <td>0</td>\n",
       "      <td>5</td>\n",
       "      <td>2011-05-31 00:00:00.000</td>\n",
       "      <td>2012-05-29 00:00:00.000</td>\n",
       "      <td>2039.994</td>\n",
       "      <td>127.8396</td>\n",
       "      <td>0.066856</td>\n",
       "    </tr>\n",
       "    <tr>\n",
       "      <th>...</th>\n",
       "      <td>...</td>\n",
       "      <td>...</td>\n",
       "      <td>...</td>\n",
       "      <td>...</td>\n",
       "      <td>...</td>\n",
       "      <td>...</td>\n",
       "      <td>...</td>\n",
       "      <td>...</td>\n",
       "      <td>...</td>\n",
       "      <td>...</td>\n",
       "      <td>...</td>\n",
       "      <td>...</td>\n",
       "      <td>...</td>\n",
       "      <td>...</td>\n",
       "      <td>...</td>\n",
       "      <td>...</td>\n",
       "      <td>...</td>\n",
       "      <td>...</td>\n",
       "      <td>...</td>\n",
       "      <td>...</td>\n",
       "      <td>...</td>\n",
       "      <td>...</td>\n",
       "      <td>...</td>\n",
       "      <td>...</td>\n",
       "      <td>...</td>\n",
       "    </tr>\n",
       "    <tr>\n",
       "      <th>119097</th>\n",
       "      <td>999</td>\n",
       "      <td>539,99</td>\n",
       "      <td>343.6496</td>\n",
       "      <td>Black</td>\n",
       "      <td>52</td>\n",
       "      <td>CM</td>\n",
       "      <td>20.42</td>\n",
       "      <td>LB</td>\n",
       "      <td>U</td>\n",
       "      <td>L</td>\n",
       "      <td>Road Bikes</td>\n",
       "      <td>Bikes</td>\n",
       "      <td>539.990</td>\n",
       "      <td>0.0</td>\n",
       "      <td>1</td>\n",
       "      <td>639,1983</td>\n",
       "      <td>578,46</td>\n",
       "      <td>10</td>\n",
       "      <td>1</td>\n",
       "      <td>5</td>\n",
       "      <td>2013-05-30 00:00:00.000</td>\n",
       "      <td>NaN</td>\n",
       "      <td>539.990</td>\n",
       "      <td>196.3404</td>\n",
       "      <td>0.571339</td>\n",
       "    </tr>\n",
       "    <tr>\n",
       "      <th>119101</th>\n",
       "      <td>967</td>\n",
       "      <td>2384,07</td>\n",
       "      <td>1481.9379</td>\n",
       "      <td>Blue</td>\n",
       "      <td>50</td>\n",
       "      <td>CM</td>\n",
       "      <td>25.42</td>\n",
       "      <td>LB</td>\n",
       "      <td>U</td>\n",
       "      <td>H</td>\n",
       "      <td>Touring Bikes</td>\n",
       "      <td>Bikes</td>\n",
       "      <td>2384.070</td>\n",
       "      <td>0.0</td>\n",
       "      <td>1</td>\n",
       "      <td>2673,0613</td>\n",
       "      <td>2419,06</td>\n",
       "      <td>8</td>\n",
       "      <td>1</td>\n",
       "      <td>5</td>\n",
       "      <td>2013-05-30 00:00:00.000</td>\n",
       "      <td>NaN</td>\n",
       "      <td>2384.070</td>\n",
       "      <td>902.1321</td>\n",
       "      <td>0.608752</td>\n",
       "    </tr>\n",
       "    <tr>\n",
       "      <th>119103</th>\n",
       "      <td>954</td>\n",
       "      <td>2384,07</td>\n",
       "      <td>1481.9379</td>\n",
       "      <td>Yellow</td>\n",
       "      <td>46</td>\n",
       "      <td>CM</td>\n",
       "      <td>25.13</td>\n",
       "      <td>LB</td>\n",
       "      <td>U</td>\n",
       "      <td>H</td>\n",
       "      <td>Touring Bikes</td>\n",
       "      <td>Bikes</td>\n",
       "      <td>2384.070</td>\n",
       "      <td>0.0</td>\n",
       "      <td>1</td>\n",
       "      <td>2634,3974</td>\n",
       "      <td>2384,07</td>\n",
       "      <td>9</td>\n",
       "      <td>1</td>\n",
       "      <td>5</td>\n",
       "      <td>2013-05-30 00:00:00.000</td>\n",
       "      <td>NaN</td>\n",
       "      <td>2384.070</td>\n",
       "      <td>902.1321</td>\n",
       "      <td>0.608752</td>\n",
       "    </tr>\n",
       "    <tr>\n",
       "      <th>119104</th>\n",
       "      <td>977</td>\n",
       "      <td>539,99</td>\n",
       "      <td>343.6496</td>\n",
       "      <td>Black</td>\n",
       "      <td>58</td>\n",
       "      <td>CM</td>\n",
       "      <td>20.79</td>\n",
       "      <td>LB</td>\n",
       "      <td>U</td>\n",
       "      <td>L</td>\n",
       "      <td>Road Bikes</td>\n",
       "      <td>Bikes</td>\n",
       "      <td>539.990</td>\n",
       "      <td>0.0</td>\n",
       "      <td>1</td>\n",
       "      <td>596,689</td>\n",
       "      <td>539,99</td>\n",
       "      <td>9</td>\n",
       "      <td>1</td>\n",
       "      <td>5</td>\n",
       "      <td>2013-05-30 00:00:00.000</td>\n",
       "      <td>NaN</td>\n",
       "      <td>539.990</td>\n",
       "      <td>196.3404</td>\n",
       "      <td>0.571339</td>\n",
       "    </tr>\n",
       "    <tr>\n",
       "      <th>119105</th>\n",
       "      <td>998</td>\n",
       "      <td>539,99</td>\n",
       "      <td>343.6496</td>\n",
       "      <td>Black</td>\n",
       "      <td>48</td>\n",
       "      <td>CM</td>\n",
       "      <td>20.13</td>\n",
       "      <td>LB</td>\n",
       "      <td>U</td>\n",
       "      <td>L</td>\n",
       "      <td>Road Bikes</td>\n",
       "      <td>Bikes</td>\n",
       "      <td>539.990</td>\n",
       "      <td>0.0</td>\n",
       "      <td>1</td>\n",
       "      <td>680,0944</td>\n",
       "      <td>615,47</td>\n",
       "      <td>9</td>\n",
       "      <td>1</td>\n",
       "      <td>5</td>\n",
       "      <td>2013-05-30 00:00:00.000</td>\n",
       "      <td>NaN</td>\n",
       "      <td>539.990</td>\n",
       "      <td>196.3404</td>\n",
       "      <td>0.571339</td>\n",
       "    </tr>\n",
       "  </tbody>\n",
       "</table>\n",
       "<p>40031 rows × 25 columns</p>\n",
       "</div>"
      ],
      "text/plain": [
       "        ProductID ListPrice  StandardCost   Color Size SizeUnitMeasureCode  \\\n",
       "0             776   3374,99     1898.0944   Black   42                 CM    \n",
       "1             777   3374,99     1898.0944   Black   44                 CM    \n",
       "2             778   3374,99     1898.0944   Black   48                 CM    \n",
       "3             771   3399,99     1912.1544  Silver   38                 CM    \n",
       "4             772   3399,99     1912.1544  Silver   42                 CM    \n",
       "...           ...       ...           ...     ...  ...                 ...   \n",
       "119097        999    539,99      343.6496   Black   52                 CM    \n",
       "119101        967   2384,07     1481.9379    Blue   50                 CM    \n",
       "119103        954   2384,07     1481.9379  Yellow   46                 CM    \n",
       "119104        977    539,99      343.6496   Black   58                 CM    \n",
       "119105        998    539,99      343.6496   Black   48                 CM    \n",
       "\n",
       "        Weight WeightUnitMeasureCode Style class         SubName CatName  \\\n",
       "0        20.77                   LB     U     H   Mountain Bikes   Bikes   \n",
       "1        21.13                   LB     U     H   Mountain Bikes   Bikes   \n",
       "2        21.42                   LB     U     H   Mountain Bikes   Bikes   \n",
       "3        20.35                   LB     U     H   Mountain Bikes   Bikes   \n",
       "4        20.77                   LB     U     H   Mountain Bikes   Bikes   \n",
       "...        ...                   ...   ...   ...             ...     ...   \n",
       "119097   20.42                   LB     U     L       Road Bikes   Bikes   \n",
       "119101   25.42                   LB     U     H    Touring Bikes   Bikes   \n",
       "119103   25.13                   LB     U     H    Touring Bikes   Bikes   \n",
       "119104   20.79                   LB     U     L       Road Bikes   Bikes   \n",
       "119105   20.13                   LB     U     L       Road Bikes   Bikes   \n",
       "\n",
       "        UnitPrice  UnitPriceDiscount  OrderQty    TotalDue    SubTotal  \\\n",
       "0        2024.994                0.0         1  23153,2339  20565,6206   \n",
       "1        2024.994                0.0         3  23153,2339  20565,6206   \n",
       "2        2024.994                0.0         1  23153,2339  20565,6206   \n",
       "3        2039.994                0.0         1  23153,2339  20565,6206   \n",
       "4        2039.994                0.0         1  23153,2339  20565,6206   \n",
       "...           ...                ...       ...         ...         ...   \n",
       "119097    539.990                0.0         1    639,1983      578,46   \n",
       "119101   2384.070                0.0         1   2673,0613     2419,06   \n",
       "119103   2384.070                0.0         1   2634,3974     2384,07   \n",
       "119104    539.990                0.0         1     596,689      539,99   \n",
       "119105    539.990                0.0         1    680,0944      615,47   \n",
       "\n",
       "        TerritoryID  OnlineOrderFlag  Status            SellStartDate  \\\n",
       "0                 5                0       5  2011-05-31 00:00:00.000   \n",
       "1                 5                0       5  2011-05-31 00:00:00.000   \n",
       "2                 5                0       5  2011-05-31 00:00:00.000   \n",
       "3                 5                0       5  2011-05-31 00:00:00.000   \n",
       "4                 5                0       5  2011-05-31 00:00:00.000   \n",
       "...             ...              ...     ...                      ...   \n",
       "119097           10                1       5  2013-05-30 00:00:00.000   \n",
       "119101            8                1       5  2013-05-30 00:00:00.000   \n",
       "119103            9                1       5  2013-05-30 00:00:00.000   \n",
       "119104            9                1       5  2013-05-30 00:00:00.000   \n",
       "119105            9                1       5  2013-05-30 00:00:00.000   \n",
       "\n",
       "                    SellEndDate  AmtOfSale  GrossProfit       ROI  \n",
       "0       2012-05-29 00:00:00.000   2024.994     126.8996  0.066856  \n",
       "1       2012-05-29 00:00:00.000   6074.982     380.6988  0.066856  \n",
       "2       2012-05-29 00:00:00.000   2024.994     126.8996  0.066856  \n",
       "3       2012-05-29 00:00:00.000   2039.994     127.8396  0.066856  \n",
       "4       2012-05-29 00:00:00.000   2039.994     127.8396  0.066856  \n",
       "...                         ...        ...          ...       ...  \n",
       "119097                      NaN    539.990     196.3404  0.571339  \n",
       "119101                      NaN   2384.070     902.1321  0.608752  \n",
       "119103                      NaN   2384.070     902.1321  0.608752  \n",
       "119104                      NaN    539.990     196.3404  0.571339  \n",
       "119105                      NaN    539.990     196.3404  0.571339  \n",
       "\n",
       "[40031 rows x 25 columns]"
      ]
     },
     "execution_count": 104,
     "metadata": {},
     "output_type": "execute_result"
    }
   ],
   "source": [
    "Bikes"
   ]
  },
  {
   "cell_type": "code",
   "execution_count": 133,
   "id": "5cb91d59",
   "metadata": {},
   "outputs": [],
   "source": [
    "Bikes.to_csv('AllBikesWithProfit.csv')"
   ]
  },
  {
   "cell_type": "code",
   "execution_count": null,
   "id": "76f4e707",
   "metadata": {},
   "outputs": [],
   "source": []
  },
  {
   "cell_type": "code",
   "execution_count": null,
   "id": "c5437a28",
   "metadata": {},
   "outputs": [],
   "source": []
  },
  {
   "cell_type": "code",
   "execution_count": null,
   "id": "f5777953",
   "metadata": {},
   "outputs": [],
   "source": []
  },
  {
   "cell_type": "code",
   "execution_count": null,
   "id": "58b2ccf6",
   "metadata": {},
   "outputs": [],
   "source": []
  },
  {
   "cell_type": "code",
   "execution_count": null,
   "id": "dd012a08",
   "metadata": {},
   "outputs": [],
   "source": []
  },
  {
   "cell_type": "code",
   "execution_count": null,
   "id": "1a9a75a2",
   "metadata": {},
   "outputs": [],
   "source": []
  },
  {
   "cell_type": "code",
   "execution_count": null,
   "id": "4347d448",
   "metadata": {},
   "outputs": [],
   "source": []
  },
  {
   "cell_type": "code",
   "execution_count": null,
   "id": "d72d02f0",
   "metadata": {},
   "outputs": [],
   "source": []
  },
  {
   "cell_type": "code",
   "execution_count": null,
   "id": "031a6d73",
   "metadata": {},
   "outputs": [],
   "source": []
  },
  {
   "cell_type": "code",
   "execution_count": null,
   "id": "a8b71937",
   "metadata": {},
   "outputs": [],
   "source": []
  },
  {
   "cell_type": "code",
   "execution_count": null,
   "id": "73a8965f",
   "metadata": {},
   "outputs": [],
   "source": []
  },
  {
   "cell_type": "code",
   "execution_count": null,
   "id": "01d024bd",
   "metadata": {},
   "outputs": [],
   "source": []
  }
 ],
 "metadata": {
  "kernelspec": {
   "display_name": "Python 3",
   "language": "python",
   "name": "python3"
  },
  "language_info": {
   "codemirror_mode": {
    "name": "ipython",
    "version": 3
   },
   "file_extension": ".py",
   "mimetype": "text/x-python",
   "name": "python",
   "nbconvert_exporter": "python",
   "pygments_lexer": "ipython3",
   "version": "3.8.8"
  }
 },
 "nbformat": 4,
 "nbformat_minor": 5
}
