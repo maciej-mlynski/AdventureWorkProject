{
 "cells": [
  {
   "cell_type": "code",
   "execution_count": 1,
   "id": "407c6815",
   "metadata": {},
   "outputs": [],
   "source": [
    "import pandas as pd\n",
    "import numpy as np\n",
    "import matplotlib.pyplot as plt\n",
    "%matplotlib inline\n",
    "import seaborn as sns\n",
    "pd.set_option('display.max_columns', None)"
   ]
  },
  {
   "cell_type": "code",
   "execution_count": 2,
   "id": "efd2561a",
   "metadata": {},
   "outputs": [],
   "source": [
    "df = pd.read_csv('SalesFrom2012-2013_aveliable_nextYear.csv', sep=';', header=0)"
   ]
  },
  {
   "cell_type": "code",
   "execution_count": 4,
   "id": "d41db891",
   "metadata": {},
   "outputs": [],
   "source": [
    "df['UnitPrice'] = df[['UnitPrice']].applymap(lambda x: str(x.replace(',','.'))).astype('float')\n",
    "df['StandardCost'] = df[['StandardCost']].applymap(lambda x: str(x.replace(',','.'))).astype('float')\n",
    "df['UnitPriceDiscount'] = df[['UnitPriceDiscount']].applymap(lambda x: str(x.replace(',','.'))).astype('float')\n",
    "df['SubTotal'] = df[['SubTotal']].applymap(lambda x: str(x.replace(',','.'))).astype('float')\n",
    "df['ListPrice'] = df[['ListPrice']].applymap(lambda x: str(x.replace(',','.'))).astype('float')"
   ]
  },
  {
   "cell_type": "code",
   "execution_count": 5,
   "id": "1a002ce3",
   "metadata": {},
   "outputs": [],
   "source": [
    "bikes = df[df['CatName'] == 'Bikes'].copy()"
   ]
  },
  {
   "cell_type": "code",
   "execution_count": 6,
   "id": "e91a1042",
   "metadata": {},
   "outputs": [],
   "source": [
    "bikes['GrossProfit'] = (bikes['UnitPrice'] *(1-df['UnitPriceDiscount']) - bikes['StandardCost']) * bikes['OrderQty']\n",
    "\n",
    "bikes['ROI'] = bikes['GrossProfit'] / (bikes['StandardCost'] * bikes['OrderQty'])"
   ]
  },
  {
   "cell_type": "code",
   "execution_count": 27,
   "id": "e6c93131",
   "metadata": {},
   "outputs": [],
   "source": [
    "ModelsSale = bikes.groupby(['ModelName']).agg({'OrderQty':['sum'], 'GrossProfit': ['mean', 'sum'], 'ROI':['mean']})"
   ]
  },
  {
   "cell_type": "code",
   "execution_count": 8,
   "id": "a66b20ef",
   "metadata": {},
   "outputs": [
    {
     "data": {
      "text/plain": [
       "232057.70302200102"
      ]
     },
     "execution_count": 8,
     "metadata": {},
     "output_type": "execute_result"
    }
   ],
   "source": [
    "ModelsSale['GrossProfit']['sum'].sum()"
   ]
  },
  {
   "cell_type": "code",
   "execution_count": 9,
   "id": "6f62067c",
   "metadata": {},
   "outputs": [
    {
     "data": {
      "text/html": [
       "<div>\n",
       "<style scoped>\n",
       "    .dataframe tbody tr th:only-of-type {\n",
       "        vertical-align: middle;\n",
       "    }\n",
       "\n",
       "    .dataframe tbody tr th {\n",
       "        vertical-align: top;\n",
       "    }\n",
       "\n",
       "    .dataframe thead tr th {\n",
       "        text-align: left;\n",
       "    }\n",
       "\n",
       "    .dataframe thead tr:last-of-type th {\n",
       "        text-align: right;\n",
       "    }\n",
       "</style>\n",
       "<table border=\"1\" class=\"dataframe\">\n",
       "  <thead>\n",
       "    <tr>\n",
       "      <th></th>\n",
       "      <th>OrderQty</th>\n",
       "      <th colspan=\"2\" halign=\"left\">GrossProfit</th>\n",
       "      <th>ROI</th>\n",
       "    </tr>\n",
       "    <tr>\n",
       "      <th></th>\n",
       "      <th>sum</th>\n",
       "      <th>mean</th>\n",
       "      <th>sum</th>\n",
       "      <th>mean</th>\n",
       "    </tr>\n",
       "    <tr>\n",
       "      <th>ModelName</th>\n",
       "      <th></th>\n",
       "      <th></th>\n",
       "      <th></th>\n",
       "      <th></th>\n",
       "    </tr>\n",
       "  </thead>\n",
       "  <tbody>\n",
       "    <tr>\n",
       "      <th>Mountain-200</th>\n",
       "      <td>6968</td>\n",
       "      <td>254.472409</td>\n",
       "      <td>708196.714800</td>\n",
       "      <td>0.232923</td>\n",
       "    </tr>\n",
       "    <tr>\n",
       "      <th>Road-250</th>\n",
       "      <td>4149</td>\n",
       "      <td>-26.507057</td>\n",
       "      <td>-51874.310228</td>\n",
       "      <td>0.135408</td>\n",
       "    </tr>\n",
       "    <tr>\n",
       "      <th>Road-550-W</th>\n",
       "      <td>3425</td>\n",
       "      <td>-190.212614</td>\n",
       "      <td>-246705.760716</td>\n",
       "      <td>-0.003998</td>\n",
       "    </tr>\n",
       "    <tr>\n",
       "      <th>Road-650</th>\n",
       "      <td>8871</td>\n",
       "      <td>-69.467504</td>\n",
       "      <td>-177558.940834</td>\n",
       "      <td>0.039044</td>\n",
       "    </tr>\n",
       "  </tbody>\n",
       "</table>\n",
       "</div>"
      ],
      "text/plain": [
       "             OrderQty GrossProfit                      ROI\n",
       "                  sum        mean            sum      mean\n",
       "ModelName                                                 \n",
       "Mountain-200     6968  254.472409  708196.714800  0.232923\n",
       "Road-250         4149  -26.507057  -51874.310228  0.135408\n",
       "Road-550-W       3425 -190.212614 -246705.760716 -0.003998\n",
       "Road-650         8871  -69.467504 -177558.940834  0.039044"
      ]
     },
     "execution_count": 9,
     "metadata": {},
     "output_type": "execute_result"
    }
   ],
   "source": [
    "ModelsSale"
   ]
  },
  {
   "cell_type": "code",
   "execution_count": 10,
   "id": "99ebcd1f",
   "metadata": {},
   "outputs": [
    {
     "data": {
      "text/plain": [
       "<AxesSubplot:xlabel='ModelName', ylabel='sum'>"
      ]
     },
     "execution_count": 10,
     "metadata": {},
     "output_type": "execute_result"
    },
    {
     "data": {
      "image/png": "[encoded data removed]",
      "text/plain": [
       "<Figure size 432x288 with 1 Axes>"
      ]
     },
     "metadata": {
      "needs_background": "light"
     },
     "output_type": "display_data"
    }
   ],
   "source": [
    "sns.barplot(x=ModelsSale.index, y=ModelsSale['OrderQty']['sum'])"
   ]
  },
  {
   "cell_type": "code",
   "execution_count": 11,
   "id": "32f3aba4",
   "metadata": {},
   "outputs": [
    {
     "data": {
      "image/png": "[encoded data removed]",
      "text/plain": [
       "<Figure size 432x288 with 1 Axes>"
      ]
     },
     "metadata": {},
     "output_type": "display_data"
    }
   ],
   "source": [
    "plt.pie(ModelsSale['OrderQty']['sum'], autopct = '%0.0f%%', labels =ModelsSale.index);"
   ]
  },
  {
   "cell_type": "code",
   "execution_count": 12,
   "id": "f191d2be",
   "metadata": {},
   "outputs": [
    {
     "data": {
      "text/plain": [
       "<AxesSubplot:xlabel='ModelName', ylabel='sum'>"
      ]
     },
     "execution_count": 12,
     "metadata": {},
     "output_type": "execute_result"
    },
    {
     "data": {
      "image/png": "[encoded data removed]",
      "text/plain": [
       "<Figure size 432x288 with 1 Axes>"
      ]
     },
     "metadata": {
      "needs_background": "light"
     },
     "output_type": "display_data"
    }
   ],
   "source": [
    "sns.barplot(x=ModelsSale.index, y=ModelsSale['GrossProfit']['sum'])"
   ]
  },
  {
   "cell_type": "code",
   "execution_count": 13,
   "id": "0bf6a398",
   "metadata": {},
   "outputs": [],
   "source": [
    "ProductsSale = bikes.groupby(['ProductID']).agg({'OrderQty':['sum'], 'GrossProfit': ['mean', 'sum'], 'ROI':['mean']})"
   ]
  },
  {
   "cell_type": "code",
   "execution_count": 28,
   "id": "7bc99dc6",
   "metadata": {},
   "outputs": [
    {
     "data": {
      "text/html": [
       "<div>\n",
       "<style scoped>\n",
       "    .dataframe tbody tr th:only-of-type {\n",
       "        vertical-align: middle;\n",
       "    }\n",
       "\n",
       "    .dataframe tbody tr th {\n",
       "        vertical-align: top;\n",
       "    }\n",
       "\n",
       "    .dataframe thead tr th {\n",
       "        text-align: left;\n",
       "    }\n",
       "\n",
       "    .dataframe thead tr:last-of-type th {\n",
       "        text-align: right;\n",
       "    }\n",
       "</style>\n",
       "<table border=\"1\" class=\"dataframe\">\n",
       "  <thead>\n",
       "    <tr>\n",
       "      <th></th>\n",
       "      <th>OrderQty</th>\n",
       "      <th colspan=\"2\" halign=\"left\">GrossProfit</th>\n",
       "      <th>ROI</th>\n",
       "    </tr>\n",
       "    <tr>\n",
       "      <th></th>\n",
       "      <th>sum</th>\n",
       "      <th>mean</th>\n",
       "      <th>sum</th>\n",
       "      <th>mean</th>\n",
       "    </tr>\n",
       "    <tr>\n",
       "      <th>ProductID</th>\n",
       "      <th></th>\n",
       "      <th></th>\n",
       "      <th></th>\n",
       "      <th></th>\n",
       "    </tr>\n",
       "  </thead>\n",
       "  <tbody>\n",
       "    <tr>\n",
       "      <th>760</th>\n",
       "      <td>1500</td>\n",
       "      <td>-67.697694</td>\n",
       "      <td>-26672.891546</td>\n",
       "      <td>0.019827</td>\n",
       "    </tr>\n",
       "    <tr>\n",
       "      <th>761</th>\n",
       "      <td>1295</td>\n",
       "      <td>-21.604784</td>\n",
       "      <td>-8469.075457</td>\n",
       "      <td>0.060171</td>\n",
       "    </tr>\n",
       "    <tr>\n",
       "      <th>762</th>\n",
       "      <td>1517</td>\n",
       "      <td>-281.434673</td>\n",
       "      <td>-111729.565312</td>\n",
       "      <td>-0.053284</td>\n",
       "    </tr>\n",
       "    <tr>\n",
       "      <th>763</th>\n",
       "      <td>1298</td>\n",
       "      <td>-21.258132</td>\n",
       "      <td>-8481.994840</td>\n",
       "      <td>0.061547</td>\n",
       "    </tr>\n",
       "    <tr>\n",
       "      <th>765</th>\n",
       "      <td>1287</td>\n",
       "      <td>-19.593522</td>\n",
       "      <td>-7621.880149</td>\n",
       "      <td>0.059700</td>\n",
       "    </tr>\n",
       "    <tr>\n",
       "      <th>769</th>\n",
       "      <td>446</td>\n",
       "      <td>32.731538</td>\n",
       "      <td>5924.408400</td>\n",
       "      <td>0.118127</td>\n",
       "    </tr>\n",
       "    <tr>\n",
       "      <th>770</th>\n",
       "      <td>1528</td>\n",
       "      <td>-50.762232</td>\n",
       "      <td>-20507.941930</td>\n",
       "      <td>0.050470</td>\n",
       "    </tr>\n",
       "    <tr>\n",
       "      <th>779</th>\n",
       "      <td>1118</td>\n",
       "      <td>255.890282</td>\n",
       "      <td>115662.407288</td>\n",
       "      <td>0.232239</td>\n",
       "    </tr>\n",
       "    <tr>\n",
       "      <th>780</th>\n",
       "      <td>1114</td>\n",
       "      <td>250.314457</td>\n",
       "      <td>109888.046620</td>\n",
       "      <td>0.229210</td>\n",
       "    </tr>\n",
       "    <tr>\n",
       "      <th>781</th>\n",
       "      <td>1112</td>\n",
       "      <td>265.141773</td>\n",
       "      <td>120639.506552</td>\n",
       "      <td>0.239223</td>\n",
       "    </tr>\n",
       "    <tr>\n",
       "      <th>782</th>\n",
       "      <td>1363</td>\n",
       "      <td>202.223254</td>\n",
       "      <td>102729.412980</td>\n",
       "      <td>0.194447</td>\n",
       "    </tr>\n",
       "    <tr>\n",
       "      <th>783</th>\n",
       "      <td>1295</td>\n",
       "      <td>235.308339</td>\n",
       "      <td>118595.402880</td>\n",
       "      <td>0.221861</td>\n",
       "    </tr>\n",
       "    <tr>\n",
       "      <th>784</th>\n",
       "      <td>966</td>\n",
       "      <td>331.016326</td>\n",
       "      <td>140681.938480</td>\n",
       "      <td>0.289849</td>\n",
       "    </tr>\n",
       "    <tr>\n",
       "      <th>790</th>\n",
       "      <td>809</td>\n",
       "      <td>305.275702</td>\n",
       "      <td>114783.663940</td>\n",
       "      <td>0.242369</td>\n",
       "    </tr>\n",
       "    <tr>\n",
       "      <th>792</th>\n",
       "      <td>514</td>\n",
       "      <td>80.457701</td>\n",
       "      <td>22769.529400</td>\n",
       "      <td>0.180884</td>\n",
       "    </tr>\n",
       "    <tr>\n",
       "      <th>793</th>\n",
       "      <td>876</td>\n",
       "      <td>-312.285617</td>\n",
       "      <td>-107738.537982</td>\n",
       "      <td>0.049357</td>\n",
       "    </tr>\n",
       "    <tr>\n",
       "      <th>794</th>\n",
       "      <td>785</td>\n",
       "      <td>-201.812962</td>\n",
       "      <td>-70836.349586</td>\n",
       "      <td>0.067099</td>\n",
       "    </tr>\n",
       "    <tr>\n",
       "      <th>795</th>\n",
       "      <td>678</td>\n",
       "      <td>-47.588465</td>\n",
       "      <td>-16703.551200</td>\n",
       "      <td>0.116789</td>\n",
       "    </tr>\n",
       "    <tr>\n",
       "      <th>796</th>\n",
       "      <td>487</td>\n",
       "      <td>23.310499</td>\n",
       "      <td>5850.935200</td>\n",
       "      <td>0.163748</td>\n",
       "    </tr>\n",
       "    <tr>\n",
       "      <th>797</th>\n",
       "      <td>846</td>\n",
       "      <td>-229.108682</td>\n",
       "      <td>-67357.952648</td>\n",
       "      <td>-0.021078</td>\n",
       "    </tr>\n",
       "    <tr>\n",
       "      <th>798</th>\n",
       "      <td>732</td>\n",
       "      <td>-195.001883</td>\n",
       "      <td>-55770.538600</td>\n",
       "      <td>-0.026743</td>\n",
       "    </tr>\n",
       "    <tr>\n",
       "      <th>799</th>\n",
       "      <td>576</td>\n",
       "      <td>-151.913373</td>\n",
       "      <td>-37370.689800</td>\n",
       "      <td>-0.000804</td>\n",
       "    </tr>\n",
       "    <tr>\n",
       "      <th>800</th>\n",
       "      <td>421</td>\n",
       "      <td>-89.691442</td>\n",
       "      <td>-16682.608300</td>\n",
       "      <td>0.074110</td>\n",
       "    </tr>\n",
       "    <tr>\n",
       "      <th>801</th>\n",
       "      <td>850</td>\n",
       "      <td>-243.943759</td>\n",
       "      <td>-69523.971368</td>\n",
       "      <td>-0.017285</td>\n",
       "    </tr>\n",
       "  </tbody>\n",
       "</table>\n",
       "</div>"
      ],
      "text/plain": [
       "          OrderQty GrossProfit                      ROI\n",
       "               sum        mean            sum      mean\n",
       "ProductID                                              \n",
       "760           1500  -67.697694  -26672.891546  0.019827\n",
       "761           1295  -21.604784   -8469.075457  0.060171\n",
       "762           1517 -281.434673 -111729.565312 -0.053284\n",
       "763           1298  -21.258132   -8481.994840  0.061547\n",
       "765           1287  -19.593522   -7621.880149  0.059700\n",
       "769            446   32.731538    5924.408400  0.118127\n",
       "770           1528  -50.762232  -20507.941930  0.050470\n",
       "779           1118  255.890282  115662.407288  0.232239\n",
       "780           1114  250.314457  109888.046620  0.229210\n",
       "781           1112  265.141773  120639.506552  0.239223\n",
       "782           1363  202.223254  102729.412980  0.194447\n",
       "783           1295  235.308339  118595.402880  0.221861\n",
       "784            966  331.016326  140681.938480  0.289849\n",
       "790            809  305.275702  114783.663940  0.242369\n",
       "792            514   80.457701   22769.529400  0.180884\n",
       "793            876 -312.285617 -107738.537982  0.049357\n",
       "794            785 -201.812962  -70836.349586  0.067099\n",
       "795            678  -47.588465  -16703.551200  0.116789\n",
       "796            487   23.310499    5850.935200  0.163748\n",
       "797            846 -229.108682  -67357.952648 -0.021078\n",
       "798            732 -195.001883  -55770.538600 -0.026743\n",
       "799            576 -151.913373  -37370.689800 -0.000804\n",
       "800            421  -89.691442  -16682.608300  0.074110\n",
       "801            850 -243.943759  -69523.971368 -0.017285"
      ]
     },
     "execution_count": 28,
     "metadata": {},
     "output_type": "execute_result"
    }
   ],
   "source": [
    "ProductsSale"
   ]
  },
  {
   "cell_type": "code",
   "execution_count": 14,
   "id": "7f6e2aa0",
   "metadata": {},
   "outputs": [
    {
     "data": {
      "text/plain": [
       "<AxesSubplot:xlabel='ProductID', ylabel='sum'>"
      ]
     },
     "execution_count": 14,
     "metadata": {},
     "output_type": "execute_result"
    },
    {
     "data": {
      "image/png": "[encoded data removed]",
      "text/plain": [
       "<Figure size 432x288 with 1 Axes>"
      ]
     },
     "metadata": {
      "needs_background": "light"
     },
     "output_type": "display_data"
    }
   ],
   "source": [
    "sns.barplot(x=ProductsSale.index, y=ProductsSale['OrderQty']['sum'])"
   ]
  },
  {
   "cell_type": "code",
   "execution_count": 15,
   "id": "12feea1c",
   "metadata": {},
   "outputs": [
    {
     "data": {
      "text/plain": [
       "<AxesSubplot:xlabel='ProductID', ylabel='sum'>"
      ]
     },
     "execution_count": 15,
     "metadata": {},
     "output_type": "execute_result"
    },
    {
     "data": {
      "image/png": "[encoded data removed]",
      "text/plain": [
       "<Figure size 432x288 with 1 Axes>"
      ]
     },
     "metadata": {
      "needs_background": "light"
     },
     "output_type": "display_data"
    }
   ],
   "source": [
    "sns.barplot(x=ProductsSale.index, y=ProductsSale['GrossProfit']['sum'])"
   ]
  },
  {
   "cell_type": "code",
   "execution_count": 21,
   "id": "b92172bd",
   "metadata": {},
   "outputs": [],
   "source": [
    "Models_color = bikes.groupby(['ModelName', 'Color', 'Size']).agg({'OrderQty':['sum'], 'GrossProfit': ['mean', 'sum'], 'ROI':['mean']})"
   ]
  },
  {
   "cell_type": "code",
   "execution_count": 17,
   "id": "c12ee9c7",
   "metadata": {},
   "outputs": [
    {
     "data": {
      "text/html": [
       "<div>\n",
       "<style scoped>\n",
       "    .dataframe tbody tr th:only-of-type {\n",
       "        vertical-align: middle;\n",
       "    }\n",
       "\n",
       "    .dataframe tbody tr th {\n",
       "        vertical-align: top;\n",
       "    }\n",
       "\n",
       "    .dataframe thead tr th {\n",
       "        text-align: left;\n",
       "    }\n",
       "\n",
       "    .dataframe thead tr:last-of-type th {\n",
       "        text-align: right;\n",
       "    }\n",
       "</style>\n",
       "<table border=\"1\" class=\"dataframe\">\n",
       "  <thead>\n",
       "    <tr>\n",
       "      <th></th>\n",
       "      <th></th>\n",
       "      <th></th>\n",
       "      <th>OrderQty</th>\n",
       "      <th colspan=\"2\" halign=\"left\">GrossProfit</th>\n",
       "      <th>ROI</th>\n",
       "    </tr>\n",
       "    <tr>\n",
       "      <th></th>\n",
       "      <th></th>\n",
       "      <th></th>\n",
       "      <th>sum</th>\n",
       "      <th>mean</th>\n",
       "      <th>sum</th>\n",
       "      <th>mean</th>\n",
       "    </tr>\n",
       "    <tr>\n",
       "      <th>ModelName</th>\n",
       "      <th>Color</th>\n",
       "      <th>Size</th>\n",
       "      <th></th>\n",
       "      <th></th>\n",
       "      <th></th>\n",
       "      <th></th>\n",
       "    </tr>\n",
       "  </thead>\n",
       "  <tbody>\n",
       "    <tr>\n",
       "      <th rowspan=\"6\" valign=\"top\">Mountain-200</th>\n",
       "      <th rowspan=\"3\" valign=\"top\">Black</th>\n",
       "      <th>38</th>\n",
       "      <td>1363</td>\n",
       "      <td>202.223254</td>\n",
       "      <td>102729.412980</td>\n",
       "      <td>0.194447</td>\n",
       "    </tr>\n",
       "    <tr>\n",
       "      <th>42</th>\n",
       "      <td>1295</td>\n",
       "      <td>235.308339</td>\n",
       "      <td>118595.402880</td>\n",
       "      <td>0.221861</td>\n",
       "    </tr>\n",
       "    <tr>\n",
       "      <th>46</th>\n",
       "      <td>966</td>\n",
       "      <td>331.016326</td>\n",
       "      <td>140681.938480</td>\n",
       "      <td>0.289849</td>\n",
       "    </tr>\n",
       "    <tr>\n",
       "      <th rowspan=\"3\" valign=\"top\">Silver</th>\n",
       "      <th>38</th>\n",
       "      <td>1118</td>\n",
       "      <td>255.890282</td>\n",
       "      <td>115662.407288</td>\n",
       "      <td>0.232239</td>\n",
       "    </tr>\n",
       "    <tr>\n",
       "      <th>42</th>\n",
       "      <td>1114</td>\n",
       "      <td>250.314457</td>\n",
       "      <td>109888.046620</td>\n",
       "      <td>0.229210</td>\n",
       "    </tr>\n",
       "    <tr>\n",
       "      <th>46</th>\n",
       "      <td>1112</td>\n",
       "      <td>265.141773</td>\n",
       "      <td>120639.506552</td>\n",
       "      <td>0.239223</td>\n",
       "    </tr>\n",
       "    <tr>\n",
       "      <th rowspan=\"6\" valign=\"top\">Road-250</th>\n",
       "      <th rowspan=\"4\" valign=\"top\">Black</th>\n",
       "      <th>44</th>\n",
       "      <td>876</td>\n",
       "      <td>-312.285617</td>\n",
       "      <td>-107738.537982</td>\n",
       "      <td>0.049357</td>\n",
       "    </tr>\n",
       "    <tr>\n",
       "      <th>48</th>\n",
       "      <td>785</td>\n",
       "      <td>-201.812962</td>\n",
       "      <td>-70836.349586</td>\n",
       "      <td>0.067099</td>\n",
       "    </tr>\n",
       "    <tr>\n",
       "      <th>52</th>\n",
       "      <td>678</td>\n",
       "      <td>-47.588465</td>\n",
       "      <td>-16703.551200</td>\n",
       "      <td>0.116789</td>\n",
       "    </tr>\n",
       "    <tr>\n",
       "      <th>58</th>\n",
       "      <td>487</td>\n",
       "      <td>23.310499</td>\n",
       "      <td>5850.935200</td>\n",
       "      <td>0.163748</td>\n",
       "    </tr>\n",
       "    <tr>\n",
       "      <th rowspan=\"2\" valign=\"top\">Red</th>\n",
       "      <th>48</th>\n",
       "      <td>809</td>\n",
       "      <td>305.275702</td>\n",
       "      <td>114783.663940</td>\n",
       "      <td>0.242369</td>\n",
       "    </tr>\n",
       "    <tr>\n",
       "      <th>58</th>\n",
       "      <td>514</td>\n",
       "      <td>80.457701</td>\n",
       "      <td>22769.529400</td>\n",
       "      <td>0.180884</td>\n",
       "    </tr>\n",
       "    <tr>\n",
       "      <th rowspan=\"5\" valign=\"top\">Road-550-W</th>\n",
       "      <th rowspan=\"5\" valign=\"top\">Yellow</th>\n",
       "      <th>38</th>\n",
       "      <td>846</td>\n",
       "      <td>-229.108682</td>\n",
       "      <td>-67357.952648</td>\n",
       "      <td>-0.021078</td>\n",
       "    </tr>\n",
       "    <tr>\n",
       "      <th>40</th>\n",
       "      <td>732</td>\n",
       "      <td>-195.001883</td>\n",
       "      <td>-55770.538600</td>\n",
       "      <td>-0.026743</td>\n",
       "    </tr>\n",
       "    <tr>\n",
       "      <th>42</th>\n",
       "      <td>576</td>\n",
       "      <td>-151.913373</td>\n",
       "      <td>-37370.689800</td>\n",
       "      <td>-0.000804</td>\n",
       "    </tr>\n",
       "    <tr>\n",
       "      <th>44</th>\n",
       "      <td>421</td>\n",
       "      <td>-89.691442</td>\n",
       "      <td>-16682.608300</td>\n",
       "      <td>0.074110</td>\n",
       "    </tr>\n",
       "    <tr>\n",
       "      <th>48</th>\n",
       "      <td>850</td>\n",
       "      <td>-243.943759</td>\n",
       "      <td>-69523.971368</td>\n",
       "      <td>-0.017285</td>\n",
       "    </tr>\n",
       "    <tr>\n",
       "      <th rowspan=\"7\" valign=\"top\">Road-650</th>\n",
       "      <th rowspan=\"3\" valign=\"top\">Black</th>\n",
       "      <th>48</th>\n",
       "      <td>446</td>\n",
       "      <td>32.731538</td>\n",
       "      <td>5924.408400</td>\n",
       "      <td>0.118127</td>\n",
       "    </tr>\n",
       "    <tr>\n",
       "      <th>52</th>\n",
       "      <td>1528</td>\n",
       "      <td>-50.762232</td>\n",
       "      <td>-20507.941930</td>\n",
       "      <td>0.050470</td>\n",
       "    </tr>\n",
       "    <tr>\n",
       "      <th>58</th>\n",
       "      <td>1287</td>\n",
       "      <td>-19.593522</td>\n",
       "      <td>-7621.880149</td>\n",
       "      <td>0.059700</td>\n",
       "    </tr>\n",
       "    <tr>\n",
       "      <th rowspan=\"4\" valign=\"top\">Red</th>\n",
       "      <th>44</th>\n",
       "      <td>1517</td>\n",
       "      <td>-281.434673</td>\n",
       "      <td>-111729.565312</td>\n",
       "      <td>-0.053284</td>\n",
       "    </tr>\n",
       "    <tr>\n",
       "      <th>48</th>\n",
       "      <td>1298</td>\n",
       "      <td>-21.258132</td>\n",
       "      <td>-8481.994840</td>\n",
       "      <td>0.061547</td>\n",
       "    </tr>\n",
       "    <tr>\n",
       "      <th>60</th>\n",
       "      <td>1500</td>\n",
       "      <td>-67.697694</td>\n",
       "      <td>-26672.891546</td>\n",
       "      <td>0.019827</td>\n",
       "    </tr>\n",
       "    <tr>\n",
       "      <th>62</th>\n",
       "      <td>1295</td>\n",
       "      <td>-21.604784</td>\n",
       "      <td>-8469.075457</td>\n",
       "      <td>0.060171</td>\n",
       "    </tr>\n",
       "  </tbody>\n",
       "</table>\n",
       "</div>"
      ],
      "text/plain": [
       "                         OrderQty GrossProfit                      ROI\n",
       "                              sum        mean            sum      mean\n",
       "ModelName    Color  Size                                              \n",
       "Mountain-200 Black  38       1363  202.223254  102729.412980  0.194447\n",
       "                    42       1295  235.308339  118595.402880  0.221861\n",
       "                    46        966  331.016326  140681.938480  0.289849\n",
       "             Silver 38       1118  255.890282  115662.407288  0.232239\n",
       "                    42       1114  250.314457  109888.046620  0.229210\n",
       "                    46       1112  265.141773  120639.506552  0.239223\n",
       "Road-250     Black  44        876 -312.285617 -107738.537982  0.049357\n",
       "                    48        785 -201.812962  -70836.349586  0.067099\n",
       "                    52        678  -47.588465  -16703.551200  0.116789\n",
       "                    58        487   23.310499    5850.935200  0.163748\n",
       "             Red    48        809  305.275702  114783.663940  0.242369\n",
       "                    58        514   80.457701   22769.529400  0.180884\n",
       "Road-550-W   Yellow 38        846 -229.108682  -67357.952648 -0.021078\n",
       "                    40        732 -195.001883  -55770.538600 -0.026743\n",
       "                    42        576 -151.913373  -37370.689800 -0.000804\n",
       "                    44        421  -89.691442  -16682.608300  0.074110\n",
       "                    48        850 -243.943759  -69523.971368 -0.017285\n",
       "Road-650     Black  48        446   32.731538    5924.408400  0.118127\n",
       "                    52       1528  -50.762232  -20507.941930  0.050470\n",
       "                    58       1287  -19.593522   -7621.880149  0.059700\n",
       "             Red    44       1517 -281.434673 -111729.565312 -0.053284\n",
       "                    48       1298  -21.258132   -8481.994840  0.061547\n",
       "                    60       1500  -67.697694  -26672.891546  0.019827\n",
       "                    62       1295  -21.604784   -8469.075457  0.060171"
      ]
     },
     "execution_count": 17,
     "metadata": {},
     "output_type": "execute_result"
    }
   ],
   "source": [
    "Models_color"
   ]
  },
  {
   "cell_type": "code",
   "execution_count": null,
   "id": "15d4e5e4",
   "metadata": {},
   "outputs": [],
   "source": [
    "bikes['StandardCost']"
   ]
  },
  {
   "cell_type": "code",
   "execution_count": 38,
   "id": "45b92c93",
   "metadata": {},
   "outputs": [],
   "source": [
    "x = bikes.groupby(['ModelName', 'Color', 'Size']).agg({'OrderQty':['sum', 'mean'], 'GrossProfit': ['mean', 'sum'], 'StandardCost':['mean','sum']})"
   ]
  },
  {
   "cell_type": "code",
   "execution_count": 39,
   "id": "5439a1d5",
   "metadata": {},
   "outputs": [],
   "source": [
    "x['ROI'] = x['GrossProfit']['mean'] / (x['StandardCost']['mean'] * x['OrderQty']['mean'])"
   ]
  },
  {
   "cell_type": "code",
   "execution_count": 36,
   "id": "0a88177f",
   "metadata": {},
   "outputs": [],
   "source": [
    "x['ROI2'] = x['GrossProfit']['mean'] / x['StandardCost']['mean']"
   ]
  },
  {
   "cell_type": "code",
   "execution_count": 46,
   "id": "bee3cc03",
   "metadata": {},
   "outputs": [
    {
     "data": {
      "text/html": [
       "<div>\n",
       "<style scoped>\n",
       "    .dataframe tbody tr th:only-of-type {\n",
       "        vertical-align: middle;\n",
       "    }\n",
       "\n",
       "    .dataframe tbody tr th {\n",
       "        vertical-align: top;\n",
       "    }\n",
       "\n",
       "    .dataframe thead tr th {\n",
       "        text-align: left;\n",
       "    }\n",
       "\n",
       "    .dataframe thead tr:last-of-type th {\n",
       "        text-align: right;\n",
       "    }\n",
       "</style>\n",
       "<table border=\"1\" class=\"dataframe\">\n",
       "  <thead>\n",
       "    <tr>\n",
       "      <th></th>\n",
       "      <th></th>\n",
       "      <th></th>\n",
       "      <th colspan=\"2\" halign=\"left\">OrderQty</th>\n",
       "      <th colspan=\"2\" halign=\"left\">GrossProfit</th>\n",
       "      <th colspan=\"2\" halign=\"left\">StandardCost</th>\n",
       "      <th>ROI</th>\n",
       "    </tr>\n",
       "    <tr>\n",
       "      <th></th>\n",
       "      <th></th>\n",
       "      <th></th>\n",
       "      <th>sum</th>\n",
       "      <th>mean</th>\n",
       "      <th>mean</th>\n",
       "      <th>sum</th>\n",
       "      <th>mean</th>\n",
       "      <th>sum</th>\n",
       "      <th></th>\n",
       "    </tr>\n",
       "    <tr>\n",
       "      <th>ModelName</th>\n",
       "      <th>Color</th>\n",
       "      <th>Size</th>\n",
       "      <th></th>\n",
       "      <th></th>\n",
       "      <th></th>\n",
       "      <th></th>\n",
       "      <th></th>\n",
       "      <th></th>\n",
       "      <th></th>\n",
       "    </tr>\n",
       "  </thead>\n",
       "  <tbody>\n",
       "    <tr>\n",
       "      <th rowspan=\"2\" valign=\"top\">Road-250</th>\n",
       "      <th rowspan=\"2\" valign=\"top\">Black</th>\n",
       "      <th>44</th>\n",
       "      <td>876</td>\n",
       "      <td>2.539130</td>\n",
       "      <td>-312.285617</td>\n",
       "      <td>-107738.537982</td>\n",
       "      <td>1554.9479</td>\n",
       "      <td>536457.0255</td>\n",
       "      <td>-0.079095</td>\n",
       "    </tr>\n",
       "    <tr>\n",
       "      <th>48</th>\n",
       "      <td>785</td>\n",
       "      <td>2.236467</td>\n",
       "      <td>-201.812962</td>\n",
       "      <td>-70836.349586</td>\n",
       "      <td>1554.9479</td>\n",
       "      <td>545786.7129</td>\n",
       "      <td>-0.058032</td>\n",
       "    </tr>\n",
       "    <tr>\n",
       "      <th>Road-650</th>\n",
       "      <th>Red</th>\n",
       "      <th>44</th>\n",
       "      <td>1517</td>\n",
       "      <td>3.821159</td>\n",
       "      <td>-281.434673</td>\n",
       "      <td>-111729.565312</td>\n",
       "      <td>486.7066</td>\n",
       "      <td>193222.5202</td>\n",
       "      <td>-0.151327</td>\n",
       "    </tr>\n",
       "  </tbody>\n",
       "</table>\n",
       "</div>"
      ],
      "text/plain": [
       "                     OrderQty           GrossProfit                 \\\n",
       "                          sum      mean        mean            sum   \n",
       "ModelName Color Size                                                 \n",
       "Road-250  Black 44        876  2.539130 -312.285617 -107738.537982   \n",
       "                48        785  2.236467 -201.812962  -70836.349586   \n",
       "Road-650  Red   44       1517  3.821159 -281.434673 -111729.565312   \n",
       "\n",
       "                     StandardCost                    ROI  \n",
       "                             mean          sum            \n",
       "ModelName Color Size                                      \n",
       "Road-250  Black 44      1554.9479  536457.0255 -0.079095  \n",
       "                48      1554.9479  545786.7129 -0.058032  \n",
       "Road-650  Red   44       486.7066  193222.5202 -0.151327  "
      ]
     },
     "execution_count": 46,
     "metadata": {},
     "output_type": "execute_result"
    }
   ],
   "source": [
    "x[x['GrossProfit']['sum'] < -70000]"
   ]
  },
  {
   "cell_type": "markdown",
   "id": "23006781",
   "metadata": {},
   "source": [
    "Shop has 3 bikes that gives negative income which is less than -70.000 USD. Let's look into it"
   ]
  },
  {
   "cell_type": "markdown",
   "id": "691ba138",
   "metadata": {},
   "source": [
    "First let's find ID of this 3 bikes"
   ]
  },
  {
   "cell_type": "code",
   "execution_count": 48,
   "id": "83327748",
   "metadata": {},
   "outputs": [],
   "source": [
    "Road_250 = df[df['ModelName'] == 'Road-250']"
   ]
  },
  {
   "cell_type": "code",
   "execution_count": 50,
   "id": "b9fa0caf",
   "metadata": {},
   "outputs": [],
   "source": [
    "Road_250 = Road_250[Road_250['Color'] == 'Black']"
   ]
  },
  {
   "cell_type": "code",
   "execution_count": 53,
   "id": "b103d166",
   "metadata": {},
   "outputs": [
    {
     "data": {
      "text/html": [
       "<div>\n",
       "<style scoped>\n",
       "    .dataframe tbody tr th:only-of-type {\n",
       "        vertical-align: middle;\n",
       "    }\n",
       "\n",
       "    .dataframe tbody tr th {\n",
       "        vertical-align: top;\n",
       "    }\n",
       "\n",
       "    .dataframe thead th {\n",
       "        text-align: right;\n",
       "    }\n",
       "</style>\n",
       "<table border=\"1\" class=\"dataframe\">\n",
       "  <thead>\n",
       "    <tr style=\"text-align: right;\">\n",
       "      <th></th>\n",
       "      <th>ProductID</th>\n",
       "      <th>ListPrice</th>\n",
       "      <th>StandardCost</th>\n",
       "      <th>Color</th>\n",
       "      <th>Size</th>\n",
       "      <th>Weight</th>\n",
       "      <th>Style</th>\n",
       "      <th>class</th>\n",
       "      <th>BikeName</th>\n",
       "      <th>ModelName</th>\n",
       "      <th>SubName</th>\n",
       "      <th>CatName</th>\n",
       "      <th>UnitPrice</th>\n",
       "      <th>UnitPriceDiscount</th>\n",
       "      <th>OrderQty</th>\n",
       "      <th>SalesOrderID</th>\n",
       "      <th>TotalDue</th>\n",
       "      <th>SubTotal</th>\n",
       "      <th>TerritoryID</th>\n",
       "      <th>OrderDate</th>\n",
       "      <th>SellStartDate</th>\n",
       "      <th>SellEndDate</th>\n",
       "    </tr>\n",
       "  </thead>\n",
       "  <tbody>\n",
       "    <tr>\n",
       "      <th>66</th>\n",
       "      <td>794</td>\n",
       "      <td>2443.35</td>\n",
       "      <td>1554.9479</td>\n",
       "      <td>Black</td>\n",
       "      <td>48</td>\n",
       "      <td>15.13</td>\n",
       "      <td>U</td>\n",
       "      <td>H</td>\n",
       "      <td>Road-250 Black, 48</td>\n",
       "      <td>Road-250</td>\n",
       "      <td>Road Bikes</td>\n",
       "      <td>Bikes</td>\n",
       "      <td>1308.9375</td>\n",
       "      <td>0.0</td>\n",
       "      <td>4</td>\n",
       "      <td>46607</td>\n",
       "      <td>135606,6769</td>\n",
       "      <td>120182.185</td>\n",
       "      <td>6</td>\n",
       "      <td>2012-05-30 00:00:00.000</td>\n",
       "      <td>2012-05-30 00:00:00.000</td>\n",
       "      <td>NaN</td>\n",
       "    </tr>\n",
       "  </tbody>\n",
       "</table>\n",
       "</div>"
      ],
      "text/plain": [
       "    ProductID  ListPrice  StandardCost  Color Size  Weight Style class  \\\n",
       "66        794    2443.35     1554.9479  Black   48   15.13    U     H    \n",
       "\n",
       "              BikeName ModelName     SubName CatName  UnitPrice  \\\n",
       "66  Road-250 Black, 48  Road-250  Road Bikes   Bikes  1308.9375   \n",
       "\n",
       "    UnitPriceDiscount  OrderQty  SalesOrderID     TotalDue    SubTotal  \\\n",
       "66                0.0         4         46607  135606,6769  120182.185   \n",
       "\n",
       "    TerritoryID                OrderDate            SellStartDate SellEndDate  \n",
       "66            6  2012-05-30 00:00:00.000  2012-05-30 00:00:00.000         NaN  "
      ]
     },
     "execution_count": 53,
     "metadata": {},
     "output_type": "execute_result"
    }
   ],
   "source": [
    "Road_250[Road_250['Size'] == '48'].head(1)"
   ]
  },
  {
   "cell_type": "code",
   "execution_count": 55,
   "id": "20f27daf",
   "metadata": {},
   "outputs": [],
   "source": [
    "Road_650 = df[df['ModelName'] == 'Road-650']"
   ]
  },
  {
   "cell_type": "code",
   "execution_count": 57,
   "id": "18e7428e",
   "metadata": {},
   "outputs": [],
   "source": [
    "Road_650 = Road_650[Road_650['Color'] == 'Red']"
   ]
  },
  {
   "cell_type": "code",
   "execution_count": 58,
   "id": "0b7472ef",
   "metadata": {},
   "outputs": [
    {
     "data": {
      "text/html": [
       "<div>\n",
       "<style scoped>\n",
       "    .dataframe tbody tr th:only-of-type {\n",
       "        vertical-align: middle;\n",
       "    }\n",
       "\n",
       "    .dataframe tbody tr th {\n",
       "        vertical-align: top;\n",
       "    }\n",
       "\n",
       "    .dataframe thead th {\n",
       "        text-align: right;\n",
       "    }\n",
       "</style>\n",
       "<table border=\"1\" class=\"dataframe\">\n",
       "  <thead>\n",
       "    <tr style=\"text-align: right;\">\n",
       "      <th></th>\n",
       "      <th>ProductID</th>\n",
       "      <th>ListPrice</th>\n",
       "      <th>StandardCost</th>\n",
       "      <th>Color</th>\n",
       "      <th>Size</th>\n",
       "      <th>Weight</th>\n",
       "      <th>Style</th>\n",
       "      <th>class</th>\n",
       "      <th>BikeName</th>\n",
       "      <th>ModelName</th>\n",
       "      <th>SubName</th>\n",
       "      <th>CatName</th>\n",
       "      <th>UnitPrice</th>\n",
       "      <th>UnitPriceDiscount</th>\n",
       "      <th>OrderQty</th>\n",
       "      <th>SalesOrderID</th>\n",
       "      <th>TotalDue</th>\n",
       "      <th>SubTotal</th>\n",
       "      <th>TerritoryID</th>\n",
       "      <th>OrderDate</th>\n",
       "      <th>SellStartDate</th>\n",
       "      <th>SellEndDate</th>\n",
       "    </tr>\n",
       "  </thead>\n",
       "  <tbody>\n",
       "    <tr>\n",
       "      <th>46</th>\n",
       "      <td>762</td>\n",
       "      <td>782.99</td>\n",
       "      <td>486.7066</td>\n",
       "      <td>Red</td>\n",
       "      <td>44</td>\n",
       "      <td>18.77</td>\n",
       "      <td>U</td>\n",
       "      <td>L</td>\n",
       "      <td>Road-650 Red, 44</td>\n",
       "      <td>Road-650</td>\n",
       "      <td>Road Bikes</td>\n",
       "      <td>Bikes</td>\n",
       "      <td>234.897</td>\n",
       "      <td>0.3</td>\n",
       "      <td>3</td>\n",
       "      <td>46607</td>\n",
       "      <td>135606,6769</td>\n",
       "      <td>120182.185</td>\n",
       "      <td>6</td>\n",
       "      <td>2012-05-30 00:00:00.000</td>\n",
       "      <td>2011-05-31 00:00:00.000</td>\n",
       "      <td>2013-05-29 00:00:00.000</td>\n",
       "    </tr>\n",
       "  </tbody>\n",
       "</table>\n",
       "</div>"
      ],
      "text/plain": [
       "    ProductID  ListPrice  StandardCost Color Size  Weight Style class  \\\n",
       "46        762     782.99      486.7066   Red   44   18.77    U     L    \n",
       "\n",
       "            BikeName ModelName     SubName CatName  UnitPrice  \\\n",
       "46  Road-650 Red, 44  Road-650  Road Bikes   Bikes    234.897   \n",
       "\n",
       "    UnitPriceDiscount  OrderQty  SalesOrderID     TotalDue    SubTotal  \\\n",
       "46                0.3         3         46607  135606,6769  120182.185   \n",
       "\n",
       "    TerritoryID                OrderDate            SellStartDate  \\\n",
       "46            6  2012-05-30 00:00:00.000  2011-05-31 00:00:00.000   \n",
       "\n",
       "                SellEndDate  \n",
       "46  2013-05-29 00:00:00.000  "
      ]
     },
     "execution_count": 58,
     "metadata": {},
     "output_type": "execute_result"
    }
   ],
   "source": [
    "Road_650[Road_650['Size'] == '44'].head(1)"
   ]
  },
  {
   "cell_type": "code",
   "execution_count": 59,
   "id": "f6de0ce7",
   "metadata": {},
   "outputs": [],
   "source": [
    "BlackRoad_250_44id = 793\n",
    "BlackRoad_250_48id = 794\n",
    "BlackRoad_650_44id = 762"
   ]
  },
  {
   "cell_type": "code",
   "execution_count": 63,
   "id": "ed39f430",
   "metadata": {},
   "outputs": [
    {
     "data": {
      "text/plain": [
       "11528"
      ]
     },
     "execution_count": 63,
     "metadata": {},
     "output_type": "execute_result"
    }
   ],
   "source": [
    "len(df[df['SellEndDate'].isnull()])"
   ]
  },
  {
   "cell_type": "code",
   "execution_count": 64,
   "id": "971092f5",
   "metadata": {},
   "outputs": [
    {
     "data": {
      "text/plain": [
       "19021"
      ]
     },
     "execution_count": 64,
     "metadata": {},
     "output_type": "execute_result"
    }
   ],
   "source": [
    "len(df)"
   ]
  },
  {
   "cell_type": "markdown",
   "id": "a6c3fd7e",
   "metadata": {},
   "source": [
    "There is intresting thing here, becouse red Road 650 in size 44, has been removed from the store in Maj 2013, but there was some salles of this item after that date. Below I found out more of the product like this:"
   ]
  },
  {
   "cell_type": "code",
   "execution_count": 68,
   "id": "805f2606",
   "metadata": {},
   "outputs": [
    {
     "data": {
      "text/html": [
       "<div>\n",
       "<style scoped>\n",
       "    .dataframe tbody tr th:only-of-type {\n",
       "        vertical-align: middle;\n",
       "    }\n",
       "\n",
       "    .dataframe tbody tr th {\n",
       "        vertical-align: top;\n",
       "    }\n",
       "\n",
       "    .dataframe thead th {\n",
       "        text-align: right;\n",
       "    }\n",
       "</style>\n",
       "<table border=\"1\" class=\"dataframe\">\n",
       "  <thead>\n",
       "    <tr style=\"text-align: right;\">\n",
       "      <th></th>\n",
       "      <th>ProductID</th>\n",
       "      <th>Name</th>\n",
       "      <th>LastOrderDate</th>\n",
       "      <th>SellEndDate</th>\n",
       "      <th>OrderQty</th>\n",
       "      <th>GP</th>\n",
       "      <th>avgSellPrice</th>\n",
       "      <th>avgCosts</th>\n",
       "    </tr>\n",
       "  </thead>\n",
       "  <tbody>\n",
       "    <tr>\n",
       "      <th>0</th>\n",
       "      <td>762</td>\n",
       "      <td>Road-650 Red, 44</td>\n",
       "      <td>2014-03-30 00:00:00.000</td>\n",
       "      <td>2013-05-29 00:00:00.000</td>\n",
       "      <td>10</td>\n",
       "      <td>385,231</td>\n",
       "      <td>563,7528</td>\n",
       "      <td>486,7066</td>\n",
       "    </tr>\n",
       "    <tr>\n",
       "      <th>1</th>\n",
       "      <td>770</td>\n",
       "      <td>Road-650 Black, 52</td>\n",
       "      <td>2013-12-31 00:00:00.000</td>\n",
       "      <td>2013-05-29 00:00:00.000</td>\n",
       "      <td>5</td>\n",
       "      <td>231,1386</td>\n",
       "      <td>563,7528</td>\n",
       "      <td>486,7066</td>\n",
       "    </tr>\n",
       "    <tr>\n",
       "      <th>2</th>\n",
       "      <td>765</td>\n",
       "      <td>Road-650 Black, 58</td>\n",
       "      <td>2014-03-30 00:00:00.000</td>\n",
       "      <td>2013-05-29 00:00:00.000</td>\n",
       "      <td>6</td>\n",
       "      <td>385,231</td>\n",
       "      <td>563,7528</td>\n",
       "      <td>486,7066</td>\n",
       "    </tr>\n",
       "    <tr>\n",
       "      <th>3</th>\n",
       "      <td>760</td>\n",
       "      <td>Road-650 Red, 60</td>\n",
       "      <td>2014-03-30 00:00:00.000</td>\n",
       "      <td>2013-05-29 00:00:00.000</td>\n",
       "      <td>11</td>\n",
       "      <td>308,1848</td>\n",
       "      <td>563,7528</td>\n",
       "      <td>486,7066</td>\n",
       "    </tr>\n",
       "    <tr>\n",
       "      <th>4</th>\n",
       "      <td>769</td>\n",
       "      <td>Road-650 Black, 48</td>\n",
       "      <td>2013-11-30 00:00:00.000</td>\n",
       "      <td>2013-05-29 00:00:00.000</td>\n",
       "      <td>1</td>\n",
       "      <td>77,0462</td>\n",
       "      <td>563,7528</td>\n",
       "      <td>486,7066</td>\n",
       "    </tr>\n",
       "    <tr>\n",
       "      <th>5</th>\n",
       "      <td>763</td>\n",
       "      <td>Road-650 Red, 48</td>\n",
       "      <td>2014-03-30 00:00:00.000</td>\n",
       "      <td>2013-05-29 00:00:00.000</td>\n",
       "      <td>2</td>\n",
       "      <td>154,0924</td>\n",
       "      <td>563,7528</td>\n",
       "      <td>486,7066</td>\n",
       "    </tr>\n",
       "    <tr>\n",
       "      <th>6</th>\n",
       "      <td>761</td>\n",
       "      <td>Road-650 Red, 62</td>\n",
       "      <td>2014-03-30 00:00:00.000</td>\n",
       "      <td>2013-05-29 00:00:00.000</td>\n",
       "      <td>10</td>\n",
       "      <td>385,231</td>\n",
       "      <td>563,7528</td>\n",
       "      <td>486,7066</td>\n",
       "    </tr>\n",
       "    <tr>\n",
       "      <th>7</th>\n",
       "      <td>790</td>\n",
       "      <td>Road-250 Red, 48</td>\n",
       "      <td>2013-11-30 00:00:00.000</td>\n",
       "      <td>2013-05-29 00:00:00.000</td>\n",
       "      <td>3</td>\n",
       "      <td>240,4256</td>\n",
       "      <td>1759,212</td>\n",
       "      <td>1518,7864</td>\n",
       "    </tr>\n",
       "  </tbody>\n",
       "</table>\n",
       "</div>"
      ],
      "text/plain": [
       "   ProductID                Name            LastOrderDate  \\\n",
       "0        762    Road-650 Red, 44  2014-03-30 00:00:00.000   \n",
       "1        770  Road-650 Black, 52  2013-12-31 00:00:00.000   \n",
       "2        765  Road-650 Black, 58  2014-03-30 00:00:00.000   \n",
       "3        760    Road-650 Red, 60  2014-03-30 00:00:00.000   \n",
       "4        769  Road-650 Black, 48  2013-11-30 00:00:00.000   \n",
       "5        763    Road-650 Red, 48  2014-03-30 00:00:00.000   \n",
       "6        761    Road-650 Red, 62  2014-03-30 00:00:00.000   \n",
       "7        790    Road-250 Red, 48  2013-11-30 00:00:00.000   \n",
       "\n",
       "               SellEndDate  OrderQty        GP avgSellPrice   avgCosts  \n",
       "0  2013-05-29 00:00:00.000        10   385,231     563,7528   486,7066  \n",
       "1  2013-05-29 00:00:00.000         5  231,1386     563,7528   486,7066  \n",
       "2  2013-05-29 00:00:00.000         6   385,231     563,7528   486,7066  \n",
       "3  2013-05-29 00:00:00.000        11  308,1848     563,7528   486,7066  \n",
       "4  2013-05-29 00:00:00.000         1   77,0462     563,7528   486,7066  \n",
       "5  2013-05-29 00:00:00.000         2  154,0924     563,7528   486,7066  \n",
       "6  2013-05-29 00:00:00.000        10   385,231     563,7528   486,7066  \n",
       "7  2013-05-29 00:00:00.000         3  240,4256     1759,212  1518,7864  "
      ]
     },
     "execution_count": 68,
     "metadata": {},
     "output_type": "execute_result"
    }
   ],
   "source": [
    "pd.read_csv('SoldAfterEndDate.csv', sep=\";\")"
   ]
  },
  {
   "cell_type": "markdown",
   "id": "917a252f",
   "metadata": {},
   "source": [
    "As we can see there is 8 of them. Fortunetly the sum of orders for each bike is not to big. What is intresting as well is that all of the bikes has been sold above the standard costs. "
   ]
  },
  {
   "cell_type": "markdown",
   "id": "eced1de6",
   "metadata": {},
   "source": [
    "### Conclusion\n",
    "\n",
    "I must repeat the proces, becouse I took the all the products that has been sold in 2012-2014, but I didn't notice that there might be situation that Adventure shop can sale product that is not aveliable in the store. Unfortunetly I must repeat the proces also for bikes that has been sold in both year (which I made in \"BikesNoLongerAveliableIn2013Analysis.ipynb\")"
   ]
  },
  {
   "cell_type": "markdown",
   "id": "6ebb02aa",
   "metadata": {},
   "source": [
    "---------------------------------------------------------------------------------------------------------\n",
    "I decided also that I will do grouping, selection and filtering in MSSQL, then do the visualization jupyter again"
   ]
  },
  {
   "cell_type": "code",
   "execution_count": null,
   "id": "547511cb",
   "metadata": {},
   "outputs": [],
   "source": []
  }
 ],
 "metadata": {
  "kernelspec": {
   "display_name": "Python 3",
   "language": "python",
   "name": "python3"
  },
  "language_info": {
   "codemirror_mode": {
    "name": "ipython",
    "version": 3
   },
   "file_extension": ".py",
   "mimetype": "text/x-python",
   "name": "python",
   "nbconvert_exporter": "python",
   "pygments_lexer": "ipython3",
   "version": "3.8.8"
  }
 },
 "nbformat": 4,
 "nbformat_minor": 5
}
