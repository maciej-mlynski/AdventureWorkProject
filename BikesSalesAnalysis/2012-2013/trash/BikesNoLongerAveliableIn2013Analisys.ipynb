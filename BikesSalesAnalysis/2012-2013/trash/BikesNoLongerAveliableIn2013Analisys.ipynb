{
 "cells": [
  {
   "cell_type": "code",
   "execution_count": 1,
   "id": "4c837f51",
   "metadata": {},
   "outputs": [],
   "source": [
    "import pandas as pd\n",
    "import numpy as np\n",
    "import matplotlib.pyplot as plt\n",
    "%matplotlib inline\n",
    "import seaborn as sns\n",
    "pd.set_option('display.max_columns', None)"
   ]
  },
  {
   "cell_type": "code",
   "execution_count": 3,
   "id": "b5ae4538",
   "metadata": {},
   "outputs": [],
   "source": [
    "df = pd.read_csv('removed_in2013.csv', sep=';', header=0)"
   ]
  },
  {
   "cell_type": "code",
   "execution_count": 5,
   "id": "f0e7350f",
   "metadata": {},
   "outputs": [],
   "source": [
    "df['UnitPrice'] = df[['UnitPrice']].applymap(lambda x: str(x.replace(',','.'))).astype('float')\n",
    "df['StandardCost'] = df[['StandardCost']].applymap(lambda x: str(x.replace(',','.'))).astype('float')\n",
    "df['UnitPriceDiscount'] = df[['UnitPriceDiscount']].applymap(lambda x: str(x.replace(',','.'))).astype('float')\n",
    "df['SubTotal'] = df[['SubTotal']].applymap(lambda x: str(x.replace(',','.'))).astype('float')\n",
    "df['ListPrice'] = df[['ListPrice']].applymap(lambda x: str(x.replace(',','.'))).astype('float')"
   ]
  },
  {
   "cell_type": "code",
   "execution_count": 6,
   "id": "ddac8c4f",
   "metadata": {},
   "outputs": [],
   "source": [
    "df['SellStartDate'] =  pd.to_datetime(df['SellStartDate'])\n",
    "\n",
    "df['SellEndDate'] =  pd.to_datetime(df['SellEndDate'])"
   ]
  },
  {
   "cell_type": "code",
   "execution_count": 7,
   "id": "ff6f9bcf",
   "metadata": {},
   "outputs": [],
   "source": [
    "df.to_csv('removed_in2013Prepared.csv', index=False)"
   ]
  },
  {
   "cell_type": "code",
   "execution_count": 8,
   "id": "a3726625",
   "metadata": {},
   "outputs": [],
   "source": [
    "df = pd.read_csv('removed_in2013Prepared.csv')"
   ]
  },
  {
   "cell_type": "code",
   "execution_count": 9,
   "id": "43519192",
   "metadata": {},
   "outputs": [],
   "source": [
    "bikes = df[df['CatName'] == 'Bikes'].copy()"
   ]
  },
  {
   "cell_type": "code",
   "execution_count": 10,
   "id": "1cff326a",
   "metadata": {},
   "outputs": [],
   "source": [
    "bikes['GrossProfit'] = (bikes['UnitPrice'] *(1-df['UnitPriceDiscount']) - bikes['StandardCost']) * bikes['OrderQty']\n",
    "\n",
    "bikes['ROI'] = bikes['GrossProfit'] / (bikes['StandardCost'] * bikes['OrderQty'])"
   ]
  },
  {
   "cell_type": "code",
   "execution_count": 11,
   "id": "3d03f301",
   "metadata": {},
   "outputs": [],
   "source": [
    "ModelsSale = bikes.groupby(['ModelName']).agg({'OrderQty':['sum'], 'GrossProfit': ['mean', 'sum'], 'ROI':['mean']})"
   ]
  },
  {
   "cell_type": "code",
   "execution_count": 12,
   "id": "b0b645c6",
   "metadata": {},
   "outputs": [
    {
     "data": {
      "text/plain": [
       "346490.73637300025"
      ]
     },
     "execution_count": 12,
     "metadata": {},
     "output_type": "execute_result"
    }
   ],
   "source": [
    "ModelsSale['GrossProfit']['sum'].sum()"
   ]
  },
  {
   "cell_type": "code",
   "execution_count": 13,
   "id": "8fbf5e4f",
   "metadata": {},
   "outputs": [
    {
     "data": {
      "text/html": [
       "<div>\n",
       "<style scoped>\n",
       "    .dataframe tbody tr th:only-of-type {\n",
       "        vertical-align: middle;\n",
       "    }\n",
       "\n",
       "    .dataframe tbody tr th {\n",
       "        vertical-align: top;\n",
       "    }\n",
       "\n",
       "    .dataframe thead tr th {\n",
       "        text-align: left;\n",
       "    }\n",
       "\n",
       "    .dataframe thead tr:last-of-type th {\n",
       "        text-align: right;\n",
       "    }\n",
       "</style>\n",
       "<table border=\"1\" class=\"dataframe\">\n",
       "  <thead>\n",
       "    <tr>\n",
       "      <th></th>\n",
       "      <th>OrderQty</th>\n",
       "      <th colspan=\"2\" halign=\"left\">GrossProfit</th>\n",
       "      <th>ROI</th>\n",
       "    </tr>\n",
       "    <tr>\n",
       "      <th></th>\n",
       "      <th>sum</th>\n",
       "      <th>mean</th>\n",
       "      <th>sum</th>\n",
       "      <th>mean</th>\n",
       "    </tr>\n",
       "    <tr>\n",
       "      <th>ModelName</th>\n",
       "      <th></th>\n",
       "      <th></th>\n",
       "      <th></th>\n",
       "      <th></th>\n",
       "    </tr>\n",
       "  </thead>\n",
       "  <tbody>\n",
       "    <tr>\n",
       "      <th>Mountain-300</th>\n",
       "      <td>2947</td>\n",
       "      <td>160.693799</td>\n",
       "      <td>143660.256320</td>\n",
       "      <td>0.082431</td>\n",
       "    </tr>\n",
       "    <tr>\n",
       "      <th>Road-250</th>\n",
       "      <td>1534</td>\n",
       "      <td>272.965710</td>\n",
       "      <td>185070.751385</td>\n",
       "      <td>0.227822</td>\n",
       "    </tr>\n",
       "    <tr>\n",
       "      <th>Road-650</th>\n",
       "      <td>3157</td>\n",
       "      <td>15.244402</td>\n",
       "      <td>17759.728668</td>\n",
       "      <td>0.091654</td>\n",
       "    </tr>\n",
       "  </tbody>\n",
       "</table>\n",
       "</div>"
      ],
      "text/plain": [
       "             OrderQty GrossProfit                      ROI\n",
       "                  sum        mean            sum      mean\n",
       "ModelName                                                 \n",
       "Mountain-300     2947  160.693799  143660.256320  0.082431\n",
       "Road-250         1534  272.965710  185070.751385  0.227822\n",
       "Road-650         3157   15.244402   17759.728668  0.091654"
      ]
     },
     "execution_count": 13,
     "metadata": {},
     "output_type": "execute_result"
    }
   ],
   "source": [
    "ModelsSale"
   ]
  },
  {
   "cell_type": "code",
   "execution_count": 14,
   "id": "be328988",
   "metadata": {},
   "outputs": [
    {
     "data": {
      "text/plain": [
       "<AxesSubplot:xlabel='ModelName', ylabel='sum'>"
      ]
     },
     "execution_count": 14,
     "metadata": {},
     "output_type": "execute_result"
    },
    {
     "data": {
      "image/png": "[encoded data removed]",
      "text/plain": [
       "<Figure size 432x288 with 1 Axes>"
      ]
     },
     "metadata": {
      "needs_background": "light"
     },
     "output_type": "display_data"
    }
   ],
   "source": [
    "sns.barplot(x=ModelsSale.index, y=ModelsSale['OrderQty']['sum'])"
   ]
  },
  {
   "cell_type": "code",
   "execution_count": 15,
   "id": "ab8e3350",
   "metadata": {},
   "outputs": [
    {
     "data": {
      "image/png": "[encoded data removed]",
      "text/plain": [
       "<Figure size 432x288 with 1 Axes>"
      ]
     },
     "metadata": {},
     "output_type": "display_data"
    }
   ],
   "source": [
    "plt.pie(ModelsSale['OrderQty']['sum'], autopct = '%0.0f%%', labels =ModelsSale.index);"
   ]
  },
  {
   "cell_type": "code",
   "execution_count": 16,
   "id": "e6cf7211",
   "metadata": {},
   "outputs": [
    {
     "data": {
      "text/plain": [
       "<AxesSubplot:xlabel='ModelName', ylabel='sum'>"
      ]
     },
     "execution_count": 16,
     "metadata": {},
     "output_type": "execute_result"
    },
    {
     "data": {
      "image/png": "[encoded data removed]",
      "text/plain": [
       "<Figure size 432x288 with 1 Axes>"
      ]
     },
     "metadata": {
      "needs_background": "light"
     },
     "output_type": "display_data"
    }
   ],
   "source": [
    "sns.barplot(x=ModelsSale.index, y=ModelsSale['GrossProfit']['sum'])"
   ]
  },
  {
   "cell_type": "code",
   "execution_count": 17,
   "id": "0e8c508c",
   "metadata": {},
   "outputs": [],
   "source": [
    "ProductsSale = bikes.groupby(['ProductID']).agg({'OrderQty':['sum'], 'GrossProfit': ['mean', 'sum'], 'ROI':['mean']})"
   ]
  },
  {
   "cell_type": "code",
   "execution_count": 18,
   "id": "ce3ff05b",
   "metadata": {},
   "outputs": [
    {
     "data": {
      "text/plain": [
       "<AxesSubplot:xlabel='ProductID', ylabel='sum'>"
      ]
     },
     "execution_count": 18,
     "metadata": {},
     "output_type": "execute_result"
    },
    {
     "data": {
      "image/png": "[encoded data removed]",
      "text/plain": [
       "<Figure size 432x288 with 1 Axes>"
      ]
     },
     "metadata": {
      "needs_background": "light"
     },
     "output_type": "display_data"
    }
   ],
   "source": [
    "sns.barplot(x=ProductsSale.index, y=ProductsSale['OrderQty']['sum'])"
   ]
  },
  {
   "cell_type": "code",
   "execution_count": 19,
   "id": "d00342ae",
   "metadata": {},
   "outputs": [
    {
     "data": {
      "text/plain": [
       "<AxesSubplot:xlabel='ProductID', ylabel='sum'>"
      ]
     },
     "execution_count": 19,
     "metadata": {},
     "output_type": "execute_result"
    },
    {
     "data": {
      "image/png": "[encoded data removed]",
      "text/plain": [
       "<Figure size 432x288 with 1 Axes>"
      ]
     },
     "metadata": {
      "needs_background": "light"
     },
     "output_type": "display_data"
    }
   ],
   "source": [
    "sns.barplot(x=ProductsSale.index, y=ProductsSale['GrossProfit']['sum'])"
   ]
  },
  {
   "cell_type": "markdown",
   "id": "4593d044",
   "metadata": {},
   "source": [
    "What is realu intresting is that the bikes that has been removed from the stor next year, actually bring fair profit to the company."
   ]
  },
  {
   "cell_type": "code",
   "execution_count": 20,
   "id": "3ba5d74a",
   "metadata": {},
   "outputs": [],
   "source": [
    "Models_color = bikes.groupby(['ModelName', 'Color', 'Size']).agg({'OrderQty':['sum'], 'GrossProfit': ['mean', 'sum'], 'ROI':['mean']})"
   ]
  },
  {
   "cell_type": "code",
   "execution_count": 21,
   "id": "d1ea59b5",
   "metadata": {},
   "outputs": [
    {
     "data": {
      "text/html": [
       "<div>\n",
       "<style scoped>\n",
       "    .dataframe tbody tr th:only-of-type {\n",
       "        vertical-align: middle;\n",
       "    }\n",
       "\n",
       "    .dataframe tbody tr th {\n",
       "        vertical-align: top;\n",
       "    }\n",
       "\n",
       "    .dataframe thead tr th {\n",
       "        text-align: left;\n",
       "    }\n",
       "\n",
       "    .dataframe thead tr:last-of-type th {\n",
       "        text-align: right;\n",
       "    }\n",
       "</style>\n",
       "<table border=\"1\" class=\"dataframe\">\n",
       "  <thead>\n",
       "    <tr>\n",
       "      <th></th>\n",
       "      <th></th>\n",
       "      <th></th>\n",
       "      <th>OrderQty</th>\n",
       "      <th colspan=\"2\" halign=\"left\">GrossProfit</th>\n",
       "      <th>ROI</th>\n",
       "    </tr>\n",
       "    <tr>\n",
       "      <th></th>\n",
       "      <th></th>\n",
       "      <th></th>\n",
       "      <th>sum</th>\n",
       "      <th>mean</th>\n",
       "      <th>sum</th>\n",
       "      <th>mean</th>\n",
       "    </tr>\n",
       "    <tr>\n",
       "      <th>ModelName</th>\n",
       "      <th>Color</th>\n",
       "      <th>Size</th>\n",
       "      <th></th>\n",
       "      <th></th>\n",
       "      <th></th>\n",
       "      <th></th>\n",
       "    </tr>\n",
       "  </thead>\n",
       "  <tbody>\n",
       "    <tr>\n",
       "      <th rowspan=\"4\" valign=\"top\">Mountain-300</th>\n",
       "      <th rowspan=\"4\" valign=\"top\">Black</th>\n",
       "      <th>38</th>\n",
       "      <td>684</td>\n",
       "      <td>150.669424</td>\n",
       "      <td>33147.273352</td>\n",
       "      <td>0.082295</td>\n",
       "    </tr>\n",
       "    <tr>\n",
       "      <th>40</th>\n",
       "      <td>776</td>\n",
       "      <td>167.098676</td>\n",
       "      <td>37263.004660</td>\n",
       "      <td>0.082046</td>\n",
       "    </tr>\n",
       "    <tr>\n",
       "      <th>44</th>\n",
       "      <td>747</td>\n",
       "      <td>162.369624</td>\n",
       "      <td>37020.274200</td>\n",
       "      <td>0.082814</td>\n",
       "    </tr>\n",
       "    <tr>\n",
       "      <th>48</th>\n",
       "      <td>740</td>\n",
       "      <td>162.465041</td>\n",
       "      <td>36229.704108</td>\n",
       "      <td>0.082558</td>\n",
       "    </tr>\n",
       "    <tr>\n",
       "      <th rowspan=\"2\" valign=\"top\">Road-250</th>\n",
       "      <th rowspan=\"2\" valign=\"top\">Red</th>\n",
       "      <th>44</th>\n",
       "      <td>895</td>\n",
       "      <td>243.979810</td>\n",
       "      <td>88808.650985</td>\n",
       "      <td>0.219201</td>\n",
       "    </tr>\n",
       "    <tr>\n",
       "      <th>52</th>\n",
       "      <td>639</td>\n",
       "      <td>306.567199</td>\n",
       "      <td>96262.100400</td>\n",
       "      <td>0.237816</td>\n",
       "    </tr>\n",
       "    <tr>\n",
       "      <th rowspan=\"5\" valign=\"top\">Road-650</th>\n",
       "      <th rowspan=\"3\" valign=\"top\">Black</th>\n",
       "      <th>44</th>\n",
       "      <td>745</td>\n",
       "      <td>0.982577</td>\n",
       "      <td>257.435192</td>\n",
       "      <td>0.068213</td>\n",
       "    </tr>\n",
       "    <tr>\n",
       "      <th>60</th>\n",
       "      <td>753</td>\n",
       "      <td>7.476210</td>\n",
       "      <td>2026.052876</td>\n",
       "      <td>0.079041</td>\n",
       "    </tr>\n",
       "    <tr>\n",
       "      <th>62</th>\n",
       "      <td>447</td>\n",
       "      <td>32.458768</td>\n",
       "      <td>5907.495800</td>\n",
       "      <td>0.117287</td>\n",
       "    </tr>\n",
       "    <tr>\n",
       "      <th rowspan=\"2\" valign=\"top\">Red</th>\n",
       "      <th>52</th>\n",
       "      <td>770</td>\n",
       "      <td>-0.693382</td>\n",
       "      <td>-181.666000</td>\n",
       "      <td>0.065951</td>\n",
       "    </tr>\n",
       "    <tr>\n",
       "      <th>58</th>\n",
       "      <td>442</td>\n",
       "      <td>51.863887</td>\n",
       "      <td>9750.410800</td>\n",
       "      <td>0.153509</td>\n",
       "    </tr>\n",
       "  </tbody>\n",
       "</table>\n",
       "</div>"
      ],
      "text/plain": [
       "                        OrderQty GrossProfit                     ROI\n",
       "                             sum        mean           sum      mean\n",
       "ModelName    Color Size                                             \n",
       "Mountain-300 Black 38        684  150.669424  33147.273352  0.082295\n",
       "                   40        776  167.098676  37263.004660  0.082046\n",
       "                   44        747  162.369624  37020.274200  0.082814\n",
       "                   48        740  162.465041  36229.704108  0.082558\n",
       "Road-250     Red   44        895  243.979810  88808.650985  0.219201\n",
       "                   52        639  306.567199  96262.100400  0.237816\n",
       "Road-650     Black 44        745    0.982577    257.435192  0.068213\n",
       "                   60        753    7.476210   2026.052876  0.079041\n",
       "                   62        447   32.458768   5907.495800  0.117287\n",
       "             Red   52        770   -0.693382   -181.666000  0.065951\n",
       "                   58        442   51.863887   9750.410800  0.153509"
      ]
     },
     "execution_count": 21,
     "metadata": {},
     "output_type": "execute_result"
    }
   ],
   "source": [
    "Models_color"
   ]
  },
  {
   "cell_type": "markdown",
   "id": "b8b413d7",
   "metadata": {},
   "source": [
    "That is a frame with models that has been removed from the store. As we can see from 11 bikes that has been removed, only one Road650 Red in size 52 gives negative income to the company"
   ]
  },
  {
   "cell_type": "markdown",
   "id": "5b119dea",
   "metadata": {},
   "source": [
    "We might assume that store does not have control about the models of bikes aveliable in the store. Probably production company which deliver product to the shop just stop producting this model at all/\n"
   ]
  },
  {
   "cell_type": "code",
   "execution_count": null,
   "id": "f817d03e",
   "metadata": {},
   "outputs": [],
   "source": []
  },
  {
   "cell_type": "code",
   "execution_count": null,
   "id": "460ed49c",
   "metadata": {},
   "outputs": [],
   "source": []
  },
  {
   "cell_type": "code",
   "execution_count": null,
   "id": "ef513587",
   "metadata": {},
   "outputs": [],
   "source": []
  },
  {
   "cell_type": "code",
   "execution_count": null,
   "id": "ec5ad548",
   "metadata": {},
   "outputs": [],
   "source": []
  },
  {
   "cell_type": "code",
   "execution_count": null,
   "id": "aa8c0dc8",
   "metadata": {},
   "outputs": [],
   "source": []
  },
  {
   "cell_type": "code",
   "execution_count": null,
   "id": "4b4a53ec",
   "metadata": {},
   "outputs": [],
   "source": []
  },
  {
   "cell_type": "code",
   "execution_count": null,
   "id": "161a4214",
   "metadata": {},
   "outputs": [],
   "source": []
  },
  {
   "cell_type": "code",
   "execution_count": 25,
   "id": "8dbdf155",
   "metadata": {},
   "outputs": [
    {
     "data": {
      "text/plain": [
       "5861"
      ]
     },
     "execution_count": 25,
     "metadata": {},
     "output_type": "execute_result"
    }
   ],
   "source": [
    "len(df)"
   ]
  },
  {
   "cell_type": "code",
   "execution_count": null,
   "id": "eebee491",
   "metadata": {},
   "outputs": [],
   "source": []
  },
  {
   "cell_type": "code",
   "execution_count": null,
   "id": "b91e9391",
   "metadata": {},
   "outputs": [],
   "source": []
  },
  {
   "cell_type": "code",
   "execution_count": null,
   "id": "1c09ebd9",
   "metadata": {},
   "outputs": [],
   "source": []
  },
  {
   "cell_type": "code",
   "execution_count": null,
   "id": "8594720e",
   "metadata": {},
   "outputs": [],
   "source": []
  }
 ],
 "metadata": {
  "kernelspec": {
   "display_name": "Python 3",
   "language": "python",
   "name": "python3"
  },
  "language_info": {
   "codemirror_mode": {
    "name": "ipython",
    "version": 3
   },
   "file_extension": ".py",
   "mimetype": "text/x-python",
   "name": "python",
   "nbconvert_exporter": "python",
   "pygments_lexer": "ipython3",
   "version": "3.8.8"
  }
 },
 "nbformat": 4,
 "nbformat_minor": 5
}
