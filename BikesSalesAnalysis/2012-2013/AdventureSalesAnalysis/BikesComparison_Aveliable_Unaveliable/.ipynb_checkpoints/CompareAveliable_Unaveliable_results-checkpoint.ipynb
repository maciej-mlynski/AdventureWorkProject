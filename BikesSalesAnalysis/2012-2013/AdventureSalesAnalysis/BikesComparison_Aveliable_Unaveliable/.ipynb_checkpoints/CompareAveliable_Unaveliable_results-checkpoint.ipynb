{
 "cells": [
  {
   "cell_type": "code",
   "execution_count": 1,
   "id": "3d0d614c",
   "metadata": {},
   "outputs": [],
   "source": [
    "import pandas as pd\n",
    "import numpy as np\n",
    "import matplotlib.pyplot as plt\n",
    "%matplotlib inline\n",
    "import seaborn as sns\n",
    "pd.set_option('display.max_columns', None)"
   ]
  },
  {
   "cell_type": "code",
   "execution_count": 2,
   "id": "96f87122",
   "metadata": {},
   "outputs": [],
   "source": [
    "Amodels = pd.read_csv('../../GroupedData/2012-2013_Gr_Avlb_2013_model_color_size.csv', sep=';')\n",
    "Umodels = pd.read_csv('../../GroupedData/2012-2013_Gr_Unavlb_2013_model_color_size.csv', sep=';')"
   ]
  },
  {
   "cell_type": "code",
   "execution_count": 5,
   "id": "467a172c",
   "metadata": {},
   "outputs": [],
   "source": [
    "Umodels['totalSellAmt'] = Umodels[['totalSellAmt']].applymap(lambda x: str(x.replace(',','.'))).astype('float')\n",
    "Umodels['totalCosts'] = Umodels[['totalCosts']].applymap(lambda x: str(x.replace(',','.'))).astype('float')\n",
    "Umodels['totalGrossProfit'] = Umodels[['totalGrossProfit']].applymap(lambda x: str(x.replace(',','.'))).astype('float')\n",
    "Amodels['totalSellAmt'] = Amodels[['totalSellAmt']].applymap(lambda x: str(x.replace(',','.'))).astype('float')\n",
    "Amodels['totalCosts'] = Amodels[['totalCosts']].applymap(lambda x: str(x.replace(',','.'))).astype('float')\n",
    "Amodels['totalGrossProfit'] = Amodels[['totalGrossProfit']].applymap(lambda x: str(x.replace(',','.'))).astype('float')"
   ]
  },
  {
   "cell_type": "markdown",
   "id": "b27ca367",
   "metadata": {},
   "source": [
    "#### 1. By models"
   ]
  },
  {
   "cell_type": "code",
   "execution_count": 6,
   "id": "5d37fca4",
   "metadata": {},
   "outputs": [],
   "source": [
    "by_Umodels = Umodels[Umodels['Size'].isnull() & Umodels['Color'].isnull()]\n",
    "by_Amodels = Amodels[Amodels['Size'].isnull() & Amodels['Color'].isnull()]"
   ]
  },
  {
   "cell_type": "code",
   "execution_count": 11,
   "id": "f5a71a89",
   "metadata": {},
   "outputs": [
    {
     "data": {
      "text/html": [
       "<div>\n",
       "<style scoped>\n",
       "    .dataframe tbody tr th:only-of-type {\n",
       "        vertical-align: middle;\n",
       "    }\n",
       "\n",
       "    .dataframe tbody tr th {\n",
       "        vertical-align: top;\n",
       "    }\n",
       "\n",
       "    .dataframe thead th {\n",
       "        text-align: right;\n",
       "    }\n",
       "</style>\n",
       "<table border=\"1\" class=\"dataframe\">\n",
       "  <thead>\n",
       "    <tr style=\"text-align: right;\">\n",
       "      <th></th>\n",
       "      <th>ModelName</th>\n",
       "      <th>Color</th>\n",
       "      <th>Size</th>\n",
       "      <th>totalSellAmt</th>\n",
       "      <th>totalCosts</th>\n",
       "      <th>totalQuantity</th>\n",
       "      <th>totalGrossProfit</th>\n",
       "    </tr>\n",
       "  </thead>\n",
       "  <tbody>\n",
       "    <tr>\n",
       "      <th>25</th>\n",
       "      <td>Mountain-200</td>\n",
       "      <td>NaN</td>\n",
       "      <td>NaN</td>\n",
       "      <td>9.477609e+06</td>\n",
       "      <td>8.769412e+06</td>\n",
       "      <td>6968</td>\n",
       "      <td>708196.7144</td>\n",
       "    </tr>\n",
       "    <tr>\n",
       "      <th>26</th>\n",
       "      <td>Road-250</td>\n",
       "      <td>NaN</td>\n",
       "      <td>NaN</td>\n",
       "      <td>5.026868e+06</td>\n",
       "      <td>5.193526e+06</td>\n",
       "      <td>3340</td>\n",
       "      <td>-166657.9724</td>\n",
       "    </tr>\n",
       "    <tr>\n",
       "      <th>27</th>\n",
       "      <td>Road-550-W</td>\n",
       "      <td>NaN</td>\n",
       "      <td>NaN</td>\n",
       "      <td>2.195593e+06</td>\n",
       "      <td>2.442298e+06</td>\n",
       "      <td>3425</td>\n",
       "      <td>-246705.7617</td>\n",
       "    </tr>\n",
       "  </tbody>\n",
       "</table>\n",
       "</div>"
      ],
      "text/plain": [
       "       ModelName Color  Size  totalSellAmt    totalCosts  totalQuantity  \\\n",
       "25  Mountain-200   NaN   NaN  9.477609e+06  8.769412e+06           6968   \n",
       "26      Road-250   NaN   NaN  5.026868e+06  5.193526e+06           3340   \n",
       "27    Road-550-W   NaN   NaN  2.195593e+06  2.442298e+06           3425   \n",
       "\n",
       "    totalGrossProfit  \n",
       "25       708196.7144  \n",
       "26      -166657.9724  \n",
       "27      -246705.7617  "
      ]
     },
     "execution_count": 11,
     "metadata": {},
     "output_type": "execute_result"
    }
   ],
   "source": [
    "by_Amodels"
   ]
  },
  {
   "cell_type": "code",
   "execution_count": 12,
   "id": "f10503ed",
   "metadata": {},
   "outputs": [
    {
     "name": "stderr",
     "output_type": "stream",
     "text": [
      "C:\\ProgramData\\Anaconda3\\lib\\site-packages\\pandas\\core\\indexing.py:1732: SettingWithCopyWarning: \n",
      "A value is trying to be set on a copy of a slice from a DataFrame\n",
      "\n",
      "See the caveats in the documentation: https://pandas.pydata.org/pandas-docs/stable/user_guide/indexing.html#returning-a-view-versus-a-copy\n",
      "  self._setitem_single_block(indexer, value, name)\n"
     ]
    }
   ],
   "source": [
    "by_Umodels['ModelName'].iloc[0] = 'UnavMountain-300'\n",
    "by_Umodels['ModelName'].iloc[1] = 'UnavRoad-250'\n",
    "by_Umodels['ModelName'].iloc[2] = 'UnavRoad-650'"
   ]
  },
  {
   "cell_type": "code",
   "execution_count": 13,
   "id": "84a202ff",
   "metadata": {},
   "outputs": [],
   "source": [
    "by_Amodels['ModelName'].iloc[0] = 'AvMountain-200'\n",
    "by_Amodels['ModelName'].iloc[1] = 'AvRoad-250'\n",
    "by_Amodels['ModelName'].iloc[2] = 'AvRoad-550-W'"
   ]
  },
  {
   "cell_type": "code",
   "execution_count": 16,
   "id": "39615f85",
   "metadata": {},
   "outputs": [],
   "source": [
    "allModels = pd.concat([by_Umodels, by_Amodels])"
   ]
  },
  {
   "cell_type": "code",
   "execution_count": 18,
   "id": "a58794ed",
   "metadata": {},
   "outputs": [
    {
     "data": {
      "text/html": [
       "<div>\n",
       "<style scoped>\n",
       "    .dataframe tbody tr th:only-of-type {\n",
       "        vertical-align: middle;\n",
       "    }\n",
       "\n",
       "    .dataframe tbody tr th {\n",
       "        vertical-align: top;\n",
       "    }\n",
       "\n",
       "    .dataframe thead th {\n",
       "        text-align: right;\n",
       "    }\n",
       "</style>\n",
       "<table border=\"1\" class=\"dataframe\">\n",
       "  <thead>\n",
       "    <tr style=\"text-align: right;\">\n",
       "      <th></th>\n",
       "      <th>ModelName</th>\n",
       "      <th>Color</th>\n",
       "      <th>Size</th>\n",
       "      <th>totalSellAmt</th>\n",
       "      <th>totalCosts</th>\n",
       "      <th>totalQuantity</th>\n",
       "      <th>totalGrossProfit</th>\n",
       "    </tr>\n",
       "  </thead>\n",
       "  <tbody>\n",
       "    <tr>\n",
       "      <th>25</th>\n",
       "      <td>UnavMountain-300</td>\n",
       "      <td>NaN</td>\n",
       "      <td>NaN</td>\n",
       "      <td>1.907249e+06</td>\n",
       "      <td>1.763589e+06</td>\n",
       "      <td>2947</td>\n",
       "      <td>143660.2552</td>\n",
       "    </tr>\n",
       "    <tr>\n",
       "      <th>26</th>\n",
       "      <td>UnavRoad-250</td>\n",
       "      <td>NaN</td>\n",
       "      <td>NaN</td>\n",
       "      <td>3.858371e+06</td>\n",
       "      <td>3.558517e+06</td>\n",
       "      <td>2343</td>\n",
       "      <td>299854.4143</td>\n",
       "    </tr>\n",
       "    <tr>\n",
       "      <th>27</th>\n",
       "      <td>UnavRoad-650</td>\n",
       "      <td>NaN</td>\n",
       "      <td>NaN</td>\n",
       "      <td>5.694308e+06</td>\n",
       "      <td>5.854107e+06</td>\n",
       "      <td>12028</td>\n",
       "      <td>-159799.2162</td>\n",
       "    </tr>\n",
       "    <tr>\n",
       "      <th>25</th>\n",
       "      <td>AvMountain-200</td>\n",
       "      <td>NaN</td>\n",
       "      <td>NaN</td>\n",
       "      <td>9.477609e+06</td>\n",
       "      <td>8.769412e+06</td>\n",
       "      <td>6968</td>\n",
       "      <td>708196.7144</td>\n",
       "    </tr>\n",
       "    <tr>\n",
       "      <th>26</th>\n",
       "      <td>AvRoad-250</td>\n",
       "      <td>NaN</td>\n",
       "      <td>NaN</td>\n",
       "      <td>5.026868e+06</td>\n",
       "      <td>5.193526e+06</td>\n",
       "      <td>3340</td>\n",
       "      <td>-166657.9724</td>\n",
       "    </tr>\n",
       "    <tr>\n",
       "      <th>27</th>\n",
       "      <td>AvRoad-550-W</td>\n",
       "      <td>NaN</td>\n",
       "      <td>NaN</td>\n",
       "      <td>2.195593e+06</td>\n",
       "      <td>2.442298e+06</td>\n",
       "      <td>3425</td>\n",
       "      <td>-246705.7617</td>\n",
       "    </tr>\n",
       "  </tbody>\n",
       "</table>\n",
       "</div>"
      ],
      "text/plain": [
       "           ModelName Color  Size  totalSellAmt    totalCosts  totalQuantity  \\\n",
       "25  UnavMountain-300   NaN   NaN  1.907249e+06  1.763589e+06           2947   \n",
       "26      UnavRoad-250   NaN   NaN  3.858371e+06  3.558517e+06           2343   \n",
       "27      UnavRoad-650   NaN   NaN  5.694308e+06  5.854107e+06          12028   \n",
       "25    AvMountain-200   NaN   NaN  9.477609e+06  8.769412e+06           6968   \n",
       "26        AvRoad-250   NaN   NaN  5.026868e+06  5.193526e+06           3340   \n",
       "27      AvRoad-550-W   NaN   NaN  2.195593e+06  2.442298e+06           3425   \n",
       "\n",
       "    totalGrossProfit  \n",
       "25       143660.2552  \n",
       "26       299854.4143  \n",
       "27      -159799.2162  \n",
       "25       708196.7144  \n",
       "26      -166657.9724  \n",
       "27      -246705.7617  "
      ]
     },
     "execution_count": 18,
     "metadata": {},
     "output_type": "execute_result"
    }
   ],
   "source": [
    "allModels"
   ]
  },
  {
   "cell_type": "code",
   "execution_count": 50,
   "id": "a587dddd",
   "metadata": {},
   "outputs": [
    {
     "data": {
      "image/png": "[encoded data removed]",
      "text/plain": [
       "<Figure size 864x576 with 1 Axes>"
      ]
     },
     "metadata": {},
     "output_type": "display_data"
    }
   ],
   "source": [
    "sns.barplot(x=allModels['ModelName'], y=allModels['totalGrossProfit'])\n",
    "plt.xticks(rotation=30);"
   ]
  },
  {
   "cell_type": "code",
   "execution_count": 19,
   "id": "f986d82d",
   "metadata": {},
   "outputs": [
    {
     "data": {
      "text/plain": [
       "4.951048951048951"
      ]
     },
     "execution_count": 19,
     "metadata": {},
     "output_type": "execute_result"
    }
   ],
   "source": [
    "708/143"
   ]
  },
  {
   "cell_type": "markdown",
   "id": "8cf8ed58",
   "metadata": {},
   "source": [
    "If we compare Mountain-300 Model which was not aveliable year after and Mountain-200 which was, we can see the total profit from each gropu is slightly different. Obviously removed bikes did not bring negative icome but it the total profit is almost 5 times lower in compare to unremover bikes "
   ]
  },
  {
   "cell_type": "markdown",
   "id": "e3f81ea4",
   "metadata": {},
   "source": [
    "As I wrote in previous notebooks I am intrested in Road-250 in each group of aveliability. I would like to know which size has been romoved and which gives the best results"
   ]
  },
  {
   "cell_type": "code",
   "execution_count": 24,
   "id": "7d8fd9f5",
   "metadata": {},
   "outputs": [],
   "source": [
    "Umodel_size_color = Umodels[Umodels['Color'].notnull() & Umodels['Size'].notnull() & Umodels['ModelName'].notnull()]"
   ]
  },
  {
   "cell_type": "code",
   "execution_count": 25,
   "id": "e2cbd7ec",
   "metadata": {},
   "outputs": [],
   "source": [
    "Amodel_size_color = Amodels[Amodels['Color'].notnull() & Amodels['Size'].notnull() & Amodels['ModelName'].notnull()]"
   ]
  },
  {
   "cell_type": "code",
   "execution_count": 28,
   "id": "ea3153dd",
   "metadata": {},
   "outputs": [],
   "source": [
    "URoad_250 = Umodel_size_color[Umodel_size_color['ModelName'] == 'Road-250']"
   ]
  },
  {
   "cell_type": "code",
   "execution_count": 29,
   "id": "93877d72",
   "metadata": {},
   "outputs": [],
   "source": [
    "ARoad_250 = Amodel_size_color[Amodel_size_color['ModelName'] == 'Road-250']"
   ]
  },
  {
   "cell_type": "code",
   "execution_count": 40,
   "id": "bd47aa0a",
   "metadata": {
    "scrolled": true
   },
   "outputs": [
    {
     "name": "stderr",
     "output_type": "stream",
     "text": [
      "C:\\ProgramData\\Anaconda3\\lib\\site-packages\\pandas\\core\\indexing.py:1732: SettingWithCopyWarning: \n",
      "A value is trying to be set on a copy of a slice from a DataFrame\n",
      "\n",
      "See the caveats in the documentation: https://pandas.pydata.org/pandas-docs/stable/user_guide/indexing.html#returning-a-view-versus-a-copy\n",
      "  self._setitem_single_block(indexer, value, name)\n"
     ]
    }
   ],
   "source": [
    "URoad_250['ModelName'].iloc[0] = 'URoad-250_Red-44'\n",
    "URoad_250['ModelName'].iloc[1] = 'URoad-250_Red-48'\n",
    "URoad_250['ModelName'].iloc[2] = 'URoad-250_Red-52'"
   ]
  },
  {
   "cell_type": "code",
   "execution_count": 42,
   "id": "8c5a344a",
   "metadata": {},
   "outputs": [
    {
     "name": "stderr",
     "output_type": "stream",
     "text": [
      "C:\\ProgramData\\Anaconda3\\lib\\site-packages\\pandas\\core\\indexing.py:1732: SettingWithCopyWarning: \n",
      "A value is trying to be set on a copy of a slice from a DataFrame\n",
      "\n",
      "See the caveats in the documentation: https://pandas.pydata.org/pandas-docs/stable/user_guide/indexing.html#returning-a-view-versus-a-copy\n",
      "  self._setitem_single_block(indexer, value, name)\n"
     ]
    }
   ],
   "source": [
    "ARoad_250['ModelName'].iloc[0] = 'ARoad-250_Black-44'\n",
    "ARoad_250['ModelName'].iloc[1] = 'ARoad-250_Black-48'\n",
    "ARoad_250['ModelName'].iloc[2] = 'ARoad-250_Black-52'\n",
    "ARoad_250['ModelName'].iloc[3] = 'ARoad-250_Black-85'\n",
    "ARoad_250['ModelName'].iloc[4] = 'ARoad-250_Red-58'"
   ]
  },
  {
   "cell_type": "code",
   "execution_count": 43,
   "id": "d40e975a",
   "metadata": {},
   "outputs": [],
   "source": [
    "AllRoad_250 = pd.concat([URoad_250, ARoad_250])"
   ]
  },
  {
   "cell_type": "code",
   "execution_count": 38,
   "id": "528e78d9",
   "metadata": {},
   "outputs": [
    {
     "data": {
      "text/html": [
       "<div>\n",
       "<style scoped>\n",
       "    .dataframe tbody tr th:only-of-type {\n",
       "        vertical-align: middle;\n",
       "    }\n",
       "\n",
       "    .dataframe tbody tr th {\n",
       "        vertical-align: top;\n",
       "    }\n",
       "\n",
       "    .dataframe thead th {\n",
       "        text-align: right;\n",
       "    }\n",
       "</style>\n",
       "<table border=\"1\" class=\"dataframe\">\n",
       "  <thead>\n",
       "    <tr style=\"text-align: right;\">\n",
       "      <th></th>\n",
       "      <th>ModelName</th>\n",
       "      <th>Color</th>\n",
       "      <th>Size</th>\n",
       "      <th>totalSellAmt</th>\n",
       "      <th>totalCosts</th>\n",
       "      <th>totalQuantity</th>\n",
       "      <th>totalGrossProfit</th>\n",
       "    </tr>\n",
       "  </thead>\n",
       "  <tbody>\n",
       "    <tr>\n",
       "      <th>13</th>\n",
       "      <td>URoad-250</td>\n",
       "      <td>Red</td>\n",
       "      <td>44.0</td>\n",
       "      <td>1.448122e+06</td>\n",
       "      <td>1.359314e+06</td>\n",
       "      <td>895</td>\n",
       "      <td>88808.6504</td>\n",
       "    </tr>\n",
       "    <tr>\n",
       "      <th>14</th>\n",
       "      <td>URoad-250</td>\n",
       "      <td>Red</td>\n",
       "      <td>48.0</td>\n",
       "      <td>1.343482e+06</td>\n",
       "      <td>1.228698e+06</td>\n",
       "      <td>809</td>\n",
       "      <td>114783.6635</td>\n",
       "    </tr>\n",
       "    <tr>\n",
       "      <th>15</th>\n",
       "      <td>URoad-250</td>\n",
       "      <td>Red</td>\n",
       "      <td>52.0</td>\n",
       "      <td>1.066767e+06</td>\n",
       "      <td>9.705045e+05</td>\n",
       "      <td>639</td>\n",
       "      <td>96262.1004</td>\n",
       "    </tr>\n",
       "    <tr>\n",
       "      <th>4</th>\n",
       "      <td>ARoad-250</td>\n",
       "      <td>Black</td>\n",
       "      <td>44.0</td>\n",
       "      <td>1.254396e+06</td>\n",
       "      <td>1.362134e+06</td>\n",
       "      <td>876</td>\n",
       "      <td>-107738.5365</td>\n",
       "    </tr>\n",
       "    <tr>\n",
       "      <th>5</th>\n",
       "      <td>ARoad-250</td>\n",
       "      <td>Black</td>\n",
       "      <td>48.0</td>\n",
       "      <td>1.149798e+06</td>\n",
       "      <td>1.220634e+06</td>\n",
       "      <td>785</td>\n",
       "      <td>-70836.3493</td>\n",
       "    </tr>\n",
       "    <tr>\n",
       "      <th>6</th>\n",
       "      <td>ARoad-250</td>\n",
       "      <td>Black</td>\n",
       "      <td>52.0</td>\n",
       "      <td>1.037551e+06</td>\n",
       "      <td>1.054255e+06</td>\n",
       "      <td>678</td>\n",
       "      <td>-16703.5512</td>\n",
       "    </tr>\n",
       "    <tr>\n",
       "      <th>7</th>\n",
       "      <td>ARoad-250</td>\n",
       "      <td>Black</td>\n",
       "      <td>58.0</td>\n",
       "      <td>7.631106e+05</td>\n",
       "      <td>7.572596e+05</td>\n",
       "      <td>487</td>\n",
       "      <td>5850.9352</td>\n",
       "    </tr>\n",
       "    <tr>\n",
       "      <th>10</th>\n",
       "      <td>ARoad-250</td>\n",
       "      <td>Red</td>\n",
       "      <td>58.0</td>\n",
       "      <td>8.220128e+05</td>\n",
       "      <td>7.992432e+05</td>\n",
       "      <td>514</td>\n",
       "      <td>22769.5294</td>\n",
       "    </tr>\n",
       "  </tbody>\n",
       "</table>\n",
       "</div>"
      ],
      "text/plain": [
       "    ModelName  Color  Size  totalSellAmt    totalCosts  totalQuantity  \\\n",
       "13  URoad-250    Red  44.0  1.448122e+06  1.359314e+06            895   \n",
       "14  URoad-250    Red  48.0  1.343482e+06  1.228698e+06            809   \n",
       "15  URoad-250    Red  52.0  1.066767e+06  9.705045e+05            639   \n",
       "4   ARoad-250  Black  44.0  1.254396e+06  1.362134e+06            876   \n",
       "5   ARoad-250  Black  48.0  1.149798e+06  1.220634e+06            785   \n",
       "6   ARoad-250  Black  52.0  1.037551e+06  1.054255e+06            678   \n",
       "7   ARoad-250  Black  58.0  7.631106e+05  7.572596e+05            487   \n",
       "10  ARoad-250    Red  58.0  8.220128e+05  7.992432e+05            514   \n",
       "\n",
       "    totalGrossProfit  \n",
       "13        88808.6504  \n",
       "14       114783.6635  \n",
       "15        96262.1004  \n",
       "4       -107738.5365  \n",
       "5        -70836.3493  \n",
       "6        -16703.5512  \n",
       "7          5850.9352  \n",
       "10        22769.5294  "
      ]
     },
     "execution_count": 38,
     "metadata": {},
     "output_type": "execute_result"
    }
   ],
   "source": [
    "AllRoad_250"
   ]
  },
  {
   "cell_type": "code",
   "execution_count": 47,
   "id": "11e11904",
   "metadata": {},
   "outputs": [],
   "source": [
    "sns.set(rc={'figure.figsize':(12,8)})"
   ]
  },
  {
   "cell_type": "code",
   "execution_count": 49,
   "id": "c1a6acf6",
   "metadata": {},
   "outputs": [
    {
     "data": {
      "image/png": "[encoded data removed]",
      "text/plain": [
       "<Figure size 864x576 with 1 Axes>"
      ]
     },
     "metadata": {},
     "output_type": "display_data"
    }
   ],
   "source": [
    "sns.barplot(x=AllRoad_250['ModelName'], y=AllRoad_250['totalGrossProfit'])\n",
    "plt.xticks(rotation=30);"
   ]
  },
  {
   "cell_type": "markdown",
   "id": "db4ea5e1",
   "metadata": {},
   "source": [
    "As we can see all road-250 bikes in color red bring positive income to the company. The best of them has been removed from the store, what is really intresting. Adv shop left only red road 250 in size 58 (the bigest one) with lowest income in this model. "
   ]
  },
  {
   "cell_type": "markdown",
   "id": "4ec99060",
   "metadata": {},
   "source": [
    "The most unprofitable road 250 bike is blask in 44 size. This bikes has not been removed from the sotre."
   ]
  },
  {
   "cell_type": "markdown",
   "id": "088ed0eb",
   "metadata": {},
   "source": [
    "------------------------------------------------------------------------------------------------\n",
    "In next notebook I will check the results of Aveliable products. This notebook will be in 2013-2014 folder. I hope that I will find out sth that could help me to know why Adventure shop made that decision"
   ]
  },
  {
   "cell_type": "code",
   "execution_count": null,
   "id": "82c947fc",
   "metadata": {},
   "outputs": [],
   "source": []
  }
 ],
 "metadata": {
  "kernelspec": {
   "display_name": "Python 3",
   "language": "python",
   "name": "python3"
  },
  "language_info": {
   "codemirror_mode": {
    "name": "ipython",
    "version": 3
   },
   "file_extension": ".py",
   "mimetype": "text/x-python",
   "name": "python",
   "nbconvert_exporter": "python",
   "pygments_lexer": "ipython3",
   "version": "3.8.8"
  }
 },
 "nbformat": 4,
 "nbformat_minor": 5
}
