{
 "cells": [
  {
   "cell_type": "code",
   "execution_count": 1,
   "id": "3c6e2b41",
   "metadata": {},
   "outputs": [],
   "source": [
    "import pandas as pd\n",
    "import numpy as np\n",
    "import matplotlib.pyplot as plt\n",
    "%matplotlib inline\n",
    "import seaborn as sns"
   ]
  },
  {
   "cell_type": "code",
   "execution_count": 2,
   "id": "98f7b11a",
   "metadata": {},
   "outputs": [],
   "source": [
    "pd.set_option('display.max_columns', None)"
   ]
  },
  {
   "cell_type": "code",
   "execution_count": 3,
   "id": "863295be",
   "metadata": {},
   "outputs": [],
   "source": [
    "df = pd.read_csv('AllSales2012-2013.csv', sep=';', header=0)"
   ]
  },
  {
   "cell_type": "markdown",
   "id": "d8cb97c0",
   "metadata": {},
   "source": [
    "### Grouping by:\n",
    "1. Model\n",
    "2. Model + color\n",
    "3. Model + size\n",
    "4. Model + size + color\n",
    "5. Size\n",
    "7. Class"
   ]
  },
  {
   "cell_type": "markdown",
   "id": "19642079",
   "metadata": {},
   "source": [
    "### Metrics\n",
    "1. Quantity of sale\n",
    "2. Total gross income = UnitPrice * Quantity - StandardCost * quantity\n",
    "3. ROI"
   ]
  },
  {
   "cell_type": "markdown",
   "id": "ac020831",
   "metadata": {},
   "source": [
    "###### Preparing data"
   ]
  },
  {
   "cell_type": "code",
   "execution_count": 4,
   "id": "9f5a457b",
   "metadata": {},
   "outputs": [
    {
     "data": {
      "text/html": [
       "<div>\n",
       "<style scoped>\n",
       "    .dataframe tbody tr th:only-of-type {\n",
       "        vertical-align: middle;\n",
       "    }\n",
       "\n",
       "    .dataframe tbody tr th {\n",
       "        vertical-align: top;\n",
       "    }\n",
       "\n",
       "    .dataframe thead th {\n",
       "        text-align: right;\n",
       "    }\n",
       "</style>\n",
       "<table border=\"1\" class=\"dataframe\">\n",
       "  <thead>\n",
       "    <tr style=\"text-align: right;\">\n",
       "      <th></th>\n",
       "      <th>ProductID</th>\n",
       "      <th>ListPrice</th>\n",
       "      <th>StandardCost</th>\n",
       "      <th>Color</th>\n",
       "      <th>Size</th>\n",
       "      <th>Weight</th>\n",
       "      <th>Style</th>\n",
       "      <th>class</th>\n",
       "      <th>BikeName</th>\n",
       "      <th>ModelName</th>\n",
       "      <th>SubName</th>\n",
       "      <th>CatName</th>\n",
       "      <th>UnitPrice</th>\n",
       "      <th>UnitPriceDiscount</th>\n",
       "      <th>OrderQty</th>\n",
       "      <th>SalesOrderID</th>\n",
       "      <th>TotalDue</th>\n",
       "      <th>SubTotal</th>\n",
       "      <th>TerritoryID</th>\n",
       "      <th>OrderDate</th>\n",
       "      <th>SellStartDate</th>\n",
       "      <th>SellEndDate</th>\n",
       "    </tr>\n",
       "  </thead>\n",
       "  <tbody>\n",
       "    <tr>\n",
       "      <th>0</th>\n",
       "      <td>786</td>\n",
       "      <td>1079,99</td>\n",
       "      <td>598,4354</td>\n",
       "      <td>Black</td>\n",
       "      <td>40</td>\n",
       "      <td>25.77</td>\n",
       "      <td>U</td>\n",
       "      <td>M</td>\n",
       "      <td>Mountain-300 Black, 40</td>\n",
       "      <td>Mountain-300</td>\n",
       "      <td>Mountain Bikes</td>\n",
       "      <td>Bikes</td>\n",
       "      <td>647,994</td>\n",
       "      <td>0,00</td>\n",
       "      <td>3</td>\n",
       "      <td>46604</td>\n",
       "      <td>41824,897</td>\n",
       "      <td>37141,1313</td>\n",
       "      <td>5</td>\n",
       "      <td>2012-05-30 00:00:00.000</td>\n",
       "      <td>2012-05-30 00:00:00.000</td>\n",
       "      <td>2013-05-29 00:00:00.000</td>\n",
       "    </tr>\n",
       "  </tbody>\n",
       "</table>\n",
       "</div>"
      ],
      "text/plain": [
       "   ProductID ListPrice StandardCost  Color Size  Weight Style class  \\\n",
       "0        786   1079,99     598,4354  Black   40   25.77    U     M    \n",
       "\n",
       "                 BikeName     ModelName         SubName CatName UnitPrice  \\\n",
       "0  Mountain-300 Black, 40  Mountain-300  Mountain Bikes   Bikes   647,994   \n",
       "\n",
       "  UnitPriceDiscount  OrderQty  SalesOrderID   TotalDue    SubTotal  \\\n",
       "0              0,00         3         46604  41824,897  37141,1313   \n",
       "\n",
       "   TerritoryID                OrderDate            SellStartDate  \\\n",
       "0            5  2012-05-30 00:00:00.000  2012-05-30 00:00:00.000   \n",
       "\n",
       "               SellEndDate  \n",
       "0  2013-05-29 00:00:00.000  "
      ]
     },
     "execution_count": 4,
     "metadata": {},
     "output_type": "execute_result"
    }
   ],
   "source": [
    "df.head(1)"
   ]
  },
  {
   "cell_type": "markdown",
   "id": "e0074e35",
   "metadata": {},
   "source": [
    "There are values with decimals splited by \",\". Python can not read it as value, so I will change \",\" to \".\" and change type to float"
   ]
  },
  {
   "cell_type": "code",
   "execution_count": 5,
   "id": "10c25ad9",
   "metadata": {},
   "outputs": [],
   "source": [
    "df['UnitPrice'] = df[['UnitPrice']].applymap(lambda x: str(x.replace(',','.'))).astype('float')\n",
    "df['StandardCost'] = df[['StandardCost']].applymap(lambda x: str(x.replace(',','.'))).astype('float')\n",
    "df['UnitPriceDiscount'] = df[['UnitPriceDiscount']].applymap(lambda x: str(x.replace(',','.'))).astype('float')\n",
    "df['SubTotal'] = df[['SubTotal']].applymap(lambda x: str(x.replace(',','.'))).astype('float')\n",
    "df['ListPrice'] = df[['ListPrice']].applymap(lambda x: str(x.replace(',','.'))).astype('float')"
   ]
  },
  {
   "cell_type": "code",
   "execution_count": 6,
   "id": "76b598d6",
   "metadata": {},
   "outputs": [],
   "source": [
    "from datetime import datetime"
   ]
  },
  {
   "cell_type": "markdown",
   "id": "88c75237",
   "metadata": {},
   "source": [
    "Must change datetime format in start/end sellDate"
   ]
  },
  {
   "cell_type": "code",
   "execution_count": 7,
   "id": "5873c4c5",
   "metadata": {},
   "outputs": [],
   "source": [
    "df['SellStartDate'] =  pd.to_datetime(df['SellStartDate'])\n",
    "\n",
    "df['SellEndDate'] =  pd.to_datetime(df['SellEndDate'])"
   ]
  },
  {
   "cell_type": "markdown",
   "id": "11a10457",
   "metadata": {},
   "source": [
    "Now I will save new DF"
   ]
  },
  {
   "cell_type": "code",
   "execution_count": 8,
   "id": "591f2fb5",
   "metadata": {},
   "outputs": [],
   "source": [
    "df.to_csv('AllSales2012-2013Prepared.csv', index=False)"
   ]
  },
  {
   "cell_type": "code",
   "execution_count": 9,
   "id": "275b3a6d",
   "metadata": {},
   "outputs": [],
   "source": [
    "df = pd.read_csv('AllSales2012-2013Prepared.csv')"
   ]
  },
  {
   "cell_type": "markdown",
   "id": "7fd78952",
   "metadata": {},
   "source": [
    "I need only bikes so I can drop the rest of the orders"
   ]
  },
  {
   "cell_type": "code",
   "execution_count": 10,
   "id": "02cc6b39",
   "metadata": {},
   "outputs": [],
   "source": [
    "bikes = df[df['CatName'] == 'Bikes'].copy()"
   ]
  },
  {
   "cell_type": "markdown",
   "id": "0ac5feeb",
   "metadata": {},
   "source": [
    "Counting total income and ROI on each bike"
   ]
  },
  {
   "cell_type": "code",
   "execution_count": 11,
   "id": "3722a90c",
   "metadata": {},
   "outputs": [
    {
     "data": {
      "text/html": [
       "<div>\n",
       "<style scoped>\n",
       "    .dataframe tbody tr th:only-of-type {\n",
       "        vertical-align: middle;\n",
       "    }\n",
       "\n",
       "    .dataframe tbody tr th {\n",
       "        vertical-align: top;\n",
       "    }\n",
       "\n",
       "    .dataframe thead th {\n",
       "        text-align: right;\n",
       "    }\n",
       "</style>\n",
       "<table border=\"1\" class=\"dataframe\">\n",
       "  <thead>\n",
       "    <tr style=\"text-align: right;\">\n",
       "      <th></th>\n",
       "      <th>ProductID</th>\n",
       "      <th>ListPrice</th>\n",
       "      <th>StandardCost</th>\n",
       "      <th>Color</th>\n",
       "      <th>Size</th>\n",
       "      <th>Weight</th>\n",
       "      <th>Style</th>\n",
       "      <th>class</th>\n",
       "      <th>BikeName</th>\n",
       "      <th>ModelName</th>\n",
       "      <th>SubName</th>\n",
       "      <th>CatName</th>\n",
       "      <th>UnitPrice</th>\n",
       "      <th>UnitPriceDiscount</th>\n",
       "      <th>OrderQty</th>\n",
       "      <th>SalesOrderID</th>\n",
       "      <th>TotalDue</th>\n",
       "      <th>SubTotal</th>\n",
       "      <th>TerritoryID</th>\n",
       "      <th>OrderDate</th>\n",
       "      <th>SellStartDate</th>\n",
       "      <th>SellEndDate</th>\n",
       "    </tr>\n",
       "  </thead>\n",
       "  <tbody>\n",
       "    <tr>\n",
       "      <th>0</th>\n",
       "      <td>786</td>\n",
       "      <td>1079.99</td>\n",
       "      <td>598.4354</td>\n",
       "      <td>Black</td>\n",
       "      <td>40</td>\n",
       "      <td>25.77</td>\n",
       "      <td>U</td>\n",
       "      <td>M</td>\n",
       "      <td>Mountain-300 Black, 40</td>\n",
       "      <td>Mountain-300</td>\n",
       "      <td>Mountain Bikes</td>\n",
       "      <td>Bikes</td>\n",
       "      <td>647.994</td>\n",
       "      <td>0.0</td>\n",
       "      <td>3</td>\n",
       "      <td>46604</td>\n",
       "      <td>41824,897</td>\n",
       "      <td>37141.1313</td>\n",
       "      <td>5</td>\n",
       "      <td>2012-05-30 00:00:00.000</td>\n",
       "      <td>2012-05-30</td>\n",
       "      <td>2013-05-29</td>\n",
       "    </tr>\n",
       "  </tbody>\n",
       "</table>\n",
       "</div>"
      ],
      "text/plain": [
       "   ProductID  ListPrice  StandardCost  Color Size  Weight Style class  \\\n",
       "0        786    1079.99      598.4354  Black   40   25.77    U     M    \n",
       "\n",
       "                 BikeName     ModelName         SubName CatName  UnitPrice  \\\n",
       "0  Mountain-300 Black, 40  Mountain-300  Mountain Bikes   Bikes    647.994   \n",
       "\n",
       "   UnitPriceDiscount  OrderQty  SalesOrderID   TotalDue    SubTotal  \\\n",
       "0                0.0         3         46604  41824,897  37141.1313   \n",
       "\n",
       "   TerritoryID                OrderDate SellStartDate SellEndDate  \n",
       "0            5  2012-05-30 00:00:00.000    2012-05-30  2013-05-29  "
      ]
     },
     "execution_count": 11,
     "metadata": {},
     "output_type": "execute_result"
    }
   ],
   "source": [
    "df.head(1)"
   ]
  },
  {
   "cell_type": "code",
   "execution_count": 12,
   "id": "c20752da",
   "metadata": {},
   "outputs": [],
   "source": [
    "bikes['GrossProfit'] = (bikes['UnitPrice'] *(1-df['UnitPriceDiscount']) - bikes['StandardCost']) * bikes['OrderQty']"
   ]
  },
  {
   "cell_type": "code",
   "execution_count": 13,
   "id": "21fd4ff8",
   "metadata": {},
   "outputs": [],
   "source": [
    "bikes['ROI'] = bikes['GrossProfit'] / (bikes['StandardCost'] * bikes['OrderQty'])"
   ]
  },
  {
   "cell_type": "code",
   "execution_count": 14,
   "id": "6eeea42c",
   "metadata": {},
   "outputs": [],
   "source": [
    "ModelsSale = bikes.groupby(['ModelName']).agg({'OrderQty':['sum'], 'GrossProfit': ['mean', 'sum'], 'ROI':['mean']})"
   ]
  },
  {
   "cell_type": "code",
   "execution_count": 15,
   "id": "6a6da891",
   "metadata": {},
   "outputs": [
    {
     "data": {
      "text/plain": [
       "585703.8198950011"
      ]
     },
     "execution_count": 15,
     "metadata": {},
     "output_type": "execute_result"
    }
   ],
   "source": [
    "ModelsSale['GrossProfit']['sum'].sum()"
   ]
  },
  {
   "cell_type": "markdown",
   "id": "6556c917",
   "metadata": {},
   "source": [
    "GrossProfit from Selling Bikes betewteen 05.2012-05.2013"
   ]
  },
  {
   "cell_type": "code",
   "execution_count": 16,
   "id": "150e801b",
   "metadata": {},
   "outputs": [
    {
     "data": {
      "text/html": [
       "<div>\n",
       "<style scoped>\n",
       "    .dataframe tbody tr th:only-of-type {\n",
       "        vertical-align: middle;\n",
       "    }\n",
       "\n",
       "    .dataframe tbody tr th {\n",
       "        vertical-align: top;\n",
       "    }\n",
       "\n",
       "    .dataframe thead tr th {\n",
       "        text-align: left;\n",
       "    }\n",
       "\n",
       "    .dataframe thead tr:last-of-type th {\n",
       "        text-align: right;\n",
       "    }\n",
       "</style>\n",
       "<table border=\"1\" class=\"dataframe\">\n",
       "  <thead>\n",
       "    <tr>\n",
       "      <th></th>\n",
       "      <th>OrderQty</th>\n",
       "      <th colspan=\"2\" halign=\"left\">GrossProfit</th>\n",
       "      <th>ROI</th>\n",
       "    </tr>\n",
       "    <tr>\n",
       "      <th></th>\n",
       "      <th>sum</th>\n",
       "      <th>mean</th>\n",
       "      <th>sum</th>\n",
       "      <th>mean</th>\n",
       "    </tr>\n",
       "    <tr>\n",
       "      <th>ModelName</th>\n",
       "      <th></th>\n",
       "      <th></th>\n",
       "      <th></th>\n",
       "      <th></th>\n",
       "    </tr>\n",
       "  </thead>\n",
       "  <tbody>\n",
       "    <tr>\n",
       "      <th>Mountain-200</th>\n",
       "      <td>6975</td>\n",
       "      <td>255.843220</td>\n",
       "      <td>713802.582700</td>\n",
       "      <td>0.233936</td>\n",
       "    </tr>\n",
       "    <tr>\n",
       "      <th>Mountain-300</th>\n",
       "      <td>2947</td>\n",
       "      <td>160.693799</td>\n",
       "      <td>143660.256320</td>\n",
       "      <td>0.082431</td>\n",
       "    </tr>\n",
       "    <tr>\n",
       "      <th>Road-250</th>\n",
       "      <td>5685</td>\n",
       "      <td>50.985844</td>\n",
       "      <td>134449.670357</td>\n",
       "      <td>0.159372</td>\n",
       "    </tr>\n",
       "    <tr>\n",
       "      <th>Road-550-W</th>\n",
       "      <td>3425</td>\n",
       "      <td>-190.212614</td>\n",
       "      <td>-246705.760716</td>\n",
       "      <td>-0.003998</td>\n",
       "    </tr>\n",
       "    <tr>\n",
       "      <th>Road-650</th>\n",
       "      <td>12029</td>\n",
       "      <td>-42.854092</td>\n",
       "      <td>-159502.928766</td>\n",
       "      <td>0.055664</td>\n",
       "    </tr>\n",
       "  </tbody>\n",
       "</table>\n",
       "</div>"
      ],
      "text/plain": [
       "             OrderQty GrossProfit                      ROI\n",
       "                  sum        mean            sum      mean\n",
       "ModelName                                                 \n",
       "Mountain-200     6975  255.843220  713802.582700  0.233936\n",
       "Mountain-300     2947  160.693799  143660.256320  0.082431\n",
       "Road-250         5685   50.985844  134449.670357  0.159372\n",
       "Road-550-W       3425 -190.212614 -246705.760716 -0.003998\n",
       "Road-650        12029  -42.854092 -159502.928766  0.055664"
      ]
     },
     "execution_count": 16,
     "metadata": {},
     "output_type": "execute_result"
    }
   ],
   "source": [
    "ModelsSale"
   ]
  },
  {
   "cell_type": "code",
   "execution_count": 17,
   "id": "b0c4f455",
   "metadata": {},
   "outputs": [
    {
     "data": {
      "text/plain": [
       "<AxesSubplot:xlabel='ModelName', ylabel='sum'>"
      ]
     },
     "execution_count": 17,
     "metadata": {},
     "output_type": "execute_result"
    },
    {
     "data": {
      "image/png": "[encoded data removed]",
      "text/plain": [
       "<Figure size 432x288 with 1 Axes>"
      ]
     },
     "metadata": {
      "needs_background": "light"
     },
     "output_type": "display_data"
    }
   ],
   "source": [
    "sns.barplot(x=ModelsSale.index, y=ModelsSale['OrderQty']['sum'])"
   ]
  },
  {
   "cell_type": "markdown",
   "id": "aace4b71",
   "metadata": {},
   "source": [
    "From this chart we can see that the most often selling bike in general between 2012-2013 was Road-650. Is it the most profitable model as well?"
   ]
  },
  {
   "cell_type": "code",
   "execution_count": 18,
   "id": "d0f2bea2",
   "metadata": {},
   "outputs": [
    {
     "data": {
      "image/png": "[encoded data removed]",
      "text/plain": [
       "<Figure size 432x288 with 1 Axes>"
      ]
     },
     "metadata": {},
     "output_type": "display_data"
    }
   ],
   "source": [
    "plt.pie(ModelsSale['OrderQty']['sum'], autopct = '%0.0f%%', labels =ModelsSale.index);"
   ]
  },
  {
   "cell_type": "code",
   "execution_count": 19,
   "id": "cb8f6f70",
   "metadata": {},
   "outputs": [
    {
     "data": {
      "text/plain": [
       "<AxesSubplot:xlabel='ModelName', ylabel='sum'>"
      ]
     },
     "execution_count": 19,
     "metadata": {},
     "output_type": "execute_result"
    },
    {
     "data": {
      "image/png": "[encoded data removed]",
      "text/plain": [
       "<Figure size 432x288 with 1 Axes>"
      ]
     },
     "metadata": {
      "needs_background": "light"
     },
     "output_type": "display_data"
    }
   ],
   "source": [
    "sns.barplot(x=ModelsSale.index, y=ModelsSale['GrossProfit']['sum'])"
   ]
  },
  {
   "cell_type": "markdown",
   "id": "afac6ed5",
   "metadata": {},
   "source": [
    "Unfortunetly no. Also this model plus Road-550-W, gives negative income to the company. I do not know which model has been drop from selling yet, so I can not say that they sell bikes under the standard costs becouse of the end of aveliabiliy of the product. We will see that later. For now I would like to dive deeper. Let's check which specific model sold the best and worst that year"
   ]
  },
  {
   "cell_type": "code",
   "execution_count": 20,
   "id": "0f11cd68",
   "metadata": {},
   "outputs": [],
   "source": [
    "Models_color = bikes.groupby(['ModelName', 'Color', 'Size']).agg({'OrderQty':['sum'], 'GrossProfit': ['mean', 'sum'], 'ROI':['mean']})"
   ]
  },
  {
   "cell_type": "code",
   "execution_count": 21,
   "id": "b1623fb7",
   "metadata": {},
   "outputs": [
    {
     "data": {
      "text/html": [
       "<div>\n",
       "<style scoped>\n",
       "    .dataframe tbody tr th:only-of-type {\n",
       "        vertical-align: middle;\n",
       "    }\n",
       "\n",
       "    .dataframe tbody tr th {\n",
       "        vertical-align: top;\n",
       "    }\n",
       "\n",
       "    .dataframe thead tr th {\n",
       "        text-align: left;\n",
       "    }\n",
       "\n",
       "    .dataframe thead tr:last-of-type th {\n",
       "        text-align: right;\n",
       "    }\n",
       "</style>\n",
       "<table border=\"1\" class=\"dataframe\">\n",
       "  <thead>\n",
       "    <tr>\n",
       "      <th></th>\n",
       "      <th></th>\n",
       "      <th></th>\n",
       "      <th>OrderQty</th>\n",
       "      <th colspan=\"2\" halign=\"left\">GrossProfit</th>\n",
       "      <th>ROI</th>\n",
       "    </tr>\n",
       "    <tr>\n",
       "      <th></th>\n",
       "      <th></th>\n",
       "      <th></th>\n",
       "      <th>sum</th>\n",
       "      <th>mean</th>\n",
       "      <th>sum</th>\n",
       "      <th>mean</th>\n",
       "    </tr>\n",
       "    <tr>\n",
       "      <th>ModelName</th>\n",
       "      <th>Color</th>\n",
       "      <th>Size</th>\n",
       "      <th></th>\n",
       "      <th></th>\n",
       "      <th></th>\n",
       "      <th></th>\n",
       "    </tr>\n",
       "  </thead>\n",
       "  <tbody>\n",
       "    <tr>\n",
       "      <th rowspan=\"6\" valign=\"top\">Mountain-200</th>\n",
       "      <th rowspan=\"3\" valign=\"top\">Black</th>\n",
       "      <th>38</th>\n",
       "      <td>1364</td>\n",
       "      <td>203.392004</td>\n",
       "      <td>103526.529880</td>\n",
       "      <td>0.195316</td>\n",
       "    </tr>\n",
       "    <tr>\n",
       "      <th>42</th>\n",
       "      <td>1297</td>\n",
       "      <td>237.528926</td>\n",
       "      <td>120189.636680</td>\n",
       "      <td>0.223500</td>\n",
       "    </tr>\n",
       "    <tr>\n",
       "      <th>46</th>\n",
       "      <td>967</td>\n",
       "      <td>332.110459</td>\n",
       "      <td>141479.055380</td>\n",
       "      <td>0.290663</td>\n",
       "    </tr>\n",
       "    <tr>\n",
       "      <th rowspan=\"3\" valign=\"top\">Silver</th>\n",
       "      <th>38</th>\n",
       "      <td>1119</td>\n",
       "      <td>257.104211</td>\n",
       "      <td>116468.207388</td>\n",
       "      <td>0.233132</td>\n",
       "    </tr>\n",
       "    <tr>\n",
       "      <th>42</th>\n",
       "      <td>1116</td>\n",
       "      <td>252.833666</td>\n",
       "      <td>111499.646820</td>\n",
       "      <td>0.231058</td>\n",
       "    </tr>\n",
       "    <tr>\n",
       "      <th>46</th>\n",
       "      <td>1112</td>\n",
       "      <td>265.141773</td>\n",
       "      <td>120639.506552</td>\n",
       "      <td>0.239223</td>\n",
       "    </tr>\n",
       "    <tr>\n",
       "      <th rowspan=\"4\" valign=\"top\">Mountain-300</th>\n",
       "      <th rowspan=\"4\" valign=\"top\">Black</th>\n",
       "      <th>38</th>\n",
       "      <td>684</td>\n",
       "      <td>150.669424</td>\n",
       "      <td>33147.273352</td>\n",
       "      <td>0.082295</td>\n",
       "    </tr>\n",
       "    <tr>\n",
       "      <th>40</th>\n",
       "      <td>776</td>\n",
       "      <td>167.098676</td>\n",
       "      <td>37263.004660</td>\n",
       "      <td>0.082046</td>\n",
       "    </tr>\n",
       "    <tr>\n",
       "      <th>44</th>\n",
       "      <td>747</td>\n",
       "      <td>162.369624</td>\n",
       "      <td>37020.274200</td>\n",
       "      <td>0.082814</td>\n",
       "    </tr>\n",
       "    <tr>\n",
       "      <th>48</th>\n",
       "      <td>740</td>\n",
       "      <td>162.465041</td>\n",
       "      <td>36229.704108</td>\n",
       "      <td>0.082558</td>\n",
       "    </tr>\n",
       "    <tr>\n",
       "      <th rowspan=\"8\" valign=\"top\">Road-250</th>\n",
       "      <th rowspan=\"4\" valign=\"top\">Black</th>\n",
       "      <th>44</th>\n",
       "      <td>877</td>\n",
       "      <td>-309.572033</td>\n",
       "      <td>-107111.923382</td>\n",
       "      <td>0.050379</td>\n",
       "    </tr>\n",
       "    <tr>\n",
       "      <th>48</th>\n",
       "      <td>785</td>\n",
       "      <td>-201.812962</td>\n",
       "      <td>-70836.349586</td>\n",
       "      <td>0.067099</td>\n",
       "    </tr>\n",
       "    <tr>\n",
       "      <th>52</th>\n",
       "      <td>678</td>\n",
       "      <td>-47.588465</td>\n",
       "      <td>-16703.551200</td>\n",
       "      <td>0.116789</td>\n",
       "    </tr>\n",
       "    <tr>\n",
       "      <th>58</th>\n",
       "      <td>487</td>\n",
       "      <td>23.310499</td>\n",
       "      <td>5850.935200</td>\n",
       "      <td>0.163748</td>\n",
       "    </tr>\n",
       "    <tr>\n",
       "      <th rowspan=\"4\" valign=\"top\">Red</th>\n",
       "      <th>44</th>\n",
       "      <td>895</td>\n",
       "      <td>243.979810</td>\n",
       "      <td>88808.650985</td>\n",
       "      <td>0.219201</td>\n",
       "    </tr>\n",
       "    <tr>\n",
       "      <th>48</th>\n",
       "      <td>809</td>\n",
       "      <td>305.275702</td>\n",
       "      <td>114783.663940</td>\n",
       "      <td>0.242369</td>\n",
       "    </tr>\n",
       "    <tr>\n",
       "      <th>52</th>\n",
       "      <td>639</td>\n",
       "      <td>306.567199</td>\n",
       "      <td>96262.100400</td>\n",
       "      <td>0.237816</td>\n",
       "    </tr>\n",
       "    <tr>\n",
       "      <th>58</th>\n",
       "      <td>515</td>\n",
       "      <td>82.380789</td>\n",
       "      <td>23396.144000</td>\n",
       "      <td>0.181666</td>\n",
       "    </tr>\n",
       "    <tr>\n",
       "      <th rowspan=\"5\" valign=\"top\">Road-550-W</th>\n",
       "      <th rowspan=\"5\" valign=\"top\">Yellow</th>\n",
       "      <th>38</th>\n",
       "      <td>846</td>\n",
       "      <td>-229.108682</td>\n",
       "      <td>-67357.952648</td>\n",
       "      <td>-0.021078</td>\n",
       "    </tr>\n",
       "    <tr>\n",
       "      <th>40</th>\n",
       "      <td>732</td>\n",
       "      <td>-195.001883</td>\n",
       "      <td>-55770.538600</td>\n",
       "      <td>-0.026743</td>\n",
       "    </tr>\n",
       "    <tr>\n",
       "      <th>42</th>\n",
       "      <td>576</td>\n",
       "      <td>-151.913373</td>\n",
       "      <td>-37370.689800</td>\n",
       "      <td>-0.000804</td>\n",
       "    </tr>\n",
       "    <tr>\n",
       "      <th>44</th>\n",
       "      <td>421</td>\n",
       "      <td>-89.691442</td>\n",
       "      <td>-16682.608300</td>\n",
       "      <td>0.074110</td>\n",
       "    </tr>\n",
       "    <tr>\n",
       "      <th>48</th>\n",
       "      <td>850</td>\n",
       "      <td>-243.943759</td>\n",
       "      <td>-69523.971368</td>\n",
       "      <td>-0.017285</td>\n",
       "    </tr>\n",
       "    <tr>\n",
       "      <th rowspan=\"12\" valign=\"top\">Road-650</th>\n",
       "      <th rowspan=\"6\" valign=\"top\">Black</th>\n",
       "      <th>44</th>\n",
       "      <td>745</td>\n",
       "      <td>0.982577</td>\n",
       "      <td>257.435192</td>\n",
       "      <td>0.068213</td>\n",
       "    </tr>\n",
       "    <tr>\n",
       "      <th>48</th>\n",
       "      <td>446</td>\n",
       "      <td>32.731538</td>\n",
       "      <td>5924.408400</td>\n",
       "      <td>0.118127</td>\n",
       "    </tr>\n",
       "    <tr>\n",
       "      <th>52</th>\n",
       "      <td>1528</td>\n",
       "      <td>-50.762232</td>\n",
       "      <td>-20507.941930</td>\n",
       "      <td>0.050470</td>\n",
       "    </tr>\n",
       "    <tr>\n",
       "      <th>58</th>\n",
       "      <td>1287</td>\n",
       "      <td>-19.593522</td>\n",
       "      <td>-7621.880149</td>\n",
       "      <td>0.059700</td>\n",
       "    </tr>\n",
       "    <tr>\n",
       "      <th>60</th>\n",
       "      <td>753</td>\n",
       "      <td>7.476210</td>\n",
       "      <td>2026.052876</td>\n",
       "      <td>0.079041</td>\n",
       "    </tr>\n",
       "    <tr>\n",
       "      <th>62</th>\n",
       "      <td>447</td>\n",
       "      <td>32.458768</td>\n",
       "      <td>5907.495800</td>\n",
       "      <td>0.117287</td>\n",
       "    </tr>\n",
       "    <tr>\n",
       "      <th rowspan=\"6\" valign=\"top\">Red</th>\n",
       "      <th>44</th>\n",
       "      <td>1517</td>\n",
       "      <td>-281.434673</td>\n",
       "      <td>-111729.565312</td>\n",
       "      <td>-0.053284</td>\n",
       "    </tr>\n",
       "    <tr>\n",
       "      <th>48</th>\n",
       "      <td>1299</td>\n",
       "      <td>-20.464279</td>\n",
       "      <td>-8185.711440</td>\n",
       "      <td>0.062915</td>\n",
       "    </tr>\n",
       "    <tr>\n",
       "      <th>52</th>\n",
       "      <td>770</td>\n",
       "      <td>-0.693382</td>\n",
       "      <td>-181.666000</td>\n",
       "      <td>0.065951</td>\n",
       "    </tr>\n",
       "    <tr>\n",
       "      <th>58</th>\n",
       "      <td>442</td>\n",
       "      <td>51.863887</td>\n",
       "      <td>9750.410800</td>\n",
       "      <td>0.153509</td>\n",
       "    </tr>\n",
       "    <tr>\n",
       "      <th>60</th>\n",
       "      <td>1500</td>\n",
       "      <td>-67.697694</td>\n",
       "      <td>-26672.891546</td>\n",
       "      <td>0.019827</td>\n",
       "    </tr>\n",
       "    <tr>\n",
       "      <th>62</th>\n",
       "      <td>1295</td>\n",
       "      <td>-21.604784</td>\n",
       "      <td>-8469.075457</td>\n",
       "      <td>0.060171</td>\n",
       "    </tr>\n",
       "  </tbody>\n",
       "</table>\n",
       "</div>"
      ],
      "text/plain": [
       "                         OrderQty GrossProfit                      ROI\n",
       "                              sum        mean            sum      mean\n",
       "ModelName    Color  Size                                              \n",
       "Mountain-200 Black  38       1364  203.392004  103526.529880  0.195316\n",
       "                    42       1297  237.528926  120189.636680  0.223500\n",
       "                    46        967  332.110459  141479.055380  0.290663\n",
       "             Silver 38       1119  257.104211  116468.207388  0.233132\n",
       "                    42       1116  252.833666  111499.646820  0.231058\n",
       "                    46       1112  265.141773  120639.506552  0.239223\n",
       "Mountain-300 Black  38        684  150.669424   33147.273352  0.082295\n",
       "                    40        776  167.098676   37263.004660  0.082046\n",
       "                    44        747  162.369624   37020.274200  0.082814\n",
       "                    48        740  162.465041   36229.704108  0.082558\n",
       "Road-250     Black  44        877 -309.572033 -107111.923382  0.050379\n",
       "                    48        785 -201.812962  -70836.349586  0.067099\n",
       "                    52        678  -47.588465  -16703.551200  0.116789\n",
       "                    58        487   23.310499    5850.935200  0.163748\n",
       "             Red    44        895  243.979810   88808.650985  0.219201\n",
       "                    48        809  305.275702  114783.663940  0.242369\n",
       "                    52        639  306.567199   96262.100400  0.237816\n",
       "                    58        515   82.380789   23396.144000  0.181666\n",
       "Road-550-W   Yellow 38        846 -229.108682  -67357.952648 -0.021078\n",
       "                    40        732 -195.001883  -55770.538600 -0.026743\n",
       "                    42        576 -151.913373  -37370.689800 -0.000804\n",
       "                    44        421  -89.691442  -16682.608300  0.074110\n",
       "                    48        850 -243.943759  -69523.971368 -0.017285\n",
       "Road-650     Black  44        745    0.982577     257.435192  0.068213\n",
       "                    48        446   32.731538    5924.408400  0.118127\n",
       "                    52       1528  -50.762232  -20507.941930  0.050470\n",
       "                    58       1287  -19.593522   -7621.880149  0.059700\n",
       "                    60        753    7.476210    2026.052876  0.079041\n",
       "                    62        447   32.458768    5907.495800  0.117287\n",
       "             Red    44       1517 -281.434673 -111729.565312 -0.053284\n",
       "                    48       1299  -20.464279   -8185.711440  0.062915\n",
       "                    52        770   -0.693382    -181.666000  0.065951\n",
       "                    58        442   51.863887    9750.410800  0.153509\n",
       "                    60       1500  -67.697694  -26672.891546  0.019827\n",
       "                    62       1295  -21.604784   -8469.075457  0.060171"
      ]
     },
     "execution_count": 21,
     "metadata": {},
     "output_type": "execute_result"
    }
   ],
   "source": [
    "Models_color"
   ]
  },
  {
   "cell_type": "code",
   "execution_count": 22,
   "id": "4df094ba",
   "metadata": {},
   "outputs": [],
   "source": [
    "Mountain_200 = Models_color.loc['Mountain-200']"
   ]
  },
  {
   "cell_type": "code",
   "execution_count": 23,
   "id": "7f79f8f2",
   "metadata": {},
   "outputs": [
    {
     "data": {
      "text/html": [
       "<div>\n",
       "<style scoped>\n",
       "    .dataframe tbody tr th:only-of-type {\n",
       "        vertical-align: middle;\n",
       "    }\n",
       "\n",
       "    .dataframe tbody tr th {\n",
       "        vertical-align: top;\n",
       "    }\n",
       "\n",
       "    .dataframe thead tr th {\n",
       "        text-align: left;\n",
       "    }\n",
       "\n",
       "    .dataframe thead tr:last-of-type th {\n",
       "        text-align: right;\n",
       "    }\n",
       "</style>\n",
       "<table border=\"1\" class=\"dataframe\">\n",
       "  <thead>\n",
       "    <tr>\n",
       "      <th></th>\n",
       "      <th></th>\n",
       "      <th>OrderQty</th>\n",
       "      <th colspan=\"2\" halign=\"left\">GrossProfit</th>\n",
       "      <th>ROI</th>\n",
       "    </tr>\n",
       "    <tr>\n",
       "      <th></th>\n",
       "      <th></th>\n",
       "      <th>sum</th>\n",
       "      <th>mean</th>\n",
       "      <th>sum</th>\n",
       "      <th>mean</th>\n",
       "    </tr>\n",
       "    <tr>\n",
       "      <th>Color</th>\n",
       "      <th>Size</th>\n",
       "      <th></th>\n",
       "      <th></th>\n",
       "      <th></th>\n",
       "      <th></th>\n",
       "    </tr>\n",
       "  </thead>\n",
       "  <tbody>\n",
       "    <tr>\n",
       "      <th rowspan=\"3\" valign=\"top\">Black</th>\n",
       "      <th>38</th>\n",
       "      <td>1364</td>\n",
       "      <td>203.392004</td>\n",
       "      <td>103526.529880</td>\n",
       "      <td>0.195316</td>\n",
       "    </tr>\n",
       "    <tr>\n",
       "      <th>42</th>\n",
       "      <td>1297</td>\n",
       "      <td>237.528926</td>\n",
       "      <td>120189.636680</td>\n",
       "      <td>0.223500</td>\n",
       "    </tr>\n",
       "    <tr>\n",
       "      <th>46</th>\n",
       "      <td>967</td>\n",
       "      <td>332.110459</td>\n",
       "      <td>141479.055380</td>\n",
       "      <td>0.290663</td>\n",
       "    </tr>\n",
       "    <tr>\n",
       "      <th rowspan=\"3\" valign=\"top\">Silver</th>\n",
       "      <th>38</th>\n",
       "      <td>1119</td>\n",
       "      <td>257.104211</td>\n",
       "      <td>116468.207388</td>\n",
       "      <td>0.233132</td>\n",
       "    </tr>\n",
       "    <tr>\n",
       "      <th>42</th>\n",
       "      <td>1116</td>\n",
       "      <td>252.833666</td>\n",
       "      <td>111499.646820</td>\n",
       "      <td>0.231058</td>\n",
       "    </tr>\n",
       "    <tr>\n",
       "      <th>46</th>\n",
       "      <td>1112</td>\n",
       "      <td>265.141773</td>\n",
       "      <td>120639.506552</td>\n",
       "      <td>0.239223</td>\n",
       "    </tr>\n",
       "  </tbody>\n",
       "</table>\n",
       "</div>"
      ],
      "text/plain": [
       "            OrderQty GrossProfit                      ROI\n",
       "                 sum        mean            sum      mean\n",
       "Color  Size                                              \n",
       "Black  38       1364  203.392004  103526.529880  0.195316\n",
       "       42       1297  237.528926  120189.636680  0.223500\n",
       "       46        967  332.110459  141479.055380  0.290663\n",
       "Silver 38       1119  257.104211  116468.207388  0.233132\n",
       "       42       1116  252.833666  111499.646820  0.231058\n",
       "       46       1112  265.141773  120639.506552  0.239223"
      ]
     },
     "execution_count": 23,
     "metadata": {},
     "output_type": "execute_result"
    }
   ],
   "source": [
    "Mountain_200"
   ]
  },
  {
   "cell_type": "code",
   "execution_count": 24,
   "id": "b8a7c22f",
   "metadata": {},
   "outputs": [
    {
     "data": {
      "text/plain": [
       "<AxesSubplot:xlabel='Color'>"
      ]
     },
     "execution_count": 24,
     "metadata": {},
     "output_type": "execute_result"
    },
    {
     "data": {
      "image/png": "[encoded data removed]",
      "text/plain": [
       "<Figure size 432x288 with 1 Axes>"
      ]
     },
     "metadata": {
      "needs_background": "light"
     },
     "output_type": "display_data"
    }
   ],
   "source": [
    "Mountain_200['GrossProfit']['sum'].unstack().plot(kind='bar')"
   ]
  },
  {
   "cell_type": "code",
   "execution_count": 25,
   "id": "6e16644c",
   "metadata": {},
   "outputs": [
    {
     "data": {
      "text/plain": [
       "<AxesSubplot:xlabel='Color'>"
      ]
     },
     "execution_count": 25,
     "metadata": {},
     "output_type": "execute_result"
    },
    {
     "data": {
      "image/png": "[encoded data removed]",
      "text/plain": [
       "<Figure size 432x288 with 1 Axes>"
      ]
     },
     "metadata": {
      "needs_background": "light"
     },
     "output_type": "display_data"
    }
   ],
   "source": [
    "Mountain_200['ROI']['mean'].unstack().plot(kind='bar')"
   ]
  },
  {
   "cell_type": "code",
   "execution_count": 26,
   "id": "ac3fc12d",
   "metadata": {},
   "outputs": [],
   "source": [
    "Mountain_300 = Models_color.loc['Mountain-300']"
   ]
  },
  {
   "cell_type": "code",
   "execution_count": 27,
   "id": "c4377cb5",
   "metadata": {},
   "outputs": [
    {
     "data": {
      "text/plain": [
       "<AxesSubplot:xlabel='Color'>"
      ]
     },
     "execution_count": 27,
     "metadata": {},
     "output_type": "execute_result"
    },
    {
     "data": {
      "image/png": "[encoded data removed]",
      "text/plain": [
       "<Figure size 432x288 with 1 Axes>"
      ]
     },
     "metadata": {
      "needs_background": "light"
     },
     "output_type": "display_data"
    }
   ],
   "source": [
    "Mountain_300['GrossProfit']['sum'].unstack().plot(kind='bar')"
   ]
  },
  {
   "cell_type": "code",
   "execution_count": 28,
   "id": "600ad0a3",
   "metadata": {},
   "outputs": [
    {
     "data": {
      "text/plain": [
       "<AxesSubplot:xlabel='Color'>"
      ]
     },
     "execution_count": 28,
     "metadata": {},
     "output_type": "execute_result"
    },
    {
     "data": {
      "image/png": "[encoded data removed]",
      "text/plain": [
       "<Figure size 432x288 with 1 Axes>"
      ]
     },
     "metadata": {
      "needs_background": "light"
     },
     "output_type": "display_data"
    }
   ],
   "source": [
    "Mountain_300['ROI']['mean'].unstack().plot(kind='bar')"
   ]
  },
  {
   "cell_type": "code",
   "execution_count": 29,
   "id": "3c61190b",
   "metadata": {},
   "outputs": [],
   "source": [
    "Road_250 = Models_color.loc['Road-250']"
   ]
  },
  {
   "cell_type": "code",
   "execution_count": 30,
   "id": "385a4dd7",
   "metadata": {},
   "outputs": [
    {
     "data": {
      "text/plain": [
       "<AxesSubplot:xlabel='Color'>"
      ]
     },
     "execution_count": 30,
     "metadata": {},
     "output_type": "execute_result"
    },
    {
     "data": {
      "image/png": "[encoded data removed]",
      "text/plain": [
       "<Figure size 432x288 with 1 Axes>"
      ]
     },
     "metadata": {
      "needs_background": "light"
     },
     "output_type": "display_data"
    }
   ],
   "source": [
    "Road_250['GrossProfit']['sum'].unstack().plot(kind='bar')"
   ]
  },
  {
   "cell_type": "markdown",
   "id": "5c4f205b",
   "metadata": {},
   "source": [
    "Here we have sth intresting. The BLACK Road_250 bikes from size 44 to 52 has negative gross profit. Company sell this bikes below the Standard cost. That means that this three models has been removed from sales in next year"
   ]
  },
  {
   "cell_type": "code",
   "execution_count": 31,
   "id": "fb41bfde",
   "metadata": {},
   "outputs": [],
   "source": [
    "Road_550_W = Models_color.loc['Road-550-W']"
   ]
  },
  {
   "cell_type": "code",
   "execution_count": 32,
   "id": "5188915e",
   "metadata": {},
   "outputs": [
    {
     "data": {
      "text/plain": [
       "<AxesSubplot:xlabel='Color'>"
      ]
     },
     "execution_count": 32,
     "metadata": {},
     "output_type": "execute_result"
    },
    {
     "data": {
      "image/png": "[encoded data removed]",
      "text/plain": [
       "<Figure size 432x288 with 1 Axes>"
      ]
     },
     "metadata": {
      "needs_background": "light"
     },
     "output_type": "display_data"
    }
   ],
   "source": [
    "Road_550_W['GrossProfit']['sum'].unstack().plot(kind='bar')"
   ]
  },
  {
   "cell_type": "markdown",
   "id": "851127ce",
   "metadata": {},
   "source": [
    "All Road 550 has yellow color and all of them was sold below the Standard Costs"
   ]
  },
  {
   "cell_type": "code",
   "execution_count": 33,
   "id": "16f27c7a",
   "metadata": {},
   "outputs": [],
   "source": [
    "Road_650 = Models_color.loc['Road-650']"
   ]
  },
  {
   "cell_type": "code",
   "execution_count": 34,
   "id": "f0103493",
   "metadata": {},
   "outputs": [
    {
     "data": {
      "text/plain": [
       "<AxesSubplot:xlabel='Color'>"
      ]
     },
     "execution_count": 34,
     "metadata": {},
     "output_type": "execute_result"
    },
    {
     "data": {
      "image/png": "[encoded data removed]",
      "text/plain": [
       "<Figure size 432x288 with 1 Axes>"
      ]
     },
     "metadata": {
      "needs_background": "light"
     },
     "output_type": "display_data"
    }
   ],
   "source": [
    "Road_650['GrossProfit']['sum'].unstack().plot(kind='bar')"
   ]
  },
  {
   "cell_type": "markdown",
   "id": "6a25e094",
   "metadata": {},
   "source": [
    "Here we can see that except black 44, 48, 60, 62 and red 58 Rad-650 bikes has been sold below the standard cost"
   ]
  },
  {
   "cell_type": "markdown",
   "id": "9095d1fe",
   "metadata": {},
   "source": [
    "--------------------------------------------------------------------------------------\n",
    "I will check in next notebook if all of the underpriced bikes has been removed frm the store..."
   ]
  },
  {
   "cell_type": "markdown",
   "id": "e6d398f2",
   "metadata": {},
   "source": [
    "### Which model has the best/worst profit if we split them by size, color, class separetly"
   ]
  },
  {
   "cell_type": "code",
   "execution_count": 35,
   "id": "af3b3a2b",
   "metadata": {},
   "outputs": [],
   "source": [
    "Size_subName = bikes.groupby(['Size','SubName']).agg({'OrderQty':['sum'], 'GrossProfit': ['mean', 'sum'], 'ROI':['mean']})"
   ]
  },
  {
   "cell_type": "code",
   "execution_count": 36,
   "id": "ae2603c1",
   "metadata": {},
   "outputs": [
    {
     "data": {
      "text/plain": [
       "<AxesSubplot:xlabel='Size'>"
      ]
     },
     "execution_count": 36,
     "metadata": {},
     "output_type": "execute_result"
    },
    {
     "data": {
      "text/plain": [
       "<Figure size 864x432 with 0 Axes>"
      ]
     },
     "metadata": {},
     "output_type": "display_data"
    },
    {
     "data": {
      "image/png": "[encoded data removed]",
      "text/plain": [
       "<Figure size 432x288 with 1 Axes>"
      ]
     },
     "metadata": {
      "needs_background": "light"
     },
     "output_type": "display_data"
    }
   ],
   "source": [
    "plt.figure(figsize=(12,6))\n",
    "Size_subName['GrossProfit']['sum'].unstack().plot(kind='bar')"
   ]
  },
  {
   "cell_type": "code",
   "execution_count": 37,
   "id": "307aca53",
   "metadata": {},
   "outputs": [],
   "source": [
    "Color_subName = bikes.groupby(['Color','SubName']).agg({'OrderQty':['sum'], 'GrossProfit': ['mean', 'sum'], 'ROI':['mean']})"
   ]
  },
  {
   "cell_type": "code",
   "execution_count": 38,
   "id": "f06ff675",
   "metadata": {},
   "outputs": [
    {
     "data": {
      "text/plain": [
       "<AxesSubplot:xlabel='Color'>"
      ]
     },
     "execution_count": 38,
     "metadata": {},
     "output_type": "execute_result"
    },
    {
     "data": {
      "image/png": "[encoded data removed]",
      "text/plain": [
       "<Figure size 432x288 with 1 Axes>"
      ]
     },
     "metadata": {
      "needs_background": "light"
     },
     "output_type": "display_data"
    }
   ],
   "source": [
    "Color_subName['GrossProfit']['sum'].unstack().plot(kind='bar')"
   ]
  },
  {
   "cell_type": "code",
   "execution_count": 39,
   "id": "3bfa1c66",
   "metadata": {},
   "outputs": [],
   "source": [
    "Class_subName = bikes.groupby(['class','SubName']).agg({'OrderQty':['sum'], 'GrossProfit': ['mean', 'sum'], 'ROI':['mean']})"
   ]
  },
  {
   "cell_type": "code",
   "execution_count": 40,
   "id": "6b4fb11b",
   "metadata": {},
   "outputs": [
    {
     "data": {
      "text/plain": [
       "<AxesSubplot:xlabel='class'>"
      ]
     },
     "execution_count": 40,
     "metadata": {},
     "output_type": "execute_result"
    },
    {
     "data": {
      "image/png": "[encoded data removed]",
      "text/plain": [
       "<Figure size 432x288 with 1 Axes>"
      ]
     },
     "metadata": {
      "needs_background": "light"
     },
     "output_type": "display_data"
    }
   ],
   "source": [
    "Class_subName['GrossProfit']['sum'].unstack().plot(kind='bar')"
   ]
  },
  {
   "cell_type": "markdown",
   "id": "9318e5a4",
   "metadata": {},
   "source": [
    "We can see that only High class Road Bikes has positive gross profit. And that the high class mountain bikes gives much better income than the rest class"
   ]
  },
  {
   "cell_type": "code",
   "execution_count": 41,
   "id": "d13e7e5e",
   "metadata": {},
   "outputs": [
    {
     "data": {
      "text/plain": [
       "<AxesSubplot:xlabel='class'>"
      ]
     },
     "execution_count": 41,
     "metadata": {},
     "output_type": "execute_result"
    },
    {
     "data": {
      "image/png": "[encoded data removed]",
      "text/plain": [
       "<Figure size 432x288 with 1 Axes>"
      ]
     },
     "metadata": {
      "needs_background": "light"
     },
     "output_type": "display_data"
    }
   ],
   "source": [
    "Class_subName['GrossProfit']['mean'].unstack().plot(kind='bar')"
   ]
  },
  {
   "cell_type": "markdown",
   "id": "7a6b6e02",
   "metadata": {},
   "source": [
    "If we look at the mean profit it seems the same"
   ]
  },
  {
   "cell_type": "code",
   "execution_count": 42,
   "id": "909e06ba",
   "metadata": {},
   "outputs": [],
   "source": [
    "teritorry_subName = bikes.groupby(['TerritoryID','SubName']).agg({'OrderQty':['sum'], 'GrossProfit': ['mean', 'sum'], 'ROI':['mean']})"
   ]
  },
  {
   "cell_type": "code",
   "execution_count": 48,
   "id": "2b055616",
   "metadata": {},
   "outputs": [
    {
     "data": {
      "text/plain": [
       "<AxesSubplot:xlabel='TerritoryID'>"
      ]
     },
     "execution_count": 48,
     "metadata": {},
     "output_type": "execute_result"
    },
    {
     "data": {
      "image/png": "[encoded data removed]",
      "text/plain": [
       "<Figure size 432x288 with 1 Axes>"
      ]
     },
     "metadata": {
      "needs_background": "light"
     },
     "output_type": "display_data"
    }
   ],
   "source": [
    "teritorry_subName['OrderQty']['sum'].unstack().plot(kind='bar')"
   ]
  },
  {
   "cell_type": "code",
   "execution_count": 43,
   "id": "e4b4da69",
   "metadata": {},
   "outputs": [
    {
     "data": {
      "text/plain": [
       "<AxesSubplot:xlabel='TerritoryID'>"
      ]
     },
     "execution_count": 43,
     "metadata": {},
     "output_type": "execute_result"
    },
    {
     "data": {
      "image/png": "[encoded data removed]",
      "text/plain": [
       "<Figure size 432x288 with 1 Axes>"
      ]
     },
     "metadata": {
      "needs_background": "light"
     },
     "output_type": "display_data"
    }
   ],
   "source": [
    "teritorry_subName['GrossProfit']['sum'].unstack().plot(kind='bar')"
   ]
  },
  {
   "cell_type": "markdown",
   "id": "0d6383e6",
   "metadata": {},
   "source": [
    "That is intresting. In territory ID gross profit in RoadBikes was even higher then Mountain bikes. Unfortunetly the rest of sales in different teritory gives pure results "
   ]
  },
  {
   "cell_type": "code",
   "execution_count": 44,
   "id": "9e2a5829",
   "metadata": {},
   "outputs": [],
   "source": [
    "teritorry_class = bikes.groupby(['TerritoryID','class']).agg({'OrderQty':['sum'], 'GrossProfit': ['mean', 'sum'], 'ROI':['mean']})"
   ]
  },
  {
   "cell_type": "code",
   "execution_count": 45,
   "id": "852caded",
   "metadata": {},
   "outputs": [
    {
     "data": {
      "text/plain": [
       "<AxesSubplot:xlabel='TerritoryID'>"
      ]
     },
     "execution_count": 45,
     "metadata": {},
     "output_type": "execute_result"
    },
    {
     "data": {
      "image/png": "[encoded data removed]",
      "text/plain": [
       "<Figure size 432x288 with 1 Axes>"
      ]
     },
     "metadata": {
      "needs_background": "light"
     },
     "output_type": "display_data"
    }
   ],
   "source": [
    "teritorry_class['GrossProfit']['sum'].unstack().plot(kind='bar')"
   ]
  },
  {
   "cell_type": "markdown",
   "id": "5dcae144",
   "metadata": {},
   "source": [
    "The other important thing is that from TerID 1 the most profitable has been H class models. What about quantity?"
   ]
  },
  {
   "cell_type": "code",
   "execution_count": 46,
   "id": "50454813",
   "metadata": {},
   "outputs": [
    {
     "data": {
      "text/plain": [
       "<AxesSubplot:xlabel='TerritoryID'>"
      ]
     },
     "execution_count": 46,
     "metadata": {},
     "output_type": "execute_result"
    },
    {
     "data": {
      "image/png": "[encoded data removed]",
      "text/plain": [
       "<Figure size 432x288 with 1 Axes>"
      ]
     },
     "metadata": {
      "needs_background": "light"
     },
     "output_type": "display_data"
    }
   ],
   "source": [
    "teritorry_class['OrderQty']['sum'].unstack().plot(kind='bar')"
   ]
  },
  {
   "cell_type": "markdown",
   "id": "d355838d",
   "metadata": {},
   "source": [
    "It looks like negative income from road bikes decrease territory sell in each mountain bike. That is why the gross profit are pure in teritory 4. We can conclude that there might been some ads targeting with hudge price cutting in this territory grup"
   ]
  },
  {
   "cell_type": "code",
   "execution_count": null,
   "id": "25209827",
   "metadata": {},
   "outputs": [],
   "source": []
  },
  {
   "cell_type": "code",
   "execution_count": null,
   "id": "c43e641e",
   "metadata": {},
   "outputs": [],
   "source": []
  },
  {
   "cell_type": "code",
   "execution_count": null,
   "id": "3fcb2e7c",
   "metadata": {},
   "outputs": [],
   "source": []
  },
  {
   "cell_type": "code",
   "execution_count": null,
   "id": "533dbe1c",
   "metadata": {},
   "outputs": [],
   "source": []
  },
  {
   "cell_type": "code",
   "execution_count": null,
   "id": "b8435e96",
   "metadata": {},
   "outputs": [],
   "source": []
  }
 ],
 "metadata": {
  "kernelspec": {
   "display_name": "Python 3",
   "language": "python",
   "name": "python3"
  },
  "language_info": {
   "codemirror_mode": {
    "name": "ipython",
    "version": 3
   },
   "file_extension": ".py",
   "mimetype": "text/x-python",
   "name": "python",
   "nbconvert_exporter": "python",
   "pygments_lexer": "ipython3",
   "version": "3.8.8"
  }
 },
 "nbformat": 4,
 "nbformat_minor": 5
}
