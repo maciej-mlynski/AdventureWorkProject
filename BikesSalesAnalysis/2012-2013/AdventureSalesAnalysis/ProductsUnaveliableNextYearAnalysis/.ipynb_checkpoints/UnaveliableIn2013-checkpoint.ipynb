{
 "cells": [
  {
   "cell_type": "code",
   "execution_count": 1,
   "id": "20415244",
   "metadata": {},
   "outputs": [],
   "source": [
    "import pandas as pd\n",
    "import numpy as np\n",
    "import matplotlib.pyplot as plt\n",
    "%matplotlib inline\n",
    "import seaborn as sns\n",
    "pd.set_option('display.max_columns', None)"
   ]
  },
  {
   "cell_type": "markdown",
   "id": "11901031",
   "metadata": {},
   "source": [
    "In this notebook we are going to analyze bikes sale in adventure shop between may 2012 and 2013. Becouse of the changing asortment in shop I decided that I am going to split bikes into 2 groups:\n",
    "1. Bikes that has been removed from the store next year\n",
    "2. Bikes that has not been removed next year. Still aveliable in till may.2014\n",
    "\n",
    "Here I will analyze the the **first group**. (Unaveliable products). As well I splited analyze for few differen groups. We can group by singular product ID, by subcategory, color or even territory where the sales has been made. \n",
    "\n",
    "In current notebook I splited sales by Subcategory name, Class (Quality), Color and Size. "
   ]
  },
  {
   "cell_type": "code",
   "execution_count": 2,
   "id": "511968bd",
   "metadata": {},
   "outputs": [],
   "source": [
    "df = pd.read_csv('../../GroupedData/2012-2013_Gr_Unavlb_2013_sub_color_size_class.csv', sep=\";\")"
   ]
  },
  {
   "cell_type": "code",
   "execution_count": 3,
   "id": "1ebbec2f",
   "metadata": {},
   "outputs": [],
   "source": [
    "df['totalSellAmt'] = df[['totalSellAmt']].applymap(lambda x: str(x.replace(',','.'))).astype('float')\n",
    "df['totalCosts'] = df[['totalCosts']].applymap(lambda x: str(x.replace(',','.'))).astype('float')\n",
    "df['totalGrossProfit'] = df[['totalGrossProfit']].applymap(lambda x: str(x.replace(',','.'))).astype('float')"
   ]
  },
  {
   "cell_type": "markdown",
   "id": "3b76c849",
   "metadata": {},
   "source": [
    "#### 1. SUbcategory/"
   ]
  },
  {
   "cell_type": "code",
   "execution_count": 5,
   "id": "afb878df",
   "metadata": {},
   "outputs": [],
   "source": [
    "MBikes = df[df['SubName'] == 'Mountain Bikes']"
   ]
  },
  {
   "cell_type": "code",
   "execution_count": 6,
   "id": "88a77049",
   "metadata": {},
   "outputs": [
    {
     "data": {
      "text/html": [
       "<div>\n",
       "<style scoped>\n",
       "    .dataframe tbody tr th:only-of-type {\n",
       "        vertical-align: middle;\n",
       "    }\n",
       "\n",
       "    .dataframe tbody tr th {\n",
       "        vertical-align: top;\n",
       "    }\n",
       "\n",
       "    .dataframe thead th {\n",
       "        text-align: right;\n",
       "    }\n",
       "</style>\n",
       "<table border=\"1\" class=\"dataframe\">\n",
       "  <thead>\n",
       "    <tr style=\"text-align: right;\">\n",
       "      <th></th>\n",
       "      <th>SubName</th>\n",
       "      <th>Class</th>\n",
       "      <th>Color</th>\n",
       "      <th>Size</th>\n",
       "      <th>totalSellAmt</th>\n",
       "      <th>totalCosts</th>\n",
       "      <th>totalQuantity</th>\n",
       "      <th>totalGrossProfit</th>\n",
       "    </tr>\n",
       "  </thead>\n",
       "  <tbody>\n",
       "    <tr>\n",
       "      <th>0</th>\n",
       "      <td>Mountain Bikes</td>\n",
       "      <td>M</td>\n",
       "      <td>Black</td>\n",
       "      <td>38.0</td>\n",
       "      <td>4.424771e+05</td>\n",
       "      <td>4.093298e+05</td>\n",
       "      <td>684</td>\n",
       "      <td>33147.2730</td>\n",
       "    </tr>\n",
       "    <tr>\n",
       "      <th>1</th>\n",
       "      <td>Mountain Bikes</td>\n",
       "      <td>M</td>\n",
       "      <td>Black</td>\n",
       "      <td>40.0</td>\n",
       "      <td>5.016489e+05</td>\n",
       "      <td>4.643859e+05</td>\n",
       "      <td>776</td>\n",
       "      <td>37263.0041</td>\n",
       "    </tr>\n",
       "    <tr>\n",
       "      <th>2</th>\n",
       "      <td>Mountain Bikes</td>\n",
       "      <td>M</td>\n",
       "      <td>Black</td>\n",
       "      <td>44.0</td>\n",
       "      <td>4.840515e+05</td>\n",
       "      <td>4.470312e+05</td>\n",
       "      <td>747</td>\n",
       "      <td>37020.2742</td>\n",
       "    </tr>\n",
       "    <tr>\n",
       "      <th>3</th>\n",
       "      <td>Mountain Bikes</td>\n",
       "      <td>M</td>\n",
       "      <td>Black</td>\n",
       "      <td>48.0</td>\n",
       "      <td>4.790719e+05</td>\n",
       "      <td>4.428422e+05</td>\n",
       "      <td>740</td>\n",
       "      <td>36229.7039</td>\n",
       "    </tr>\n",
       "    <tr>\n",
       "      <th>4</th>\n",
       "      <td>Mountain Bikes</td>\n",
       "      <td>M</td>\n",
       "      <td>Black</td>\n",
       "      <td>NaN</td>\n",
       "      <td>1.907249e+06</td>\n",
       "      <td>1.763589e+06</td>\n",
       "      <td>2947</td>\n",
       "      <td>143660.2552</td>\n",
       "    </tr>\n",
       "    <tr>\n",
       "      <th>5</th>\n",
       "      <td>Mountain Bikes</td>\n",
       "      <td>M</td>\n",
       "      <td>NaN</td>\n",
       "      <td>NaN</td>\n",
       "      <td>1.907249e+06</td>\n",
       "      <td>1.763589e+06</td>\n",
       "      <td>2947</td>\n",
       "      <td>143660.2552</td>\n",
       "    </tr>\n",
       "    <tr>\n",
       "      <th>6</th>\n",
       "      <td>Mountain Bikes</td>\n",
       "      <td>NaN</td>\n",
       "      <td>NaN</td>\n",
       "      <td>NaN</td>\n",
       "      <td>1.907249e+06</td>\n",
       "      <td>1.763589e+06</td>\n",
       "      <td>2947</td>\n",
       "      <td>143660.2552</td>\n",
       "    </tr>\n",
       "  </tbody>\n",
       "</table>\n",
       "</div>"
      ],
      "text/plain": [
       "          SubName Class  Color  Size  totalSellAmt    totalCosts  \\\n",
       "0  Mountain Bikes    M   Black  38.0  4.424771e+05  4.093298e+05   \n",
       "1  Mountain Bikes    M   Black  40.0  5.016489e+05  4.643859e+05   \n",
       "2  Mountain Bikes    M   Black  44.0  4.840515e+05  4.470312e+05   \n",
       "3  Mountain Bikes    M   Black  48.0  4.790719e+05  4.428422e+05   \n",
       "4  Mountain Bikes    M   Black   NaN  1.907249e+06  1.763589e+06   \n",
       "5  Mountain Bikes    M     NaN   NaN  1.907249e+06  1.763589e+06   \n",
       "6  Mountain Bikes   NaN    NaN   NaN  1.907249e+06  1.763589e+06   \n",
       "\n",
       "   totalQuantity  totalGrossProfit  \n",
       "0            684        33147.2730  \n",
       "1            776        37263.0041  \n",
       "2            747        37020.2742  \n",
       "3            740        36229.7039  \n",
       "4           2947       143660.2552  \n",
       "5           2947       143660.2552  \n",
       "6           2947       143660.2552  "
      ]
     },
     "execution_count": 6,
     "metadata": {},
     "output_type": "execute_result"
    }
   ],
   "source": [
    "MBikes"
   ]
  },
  {
   "cell_type": "markdown",
   "id": "80f3b526",
   "metadata": {},
   "source": [
    "In the first look af data we can see that all M (Midium) class Mountain bikes has been removed from the store in may 2014. In another notebook I wll compere the results of M and H class Mountain bikes"
   ]
  },
  {
   "cell_type": "code",
   "execution_count": 8,
   "id": "7b3abdef",
   "metadata": {},
   "outputs": [],
   "source": [
    "RBikes = df[df['SubName'] == 'Road Bikes']"
   ]
  },
  {
   "cell_type": "code",
   "execution_count": 9,
   "id": "d6cdc34d",
   "metadata": {},
   "outputs": [
    {
     "data": {
      "text/html": [
       "<div>\n",
       "<style scoped>\n",
       "    .dataframe tbody tr th:only-of-type {\n",
       "        vertical-align: middle;\n",
       "    }\n",
       "\n",
       "    .dataframe tbody tr th {\n",
       "        vertical-align: top;\n",
       "    }\n",
       "\n",
       "    .dataframe thead th {\n",
       "        text-align: right;\n",
       "    }\n",
       "</style>\n",
       "<table border=\"1\" class=\"dataframe\">\n",
       "  <thead>\n",
       "    <tr style=\"text-align: right;\">\n",
       "      <th></th>\n",
       "      <th>SubName</th>\n",
       "      <th>Class</th>\n",
       "      <th>Color</th>\n",
       "      <th>Size</th>\n",
       "      <th>totalSellAmt</th>\n",
       "      <th>totalCosts</th>\n",
       "      <th>totalQuantity</th>\n",
       "      <th>totalGrossProfit</th>\n",
       "    </tr>\n",
       "  </thead>\n",
       "  <tbody>\n",
       "    <tr>\n",
       "      <th>7</th>\n",
       "      <td>Road Bikes</td>\n",
       "      <td>H</td>\n",
       "      <td>Red</td>\n",
       "      <td>44.0</td>\n",
       "      <td>1.448122e+06</td>\n",
       "      <td>1.359314e+06</td>\n",
       "      <td>895</td>\n",
       "      <td>88808.6504</td>\n",
       "    </tr>\n",
       "    <tr>\n",
       "      <th>8</th>\n",
       "      <td>Road Bikes</td>\n",
       "      <td>H</td>\n",
       "      <td>Red</td>\n",
       "      <td>48.0</td>\n",
       "      <td>1.343482e+06</td>\n",
       "      <td>1.228698e+06</td>\n",
       "      <td>809</td>\n",
       "      <td>114783.6635</td>\n",
       "    </tr>\n",
       "    <tr>\n",
       "      <th>9</th>\n",
       "      <td>Road Bikes</td>\n",
       "      <td>H</td>\n",
       "      <td>Red</td>\n",
       "      <td>52.0</td>\n",
       "      <td>1.066767e+06</td>\n",
       "      <td>9.705045e+05</td>\n",
       "      <td>639</td>\n",
       "      <td>96262.1004</td>\n",
       "    </tr>\n",
       "    <tr>\n",
       "      <th>10</th>\n",
       "      <td>Road Bikes</td>\n",
       "      <td>H</td>\n",
       "      <td>Red</td>\n",
       "      <td>NaN</td>\n",
       "      <td>3.858371e+06</td>\n",
       "      <td>3.558517e+06</td>\n",
       "      <td>2343</td>\n",
       "      <td>299854.4143</td>\n",
       "    </tr>\n",
       "    <tr>\n",
       "      <th>11</th>\n",
       "      <td>Road Bikes</td>\n",
       "      <td>H</td>\n",
       "      <td>NaN</td>\n",
       "      <td>NaN</td>\n",
       "      <td>3.858371e+06</td>\n",
       "      <td>3.558517e+06</td>\n",
       "      <td>2343</td>\n",
       "      <td>299854.4143</td>\n",
       "    </tr>\n",
       "    <tr>\n",
       "      <th>12</th>\n",
       "      <td>Road Bikes</td>\n",
       "      <td>L</td>\n",
       "      <td>Black</td>\n",
       "      <td>44.0</td>\n",
       "      <td>3.628539e+05</td>\n",
       "      <td>3.625964e+05</td>\n",
       "      <td>745</td>\n",
       "      <td>257.4350</td>\n",
       "    </tr>\n",
       "    <tr>\n",
       "      <th>13</th>\n",
       "      <td>Road Bikes</td>\n",
       "      <td>L</td>\n",
       "      <td>Black</td>\n",
       "      <td>48.0</td>\n",
       "      <td>2.229956e+05</td>\n",
       "      <td>2.170711e+05</td>\n",
       "      <td>446</td>\n",
       "      <td>5924.4084</td>\n",
       "    </tr>\n",
       "    <tr>\n",
       "      <th>14</th>\n",
       "      <td>Road Bikes</td>\n",
       "      <td>L</td>\n",
       "      <td>Black</td>\n",
       "      <td>52.0</td>\n",
       "      <td>7.231797e+05</td>\n",
       "      <td>7.436877e+05</td>\n",
       "      <td>1528</td>\n",
       "      <td>-20507.9407</td>\n",
       "    </tr>\n",
       "    <tr>\n",
       "      <th>15</th>\n",
       "      <td>Road Bikes</td>\n",
       "      <td>L</td>\n",
       "      <td>Black</td>\n",
       "      <td>58.0</td>\n",
       "      <td>6.187695e+05</td>\n",
       "      <td>6.263914e+05</td>\n",
       "      <td>1287</td>\n",
       "      <td>-7621.8814</td>\n",
       "    </tr>\n",
       "    <tr>\n",
       "      <th>16</th>\n",
       "      <td>Road Bikes</td>\n",
       "      <td>L</td>\n",
       "      <td>Black</td>\n",
       "      <td>60.0</td>\n",
       "      <td>3.685161e+05</td>\n",
       "      <td>3.664901e+05</td>\n",
       "      <td>753</td>\n",
       "      <td>2026.0527</td>\n",
       "    </tr>\n",
       "    <tr>\n",
       "      <th>17</th>\n",
       "      <td>Road Bikes</td>\n",
       "      <td>L</td>\n",
       "      <td>Black</td>\n",
       "      <td>62.0</td>\n",
       "      <td>2.234653e+05</td>\n",
       "      <td>2.175579e+05</td>\n",
       "      <td>447</td>\n",
       "      <td>5907.4958</td>\n",
       "    </tr>\n",
       "    <tr>\n",
       "      <th>18</th>\n",
       "      <td>Road Bikes</td>\n",
       "      <td>L</td>\n",
       "      <td>Black</td>\n",
       "      <td>NaN</td>\n",
       "      <td>2.519780e+06</td>\n",
       "      <td>2.533795e+06</td>\n",
       "      <td>5206</td>\n",
       "      <td>-14014.4302</td>\n",
       "    </tr>\n",
       "    <tr>\n",
       "      <th>19</th>\n",
       "      <td>Road Bikes</td>\n",
       "      <td>L</td>\n",
       "      <td>Red</td>\n",
       "      <td>44.0</td>\n",
       "      <td>6.266043e+05</td>\n",
       "      <td>7.383339e+05</td>\n",
       "      <td>1517</td>\n",
       "      <td>-111729.5667</td>\n",
       "    </tr>\n",
       "    <tr>\n",
       "      <th>20</th>\n",
       "      <td>Road Bikes</td>\n",
       "      <td>L</td>\n",
       "      <td>Red</td>\n",
       "      <td>48.0</td>\n",
       "      <td>6.232632e+05</td>\n",
       "      <td>6.317452e+05</td>\n",
       "      <td>1298</td>\n",
       "      <td>-8481.9954</td>\n",
       "    </tr>\n",
       "    <tr>\n",
       "      <th>21</th>\n",
       "      <td>Road Bikes</td>\n",
       "      <td>L</td>\n",
       "      <td>Red</td>\n",
       "      <td>52.0</td>\n",
       "      <td>3.745824e+05</td>\n",
       "      <td>3.747641e+05</td>\n",
       "      <td>770</td>\n",
       "      <td>-181.6660</td>\n",
       "    </tr>\n",
       "    <tr>\n",
       "      <th>22</th>\n",
       "      <td>Road Bikes</td>\n",
       "      <td>L</td>\n",
       "      <td>Red</td>\n",
       "      <td>58.0</td>\n",
       "      <td>2.248747e+05</td>\n",
       "      <td>2.151243e+05</td>\n",
       "      <td>442</td>\n",
       "      <td>9750.4108</td>\n",
       "    </tr>\n",
       "    <tr>\n",
       "      <th>23</th>\n",
       "      <td>Road Bikes</td>\n",
       "      <td>L</td>\n",
       "      <td>Red</td>\n",
       "      <td>60.0</td>\n",
       "      <td>7.033870e+05</td>\n",
       "      <td>7.300599e+05</td>\n",
       "      <td>1500</td>\n",
       "      <td>-26672.8921</td>\n",
       "    </tr>\n",
       "    <tr>\n",
       "      <th>24</th>\n",
       "      <td>Road Bikes</td>\n",
       "      <td>L</td>\n",
       "      <td>Red</td>\n",
       "      <td>62.0</td>\n",
       "      <td>6.218160e+05</td>\n",
       "      <td>6.302850e+05</td>\n",
       "      <td>1295</td>\n",
       "      <td>-8469.0766</td>\n",
       "    </tr>\n",
       "    <tr>\n",
       "      <th>25</th>\n",
       "      <td>Road Bikes</td>\n",
       "      <td>L</td>\n",
       "      <td>Red</td>\n",
       "      <td>NaN</td>\n",
       "      <td>3.174528e+06</td>\n",
       "      <td>3.320312e+06</td>\n",
       "      <td>6822</td>\n",
       "      <td>-145784.7860</td>\n",
       "    </tr>\n",
       "    <tr>\n",
       "      <th>26</th>\n",
       "      <td>Road Bikes</td>\n",
       "      <td>L</td>\n",
       "      <td>NaN</td>\n",
       "      <td>NaN</td>\n",
       "      <td>5.694308e+06</td>\n",
       "      <td>5.854107e+06</td>\n",
       "      <td>12028</td>\n",
       "      <td>-159799.2162</td>\n",
       "    </tr>\n",
       "    <tr>\n",
       "      <th>27</th>\n",
       "      <td>Road Bikes</td>\n",
       "      <td>NaN</td>\n",
       "      <td>NaN</td>\n",
       "      <td>NaN</td>\n",
       "      <td>9.552679e+06</td>\n",
       "      <td>9.412624e+06</td>\n",
       "      <td>14371</td>\n",
       "      <td>140055.1981</td>\n",
       "    </tr>\n",
       "  </tbody>\n",
       "</table>\n",
       "</div>"
      ],
      "text/plain": [
       "       SubName Class  Color  Size  totalSellAmt    totalCosts  totalQuantity  \\\n",
       "7   Road Bikes    H     Red  44.0  1.448122e+06  1.359314e+06            895   \n",
       "8   Road Bikes    H     Red  48.0  1.343482e+06  1.228698e+06            809   \n",
       "9   Road Bikes    H     Red  52.0  1.066767e+06  9.705045e+05            639   \n",
       "10  Road Bikes    H     Red   NaN  3.858371e+06  3.558517e+06           2343   \n",
       "11  Road Bikes    H     NaN   NaN  3.858371e+06  3.558517e+06           2343   \n",
       "12  Road Bikes    L   Black  44.0  3.628539e+05  3.625964e+05            745   \n",
       "13  Road Bikes    L   Black  48.0  2.229956e+05  2.170711e+05            446   \n",
       "14  Road Bikes    L   Black  52.0  7.231797e+05  7.436877e+05           1528   \n",
       "15  Road Bikes    L   Black  58.0  6.187695e+05  6.263914e+05           1287   \n",
       "16  Road Bikes    L   Black  60.0  3.685161e+05  3.664901e+05            753   \n",
       "17  Road Bikes    L   Black  62.0  2.234653e+05  2.175579e+05            447   \n",
       "18  Road Bikes    L   Black   NaN  2.519780e+06  2.533795e+06           5206   \n",
       "19  Road Bikes    L     Red  44.0  6.266043e+05  7.383339e+05           1517   \n",
       "20  Road Bikes    L     Red  48.0  6.232632e+05  6.317452e+05           1298   \n",
       "21  Road Bikes    L     Red  52.0  3.745824e+05  3.747641e+05            770   \n",
       "22  Road Bikes    L     Red  58.0  2.248747e+05  2.151243e+05            442   \n",
       "23  Road Bikes    L     Red  60.0  7.033870e+05  7.300599e+05           1500   \n",
       "24  Road Bikes    L     Red  62.0  6.218160e+05  6.302850e+05           1295   \n",
       "25  Road Bikes    L     Red   NaN  3.174528e+06  3.320312e+06           6822   \n",
       "26  Road Bikes    L     NaN   NaN  5.694308e+06  5.854107e+06          12028   \n",
       "27  Road Bikes   NaN    NaN   NaN  9.552679e+06  9.412624e+06          14371   \n",
       "\n",
       "    totalGrossProfit  \n",
       "7         88808.6504  \n",
       "8        114783.6635  \n",
       "9         96262.1004  \n",
       "10       299854.4143  \n",
       "11       299854.4143  \n",
       "12          257.4350  \n",
       "13         5924.4084  \n",
       "14       -20507.9407  \n",
       "15        -7621.8814  \n",
       "16         2026.0527  \n",
       "17         5907.4958  \n",
       "18       -14014.4302  \n",
       "19      -111729.5667  \n",
       "20        -8481.9954  \n",
       "21         -181.6660  \n",
       "22         9750.4108  \n",
       "23       -26672.8921  \n",
       "24        -8469.0766  \n",
       "25      -145784.7860  \n",
       "26      -159799.2162  \n",
       "27       140055.1981  "
      ]
     },
     "execution_count": 9,
     "metadata": {},
     "output_type": "execute_result"
    }
   ],
   "source": [
    "RBikes"
   ]
  },
  {
   "cell_type": "code",
   "execution_count": 11,
   "id": "a2ea4d9a",
   "metadata": {},
   "outputs": [
    {
     "data": {
      "text/plain": [
       "15"
      ]
     },
     "execution_count": 11,
     "metadata": {},
     "output_type": "execute_result"
    }
   ],
   "source": [
    "len(RBikes.dropna(axis=0))"
   ]
  },
  {
   "cell_type": "markdown",
   "id": "5b37227a",
   "metadata": {},
   "source": [
    "Adv shop removed all L (Low) class bicykles from the stor, The intresting thing is they removed also some of H class models, which has not bad total gross profit as wee see in the table above"
   ]
  },
  {
   "cell_type": "code",
   "execution_count": 12,
   "id": "a19ea7c4",
   "metadata": {},
   "outputs": [],
   "source": [
    "road_mountain = RBikes[RBikes['Size'].isnull() & RBikes['Color'].isnull() & RBikes['Class'].isnull()]"
   ]
  },
  {
   "cell_type": "code",
   "execution_count": 13,
   "id": "ad9e6844",
   "metadata": {},
   "outputs": [],
   "source": [
    "x=  MBikes[MBikes['Size'].isnull() & MBikes['Color'].isnull() & MBikes['Class'].isnull()]"
   ]
  },
  {
   "cell_type": "code",
   "execution_count": 14,
   "id": "c191354a",
   "metadata": {},
   "outputs": [],
   "source": [
    "road_mountain = pd.concat([road_mountain, x])"
   ]
  },
  {
   "cell_type": "code",
   "execution_count": 15,
   "id": "27bbef30",
   "metadata": {},
   "outputs": [
    {
     "data": {
      "image/png": "[encoded data removed]",
      "text/plain": [
       "<Figure size 432x288 with 1 Axes>"
      ]
     },
     "metadata": {},
     "output_type": "display_data"
    }
   ],
   "source": [
    "plt.pie(road_mountain['totalQuantity'], autopct = '%0.0f%%', labels =road_mountain['SubName']);"
   ]
  },
  {
   "cell_type": "markdown",
   "id": "7adb86fd",
   "metadata": {},
   "source": [
    "The quantity of Rad Bikes sell is much higher from Mountan Bikes. As we see before that relation do not has to translat to the income resuls. Let's check that out"
   ]
  },
  {
   "cell_type": "code",
   "execution_count": 16,
   "id": "4a45f256",
   "metadata": {},
   "outputs": [
    {
     "data": {
      "text/plain": [
       "<AxesSubplot:xlabel='SubName', ylabel='totalGrossProfit'>"
      ]
     },
     "execution_count": 16,
     "metadata": {},
     "output_type": "execute_result"
    },
    {
     "data": {
      "image/png": "[encoded data removed]",
      "text/plain": [
       "<Figure size 432x288 with 1 Axes>"
      ]
     },
     "metadata": {
      "needs_background": "light"
     },
     "output_type": "display_data"
    }
   ],
   "source": [
    "sns.barplot(x=road_mountain['SubName'], y=road_mountain['totalGrossProfit'])"
   ]
  },
  {
   "cell_type": "markdown",
   "id": "33de1d1a",
   "metadata": {},
   "source": [
    "As we can see Mountain Bikes is only litte bit better in totalGross profit than road bikes. However, we must consider that Mountain Bikes has been sold much less times. It means taht Mountain bikes has sligtly higher margin than road bikes. Second thing, we must consider is that some all Mountain Bikes has positive income, unlike the road bikes which some of them does. Let's dive deeper by spliting them by color, size and class"
   ]
  },
  {
   "cell_type": "markdown",
   "id": "308b90d5",
   "metadata": {},
   "source": [
    "##### 2. Subcategory and class"
   ]
  },
  {
   "cell_type": "code",
   "execution_count": 17,
   "id": "0af982af",
   "metadata": {},
   "outputs": [],
   "source": [
    "by_class = RBikes[RBikes['Color'].isnull() & RBikes['Class'].notnull()]"
   ]
  },
  {
   "cell_type": "code",
   "execution_count": 18,
   "id": "9d2c8ed6",
   "metadata": {},
   "outputs": [],
   "source": [
    "by_class = pd.concat([by_class, x])"
   ]
  },
  {
   "cell_type": "code",
   "execution_count": 21,
   "id": "30c7ac51",
   "metadata": {},
   "outputs": [
    {
     "name": "stderr",
     "output_type": "stream",
     "text": [
      "C:\\ProgramData\\Anaconda3\\lib\\site-packages\\pandas\\core\\indexing.py:1732: SettingWithCopyWarning: \n",
      "A value is trying to be set on a copy of a slice from a DataFrame\n",
      "\n",
      "See the caveats in the documentation: https://pandas.pydata.org/pandas-docs/stable/user_guide/indexing.html#returning-a-view-versus-a-copy\n",
      "  self._setitem_single_block(indexer, value, name)\n"
     ]
    }
   ],
   "source": [
    "by_class['SubName'].iloc[0] = 'RoadBikes_H'\n",
    "by_class['SubName'].iloc[1] = 'RoadBikes_L'"
   ]
  },
  {
   "cell_type": "code",
   "execution_count": 22,
   "id": "05a5d41f",
   "metadata": {},
   "outputs": [
    {
     "data": {
      "text/html": [
       "<div>\n",
       "<style scoped>\n",
       "    .dataframe tbody tr th:only-of-type {\n",
       "        vertical-align: middle;\n",
       "    }\n",
       "\n",
       "    .dataframe tbody tr th {\n",
       "        vertical-align: top;\n",
       "    }\n",
       "\n",
       "    .dataframe thead th {\n",
       "        text-align: right;\n",
       "    }\n",
       "</style>\n",
       "<table border=\"1\" class=\"dataframe\">\n",
       "  <thead>\n",
       "    <tr style=\"text-align: right;\">\n",
       "      <th></th>\n",
       "      <th>SubName</th>\n",
       "      <th>Class</th>\n",
       "      <th>Color</th>\n",
       "      <th>Size</th>\n",
       "      <th>totalSellAmt</th>\n",
       "      <th>totalCosts</th>\n",
       "      <th>totalQuantity</th>\n",
       "      <th>totalGrossProfit</th>\n",
       "    </tr>\n",
       "  </thead>\n",
       "  <tbody>\n",
       "    <tr>\n",
       "      <th>11</th>\n",
       "      <td>RoadBikes_H</td>\n",
       "      <td>H</td>\n",
       "      <td>NaN</td>\n",
       "      <td>NaN</td>\n",
       "      <td>3.858371e+06</td>\n",
       "      <td>3.558517e+06</td>\n",
       "      <td>2343</td>\n",
       "      <td>299854.4143</td>\n",
       "    </tr>\n",
       "    <tr>\n",
       "      <th>26</th>\n",
       "      <td>RoadBikes_L</td>\n",
       "      <td>L</td>\n",
       "      <td>NaN</td>\n",
       "      <td>NaN</td>\n",
       "      <td>5.694308e+06</td>\n",
       "      <td>5.854107e+06</td>\n",
       "      <td>12028</td>\n",
       "      <td>-159799.2162</td>\n",
       "    </tr>\n",
       "    <tr>\n",
       "      <th>6</th>\n",
       "      <td>Mountain Bikes</td>\n",
       "      <td>NaN</td>\n",
       "      <td>NaN</td>\n",
       "      <td>NaN</td>\n",
       "      <td>1.907249e+06</td>\n",
       "      <td>1.763589e+06</td>\n",
       "      <td>2947</td>\n",
       "      <td>143660.2552</td>\n",
       "    </tr>\n",
       "  </tbody>\n",
       "</table>\n",
       "</div>"
      ],
      "text/plain": [
       "           SubName Class Color  Size  totalSellAmt    totalCosts  \\\n",
       "11     RoadBikes_H    H    NaN   NaN  3.858371e+06  3.558517e+06   \n",
       "26     RoadBikes_L    L    NaN   NaN  5.694308e+06  5.854107e+06   \n",
       "6   Mountain Bikes   NaN   NaN   NaN  1.907249e+06  1.763589e+06   \n",
       "\n",
       "    totalQuantity  totalGrossProfit  \n",
       "11           2343       299854.4143  \n",
       "26          12028      -159799.2162  \n",
       "6            2947       143660.2552  "
      ]
     },
     "execution_count": 22,
     "metadata": {},
     "output_type": "execute_result"
    }
   ],
   "source": [
    "by_class"
   ]
  },
  {
   "cell_type": "code",
   "execution_count": 23,
   "id": "3d5eb4ac",
   "metadata": {},
   "outputs": [
    {
     "data": {
      "image/png": "[encoded data removed]",
      "text/plain": [
       "<Figure size 432x288 with 1 Axes>"
      ]
     },
     "metadata": {},
     "output_type": "display_data"
    }
   ],
   "source": [
    "plt.pie(by_class['totalQuantity'], autopct = '%0.0f%%', labels =by_class['SubName']);"
   ]
  },
  {
   "cell_type": "code",
   "execution_count": 24,
   "id": "36f43c30",
   "metadata": {},
   "outputs": [
    {
     "data": {
      "text/plain": [
       "<AxesSubplot:xlabel='SubName', ylabel='totalGrossProfit'>"
      ]
     },
     "execution_count": 24,
     "metadata": {},
     "output_type": "execute_result"
    },
    {
     "data": {
      "image/png": "[encoded data removed]",
      "text/plain": [
       "<Figure size 432x288 with 1 Axes>"
      ]
     },
     "metadata": {
      "needs_background": "light"
     },
     "output_type": "display_data"
    }
   ],
   "source": [
    "sns.barplot(x=by_class['SubName'], y=by_class['totalGrossProfit'])"
   ]
  },
  {
   "cell_type": "markdown",
   "id": "cf704291",
   "metadata": {},
   "source": [
    "As I expected. Some of the rad bikes has slightly better results than others. High class road bikes has even higher gross profit in toat than Midium class Mountain bikes"
   ]
  },
  {
   "cell_type": "markdown",
   "id": "dd359f80",
   "metadata": {},
   "source": [
    "-------------------------------------------------------------------------------------------\n",
    "The intresting thing is that High class road bikes that has been remoed from the store the year after in total has positive income unlike to the bikes that has not been removed. Why they removed profitable bikes and left unprofitable bikes? "
   ]
  },
  {
   "cell_type": "markdown",
   "id": "80235af9",
   "metadata": {},
   "source": [
    "###### 3.  Model Name, color, size"
   ]
  },
  {
   "cell_type": "code",
   "execution_count": 26,
   "id": "963df2f1",
   "metadata": {},
   "outputs": [],
   "source": [
    "models = pd.read_csv('../../GroupedData/2012-2013_Gr_Unavlb_2013_model_color_size.csv', sep=';')"
   ]
  },
  {
   "cell_type": "code",
   "execution_count": 27,
   "id": "f1ba0272",
   "metadata": {},
   "outputs": [],
   "source": [
    "models['totalSellAmt'] = models[['totalSellAmt']].applymap(lambda x: str(x.replace(',','.'))).astype('float')\n",
    "models['totalCosts'] = models[['totalCosts']].applymap(lambda x: str(x.replace(',','.'))).astype('float')\n",
    "models['totalGrossProfit'] = models[['totalGrossProfit']].applymap(lambda x: str(x.replace(',','.'))).astype('float')"
   ]
  },
  {
   "cell_type": "code",
   "execution_count": 28,
   "id": "82de1937",
   "metadata": {},
   "outputs": [],
   "source": [
    "by_models = models[models['Size'].isnull() & models['Color'].isnull()]"
   ]
  },
  {
   "cell_type": "code",
   "execution_count": 29,
   "id": "9b463f0a",
   "metadata": {},
   "outputs": [
    {
     "data": {
      "text/html": [
       "<div>\n",
       "<style scoped>\n",
       "    .dataframe tbody tr th:only-of-type {\n",
       "        vertical-align: middle;\n",
       "    }\n",
       "\n",
       "    .dataframe tbody tr th {\n",
       "        vertical-align: top;\n",
       "    }\n",
       "\n",
       "    .dataframe thead th {\n",
       "        text-align: right;\n",
       "    }\n",
       "</style>\n",
       "<table border=\"1\" class=\"dataframe\">\n",
       "  <thead>\n",
       "    <tr style=\"text-align: right;\">\n",
       "      <th></th>\n",
       "      <th>ModelName</th>\n",
       "      <th>Color</th>\n",
       "      <th>Size</th>\n",
       "      <th>totalSellAmt</th>\n",
       "      <th>totalCosts</th>\n",
       "      <th>totalQuantity</th>\n",
       "      <th>totalGrossProfit</th>\n",
       "    </tr>\n",
       "  </thead>\n",
       "  <tbody>\n",
       "    <tr>\n",
       "      <th>25</th>\n",
       "      <td>Mountain-300</td>\n",
       "      <td>NaN</td>\n",
       "      <td>NaN</td>\n",
       "      <td>1.907249e+06</td>\n",
       "      <td>1.763589e+06</td>\n",
       "      <td>2947</td>\n",
       "      <td>143660.2552</td>\n",
       "    </tr>\n",
       "    <tr>\n",
       "      <th>26</th>\n",
       "      <td>Road-250</td>\n",
       "      <td>NaN</td>\n",
       "      <td>NaN</td>\n",
       "      <td>3.858371e+06</td>\n",
       "      <td>3.558517e+06</td>\n",
       "      <td>2343</td>\n",
       "      <td>299854.4143</td>\n",
       "    </tr>\n",
       "    <tr>\n",
       "      <th>27</th>\n",
       "      <td>Road-650</td>\n",
       "      <td>NaN</td>\n",
       "      <td>NaN</td>\n",
       "      <td>5.694308e+06</td>\n",
       "      <td>5.854107e+06</td>\n",
       "      <td>12028</td>\n",
       "      <td>-159799.2162</td>\n",
       "    </tr>\n",
       "  </tbody>\n",
       "</table>\n",
       "</div>"
      ],
      "text/plain": [
       "       ModelName Color  Size  totalSellAmt    totalCosts  totalQuantity  \\\n",
       "25  Mountain-300   NaN   NaN  1.907249e+06  1.763589e+06           2947   \n",
       "26      Road-250   NaN   NaN  3.858371e+06  3.558517e+06           2343   \n",
       "27      Road-650   NaN   NaN  5.694308e+06  5.854107e+06          12028   \n",
       "\n",
       "    totalGrossProfit  \n",
       "25       143660.2552  \n",
       "26       299854.4143  \n",
       "27      -159799.2162  "
      ]
     },
     "execution_count": 29,
     "metadata": {},
     "output_type": "execute_result"
    }
   ],
   "source": [
    "by_models"
   ]
  },
  {
   "cell_type": "markdown",
   "id": "c39ccaed",
   "metadata": {},
   "source": [
    "As we can see there is 3 model that has been removed from the sotre. There was also 3 bikes that has not been removed, but one of them (road-250) repeats in two groups. That means that They remove only some models with specific size, color or class"
   ]
  },
  {
   "cell_type": "code",
   "execution_count": 30,
   "id": "581e05d7",
   "metadata": {},
   "outputs": [],
   "source": [
    "models_by_color = models[models['Color'].notnull() & models['Size'].isnull() & models['ModelName'].notnull()]"
   ]
  },
  {
   "cell_type": "code",
   "execution_count": 31,
   "id": "7164d1ec",
   "metadata": {},
   "outputs": [
    {
     "data": {
      "text/html": [
       "<div>\n",
       "<style scoped>\n",
       "    .dataframe tbody tr th:only-of-type {\n",
       "        vertical-align: middle;\n",
       "    }\n",
       "\n",
       "    .dataframe tbody tr th {\n",
       "        vertical-align: top;\n",
       "    }\n",
       "\n",
       "    .dataframe thead th {\n",
       "        text-align: right;\n",
       "    }\n",
       "</style>\n",
       "<table border=\"1\" class=\"dataframe\">\n",
       "  <thead>\n",
       "    <tr style=\"text-align: right;\">\n",
       "      <th></th>\n",
       "      <th>ModelName</th>\n",
       "      <th>Color</th>\n",
       "      <th>Size</th>\n",
       "      <th>totalSellAmt</th>\n",
       "      <th>totalCosts</th>\n",
       "      <th>totalQuantity</th>\n",
       "      <th>totalGrossProfit</th>\n",
       "    </tr>\n",
       "  </thead>\n",
       "  <tbody>\n",
       "    <tr>\n",
       "      <th>4</th>\n",
       "      <td>Mountain-300</td>\n",
       "      <td>Black</td>\n",
       "      <td>NaN</td>\n",
       "      <td>1.907249e+06</td>\n",
       "      <td>1.763589e+06</td>\n",
       "      <td>2947</td>\n",
       "      <td>143660.2552</td>\n",
       "    </tr>\n",
       "    <tr>\n",
       "      <th>11</th>\n",
       "      <td>Road-650</td>\n",
       "      <td>Black</td>\n",
       "      <td>NaN</td>\n",
       "      <td>2.519780e+06</td>\n",
       "      <td>2.533795e+06</td>\n",
       "      <td>5206</td>\n",
       "      <td>-14014.4302</td>\n",
       "    </tr>\n",
       "    <tr>\n",
       "      <th>16</th>\n",
       "      <td>Road-250</td>\n",
       "      <td>Red</td>\n",
       "      <td>NaN</td>\n",
       "      <td>3.858371e+06</td>\n",
       "      <td>3.558517e+06</td>\n",
       "      <td>2343</td>\n",
       "      <td>299854.4143</td>\n",
       "    </tr>\n",
       "    <tr>\n",
       "      <th>23</th>\n",
       "      <td>Road-650</td>\n",
       "      <td>Red</td>\n",
       "      <td>NaN</td>\n",
       "      <td>3.174528e+06</td>\n",
       "      <td>3.320312e+06</td>\n",
       "      <td>6822</td>\n",
       "      <td>-145784.7860</td>\n",
       "    </tr>\n",
       "  </tbody>\n",
       "</table>\n",
       "</div>"
      ],
      "text/plain": [
       "       ModelName  Color  Size  totalSellAmt    totalCosts  totalQuantity  \\\n",
       "4   Mountain-300  Black   NaN  1.907249e+06  1.763589e+06           2947   \n",
       "11      Road-650  Black   NaN  2.519780e+06  2.533795e+06           5206   \n",
       "16      Road-250    Red   NaN  3.858371e+06  3.558517e+06           2343   \n",
       "23      Road-650    Red   NaN  3.174528e+06  3.320312e+06           6822   \n",
       "\n",
       "    totalGrossProfit  \n",
       "4        143660.2552  \n",
       "11       -14014.4302  \n",
       "16       299854.4143  \n",
       "23      -145784.7860  "
      ]
     },
     "execution_count": 31,
     "metadata": {},
     "output_type": "execute_result"
    }
   ],
   "source": [
    "models_by_color"
   ]
  },
  {
   "cell_type": "code",
   "execution_count": 32,
   "id": "c656cd27",
   "metadata": {},
   "outputs": [
    {
     "name": "stderr",
     "output_type": "stream",
     "text": [
      "C:\\ProgramData\\Anaconda3\\lib\\site-packages\\pandas\\core\\indexing.py:1732: SettingWithCopyWarning: \n",
      "A value is trying to be set on a copy of a slice from a DataFrame\n",
      "\n",
      "See the caveats in the documentation: https://pandas.pydata.org/pandas-docs/stable/user_guide/indexing.html#returning-a-view-versus-a-copy\n",
      "  self._setitem_single_block(indexer, value, name)\n"
     ]
    }
   ],
   "source": [
    "models_by_color['ModelName'].iloc[0] = 'Mountain-300_black'\n",
    "models_by_color['ModelName'].iloc[1] = 'Road-650_Black'\n",
    "models_by_color['ModelName'].iloc[2] = 'Road-250_Red'\n",
    "models_by_color['ModelName'].iloc[3] = 'Road-650_Red'"
   ]
  },
  {
   "cell_type": "code",
   "execution_count": 33,
   "id": "35241978",
   "metadata": {},
   "outputs": [
    {
     "data": {
      "image/png": "[encoded data removed]",
      "text/plain": [
       "<Figure size 432x288 with 1 Axes>"
      ]
     },
     "metadata": {
      "needs_background": "light"
     },
     "output_type": "display_data"
    }
   ],
   "source": [
    "sns.barplot(x=models_by_color['ModelName'], y=models_by_color['totalGrossProfit'])\n",
    "plt.xticks(rotation=30);"
   ]
  },
  {
   "cell_type": "markdown",
   "id": "00b0aa62",
   "metadata": {},
   "source": [
    "Road-250_Red is all High class Road bikes. Only this type of this model bring positive income in total. This type of model should not been removed from the stor **BUT**:\n",
    "\n",
    "1. The shop bring new model the year after (touring bikes) and they might deliver this bikes with similar paramiters. However hat argument does not fully explain the company.\n",
    "2. There might be some issue with production. They might just stop produce this type of model in this size"
   ]
  },
  {
   "cell_type": "markdown",
   "id": "d24a2dc2",
   "metadata": {},
   "source": [
    "Let's check that size. We know that some of road 250 in color red has not been removed from the store. Lets check which size left and which has been removed"
   ]
  },
  {
   "cell_type": "code",
   "execution_count": 34,
   "id": "83c729ac",
   "metadata": {},
   "outputs": [],
   "source": [
    "model_size_color = models[models['Color'].notnull() & models['Size'].notnull() & models['ModelName'].notnull()]"
   ]
  },
  {
   "cell_type": "code",
   "execution_count": 35,
   "id": "8088f16f",
   "metadata": {},
   "outputs": [
    {
     "data": {
      "text/html": [
       "<div>\n",
       "<style scoped>\n",
       "    .dataframe tbody tr th:only-of-type {\n",
       "        vertical-align: middle;\n",
       "    }\n",
       "\n",
       "    .dataframe tbody tr th {\n",
       "        vertical-align: top;\n",
       "    }\n",
       "\n",
       "    .dataframe thead th {\n",
       "        text-align: right;\n",
       "    }\n",
       "</style>\n",
       "<table border=\"1\" class=\"dataframe\">\n",
       "  <thead>\n",
       "    <tr style=\"text-align: right;\">\n",
       "      <th></th>\n",
       "      <th>ModelName</th>\n",
       "      <th>Color</th>\n",
       "      <th>Size</th>\n",
       "      <th>totalSellAmt</th>\n",
       "      <th>totalCosts</th>\n",
       "      <th>totalQuantity</th>\n",
       "      <th>totalGrossProfit</th>\n",
       "    </tr>\n",
       "  </thead>\n",
       "  <tbody>\n",
       "    <tr>\n",
       "      <th>13</th>\n",
       "      <td>Road-250</td>\n",
       "      <td>Red</td>\n",
       "      <td>44.0</td>\n",
       "      <td>1.448122e+06</td>\n",
       "      <td>1.359314e+06</td>\n",
       "      <td>895</td>\n",
       "      <td>88808.6504</td>\n",
       "    </tr>\n",
       "    <tr>\n",
       "      <th>14</th>\n",
       "      <td>Road-250</td>\n",
       "      <td>Red</td>\n",
       "      <td>48.0</td>\n",
       "      <td>1.343482e+06</td>\n",
       "      <td>1.228698e+06</td>\n",
       "      <td>809</td>\n",
       "      <td>114783.6635</td>\n",
       "    </tr>\n",
       "    <tr>\n",
       "      <th>15</th>\n",
       "      <td>Road-250</td>\n",
       "      <td>Red</td>\n",
       "      <td>52.0</td>\n",
       "      <td>1.066767e+06</td>\n",
       "      <td>9.705045e+05</td>\n",
       "      <td>639</td>\n",
       "      <td>96262.1004</td>\n",
       "    </tr>\n",
       "  </tbody>\n",
       "</table>\n",
       "</div>"
      ],
      "text/plain": [
       "   ModelName Color  Size  totalSellAmt    totalCosts  totalQuantity  \\\n",
       "13  Road-250   Red  44.0  1.448122e+06  1.359314e+06            895   \n",
       "14  Road-250   Red  48.0  1.343482e+06  1.228698e+06            809   \n",
       "15  Road-250   Red  52.0  1.066767e+06  9.705045e+05            639   \n",
       "\n",
       "    totalGrossProfit  \n",
       "13        88808.6504  \n",
       "14       114783.6635  \n",
       "15        96262.1004  "
      ]
     },
     "execution_count": 35,
     "metadata": {},
     "output_type": "execute_result"
    }
   ],
   "source": [
    "model_size_color[model_size_color['ModelName'] == 'Road-250']"
   ]
  },
  {
   "cell_type": "code",
   "execution_count": null,
   "id": "4c6f4a76",
   "metadata": {},
   "outputs": [],
   "source": []
  }
 ],
 "metadata": {
  "kernelspec": {
   "display_name": "Python 3",
   "language": "python",
   "name": "python3"
  },
  "language_info": {
   "codemirror_mode": {
    "name": "ipython",
    "version": 3
   },
   "file_extension": ".py",
   "mimetype": "text/x-python",
   "name": "python",
   "nbconvert_exporter": "python",
   "pygments_lexer": "ipython3",
   "version": "3.8.8"
  }
 },
 "nbformat": 4,
 "nbformat_minor": 5
}
