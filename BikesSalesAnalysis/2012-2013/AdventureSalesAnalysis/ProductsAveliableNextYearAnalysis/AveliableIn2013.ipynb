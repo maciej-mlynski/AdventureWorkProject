{
 "cells": [
  {
   "cell_type": "code",
   "execution_count": 11,
   "id": "04c42db1",
   "metadata": {},
   "outputs": [],
   "source": [
    "import pandas as pd\n",
    "import numpy as np\n",
    "import matplotlib.pyplot as plt\n",
    "%matplotlib inline\n",
    "import seaborn as sns\n",
    "pd.set_option('display.max_columns', None)"
   ]
  },
  {
   "cell_type": "markdown",
   "id": "eab920b0",
   "metadata": {},
   "source": [
    "In this notebook we are going to analyze bikes sale in adventure shop between may 2012 and 2013. Becouse of the changing asortment in shop I decided that I am going to split bikes into 2 groups:\n",
    "1. Bikes that has been removed from the store next year\n",
    "2. Bikes that has not been removed next year. Still aveliable in till may.2014\n",
    "\n",
    "Here I will analyze the the **second group**. (Aveliable products). As well I splited analyze for few differen groups. We can group by singular product ID, by subcategory, color or even territory where the sales has been made. \n",
    "\n",
    "In current notebook I splited sales by Subcategory name, Class (Quality), Color and Size. "
   ]
  },
  {
   "cell_type": "markdown",
   "id": "80ff2be7",
   "metadata": {},
   "source": [
    "------------------------------------------------------------------\n",
    "- totalCosts is a sum of standardCost multiplied by Quantity of orders\n",
    "- totalSellAmt is a sum of total gross income multiplied by Quantity of orders\n",
    "- totalQuantity is sum of quantity of orders\n",
    "- totalGrossProfit is difference between totalSellAmt and totalCosts including quantities"
   ]
  },
  {
   "cell_type": "code",
   "execution_count": 12,
   "id": "f7d5797c",
   "metadata": {},
   "outputs": [],
   "source": [
    "df = pd.read_csv('../../GroupedData/2012-2013_Gr_Avlb_2013_sub_color_size_class.csv', sep=\";\")"
   ]
  },
  {
   "cell_type": "code",
   "execution_count": 13,
   "id": "e7d87ceb",
   "metadata": {},
   "outputs": [],
   "source": [
    "df['totalSellAmt'] = df[['totalSellAmt']].applymap(lambda x: str(x.replace(',','.'))).astype('float')\n",
    "df['totalCosts'] = df[['totalCosts']].applymap(lambda x: str(x.replace(',','.'))).astype('float')\n",
    "df['totalGrossProfit'] = df[['totalGrossProfit']].applymap(lambda x: str(x.replace(',','.'))).astype('float')"
   ]
  },
  {
   "cell_type": "markdown",
   "id": "3e9af880",
   "metadata": {},
   "source": [
    "##### 1. Subcategory"
   ]
  },
  {
   "cell_type": "code",
   "execution_count": 14,
   "id": "b49e12bf",
   "metadata": {},
   "outputs": [],
   "source": [
    "MBikes = df[df['SubName'] == 'Mountain Bikes']"
   ]
  },
  {
   "cell_type": "code",
   "execution_count": 42,
   "id": "3e5e3286",
   "metadata": {},
   "outputs": [
    {
     "data": {
      "text/html": [
       "<div>\n",
       "<style scoped>\n",
       "    .dataframe tbody tr th:only-of-type {\n",
       "        vertical-align: middle;\n",
       "    }\n",
       "\n",
       "    .dataframe tbody tr th {\n",
       "        vertical-align: top;\n",
       "    }\n",
       "\n",
       "    .dataframe thead th {\n",
       "        text-align: right;\n",
       "    }\n",
       "</style>\n",
       "<table border=\"1\" class=\"dataframe\">\n",
       "  <thead>\n",
       "    <tr style=\"text-align: right;\">\n",
       "      <th></th>\n",
       "      <th>SubName</th>\n",
       "      <th>Class</th>\n",
       "      <th>Color</th>\n",
       "      <th>Size</th>\n",
       "      <th>totalSellAmt</th>\n",
       "      <th>totalCosts</th>\n",
       "      <th>totalQuantity</th>\n",
       "      <th>totalGrossProfit</th>\n",
       "    </tr>\n",
       "  </thead>\n",
       "  <tbody>\n",
       "    <tr>\n",
       "      <th>0</th>\n",
       "      <td>Mountain Bikes</td>\n",
       "      <td>H</td>\n",
       "      <td>Black</td>\n",
       "      <td>38.0</td>\n",
       "      <td>1.809180e+06</td>\n",
       "      <td>1.706451e+06</td>\n",
       "      <td>1363</td>\n",
       "      <td>102729.4141</td>\n",
       "    </tr>\n",
       "    <tr>\n",
       "      <th>1</th>\n",
       "      <td>Mountain Bikes</td>\n",
       "      <td>H</td>\n",
       "      <td>Black</td>\n",
       "      <td>42.0</td>\n",
       "      <td>1.739911e+06</td>\n",
       "      <td>1.621316e+06</td>\n",
       "      <td>1295</td>\n",
       "      <td>118595.4038</td>\n",
       "    </tr>\n",
       "    <tr>\n",
       "      <th>2</th>\n",
       "      <td>Mountain Bikes</td>\n",
       "      <td>H</td>\n",
       "      <td>Black</td>\n",
       "      <td>46.0</td>\n",
       "      <td>1.350096e+06</td>\n",
       "      <td>1.209414e+06</td>\n",
       "      <td>966</td>\n",
       "      <td>140681.9394</td>\n",
       "    </tr>\n",
       "    <tr>\n",
       "      <th>3</th>\n",
       "      <td>Mountain Bikes</td>\n",
       "      <td>H</td>\n",
       "      <td>Black</td>\n",
       "      <td>NaN</td>\n",
       "      <td>4.899187e+06</td>\n",
       "      <td>4.537180e+06</td>\n",
       "      <td>3624</td>\n",
       "      <td>362006.7573</td>\n",
       "    </tr>\n",
       "    <tr>\n",
       "      <th>4</th>\n",
       "      <td>Mountain Bikes</td>\n",
       "      <td>H</td>\n",
       "      <td>Silver</td>\n",
       "      <td>38.0</td>\n",
       "      <td>1.530625e+06</td>\n",
       "      <td>1.414963e+06</td>\n",
       "      <td>1118</td>\n",
       "      <td>115662.4062</td>\n",
       "    </tr>\n",
       "    <tr>\n",
       "      <th>5</th>\n",
       "      <td>Mountain Bikes</td>\n",
       "      <td>H</td>\n",
       "      <td>Silver</td>\n",
       "      <td>42.0</td>\n",
       "      <td>1.519788e+06</td>\n",
       "      <td>1.409900e+06</td>\n",
       "      <td>1114</td>\n",
       "      <td>109888.0455</td>\n",
       "    </tr>\n",
       "    <tr>\n",
       "      <th>6</th>\n",
       "      <td>Mountain Bikes</td>\n",
       "      <td>H</td>\n",
       "      <td>Silver</td>\n",
       "      <td>46.0</td>\n",
       "      <td>1.528008e+06</td>\n",
       "      <td>1.407369e+06</td>\n",
       "      <td>1112</td>\n",
       "      <td>120639.5054</td>\n",
       "    </tr>\n",
       "    <tr>\n",
       "      <th>7</th>\n",
       "      <td>Mountain Bikes</td>\n",
       "      <td>H</td>\n",
       "      <td>Silver</td>\n",
       "      <td>NaN</td>\n",
       "      <td>4.578422e+06</td>\n",
       "      <td>4.232232e+06</td>\n",
       "      <td>3344</td>\n",
       "      <td>346189.9571</td>\n",
       "    </tr>\n",
       "    <tr>\n",
       "      <th>8</th>\n",
       "      <td>Mountain Bikes</td>\n",
       "      <td>H</td>\n",
       "      <td>NaN</td>\n",
       "      <td>NaN</td>\n",
       "      <td>9.477609e+06</td>\n",
       "      <td>8.769412e+06</td>\n",
       "      <td>6968</td>\n",
       "      <td>708196.7144</td>\n",
       "    </tr>\n",
       "    <tr>\n",
       "      <th>9</th>\n",
       "      <td>Mountain Bikes</td>\n",
       "      <td>NaN</td>\n",
       "      <td>NaN</td>\n",
       "      <td>NaN</td>\n",
       "      <td>9.477609e+06</td>\n",
       "      <td>8.769412e+06</td>\n",
       "      <td>6968</td>\n",
       "      <td>708196.7144</td>\n",
       "    </tr>\n",
       "  </tbody>\n",
       "</table>\n",
       "</div>"
      ],
      "text/plain": [
       "          SubName Class   Color  Size  totalSellAmt    totalCosts  \\\n",
       "0  Mountain Bikes    H    Black  38.0  1.809180e+06  1.706451e+06   \n",
       "1  Mountain Bikes    H    Black  42.0  1.739911e+06  1.621316e+06   \n",
       "2  Mountain Bikes    H    Black  46.0  1.350096e+06  1.209414e+06   \n",
       "3  Mountain Bikes    H    Black   NaN  4.899187e+06  4.537180e+06   \n",
       "4  Mountain Bikes    H   Silver  38.0  1.530625e+06  1.414963e+06   \n",
       "5  Mountain Bikes    H   Silver  42.0  1.519788e+06  1.409900e+06   \n",
       "6  Mountain Bikes    H   Silver  46.0  1.528008e+06  1.407369e+06   \n",
       "7  Mountain Bikes    H   Silver   NaN  4.578422e+06  4.232232e+06   \n",
       "8  Mountain Bikes    H      NaN   NaN  9.477609e+06  8.769412e+06   \n",
       "9  Mountain Bikes   NaN     NaN   NaN  9.477609e+06  8.769412e+06   \n",
       "\n",
       "   totalQuantity  totalGrossProfit  \n",
       "0           1363       102729.4141  \n",
       "1           1295       118595.4038  \n",
       "2            966       140681.9394  \n",
       "3           3624       362006.7573  \n",
       "4           1118       115662.4062  \n",
       "5           1114       109888.0455  \n",
       "6           1112       120639.5054  \n",
       "7           3344       346189.9571  \n",
       "8           6968       708196.7144  \n",
       "9           6968       708196.7144  "
      ]
     },
     "execution_count": 42,
     "metadata": {},
     "output_type": "execute_result"
    }
   ],
   "source": [
    "MBikes"
   ]
  },
  {
   "cell_type": "markdown",
   "id": "bc00e9b3",
   "metadata": {},
   "source": [
    "As we can see shop left olny Hight class bikes for next year. We do not know yet if they removed Midium or Low class becouse we did no look into that data. We do not know also if in 2013-2014 period shop did not add any of L/M class Mountain bikes. Let's make some plots to see how this MBikes sold in 2012-2013. Mainly we want to know why they left this bikes and then when analyze next year period will will check if that was good or bad idea..."
   ]
  },
  {
   "cell_type": "code",
   "execution_count": 15,
   "id": "1738a1ee",
   "metadata": {},
   "outputs": [],
   "source": [
    "RBikes = df[df['SubName'] == 'Road Bikes']"
   ]
  },
  {
   "cell_type": "code",
   "execution_count": 16,
   "id": "4e9338a5",
   "metadata": {},
   "outputs": [
    {
     "data": {
      "text/html": [
       "<div>\n",
       "<style scoped>\n",
       "    .dataframe tbody tr th:only-of-type {\n",
       "        vertical-align: middle;\n",
       "    }\n",
       "\n",
       "    .dataframe tbody tr th {\n",
       "        vertical-align: top;\n",
       "    }\n",
       "\n",
       "    .dataframe thead th {\n",
       "        text-align: right;\n",
       "    }\n",
       "</style>\n",
       "<table border=\"1\" class=\"dataframe\">\n",
       "  <thead>\n",
       "    <tr style=\"text-align: right;\">\n",
       "      <th></th>\n",
       "      <th>SubName</th>\n",
       "      <th>Class</th>\n",
       "      <th>Color</th>\n",
       "      <th>Size</th>\n",
       "      <th>totalSellAmt</th>\n",
       "      <th>totalCosts</th>\n",
       "      <th>totalQuantity</th>\n",
       "      <th>totalGrossProfit</th>\n",
       "    </tr>\n",
       "  </thead>\n",
       "  <tbody>\n",
       "    <tr>\n",
       "      <th>10</th>\n",
       "      <td>Road Bikes</td>\n",
       "      <td>H</td>\n",
       "      <td>Black</td>\n",
       "      <td>44.0</td>\n",
       "      <td>1.254396e+06</td>\n",
       "      <td>1.362134e+06</td>\n",
       "      <td>876</td>\n",
       "      <td>-107738.5365</td>\n",
       "    </tr>\n",
       "    <tr>\n",
       "      <th>11</th>\n",
       "      <td>Road Bikes</td>\n",
       "      <td>H</td>\n",
       "      <td>Black</td>\n",
       "      <td>48.0</td>\n",
       "      <td>1.149798e+06</td>\n",
       "      <td>1.220634e+06</td>\n",
       "      <td>785</td>\n",
       "      <td>-70836.3493</td>\n",
       "    </tr>\n",
       "    <tr>\n",
       "      <th>12</th>\n",
       "      <td>Road Bikes</td>\n",
       "      <td>H</td>\n",
       "      <td>Black</td>\n",
       "      <td>52.0</td>\n",
       "      <td>1.037551e+06</td>\n",
       "      <td>1.054255e+06</td>\n",
       "      <td>678</td>\n",
       "      <td>-16703.5512</td>\n",
       "    </tr>\n",
       "    <tr>\n",
       "      <th>13</th>\n",
       "      <td>Road Bikes</td>\n",
       "      <td>H</td>\n",
       "      <td>Black</td>\n",
       "      <td>58.0</td>\n",
       "      <td>7.631106e+05</td>\n",
       "      <td>7.572596e+05</td>\n",
       "      <td>487</td>\n",
       "      <td>5850.9352</td>\n",
       "    </tr>\n",
       "    <tr>\n",
       "      <th>14</th>\n",
       "      <td>Road Bikes</td>\n",
       "      <td>H</td>\n",
       "      <td>Black</td>\n",
       "      <td>NaN</td>\n",
       "      <td>4.204855e+06</td>\n",
       "      <td>4.394283e+06</td>\n",
       "      <td>2826</td>\n",
       "      <td>-189427.5018</td>\n",
       "    </tr>\n",
       "    <tr>\n",
       "      <th>15</th>\n",
       "      <td>Road Bikes</td>\n",
       "      <td>H</td>\n",
       "      <td>Red</td>\n",
       "      <td>58.0</td>\n",
       "      <td>8.220128e+05</td>\n",
       "      <td>7.992432e+05</td>\n",
       "      <td>514</td>\n",
       "      <td>22769.5294</td>\n",
       "    </tr>\n",
       "    <tr>\n",
       "      <th>16</th>\n",
       "      <td>Road Bikes</td>\n",
       "      <td>H</td>\n",
       "      <td>Red</td>\n",
       "      <td>NaN</td>\n",
       "      <td>8.220128e+05</td>\n",
       "      <td>7.992432e+05</td>\n",
       "      <td>514</td>\n",
       "      <td>22769.5294</td>\n",
       "    </tr>\n",
       "    <tr>\n",
       "      <th>17</th>\n",
       "      <td>Road Bikes</td>\n",
       "      <td>H</td>\n",
       "      <td>NaN</td>\n",
       "      <td>NaN</td>\n",
       "      <td>5.026868e+06</td>\n",
       "      <td>5.193526e+06</td>\n",
       "      <td>3340</td>\n",
       "      <td>-166657.9724</td>\n",
       "    </tr>\n",
       "    <tr>\n",
       "      <th>18</th>\n",
       "      <td>Road Bikes</td>\n",
       "      <td>M</td>\n",
       "      <td>Yellow</td>\n",
       "      <td>38.0</td>\n",
       "      <td>5.359076e+05</td>\n",
       "      <td>6.032655e+05</td>\n",
       "      <td>846</td>\n",
       "      <td>-67357.9532</td>\n",
       "    </tr>\n",
       "    <tr>\n",
       "      <th>19</th>\n",
       "      <td>Road Bikes</td>\n",
       "      <td>M</td>\n",
       "      <td>Yellow</td>\n",
       "      <td>40.0</td>\n",
       "      <td>4.662039e+05</td>\n",
       "      <td>5.219744e+05</td>\n",
       "      <td>732</td>\n",
       "      <td>-55770.5386</td>\n",
       "    </tr>\n",
       "    <tr>\n",
       "      <th>20</th>\n",
       "      <td>Road Bikes</td>\n",
       "      <td>M</td>\n",
       "      <td>Yellow</td>\n",
       "      <td>42.0</td>\n",
       "      <td>3.733633e+05</td>\n",
       "      <td>4.107340e+05</td>\n",
       "      <td>576</td>\n",
       "      <td>-37370.6898</td>\n",
       "    </tr>\n",
       "    <tr>\n",
       "      <th>21</th>\n",
       "      <td>Road Bikes</td>\n",
       "      <td>M</td>\n",
       "      <td>Yellow</td>\n",
       "      <td>44.0</td>\n",
       "      <td>2.835240e+05</td>\n",
       "      <td>3.002066e+05</td>\n",
       "      <td>421</td>\n",
       "      <td>-16682.6083</td>\n",
       "    </tr>\n",
       "    <tr>\n",
       "      <th>22</th>\n",
       "      <td>Road Bikes</td>\n",
       "      <td>M</td>\n",
       "      <td>Yellow</td>\n",
       "      <td>48.0</td>\n",
       "      <td>5.365939e+05</td>\n",
       "      <td>6.061178e+05</td>\n",
       "      <td>850</td>\n",
       "      <td>-69523.9718</td>\n",
       "    </tr>\n",
       "    <tr>\n",
       "      <th>23</th>\n",
       "      <td>Road Bikes</td>\n",
       "      <td>M</td>\n",
       "      <td>Yellow</td>\n",
       "      <td>NaN</td>\n",
       "      <td>2.195593e+06</td>\n",
       "      <td>2.442298e+06</td>\n",
       "      <td>3425</td>\n",
       "      <td>-246705.7617</td>\n",
       "    </tr>\n",
       "    <tr>\n",
       "      <th>24</th>\n",
       "      <td>Road Bikes</td>\n",
       "      <td>M</td>\n",
       "      <td>NaN</td>\n",
       "      <td>NaN</td>\n",
       "      <td>2.195593e+06</td>\n",
       "      <td>2.442298e+06</td>\n",
       "      <td>3425</td>\n",
       "      <td>-246705.7617</td>\n",
       "    </tr>\n",
       "    <tr>\n",
       "      <th>25</th>\n",
       "      <td>Road Bikes</td>\n",
       "      <td>NaN</td>\n",
       "      <td>NaN</td>\n",
       "      <td>NaN</td>\n",
       "      <td>7.222461e+06</td>\n",
       "      <td>7.635824e+06</td>\n",
       "      <td>6765</td>\n",
       "      <td>-413363.7341</td>\n",
       "    </tr>\n",
       "  </tbody>\n",
       "</table>\n",
       "</div>"
      ],
      "text/plain": [
       "       SubName Class   Color  Size  totalSellAmt    totalCosts  totalQuantity  \\\n",
       "10  Road Bikes    H    Black  44.0  1.254396e+06  1.362134e+06            876   \n",
       "11  Road Bikes    H    Black  48.0  1.149798e+06  1.220634e+06            785   \n",
       "12  Road Bikes    H    Black  52.0  1.037551e+06  1.054255e+06            678   \n",
       "13  Road Bikes    H    Black  58.0  7.631106e+05  7.572596e+05            487   \n",
       "14  Road Bikes    H    Black   NaN  4.204855e+06  4.394283e+06           2826   \n",
       "15  Road Bikes    H      Red  58.0  8.220128e+05  7.992432e+05            514   \n",
       "16  Road Bikes    H      Red   NaN  8.220128e+05  7.992432e+05            514   \n",
       "17  Road Bikes    H      NaN   NaN  5.026868e+06  5.193526e+06           3340   \n",
       "18  Road Bikes    M   Yellow  38.0  5.359076e+05  6.032655e+05            846   \n",
       "19  Road Bikes    M   Yellow  40.0  4.662039e+05  5.219744e+05            732   \n",
       "20  Road Bikes    M   Yellow  42.0  3.733633e+05  4.107340e+05            576   \n",
       "21  Road Bikes    M   Yellow  44.0  2.835240e+05  3.002066e+05            421   \n",
       "22  Road Bikes    M   Yellow  48.0  5.365939e+05  6.061178e+05            850   \n",
       "23  Road Bikes    M   Yellow   NaN  2.195593e+06  2.442298e+06           3425   \n",
       "24  Road Bikes    M      NaN   NaN  2.195593e+06  2.442298e+06           3425   \n",
       "25  Road Bikes   NaN     NaN   NaN  7.222461e+06  7.635824e+06           6765   \n",
       "\n",
       "    totalGrossProfit  \n",
       "10      -107738.5365  \n",
       "11       -70836.3493  \n",
       "12       -16703.5512  \n",
       "13         5850.9352  \n",
       "14      -189427.5018  \n",
       "15        22769.5294  \n",
       "16        22769.5294  \n",
       "17      -166657.9724  \n",
       "18       -67357.9532  \n",
       "19       -55770.5386  \n",
       "20       -37370.6898  \n",
       "21       -16682.6083  \n",
       "22       -69523.9718  \n",
       "23      -246705.7617  \n",
       "24      -246705.7617  \n",
       "25      -413363.7341  "
      ]
     },
     "execution_count": 16,
     "metadata": {},
     "output_type": "execute_result"
    }
   ],
   "source": [
    "RBikes"
   ]
  },
  {
   "cell_type": "code",
   "execution_count": 17,
   "id": "fb8fb7e2",
   "metadata": {},
   "outputs": [],
   "source": [
    "road_mountain = RBikes[RBikes['Size'].isnull() & RBikes['Color'].isnull() & RBikes['Class'].isnull()]"
   ]
  },
  {
   "cell_type": "code",
   "execution_count": 18,
   "id": "292385d1",
   "metadata": {},
   "outputs": [],
   "source": [
    "x=  MBikes[MBikes['Size'].isnull() & MBikes['Color'].isnull() & MBikes['Class'].isnull()]"
   ]
  },
  {
   "cell_type": "code",
   "execution_count": 19,
   "id": "9b9b6062",
   "metadata": {},
   "outputs": [],
   "source": [
    "road_mountain = pd.concat([road_mountain, x])"
   ]
  },
  {
   "cell_type": "code",
   "execution_count": 20,
   "id": "fc2846ee",
   "metadata": {},
   "outputs": [
    {
     "data": {
      "image/png": "[encoded data removed]",
      "text/plain": [
       "<Figure size 432x288 with 1 Axes>"
      ]
     },
     "metadata": {},
     "output_type": "display_data"
    }
   ],
   "source": [
    "plt.pie(road_mountain['totalQuantity'], autopct = '%0.0f%%', labels =road_mountain['SubName']);"
   ]
  },
  {
   "cell_type": "markdown",
   "id": "18befdb1",
   "metadata": {},
   "source": [
    "As we can see the quantity of sales in each group of subcategory is similar"
   ]
  },
  {
   "cell_type": "code",
   "execution_count": 21,
   "id": "29482ede",
   "metadata": {},
   "outputs": [
    {
     "data": {
      "text/plain": [
       "<AxesSubplot:xlabel='SubName', ylabel='totalGrossProfit'>"
      ]
     },
     "execution_count": 21,
     "metadata": {},
     "output_type": "execute_result"
    },
    {
     "data": {
      "image/png": "[encoded data removed]",
      "text/plain": [
       "<Figure size 432x288 with 1 Axes>"
      ]
     },
     "metadata": {
      "needs_background": "light"
     },
     "output_type": "display_data"
    }
   ],
   "source": [
    "sns.barplot(x=road_mountain['SubName'], y=road_mountain['totalGrossProfit'])"
   ]
  },
  {
   "cell_type": "markdown",
   "id": "80693530",
   "metadata": {},
   "source": [
    "The main problem is that by the way of quantity of the orders for this 2 groups, the total gross profit does not give as similar results. It's even worst becouse Road bikes in total gives a negative income for comapny in about 400.000 USD. Where Mountain Bikes bring more than 600 000 USD. It looks like the most of the Road bikes has benn sold under the standard cost. What is strange becouse in this notebook we consider bikes which has been on sale the year after..."
   ]
  },
  {
   "cell_type": "markdown",
   "id": "20117147",
   "metadata": {},
   "source": [
    "##### 2. Subcategory and class"
   ]
  },
  {
   "cell_type": "code",
   "execution_count": 22,
   "id": "e449e654",
   "metadata": {},
   "outputs": [],
   "source": [
    "by_class = RBikes[RBikes['Color'].isnull() & RBikes['Class'].notnull()]"
   ]
  },
  {
   "cell_type": "code",
   "execution_count": 23,
   "id": "8bff4dda",
   "metadata": {},
   "outputs": [],
   "source": [
    "by_class = pd.concat([by_class, x])"
   ]
  },
  {
   "cell_type": "code",
   "execution_count": 24,
   "id": "9724e1de",
   "metadata": {},
   "outputs": [
    {
     "data": {
      "text/html": [
       "<div>\n",
       "<style scoped>\n",
       "    .dataframe tbody tr th:only-of-type {\n",
       "        vertical-align: middle;\n",
       "    }\n",
       "\n",
       "    .dataframe tbody tr th {\n",
       "        vertical-align: top;\n",
       "    }\n",
       "\n",
       "    .dataframe thead th {\n",
       "        text-align: right;\n",
       "    }\n",
       "</style>\n",
       "<table border=\"1\" class=\"dataframe\">\n",
       "  <thead>\n",
       "    <tr style=\"text-align: right;\">\n",
       "      <th></th>\n",
       "      <th>SubName</th>\n",
       "      <th>Class</th>\n",
       "      <th>Color</th>\n",
       "      <th>Size</th>\n",
       "      <th>totalSellAmt</th>\n",
       "      <th>totalCosts</th>\n",
       "      <th>totalQuantity</th>\n",
       "      <th>totalGrossProfit</th>\n",
       "    </tr>\n",
       "  </thead>\n",
       "  <tbody>\n",
       "    <tr>\n",
       "      <th>17</th>\n",
       "      <td>Road Bikes</td>\n",
       "      <td>H</td>\n",
       "      <td>NaN</td>\n",
       "      <td>NaN</td>\n",
       "      <td>5.026868e+06</td>\n",
       "      <td>5.193526e+06</td>\n",
       "      <td>3340</td>\n",
       "      <td>-166657.9724</td>\n",
       "    </tr>\n",
       "    <tr>\n",
       "      <th>24</th>\n",
       "      <td>Road Bikes</td>\n",
       "      <td>M</td>\n",
       "      <td>NaN</td>\n",
       "      <td>NaN</td>\n",
       "      <td>2.195593e+06</td>\n",
       "      <td>2.442298e+06</td>\n",
       "      <td>3425</td>\n",
       "      <td>-246705.7617</td>\n",
       "    </tr>\n",
       "    <tr>\n",
       "      <th>9</th>\n",
       "      <td>Mountain Bikes</td>\n",
       "      <td>NaN</td>\n",
       "      <td>NaN</td>\n",
       "      <td>NaN</td>\n",
       "      <td>9.477609e+06</td>\n",
       "      <td>8.769412e+06</td>\n",
       "      <td>6968</td>\n",
       "      <td>708196.7144</td>\n",
       "    </tr>\n",
       "  </tbody>\n",
       "</table>\n",
       "</div>"
      ],
      "text/plain": [
       "           SubName Class Color  Size  totalSellAmt    totalCosts  \\\n",
       "17      Road Bikes    H    NaN   NaN  5.026868e+06  5.193526e+06   \n",
       "24      Road Bikes    M    NaN   NaN  2.195593e+06  2.442298e+06   \n",
       "9   Mountain Bikes   NaN   NaN   NaN  9.477609e+06  8.769412e+06   \n",
       "\n",
       "    totalQuantity  totalGrossProfit  \n",
       "17           3340      -166657.9724  \n",
       "24           3425      -246705.7617  \n",
       "9            6968       708196.7144  "
      ]
     },
     "execution_count": 24,
     "metadata": {},
     "output_type": "execute_result"
    }
   ],
   "source": [
    "by_class"
   ]
  },
  {
   "cell_type": "code",
   "execution_count": 25,
   "id": "43f29130",
   "metadata": {
    "scrolled": true
   },
   "outputs": [],
   "source": [
    "#by_class['SubName'].iloc[1] = 'RoadBikes_M'"
   ]
  },
  {
   "cell_type": "code",
   "execution_count": 26,
   "id": "a31ed611",
   "metadata": {},
   "outputs": [
    {
     "data": {
      "image/png": "[encoded data removed]",
      "text/plain": [
       "<Figure size 432x288 with 1 Axes>"
      ]
     },
     "metadata": {},
     "output_type": "display_data"
    }
   ],
   "source": [
    "plt.pie(by_class['totalQuantity'], autopct = '%0.0f%%', labels =by_class['SubName']);"
   ]
  },
  {
   "cell_type": "code",
   "execution_count": 27,
   "id": "5f9106b7",
   "metadata": {},
   "outputs": [
    {
     "data": {
      "text/plain": [
       "<AxesSubplot:xlabel='SubName', ylabel='totalGrossProfit'>"
      ]
     },
     "execution_count": 27,
     "metadata": {},
     "output_type": "execute_result"
    },
    {
     "data": {
      "image/png": "[encoded data removed]",
      "text/plain": [
       "<Figure size 432x288 with 1 Axes>"
      ]
     },
     "metadata": {
      "needs_background": "light"
     },
     "output_type": "display_data"
    }
   ],
   "source": [
    "sns.barplot(x=by_class['SubName'], y=by_class['totalGrossProfit'])"
   ]
  },
  {
   "cell_type": "markdown",
   "id": "608d6847",
   "metadata": {},
   "source": [
    "Both raod bikes splited by class gives pure results in sale."
   ]
  },
  {
   "cell_type": "markdown",
   "id": "785fb51e",
   "metadata": {},
   "source": [
    "##### 3.QUESTION: Is there any of road bikes that gives  positive income in total in 2012-2013?"
   ]
  },
  {
   "cell_type": "code",
   "execution_count": 28,
   "id": "28174f59",
   "metadata": {},
   "outputs": [
    {
     "data": {
      "text/html": [
       "<div>\n",
       "<style scoped>\n",
       "    .dataframe tbody tr th:only-of-type {\n",
       "        vertical-align: middle;\n",
       "    }\n",
       "\n",
       "    .dataframe tbody tr th {\n",
       "        vertical-align: top;\n",
       "    }\n",
       "\n",
       "    .dataframe thead th {\n",
       "        text-align: right;\n",
       "    }\n",
       "</style>\n",
       "<table border=\"1\" class=\"dataframe\">\n",
       "  <thead>\n",
       "    <tr style=\"text-align: right;\">\n",
       "      <th></th>\n",
       "      <th>SubName</th>\n",
       "      <th>Class</th>\n",
       "      <th>Color</th>\n",
       "      <th>Size</th>\n",
       "      <th>totalSellAmt</th>\n",
       "      <th>totalCosts</th>\n",
       "      <th>totalQuantity</th>\n",
       "      <th>totalGrossProfit</th>\n",
       "    </tr>\n",
       "  </thead>\n",
       "  <tbody>\n",
       "    <tr>\n",
       "      <th>13</th>\n",
       "      <td>Road Bikes</td>\n",
       "      <td>H</td>\n",
       "      <td>Black</td>\n",
       "      <td>58.0</td>\n",
       "      <td>763110.5625</td>\n",
       "      <td>757259.6273</td>\n",
       "      <td>487</td>\n",
       "      <td>5850.9352</td>\n",
       "    </tr>\n",
       "    <tr>\n",
       "      <th>15</th>\n",
       "      <td>Road Bikes</td>\n",
       "      <td>H</td>\n",
       "      <td>Red</td>\n",
       "      <td>58.0</td>\n",
       "      <td>822012.7500</td>\n",
       "      <td>799243.2206</td>\n",
       "      <td>514</td>\n",
       "      <td>22769.5294</td>\n",
       "    </tr>\n",
       "    <tr>\n",
       "      <th>16</th>\n",
       "      <td>Road Bikes</td>\n",
       "      <td>H</td>\n",
       "      <td>Red</td>\n",
       "      <td>NaN</td>\n",
       "      <td>822012.7500</td>\n",
       "      <td>799243.2206</td>\n",
       "      <td>514</td>\n",
       "      <td>22769.5294</td>\n",
       "    </tr>\n",
       "  </tbody>\n",
       "</table>\n",
       "</div>"
      ],
      "text/plain": [
       "       SubName Class  Color  Size  totalSellAmt   totalCosts  totalQuantity  \\\n",
       "13  Road Bikes    H   Black  58.0   763110.5625  757259.6273            487   \n",
       "15  Road Bikes    H     Red  58.0   822012.7500  799243.2206            514   \n",
       "16  Road Bikes    H     Red   NaN   822012.7500  799243.2206            514   \n",
       "\n",
       "    totalGrossProfit  \n",
       "13         5850.9352  \n",
       "15        22769.5294  \n",
       "16        22769.5294  "
      ]
     },
     "execution_count": 28,
     "metadata": {},
     "output_type": "execute_result"
    }
   ],
   "source": [
    "RBikes[RBikes['totalGrossProfit'] > 0]"
   ]
  },
  {
   "cell_type": "markdown",
   "id": "20354358",
   "metadata": {},
   "source": [
    "##### Anserw: Yes. Hight class Black Road bike in size 58 gives 5.850 USD profit and red hight class roa bike in size 58 brong 22.770 USD profit for comapany"
   ]
  },
  {
   "cell_type": "markdown",
   "id": "fbcec483",
   "metadata": {},
   "source": [
    "###### What is the worst road bike?"
   ]
  },
  {
   "cell_type": "code",
   "execution_count": 29,
   "id": "037dd857",
   "metadata": {},
   "outputs": [
    {
     "data": {
      "text/html": [
       "<div>\n",
       "<style scoped>\n",
       "    .dataframe tbody tr th:only-of-type {\n",
       "        vertical-align: middle;\n",
       "    }\n",
       "\n",
       "    .dataframe tbody tr th {\n",
       "        vertical-align: top;\n",
       "    }\n",
       "\n",
       "    .dataframe thead th {\n",
       "        text-align: right;\n",
       "    }\n",
       "</style>\n",
       "<table border=\"1\" class=\"dataframe\">\n",
       "  <thead>\n",
       "    <tr style=\"text-align: right;\">\n",
       "      <th></th>\n",
       "      <th>SubName</th>\n",
       "      <th>Class</th>\n",
       "      <th>Color</th>\n",
       "      <th>Size</th>\n",
       "      <th>totalSellAmt</th>\n",
       "      <th>totalCosts</th>\n",
       "      <th>totalQuantity</th>\n",
       "      <th>totalGrossProfit</th>\n",
       "    </tr>\n",
       "  </thead>\n",
       "  <tbody>\n",
       "    <tr>\n",
       "      <th>10</th>\n",
       "      <td>Road Bikes</td>\n",
       "      <td>H</td>\n",
       "      <td>Black</td>\n",
       "      <td>44.0</td>\n",
       "      <td>1.254396e+06</td>\n",
       "      <td>1.362134e+06</td>\n",
       "      <td>876</td>\n",
       "      <td>-107738.5365</td>\n",
       "    </tr>\n",
       "    <tr>\n",
       "      <th>11</th>\n",
       "      <td>Road Bikes</td>\n",
       "      <td>H</td>\n",
       "      <td>Black</td>\n",
       "      <td>48.0</td>\n",
       "      <td>1.149798e+06</td>\n",
       "      <td>1.220634e+06</td>\n",
       "      <td>785</td>\n",
       "      <td>-70836.3493</td>\n",
       "    </tr>\n",
       "    <tr>\n",
       "      <th>22</th>\n",
       "      <td>Road Bikes</td>\n",
       "      <td>M</td>\n",
       "      <td>Yellow</td>\n",
       "      <td>48.0</td>\n",
       "      <td>5.365939e+05</td>\n",
       "      <td>6.061178e+05</td>\n",
       "      <td>850</td>\n",
       "      <td>-69523.9718</td>\n",
       "    </tr>\n",
       "    <tr>\n",
       "      <th>18</th>\n",
       "      <td>Road Bikes</td>\n",
       "      <td>M</td>\n",
       "      <td>Yellow</td>\n",
       "      <td>38.0</td>\n",
       "      <td>5.359076e+05</td>\n",
       "      <td>6.032655e+05</td>\n",
       "      <td>846</td>\n",
       "      <td>-67357.9532</td>\n",
       "    </tr>\n",
       "    <tr>\n",
       "      <th>19</th>\n",
       "      <td>Road Bikes</td>\n",
       "      <td>M</td>\n",
       "      <td>Yellow</td>\n",
       "      <td>40.0</td>\n",
       "      <td>4.662039e+05</td>\n",
       "      <td>5.219744e+05</td>\n",
       "      <td>732</td>\n",
       "      <td>-55770.5386</td>\n",
       "    </tr>\n",
       "    <tr>\n",
       "      <th>20</th>\n",
       "      <td>Road Bikes</td>\n",
       "      <td>M</td>\n",
       "      <td>Yellow</td>\n",
       "      <td>42.0</td>\n",
       "      <td>3.733633e+05</td>\n",
       "      <td>4.107340e+05</td>\n",
       "      <td>576</td>\n",
       "      <td>-37370.6898</td>\n",
       "    </tr>\n",
       "    <tr>\n",
       "      <th>12</th>\n",
       "      <td>Road Bikes</td>\n",
       "      <td>H</td>\n",
       "      <td>Black</td>\n",
       "      <td>52.0</td>\n",
       "      <td>1.037551e+06</td>\n",
       "      <td>1.054255e+06</td>\n",
       "      <td>678</td>\n",
       "      <td>-16703.5512</td>\n",
       "    </tr>\n",
       "    <tr>\n",
       "      <th>21</th>\n",
       "      <td>Road Bikes</td>\n",
       "      <td>M</td>\n",
       "      <td>Yellow</td>\n",
       "      <td>44.0</td>\n",
       "      <td>2.835240e+05</td>\n",
       "      <td>3.002066e+05</td>\n",
       "      <td>421</td>\n",
       "      <td>-16682.6083</td>\n",
       "    </tr>\n",
       "  </tbody>\n",
       "</table>\n",
       "</div>"
      ],
      "text/plain": [
       "       SubName Class   Color  Size  totalSellAmt    totalCosts  totalQuantity  \\\n",
       "10  Road Bikes    H    Black  44.0  1.254396e+06  1.362134e+06            876   \n",
       "11  Road Bikes    H    Black  48.0  1.149798e+06  1.220634e+06            785   \n",
       "22  Road Bikes    M   Yellow  48.0  5.365939e+05  6.061178e+05            850   \n",
       "18  Road Bikes    M   Yellow  38.0  5.359076e+05  6.032655e+05            846   \n",
       "19  Road Bikes    M   Yellow  40.0  4.662039e+05  5.219744e+05            732   \n",
       "20  Road Bikes    M   Yellow  42.0  3.733633e+05  4.107340e+05            576   \n",
       "12  Road Bikes    H    Black  52.0  1.037551e+06  1.054255e+06            678   \n",
       "21  Road Bikes    M   Yellow  44.0  2.835240e+05  3.002066e+05            421   \n",
       "\n",
       "    totalGrossProfit  \n",
       "10      -107738.5365  \n",
       "11       -70836.3493  \n",
       "22       -69523.9718  \n",
       "18       -67357.9532  \n",
       "19       -55770.5386  \n",
       "20       -37370.6898  \n",
       "12       -16703.5512  \n",
       "21       -16682.6083  "
      ]
     },
     "execution_count": 29,
     "metadata": {},
     "output_type": "execute_result"
    }
   ],
   "source": [
    "RBikes[RBikes['totalGrossProfit'] < 0].dropna(axis=0).sort_values('totalGrossProfit')"
   ]
  },
  {
   "cell_type": "markdown",
   "id": "22964738",
   "metadata": {},
   "source": [
    "The worst is high lass black road bicke in size 44. It brings 107.740 USD loss for comapny"
   ]
  },
  {
   "cell_type": "markdown",
   "id": "e810fb9b",
   "metadata": {},
   "source": [
    "----------------------------------------------------------------------------------------\n",
    "Adventure shop sales 2 type of bikes in 2013-2013. Each of cattegory split for different models\n",
    "###### 3.  Model Name, color, size"
   ]
  },
  {
   "cell_type": "code",
   "execution_count": 30,
   "id": "a3fbb68c",
   "metadata": {},
   "outputs": [],
   "source": [
    "models = pd.read_csv('../../GroupedData/2012-2013_Gr_Avlb_2013_model_color_size.csv', sep=';')"
   ]
  },
  {
   "cell_type": "code",
   "execution_count": 31,
   "id": "f289024d",
   "metadata": {},
   "outputs": [],
   "source": [
    "models['totalSellAmt'] = models[['totalSellAmt']].applymap(lambda x: str(x.replace(',','.'))).astype('float')\n",
    "models['totalCosts'] = models[['totalCosts']].applymap(lambda x: str(x.replace(',','.'))).astype('float')\n",
    "models['totalGrossProfit'] = models[['totalGrossProfit']].applymap(lambda x: str(x.replace(',','.'))).astype('float')"
   ]
  },
  {
   "cell_type": "code",
   "execution_count": 32,
   "id": "2ba4bc22",
   "metadata": {},
   "outputs": [],
   "source": [
    "by_models = models[models['Size'].isnull() & models['Color'].isnull()]"
   ]
  },
  {
   "cell_type": "code",
   "execution_count": 33,
   "id": "450d3b30",
   "metadata": {},
   "outputs": [
    {
     "data": {
      "text/html": [
       "<div>\n",
       "<style scoped>\n",
       "    .dataframe tbody tr th:only-of-type {\n",
       "        vertical-align: middle;\n",
       "    }\n",
       "\n",
       "    .dataframe tbody tr th {\n",
       "        vertical-align: top;\n",
       "    }\n",
       "\n",
       "    .dataframe thead th {\n",
       "        text-align: right;\n",
       "    }\n",
       "</style>\n",
       "<table border=\"1\" class=\"dataframe\">\n",
       "  <thead>\n",
       "    <tr style=\"text-align: right;\">\n",
       "      <th></th>\n",
       "      <th>ModelName</th>\n",
       "      <th>Color</th>\n",
       "      <th>Size</th>\n",
       "      <th>totalSellAmt</th>\n",
       "      <th>totalCosts</th>\n",
       "      <th>totalQuantity</th>\n",
       "      <th>totalGrossProfit</th>\n",
       "    </tr>\n",
       "  </thead>\n",
       "  <tbody>\n",
       "    <tr>\n",
       "      <th>25</th>\n",
       "      <td>Mountain-200</td>\n",
       "      <td>NaN</td>\n",
       "      <td>NaN</td>\n",
       "      <td>9.477609e+06</td>\n",
       "      <td>8.769412e+06</td>\n",
       "      <td>6968</td>\n",
       "      <td>708196.7144</td>\n",
       "    </tr>\n",
       "    <tr>\n",
       "      <th>26</th>\n",
       "      <td>Road-250</td>\n",
       "      <td>NaN</td>\n",
       "      <td>NaN</td>\n",
       "      <td>5.026868e+06</td>\n",
       "      <td>5.193526e+06</td>\n",
       "      <td>3340</td>\n",
       "      <td>-166657.9724</td>\n",
       "    </tr>\n",
       "    <tr>\n",
       "      <th>27</th>\n",
       "      <td>Road-550-W</td>\n",
       "      <td>NaN</td>\n",
       "      <td>NaN</td>\n",
       "      <td>2.195593e+06</td>\n",
       "      <td>2.442298e+06</td>\n",
       "      <td>3425</td>\n",
       "      <td>-246705.7617</td>\n",
       "    </tr>\n",
       "  </tbody>\n",
       "</table>\n",
       "</div>"
      ],
      "text/plain": [
       "       ModelName Color  Size  totalSellAmt    totalCosts  totalQuantity  \\\n",
       "25  Mountain-200   NaN   NaN  9.477609e+06  8.769412e+06           6968   \n",
       "26      Road-250   NaN   NaN  5.026868e+06  5.193526e+06           3340   \n",
       "27    Road-550-W   NaN   NaN  2.195593e+06  2.442298e+06           3425   \n",
       "\n",
       "    totalGrossProfit  \n",
       "25       708196.7144  \n",
       "26      -166657.9724  \n",
       "27      -246705.7617  "
      ]
     },
     "execution_count": 33,
     "metadata": {},
     "output_type": "execute_result"
    }
   ],
   "source": [
    "by_models"
   ]
  },
  {
   "cell_type": "markdown",
   "id": "952474f0",
   "metadata": {},
   "source": [
    "As we can see Adventure shop has only one Mountain bike's model, which has been sold in 2012 period and 2013 period. There might be more than one model but it has been remove from sale. I will analize it in next jupyer"
   ]
  },
  {
   "cell_type": "markdown",
   "id": "2ee356ff",
   "metadata": {},
   "source": [
    "Let's group the models by color"
   ]
  },
  {
   "cell_type": "code",
   "execution_count": 34,
   "id": "982cabbd",
   "metadata": {},
   "outputs": [],
   "source": [
    "models_by_color = models[models['Color'].notnull() & models['Size'].isnull() & models['ModelName'].notnull()]"
   ]
  },
  {
   "cell_type": "code",
   "execution_count": 35,
   "id": "f6462a5c",
   "metadata": {},
   "outputs": [
    {
     "data": {
      "text/html": [
       "<div>\n",
       "<style scoped>\n",
       "    .dataframe tbody tr th:only-of-type {\n",
       "        vertical-align: middle;\n",
       "    }\n",
       "\n",
       "    .dataframe tbody tr th {\n",
       "        vertical-align: top;\n",
       "    }\n",
       "\n",
       "    .dataframe thead th {\n",
       "        text-align: right;\n",
       "    }\n",
       "</style>\n",
       "<table border=\"1\" class=\"dataframe\">\n",
       "  <thead>\n",
       "    <tr style=\"text-align: right;\">\n",
       "      <th></th>\n",
       "      <th>ModelName</th>\n",
       "      <th>Color</th>\n",
       "      <th>Size</th>\n",
       "      <th>totalSellAmt</th>\n",
       "      <th>totalCosts</th>\n",
       "      <th>totalQuantity</th>\n",
       "      <th>totalGrossProfit</th>\n",
       "    </tr>\n",
       "  </thead>\n",
       "  <tbody>\n",
       "    <tr>\n",
       "      <th>3</th>\n",
       "      <td>Mountain-200</td>\n",
       "      <td>Black</td>\n",
       "      <td>NaN</td>\n",
       "      <td>4.899187e+06</td>\n",
       "      <td>4.537180e+06</td>\n",
       "      <td>3624</td>\n",
       "      <td>362006.7573</td>\n",
       "    </tr>\n",
       "    <tr>\n",
       "      <th>8</th>\n",
       "      <td>Road-250</td>\n",
       "      <td>Black</td>\n",
       "      <td>NaN</td>\n",
       "      <td>4.204855e+06</td>\n",
       "      <td>4.394283e+06</td>\n",
       "      <td>2826</td>\n",
       "      <td>-189427.5018</td>\n",
       "    </tr>\n",
       "    <tr>\n",
       "      <th>11</th>\n",
       "      <td>Road-250</td>\n",
       "      <td>Red</td>\n",
       "      <td>NaN</td>\n",
       "      <td>8.220128e+05</td>\n",
       "      <td>7.992432e+05</td>\n",
       "      <td>514</td>\n",
       "      <td>22769.5294</td>\n",
       "    </tr>\n",
       "    <tr>\n",
       "      <th>16</th>\n",
       "      <td>Mountain-200</td>\n",
       "      <td>Silver</td>\n",
       "      <td>NaN</td>\n",
       "      <td>4.578422e+06</td>\n",
       "      <td>4.232232e+06</td>\n",
       "      <td>3344</td>\n",
       "      <td>346189.9571</td>\n",
       "    </tr>\n",
       "    <tr>\n",
       "      <th>23</th>\n",
       "      <td>Road-550-W</td>\n",
       "      <td>Yellow</td>\n",
       "      <td>NaN</td>\n",
       "      <td>2.195593e+06</td>\n",
       "      <td>2.442298e+06</td>\n",
       "      <td>3425</td>\n",
       "      <td>-246705.7617</td>\n",
       "    </tr>\n",
       "  </tbody>\n",
       "</table>\n",
       "</div>"
      ],
      "text/plain": [
       "       ModelName   Color  Size  totalSellAmt    totalCosts  totalQuantity  \\\n",
       "3   Mountain-200   Black   NaN  4.899187e+06  4.537180e+06           3624   \n",
       "8       Road-250   Black   NaN  4.204855e+06  4.394283e+06           2826   \n",
       "11      Road-250     Red   NaN  8.220128e+05  7.992432e+05            514   \n",
       "16  Mountain-200  Silver   NaN  4.578422e+06  4.232232e+06           3344   \n",
       "23    Road-550-W  Yellow   NaN  2.195593e+06  2.442298e+06           3425   \n",
       "\n",
       "    totalGrossProfit  \n",
       "3        362006.7573  \n",
       "8       -189427.5018  \n",
       "11        22769.5294  \n",
       "16       346189.9571  \n",
       "23      -246705.7617  "
      ]
     },
     "execution_count": 35,
     "metadata": {},
     "output_type": "execute_result"
    }
   ],
   "source": [
    "models_by_color"
   ]
  },
  {
   "cell_type": "code",
   "execution_count": 36,
   "id": "aa8c95a1",
   "metadata": {},
   "outputs": [
    {
     "name": "stderr",
     "output_type": "stream",
     "text": [
      "C:\\ProgramData\\Anaconda3\\lib\\site-packages\\pandas\\core\\indexing.py:1732: SettingWithCopyWarning: \n",
      "A value is trying to be set on a copy of a slice from a DataFrame\n",
      "\n",
      "See the caveats in the documentation: https://pandas.pydata.org/pandas-docs/stable/user_guide/indexing.html#returning-a-view-versus-a-copy\n",
      "  self._setitem_single_block(indexer, value, name)\n"
     ]
    }
   ],
   "source": [
    "models_by_color['ModelName'].iloc[0] = 'Mountain-200_black'\n",
    "models_by_color['ModelName'].iloc[1] = 'Road-250_Black'\n",
    "models_by_color['ModelName'].iloc[2] = 'Road-250_Red'\n",
    "models_by_color['ModelName'].iloc[3] = 'Mountain-200_Silver'\n",
    "models_by_color['ModelName'].iloc[4] = 'Road-550-W_Yellow'"
   ]
  },
  {
   "cell_type": "code",
   "execution_count": 37,
   "id": "829850f1",
   "metadata": {},
   "outputs": [
    {
     "data": {
      "image/png": "[encoded data removed]",
      "text/plain": [
       "<Figure size 432x288 with 1 Axes>"
      ]
     },
     "metadata": {
      "needs_background": "light"
     },
     "output_type": "display_data"
    }
   ],
   "source": [
    "sns.barplot(x=models_by_color['ModelName'], y=models_by_color['totalGrossProfit'])\n",
    "plt.xticks(rotation=30);"
   ]
  },
  {
   "cell_type": "code",
   "execution_count": 38,
   "id": "ff557d5e",
   "metadata": {},
   "outputs": [
    {
     "data": {
      "image/png": "[encoded data removed]",
      "text/plain": [
       "<Figure size 432x288 with 1 Axes>"
      ]
     },
     "metadata": {
      "needs_background": "light"
     },
     "output_type": "display_data"
    }
   ],
   "source": [
    "sns.barplot(x=models_by_color['ModelName'], y=models_by_color['totalQuantity'])\n",
    "plt.xticks(rotation=30);"
   ]
  },
  {
   "cell_type": "markdown",
   "id": "3011fd39",
   "metadata": {},
   "source": [
    "As we can see the mountan bike's models has good results in quantity of sales and also in profit from sales.\n",
    "\n",
    "The Road-250 has slightly different results. The most popular road-250 black bike (~2700 sales) gives the bigest losses. The same model in color red has been sold in about 500 sales, which is about 5 times less, has positive gross profit. We may suspect that the quantity of sales in Road bikes does not gives expected profits, becouse of the selling item under the price, when they are not as popular. People buy bikes becouse the price is attractive, not becouse they like the bike or even need it. We can expect also that there might be some people that buy the bike only to sell it again and gain profit. "
   ]
  },
  {
   "cell_type": "markdown",
   "id": "6549adac",
   "metadata": {},
   "source": [
    "----------------------------------------------------------------------------------------------------------------\n",
    "It is understandable that shop want to sell out the models that they will not be able to buy in the future. The prpblem is that they didn't stop to sell them the year after."
   ]
  },
  {
   "cell_type": "markdown",
   "id": "26ca977a",
   "metadata": {},
   "source": [
    "Let's Analyze products thaat has been removed from shop the year after"
   ]
  },
  {
   "cell_type": "code",
   "execution_count": 40,
   "id": "8b47fb7c",
   "metadata": {},
   "outputs": [],
   "source": [
    "model_size_color = models[models['Color'].notnull() & models['Size'].notnull() & models['ModelName'].notnull()]"
   ]
  },
  {
   "cell_type": "code",
   "execution_count": 41,
   "id": "adbc378c",
   "metadata": {},
   "outputs": [
    {
     "data": {
      "text/html": [
       "<div>\n",
       "<style scoped>\n",
       "    .dataframe tbody tr th:only-of-type {\n",
       "        vertical-align: middle;\n",
       "    }\n",
       "\n",
       "    .dataframe tbody tr th {\n",
       "        vertical-align: top;\n",
       "    }\n",
       "\n",
       "    .dataframe thead th {\n",
       "        text-align: right;\n",
       "    }\n",
       "</style>\n",
       "<table border=\"1\" class=\"dataframe\">\n",
       "  <thead>\n",
       "    <tr style=\"text-align: right;\">\n",
       "      <th></th>\n",
       "      <th>ModelName</th>\n",
       "      <th>Color</th>\n",
       "      <th>Size</th>\n",
       "      <th>totalSellAmt</th>\n",
       "      <th>totalCosts</th>\n",
       "      <th>totalQuantity</th>\n",
       "      <th>totalGrossProfit</th>\n",
       "    </tr>\n",
       "  </thead>\n",
       "  <tbody>\n",
       "    <tr>\n",
       "      <th>4</th>\n",
       "      <td>Road-250</td>\n",
       "      <td>Black</td>\n",
       "      <td>44.0</td>\n",
       "      <td>1.254396e+06</td>\n",
       "      <td>1.362134e+06</td>\n",
       "      <td>876</td>\n",
       "      <td>-107738.5365</td>\n",
       "    </tr>\n",
       "    <tr>\n",
       "      <th>5</th>\n",
       "      <td>Road-250</td>\n",
       "      <td>Black</td>\n",
       "      <td>48.0</td>\n",
       "      <td>1.149798e+06</td>\n",
       "      <td>1.220634e+06</td>\n",
       "      <td>785</td>\n",
       "      <td>-70836.3493</td>\n",
       "    </tr>\n",
       "    <tr>\n",
       "      <th>6</th>\n",
       "      <td>Road-250</td>\n",
       "      <td>Black</td>\n",
       "      <td>52.0</td>\n",
       "      <td>1.037551e+06</td>\n",
       "      <td>1.054255e+06</td>\n",
       "      <td>678</td>\n",
       "      <td>-16703.5512</td>\n",
       "    </tr>\n",
       "    <tr>\n",
       "      <th>7</th>\n",
       "      <td>Road-250</td>\n",
       "      <td>Black</td>\n",
       "      <td>58.0</td>\n",
       "      <td>7.631106e+05</td>\n",
       "      <td>7.572596e+05</td>\n",
       "      <td>487</td>\n",
       "      <td>5850.9352</td>\n",
       "    </tr>\n",
       "    <tr>\n",
       "      <th>10</th>\n",
       "      <td>Road-250</td>\n",
       "      <td>Red</td>\n",
       "      <td>58.0</td>\n",
       "      <td>8.220128e+05</td>\n",
       "      <td>7.992432e+05</td>\n",
       "      <td>514</td>\n",
       "      <td>22769.5294</td>\n",
       "    </tr>\n",
       "  </tbody>\n",
       "</table>\n",
       "</div>"
      ],
      "text/plain": [
       "   ModelName  Color  Size  totalSellAmt    totalCosts  totalQuantity  \\\n",
       "4   Road-250  Black  44.0  1.254396e+06  1.362134e+06            876   \n",
       "5   Road-250  Black  48.0  1.149798e+06  1.220634e+06            785   \n",
       "6   Road-250  Black  52.0  1.037551e+06  1.054255e+06            678   \n",
       "7   Road-250  Black  58.0  7.631106e+05  7.572596e+05            487   \n",
       "10  Road-250    Red  58.0  8.220128e+05  7.992432e+05            514   \n",
       "\n",
       "    totalGrossProfit  \n",
       "4       -107738.5365  \n",
       "5        -70836.3493  \n",
       "6        -16703.5512  \n",
       "7          5850.9352  \n",
       "10        22769.5294  "
      ]
     },
     "execution_count": 41,
     "metadata": {},
     "output_type": "execute_result"
    }
   ],
   "source": [
    "model_size_color[model_size_color['ModelName'] == 'Road-250']"
   ]
  },
  {
   "cell_type": "code",
   "execution_count": null,
   "id": "7ab2c49f",
   "metadata": {},
   "outputs": [],
   "source": []
  },
  {
   "cell_type": "code",
   "execution_count": null,
   "id": "495e1bb5",
   "metadata": {},
   "outputs": [],
   "source": []
  }
 ],
 "metadata": {
  "kernelspec": {
   "display_name": "Python 3",
   "language": "python",
   "name": "python3"
  },
  "language_info": {
   "codemirror_mode": {
    "name": "ipython",
    "version": 3
   },
   "file_extension": ".py",
   "mimetype": "text/x-python",
   "name": "python",
   "nbconvert_exporter": "python",
   "pygments_lexer": "ipython3",
   "version": "3.8.8"
  }
 },
 "nbformat": 4,
 "nbformat_minor": 5
}
