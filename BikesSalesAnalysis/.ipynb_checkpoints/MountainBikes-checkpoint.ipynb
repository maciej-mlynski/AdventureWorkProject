{
 "cells": [
  {
   "cell_type": "code",
   "execution_count": 1,
   "id": "9fa99e9d",
   "metadata": {},
   "outputs": [],
   "source": [
    "import pandas as pd\n",
    "import numpy as np\n",
    "import matplotlib as plt\n",
    "%matplotlib inline"
   ]
  },
  {
   "cell_type": "code",
   "execution_count": 27,
   "id": "756694f5",
   "metadata": {},
   "outputs": [],
   "source": [
    "pd.set_option('display.max_columns', None)"
   ]
  },
  {
   "cell_type": "code",
   "execution_count": 132,
   "id": "c3a1c974",
   "metadata": {},
   "outputs": [],
   "source": [
    "df = pd.read_csv('../AdventureWorks2019.csv', sep=';', header=0)"
   ]
  },
  {
   "cell_type": "code",
   "execution_count": 19,
   "id": "ae8b00e3",
   "metadata": {},
   "outputs": [
    {
     "data": {
      "text/plain": [
       "array(['Bikes', 'Clothing', 'Accessories', 'Components'], dtype=object)"
      ]
     },
     "execution_count": 19,
     "metadata": {},
     "output_type": "execute_result"
    }
   ],
   "source": [
    "df['CatName'].unique()"
   ]
  },
  {
   "cell_type": "code",
   "execution_count": 23,
   "id": "58a9a09b",
   "metadata": {},
   "outputs": [
    {
     "data": {
      "text/plain": [
       "array(['Mountain Bikes', 'Road Bikes', 'Touring Bikes'], dtype=object)"
      ]
     },
     "execution_count": 23,
     "metadata": {},
     "output_type": "execute_result"
    }
   ],
   "source": [
    "df['SubName'][df['CatName'] == 'Bikes'].unique()"
   ]
  },
  {
   "cell_type": "code",
   "execution_count": 133,
   "id": "92e086a9",
   "metadata": {},
   "outputs": [],
   "source": [
    "MountainBikes = df[df['SubName'] == 'Mountain Bikes']"
   ]
  },
  {
   "cell_type": "code",
   "execution_count": 59,
   "id": "27854175",
   "metadata": {},
   "outputs": [
    {
     "data": {
      "text/plain": [
       "array(['U ', 'W '], dtype=object)"
      ]
     },
     "execution_count": 59,
     "metadata": {},
     "output_type": "execute_result"
    }
   ],
   "source": [
    "MountainBikes['Style'].unique()"
   ]
  },
  {
   "cell_type": "markdown",
   "id": "1af755bd",
   "metadata": {},
   "source": [
    "#### How many individuals mountain bikes has been stored in Adv2019?"
   ]
  },
  {
   "cell_type": "code",
   "execution_count": 79,
   "id": "9de7c2f0",
   "metadata": {},
   "outputs": [
    {
     "data": {
      "text/plain": [
       "32"
      ]
     },
     "execution_count": 79,
     "metadata": {},
     "output_type": "execute_result"
    }
   ],
   "source": [
    "allBikesMB = len(MountainBikes['ProductID'].unique())\n",
    "allBikesMB"
   ]
  },
  {
   "cell_type": "markdown",
   "id": "77ad6030",
   "metadata": {},
   "source": [
    "#### How many mountain bikes has been salled in Adv Store at all?"
   ]
  },
  {
   "cell_type": "code",
   "execution_count": 78,
   "id": "b65b55ce",
   "metadata": {},
   "outputs": [
    {
     "data": {
      "text/plain": [
       "28321"
      ]
     },
     "execution_count": 78,
     "metadata": {},
     "output_type": "execute_result"
    }
   ],
   "source": [
    "allSalesMB = MountainBikes['OrderQty'].sum()\n",
    "allSalesMB"
   ]
  },
  {
   "cell_type": "markdown",
   "id": "89ca768f",
   "metadata": {},
   "source": [
    "#### Which are the 5 top all time sellable mountain bikes by quantity of orders?"
   ]
  },
  {
   "cell_type": "code",
   "execution_count": 143,
   "id": "ea193220",
   "metadata": {},
   "outputs": [
    {
     "data": {
      "text/plain": [
       "28321"
      ]
     },
     "execution_count": 143,
     "metadata": {},
     "output_type": "execute_result"
    }
   ],
   "source": [
    "MountainBikes['OrderQty'].sum()"
   ]
  },
  {
   "cell_type": "code",
   "execution_count": 170,
   "id": "13fa5817",
   "metadata": {},
   "outputs": [
    {
     "data": {
      "text/html": [
       "<div>\n",
       "<style scoped>\n",
       "    .dataframe tbody tr th:only-of-type {\n",
       "        vertical-align: middle;\n",
       "    }\n",
       "\n",
       "    .dataframe tbody tr th {\n",
       "        vertical-align: top;\n",
       "    }\n",
       "\n",
       "    .dataframe thead th {\n",
       "        text-align: right;\n",
       "    }\n",
       "</style>\n",
       "<table border=\"1\" class=\"dataframe\">\n",
       "  <thead>\n",
       "    <tr style=\"text-align: right;\">\n",
       "      <th></th>\n",
       "      <th>OrderQty</th>\n",
       "    </tr>\n",
       "    <tr>\n",
       "      <th>ProductID</th>\n",
       "      <th></th>\n",
       "    </tr>\n",
       "  </thead>\n",
       "  <tbody>\n",
       "    <tr>\n",
       "      <th>782</th>\n",
       "      <td>2977</td>\n",
       "    </tr>\n",
       "    <tr>\n",
       "      <th>783</th>\n",
       "      <td>2664</td>\n",
       "    </tr>\n",
       "    <tr>\n",
       "      <th>779</th>\n",
       "      <td>2394</td>\n",
       "    </tr>\n",
       "    <tr>\n",
       "      <th>780</th>\n",
       "      <td>2234</td>\n",
       "    </tr>\n",
       "    <tr>\n",
       "      <th>781</th>\n",
       "      <td>2216</td>\n",
       "    </tr>\n",
       "  </tbody>\n",
       "</table>\n",
       "</div>"
      ],
      "text/plain": [
       "           OrderQty\n",
       "ProductID          \n",
       "782            2977\n",
       "783            2664\n",
       "779            2394\n",
       "780            2234\n",
       "781            2216"
      ]
     },
     "execution_count": 170,
     "metadata": {},
     "output_type": "execute_result"
    }
   ],
   "source": [
    "sumOrderQty = MountainBikes[['OrderQty', 'ProductID']].groupby('ProductID').sum().sort_values('OrderQty', ascending=False)\n",
    "sumOrderQty.head(5)"
   ]
  },
  {
   "cell_type": "markdown",
   "id": "a8b53dee",
   "metadata": {},
   "source": [
    "##### How many bikes is currently aveliable in the store?"
   ]
  },
  {
   "cell_type": "code",
   "execution_count": 89,
   "id": "a5cea275",
   "metadata": {},
   "outputs": [],
   "source": [
    "MountainBikesAveliable = MountainBikes[MountainBikes['SellEndDate'].isna()]"
   ]
  },
  {
   "cell_type": "code",
   "execution_count": 90,
   "id": "98666d33",
   "metadata": {},
   "outputs": [
    {
     "data": {
      "text/plain": [
       "20"
      ]
     },
     "execution_count": 90,
     "metadata": {},
     "output_type": "execute_result"
    }
   ],
   "source": [
    "len(MountainBikesAveliable['ProductID'].unique())"
   ]
  },
  {
   "cell_type": "markdown",
   "id": "9c242628",
   "metadata": {},
   "source": [
    "##### Top 5 most sellable bikes which are no longer aveliable on sale"
   ]
  },
  {
   "cell_type": "code",
   "execution_count": 93,
   "id": "3f8a06b4",
   "metadata": {},
   "outputs": [],
   "source": [
    "MountainBikesUnaveliable = MountainBikes[MountainBikes['SellEndDate'].isnull() == False]"
   ]
  },
  {
   "cell_type": "code",
   "execution_count": 94,
   "id": "1019a14c",
   "metadata": {},
   "outputs": [
    {
     "data": {
      "text/html": [
       "<div>\n",
       "<style scoped>\n",
       "    .dataframe tbody tr th:only-of-type {\n",
       "        vertical-align: middle;\n",
       "    }\n",
       "\n",
       "    .dataframe tbody tr th {\n",
       "        vertical-align: top;\n",
       "    }\n",
       "\n",
       "    .dataframe thead th {\n",
       "        text-align: right;\n",
       "    }\n",
       "</style>\n",
       "<table border=\"1\" class=\"dataframe\">\n",
       "  <thead>\n",
       "    <tr style=\"text-align: right;\">\n",
       "      <th></th>\n",
       "      <th>OrderQty</th>\n",
       "    </tr>\n",
       "    <tr>\n",
       "      <th>ProductID</th>\n",
       "      <th></th>\n",
       "    </tr>\n",
       "  </thead>\n",
       "  <tbody>\n",
       "    <tr>\n",
       "      <th>786</th>\n",
       "      <td>776</td>\n",
       "    </tr>\n",
       "    <tr>\n",
       "      <th>787</th>\n",
       "      <td>747</td>\n",
       "    </tr>\n",
       "    <tr>\n",
       "      <th>788</th>\n",
       "      <td>740</td>\n",
       "    </tr>\n",
       "    <tr>\n",
       "      <th>785</th>\n",
       "      <td>684</td>\n",
       "    </tr>\n",
       "    <tr>\n",
       "      <th>775</th>\n",
       "      <td>682</td>\n",
       "    </tr>\n",
       "    <tr>\n",
       "      <th>777</th>\n",
       "      <td>678</td>\n",
       "    </tr>\n",
       "    <tr>\n",
       "      <th>771</th>\n",
       "      <td>642</td>\n",
       "    </tr>\n",
       "    <tr>\n",
       "      <th>776</th>\n",
       "      <td>634</td>\n",
       "    </tr>\n",
       "    <tr>\n",
       "      <th>778</th>\n",
       "      <td>616</td>\n",
       "    </tr>\n",
       "    <tr>\n",
       "      <th>773</th>\n",
       "      <td>601</td>\n",
       "    </tr>\n",
       "  </tbody>\n",
       "</table>\n",
       "</div>"
      ],
      "text/plain": [
       "           OrderQty\n",
       "ProductID          \n",
       "786             776\n",
       "787             747\n",
       "788             740\n",
       "785             684\n",
       "775             682\n",
       "777             678\n",
       "771             642\n",
       "776             634\n",
       "778             616\n",
       "773             601"
      ]
     },
     "execution_count": 94,
     "metadata": {},
     "output_type": "execute_result"
    }
   ],
   "source": [
    "MountainBikesUnaveliable[['OrderQty', 'ProductID']].groupby('ProductID').sum().sort_values('OrderQty', ascending=False).head(10)"
   ]
  },
  {
   "cell_type": "markdown",
   "id": "70b7d6c6",
   "metadata": {},
   "source": [
    "#### Which are the most profitable Mountain bikes?"
   ]
  },
  {
   "cell_type": "code",
   "execution_count": 134,
   "id": "66837df8",
   "metadata": {
    "scrolled": true
   },
   "outputs": [
    {
     "name": "stderr",
     "output_type": "stream",
     "text": [
      "<ipython-input-134-d50f9e45fd40>:1: SettingWithCopyWarning: \n",
      "A value is trying to be set on a copy of a slice from a DataFrame.\n",
      "Try using .loc[row_indexer,col_indexer] = value instead\n",
      "\n",
      "See the caveats in the documentation: https://pandas.pydata.org/pandas-docs/stable/user_guide/indexing.html#returning-a-view-versus-a-copy\n",
      "  MountainBikes['UnitPrice'] = MountainBikes[['UnitPrice']].applymap(lambda x: str(x.replace(',','.'))).astype('float')\n"
     ]
    }
   ],
   "source": [
    "MountainBikes['UnitPrice'] = MountainBikes[['UnitPrice']].applymap(lambda x: str(x.replace(',','.'))).astype('float')"
   ]
  },
  {
   "cell_type": "code",
   "execution_count": 135,
   "id": "fb1572ea",
   "metadata": {},
   "outputs": [
    {
     "name": "stderr",
     "output_type": "stream",
     "text": [
      "<ipython-input-135-a3105d908444>:1: SettingWithCopyWarning: \n",
      "A value is trying to be set on a copy of a slice from a DataFrame.\n",
      "Try using .loc[row_indexer,col_indexer] = value instead\n",
      "\n",
      "See the caveats in the documentation: https://pandas.pydata.org/pandas-docs/stable/user_guide/indexing.html#returning-a-view-versus-a-copy\n",
      "  MountainBikes['StandardCost'] = MountainBikes[['StandardCost']].applymap(lambda x: str(x.replace(',','.'))).astype('float')\n"
     ]
    }
   ],
   "source": [
    "MountainBikes['StandardCost'] = MountainBikes[['StandardCost']].applymap(lambda x: str(x.replace(',','.'))).astype('float')"
   ]
  },
  {
   "cell_type": "code",
   "execution_count": 136,
   "id": "2ab0de15",
   "metadata": {},
   "outputs": [
    {
     "name": "stderr",
     "output_type": "stream",
     "text": [
      "<ipython-input-136-183930049dee>:1: SettingWithCopyWarning: \n",
      "A value is trying to be set on a copy of a slice from a DataFrame.\n",
      "Try using .loc[row_indexer,col_indexer] = value instead\n",
      "\n",
      "See the caveats in the documentation: https://pandas.pydata.org/pandas-docs/stable/user_guide/indexing.html#returning-a-view-versus-a-copy\n",
      "  MountainBikes['UnitPriceDiscount'] = MountainBikes[['UnitPriceDiscount']].applymap(lambda x: str(x.replace(',','.'))).astype('float')\n"
     ]
    }
   ],
   "source": [
    "MountainBikes['UnitPriceDiscount'] = MountainBikes[['UnitPriceDiscount']].applymap(lambda x: str(x.replace(',','.'))).astype('float')"
   ]
  },
  {
   "cell_type": "code",
   "execution_count": 137,
   "id": "24aac96e",
   "metadata": {},
   "outputs": [
    {
     "name": "stderr",
     "output_type": "stream",
     "text": [
      "<ipython-input-137-b7c96151bb3e>:1: SettingWithCopyWarning: \n",
      "A value is trying to be set on a copy of a slice from a DataFrame.\n",
      "Try using .loc[row_indexer,col_indexer] = value instead\n",
      "\n",
      "See the caveats in the documentation: https://pandas.pydata.org/pandas-docs/stable/user_guide/indexing.html#returning-a-view-versus-a-copy\n",
      "  MountainBikes['AmtOfSale'] = MountainBikes['UnitPrice'] * MountainBikes['OrderQty'] * (1-MountainBikes['UnitPriceDiscount'])\n"
     ]
    }
   ],
   "source": [
    "MountainBikes['AmtOfSale'] = MountainBikes['UnitPrice'] * MountainBikes['OrderQty'] * (1-MountainBikes['UnitPriceDiscount'])"
   ]
  },
  {
   "cell_type": "code",
   "execution_count": 139,
   "id": "b12de5f4",
   "metadata": {},
   "outputs": [
    {
     "name": "stderr",
     "output_type": "stream",
     "text": [
      "<ipython-input-139-51b81425b59d>:1: SettingWithCopyWarning: \n",
      "A value is trying to be set on a copy of a slice from a DataFrame.\n",
      "Try using .loc[row_indexer,col_indexer] = value instead\n",
      "\n",
      "See the caveats in the documentation: https://pandas.pydata.org/pandas-docs/stable/user_guide/indexing.html#returning-a-view-versus-a-copy\n",
      "  MountainBikes['AmtOfDisc'] = MountainBikes['UnitPrice'] * MountainBikes['OrderQty'] * MountainBikes['UnitPriceDiscount']\n"
     ]
    }
   ],
   "source": [
    "MountainBikes['AmtOfDisc'] = MountainBikes['UnitPrice'] * MountainBikes['OrderQty'] * MountainBikes['UnitPriceDiscount']"
   ]
  },
  {
   "cell_type": "code",
   "execution_count": 141,
   "id": "06c09755",
   "metadata": {},
   "outputs": [
    {
     "name": "stderr",
     "output_type": "stream",
     "text": [
      "<ipython-input-141-dc227eb75df7>:1: SettingWithCopyWarning: \n",
      "A value is trying to be set on a copy of a slice from a DataFrame.\n",
      "Try using .loc[row_indexer,col_indexer] = value instead\n",
      "\n",
      "See the caveats in the documentation: https://pandas.pydata.org/pandas-docs/stable/user_guide/indexing.html#returning-a-view-versus-a-copy\n",
      "  MountainBikes['GrossProfit'] = MountainBikes['AmtOfSale'] - MountainBikes['StandardCost']\n"
     ]
    }
   ],
   "source": [
    "MountainBikes['GrossProfit'] = MountainBikes['AmtOfSale'] - MountainBikes['StandardCost']"
   ]
  },
  {
   "cell_type": "code",
   "execution_count": 157,
   "id": "80077257",
   "metadata": {},
   "outputs": [
    {
     "data": {
      "text/html": [
       "<div>\n",
       "<style scoped>\n",
       "    .dataframe tbody tr th:only-of-type {\n",
       "        vertical-align: middle;\n",
       "    }\n",
       "\n",
       "    .dataframe tbody tr th {\n",
       "        vertical-align: top;\n",
       "    }\n",
       "\n",
       "    .dataframe thead th {\n",
       "        text-align: right;\n",
       "    }\n",
       "</style>\n",
       "<table border=\"1\" class=\"dataframe\">\n",
       "  <thead>\n",
       "    <tr style=\"text-align: right;\">\n",
       "      <th></th>\n",
       "      <th>TotalProfit</th>\n",
       "    </tr>\n",
       "    <tr>\n",
       "      <th>ProductID</th>\n",
       "      <th></th>\n",
       "    </tr>\n",
       "  </thead>\n",
       "  <tbody>\n",
       "    <tr>\n",
       "      <th>782</th>\n",
       "      <td>2.833112e+06</td>\n",
       "    </tr>\n",
       "    <tr>\n",
       "      <th>783</th>\n",
       "      <td>2.535913e+06</td>\n",
       "    </tr>\n",
       "  </tbody>\n",
       "</table>\n",
       "</div>"
      ],
      "text/plain": [
       "            TotalProfit\n",
       "ProductID              \n",
       "782        2.833112e+06\n",
       "783        2.535913e+06"
      ]
     },
     "execution_count": 157,
     "metadata": {},
     "output_type": "execute_result"
    }
   ],
   "source": [
    "totaltProfit = MountainBikes[['GrossProfit', 'ProductID']].groupby('ProductID').sum().sort_values('GrossProfit', ascending=False).rename(columns = {'GrossProfit':'TotalProfit'})\n",
    "totaltProfit.head(2)"
   ]
  },
  {
   "cell_type": "markdown",
   "id": "01d6fa4c",
   "metadata": {},
   "source": [
    "This is the most prfitable bikes all time"
   ]
  },
  {
   "cell_type": "markdown",
   "id": "b02f0cd7",
   "metadata": {},
   "source": [
    "##### What is an average profit from singular bike sell?"
   ]
  },
  {
   "cell_type": "code",
   "execution_count": 158,
   "id": "ac107c4f",
   "metadata": {},
   "outputs": [
    {
     "data": {
      "text/html": [
       "<div>\n",
       "<style scoped>\n",
       "    .dataframe tbody tr th:only-of-type {\n",
       "        vertical-align: middle;\n",
       "    }\n",
       "\n",
       "    .dataframe tbody tr th {\n",
       "        vertical-align: top;\n",
       "    }\n",
       "\n",
       "    .dataframe thead th {\n",
       "        text-align: right;\n",
       "    }\n",
       "</style>\n",
       "<table border=\"1\" class=\"dataframe\">\n",
       "  <thead>\n",
       "    <tr style=\"text-align: right;\">\n",
       "      <th></th>\n",
       "      <th>AvgProfit</th>\n",
       "    </tr>\n",
       "    <tr>\n",
       "      <th>ProductID</th>\n",
       "      <th></th>\n",
       "    </tr>\n",
       "  </thead>\n",
       "  <tbody>\n",
       "    <tr>\n",
       "      <th>775</th>\n",
       "      <td>3828.389594</td>\n",
       "    </tr>\n",
       "    <tr>\n",
       "      <th>777</th>\n",
       "      <td>3745.923691</td>\n",
       "    </tr>\n",
       "  </tbody>\n",
       "</table>\n",
       "</div>"
      ],
      "text/plain": [
       "             AvgProfit\n",
       "ProductID             \n",
       "775        3828.389594\n",
       "777        3745.923691"
      ]
     },
     "execution_count": 158,
     "metadata": {},
     "output_type": "execute_result"
    }
   ],
   "source": [
    "avgProfit = MountainBikes[['GrossProfit', 'ProductID']].groupby('ProductID').mean().sort_values('GrossProfit', ascending=False).rename(columns = {'GrossProfit':'AvgProfit'})\n",
    "avgProfit.head(2)"
   ]
  },
  {
   "cell_type": "code",
   "execution_count": 171,
   "id": "938d8b09",
   "metadata": {},
   "outputs": [],
   "source": [
    "sumOrderQty = sumOrderQty.sort_index()\n",
    "avgProfit = avgProfit.sort_index()\n",
    "totaltProfit = totaltProfit.sort_index()"
   ]
  },
  {
   "cell_type": "code",
   "execution_count": 177,
   "id": "526b3da3",
   "metadata": {},
   "outputs": [],
   "source": [
    "dictionary = {'sumOfOrders': sumOrderQty['OrderQty'], 'avgProfit' : avgProfit['AvgProfit'], 'totalProfit': totaltProfit['TotalProfit']}"
   ]
  },
  {
   "cell_type": "code",
   "execution_count": 178,
   "id": "49dd84b2",
   "metadata": {},
   "outputs": [
    {
     "data": {
      "text/plain": [
       "32"
      ]
     },
     "execution_count": 178,
     "metadata": {},
     "output_type": "execute_result"
    }
   ],
   "source": [
    "len(sumOrderQty)"
   ]
  },
  {
   "cell_type": "code",
   "execution_count": 179,
   "id": "17ceab3e",
   "metadata": {},
   "outputs": [],
   "source": [
    "MBSummary = pd.DataFrame(dictionary)"
   ]
  },
  {
   "cell_type": "code",
   "execution_count": 186,
   "id": "e4942829",
   "metadata": {},
   "outputs": [],
   "source": [
    "MBSummary['totalProfit'] = MBSummary['totalProfit'].round(2)"
   ]
  },
  {
   "cell_type": "code",
   "execution_count": 188,
   "id": "9c4c6bf4",
   "metadata": {},
   "outputs": [
    {
     "data": {
      "text/html": [
       "<div>\n",
       "<style scoped>\n",
       "    .dataframe tbody tr th:only-of-type {\n",
       "        vertical-align: middle;\n",
       "    }\n",
       "\n",
       "    .dataframe tbody tr th {\n",
       "        vertical-align: top;\n",
       "    }\n",
       "\n",
       "    .dataframe thead th {\n",
       "        text-align: right;\n",
       "    }\n",
       "</style>\n",
       "<table border=\"1\" class=\"dataframe\">\n",
       "  <thead>\n",
       "    <tr style=\"text-align: right;\">\n",
       "      <th></th>\n",
       "      <th>sumOfOrders</th>\n",
       "      <th>avgProfit</th>\n",
       "      <th>totalProfit</th>\n",
       "    </tr>\n",
       "    <tr>\n",
       "      <th>ProductID</th>\n",
       "      <th></th>\n",
       "      <th></th>\n",
       "      <th></th>\n",
       "    </tr>\n",
       "  </thead>\n",
       "  <tbody>\n",
       "    <tr>\n",
       "      <th>782</th>\n",
       "      <td>2977</td>\n",
       "      <td>2262.869180</td>\n",
       "      <td>2833112.21</td>\n",
       "    </tr>\n",
       "    <tr>\n",
       "      <th>783</th>\n",
       "      <td>2664</td>\n",
       "      <td>2154.556306</td>\n",
       "      <td>2535912.77</td>\n",
       "    </tr>\n",
       "    <tr>\n",
       "      <th>779</th>\n",
       "      <td>2394</td>\n",
       "      <td>2110.685825</td>\n",
       "      <td>2309090.29</td>\n",
       "    </tr>\n",
       "    <tr>\n",
       "      <th>780</th>\n",
       "      <td>2234</td>\n",
       "      <td>2040.610173</td>\n",
       "      <td>2122234.58</td>\n",
       "    </tr>\n",
       "    <tr>\n",
       "      <th>781</th>\n",
       "      <td>2216</td>\n",
       "      <td>1992.688794</td>\n",
       "      <td>2100293.99</td>\n",
       "    </tr>\n",
       "    <tr>\n",
       "      <th>784</th>\n",
       "      <td>2111</td>\n",
       "      <td>1873.300302</td>\n",
       "      <td>1983825.02</td>\n",
       "    </tr>\n",
       "    <tr>\n",
       "      <th>777</th>\n",
       "      <td>678</td>\n",
       "      <td>3745.923691</td>\n",
       "      <td>906513.53</td>\n",
       "    </tr>\n",
       "    <tr>\n",
       "      <th>775</th>\n",
       "      <td>682</td>\n",
       "      <td>3828.389594</td>\n",
       "      <td>895843.17</td>\n",
       "    </tr>\n",
       "    <tr>\n",
       "      <th>771</th>\n",
       "      <td>642</td>\n",
       "      <td>3448.296639</td>\n",
       "      <td>831039.49</td>\n",
       "    </tr>\n",
       "    <tr>\n",
       "      <th>776</th>\n",
       "      <td>634</td>\n",
       "      <td>3605.075478</td>\n",
       "      <td>821957.21</td>\n",
       "    </tr>\n",
       "    <tr>\n",
       "      <th>778</th>\n",
       "      <td>616</td>\n",
       "      <td>3181.230828</td>\n",
       "      <td>773039.09</td>\n",
       "    </tr>\n",
       "    <tr>\n",
       "      <th>773</th>\n",
       "      <td>601</td>\n",
       "      <td>3311.924398</td>\n",
       "      <td>771678.38</td>\n",
       "    </tr>\n",
       "    <tr>\n",
       "      <th>772</th>\n",
       "      <td>593</td>\n",
       "      <td>3456.600579</td>\n",
       "      <td>763908.73</td>\n",
       "    </tr>\n",
       "    <tr>\n",
       "      <th>774</th>\n",
       "      <td>505</td>\n",
       "      <td>3086.164232</td>\n",
       "      <td>629577.50</td>\n",
       "    </tr>\n",
       "    <tr>\n",
       "      <th>786</th>\n",
       "      <td>776</td>\n",
       "      <td>1651.111125</td>\n",
       "      <td>368197.78</td>\n",
       "    </tr>\n",
       "    <tr>\n",
       "      <th>787</th>\n",
       "      <td>747</td>\n",
       "      <td>1524.597574</td>\n",
       "      <td>347608.25</td>\n",
       "    </tr>\n",
       "    <tr>\n",
       "      <th>788</th>\n",
       "      <td>740</td>\n",
       "      <td>1549.869085</td>\n",
       "      <td>345620.81</td>\n",
       "    </tr>\n",
       "    <tr>\n",
       "      <th>785</th>\n",
       "      <td>684</td>\n",
       "      <td>1412.824086</td>\n",
       "      <td>310821.30</td>\n",
       "    </tr>\n",
       "    <tr>\n",
       "      <th>981</th>\n",
       "      <td>617</td>\n",
       "      <td>655.649576</td>\n",
       "      <td>197350.52</td>\n",
       "    </tr>\n",
       "    <tr>\n",
       "      <th>980</th>\n",
       "      <td>425</td>\n",
       "      <td>535.849102</td>\n",
       "      <td>135569.82</td>\n",
       "    </tr>\n",
       "    <tr>\n",
       "      <th>983</th>\n",
       "      <td>401</td>\n",
       "      <td>531.467070</td>\n",
       "      <td>127020.63</td>\n",
       "    </tr>\n",
       "    <tr>\n",
       "      <th>982</th>\n",
       "      <td>385</td>\n",
       "      <td>521.597678</td>\n",
       "      <td>120489.06</td>\n",
       "    </tr>\n",
       "    <tr>\n",
       "      <th>992</th>\n",
       "      <td>449</td>\n",
       "      <td>384.597378</td>\n",
       "      <td>89226.59</td>\n",
       "    </tr>\n",
       "    <tr>\n",
       "      <th>988</th>\n",
       "      <td>515</td>\n",
       "      <td>375.228478</td>\n",
       "      <td>88553.92</td>\n",
       "    </tr>\n",
       "    <tr>\n",
       "      <th>990</th>\n",
       "      <td>388</td>\n",
       "      <td>404.361203</td>\n",
       "      <td>78850.43</td>\n",
       "    </tr>\n",
       "    <tr>\n",
       "      <th>984</th>\n",
       "      <td>450</td>\n",
       "      <td>348.295367</td>\n",
       "      <td>76973.28</td>\n",
       "    </tr>\n",
       "    <tr>\n",
       "      <th>985</th>\n",
       "      <td>455</td>\n",
       "      <td>331.422362</td>\n",
       "      <td>73244.34</td>\n",
       "    </tr>\n",
       "    <tr>\n",
       "      <th>987</th>\n",
       "      <td>457</td>\n",
       "      <td>318.524516</td>\n",
       "      <td>72623.59</td>\n",
       "    </tr>\n",
       "    <tr>\n",
       "      <th>991</th>\n",
       "      <td>350</td>\n",
       "      <td>357.884901</td>\n",
       "      <td>69071.79</td>\n",
       "    </tr>\n",
       "    <tr>\n",
       "      <th>986</th>\n",
       "      <td>381</td>\n",
       "      <td>320.050980</td>\n",
       "      <td>62409.94</td>\n",
       "    </tr>\n",
       "    <tr>\n",
       "      <th>989</th>\n",
       "      <td>282</td>\n",
       "      <td>383.647740</td>\n",
       "      <td>57547.16</td>\n",
       "    </tr>\n",
       "    <tr>\n",
       "      <th>993</th>\n",
       "      <td>272</td>\n",
       "      <td>369.681971</td>\n",
       "      <td>53973.57</td>\n",
       "    </tr>\n",
       "  </tbody>\n",
       "</table>\n",
       "</div>"
      ],
      "text/plain": [
       "           sumOfOrders    avgProfit  totalProfit\n",
       "ProductID                                       \n",
       "782               2977  2262.869180   2833112.21\n",
       "783               2664  2154.556306   2535912.77\n",
       "779               2394  2110.685825   2309090.29\n",
       "780               2234  2040.610173   2122234.58\n",
       "781               2216  1992.688794   2100293.99\n",
       "784               2111  1873.300302   1983825.02\n",
       "777                678  3745.923691    906513.53\n",
       "775                682  3828.389594    895843.17\n",
       "771                642  3448.296639    831039.49\n",
       "776                634  3605.075478    821957.21\n",
       "778                616  3181.230828    773039.09\n",
       "773                601  3311.924398    771678.38\n",
       "772                593  3456.600579    763908.73\n",
       "774                505  3086.164232    629577.50\n",
       "786                776  1651.111125    368197.78\n",
       "787                747  1524.597574    347608.25\n",
       "788                740  1549.869085    345620.81\n",
       "785                684  1412.824086    310821.30\n",
       "981                617   655.649576    197350.52\n",
       "980                425   535.849102    135569.82\n",
       "983                401   531.467070    127020.63\n",
       "982                385   521.597678    120489.06\n",
       "992                449   384.597378     89226.59\n",
       "988                515   375.228478     88553.92\n",
       "990                388   404.361203     78850.43\n",
       "984                450   348.295367     76973.28\n",
       "985                455   331.422362     73244.34\n",
       "987                457   318.524516     72623.59\n",
       "991                350   357.884901     69071.79\n",
       "986                381   320.050980     62409.94\n",
       "989                282   383.647740     57547.16\n",
       "993                272   369.681971     53973.57"
      ]
     },
     "execution_count": 188,
     "metadata": {},
     "output_type": "execute_result"
    }
   ],
   "source": [
    "MBSummary.sort_values('totalProfit', ascending=False)"
   ]
  },
  {
   "cell_type": "code",
   "execution_count": null,
   "id": "43f4ddf1",
   "metadata": {},
   "outputs": [],
   "source": []
  },
  {
   "cell_type": "code",
   "execution_count": null,
   "id": "426bcaf6",
   "metadata": {},
   "outputs": [],
   "source": []
  },
  {
   "cell_type": "code",
   "execution_count": null,
   "id": "128b43d3",
   "metadata": {},
   "outputs": [],
   "source": []
  },
  {
   "cell_type": "code",
   "execution_count": null,
   "id": "3c0a85a9",
   "metadata": {},
   "outputs": [],
   "source": []
  },
  {
   "cell_type": "code",
   "execution_count": null,
   "id": "94fa9e02",
   "metadata": {},
   "outputs": [],
   "source": []
  },
  {
   "cell_type": "code",
   "execution_count": null,
   "id": "431c061a",
   "metadata": {},
   "outputs": [],
   "source": []
  },
  {
   "cell_type": "code",
   "execution_count": null,
   "id": "e2c0cd4e",
   "metadata": {},
   "outputs": [],
   "source": []
  },
  {
   "cell_type": "code",
   "execution_count": null,
   "id": "aa8034b5",
   "metadata": {},
   "outputs": [],
   "source": []
  },
  {
   "cell_type": "code",
   "execution_count": null,
   "id": "bdedcd8c",
   "metadata": {},
   "outputs": [],
   "source": []
  },
  {
   "cell_type": "code",
   "execution_count": null,
   "id": "3c9696c7",
   "metadata": {},
   "outputs": [],
   "source": []
  },
  {
   "cell_type": "code",
   "execution_count": null,
   "id": "0fb49440",
   "metadata": {},
   "outputs": [],
   "source": []
  },
  {
   "cell_type": "code",
   "execution_count": null,
   "id": "45599de6",
   "metadata": {},
   "outputs": [],
   "source": []
  },
  {
   "cell_type": "code",
   "execution_count": null,
   "id": "b594af00",
   "metadata": {},
   "outputs": [],
   "source": []
  },
  {
   "cell_type": "code",
   "execution_count": null,
   "id": "52f57dd6",
   "metadata": {},
   "outputs": [],
   "source": []
  },
  {
   "cell_type": "code",
   "execution_count": null,
   "id": "67c53e2c",
   "metadata": {},
   "outputs": [],
   "source": []
  },
  {
   "cell_type": "code",
   "execution_count": null,
   "id": "ad56ff2d",
   "metadata": {},
   "outputs": [],
   "source": []
  },
  {
   "cell_type": "code",
   "execution_count": null,
   "id": "1578e7c2",
   "metadata": {},
   "outputs": [],
   "source": []
  },
  {
   "cell_type": "code",
   "execution_count": null,
   "id": "06b5373c",
   "metadata": {},
   "outputs": [],
   "source": []
  },
  {
   "cell_type": "code",
   "execution_count": null,
   "id": "5547c5ad",
   "metadata": {},
   "outputs": [],
   "source": []
  },
  {
   "cell_type": "code",
   "execution_count": null,
   "id": "055541a1",
   "metadata": {},
   "outputs": [],
   "source": []
  }
 ],
 "metadata": {
  "kernelspec": {
   "display_name": "Python 3",
   "language": "python",
   "name": "python3"
  },
  "language_info": {
   "codemirror_mode": {
    "name": "ipython",
    "version": 3
   },
   "file_extension": ".py",
   "mimetype": "text/x-python",
   "name": "python",
   "nbconvert_exporter": "python",
   "pygments_lexer": "ipython3",
   "version": "3.8.8"
  }
 },
 "nbformat": 4,
 "nbformat_minor": 5
}
