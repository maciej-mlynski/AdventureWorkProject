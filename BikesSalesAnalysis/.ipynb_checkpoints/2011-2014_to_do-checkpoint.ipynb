{
 "cells": [
  {
   "cell_type": "code",
   "execution_count": 1,
   "id": "27231d1d",
   "metadata": {},
   "outputs": [],
   "source": [
    "import pandas as pd\n",
    "import numpy as np\n",
    "import matplotlib as plt\n",
    "%matplotlib inline"
   ]
  },
  {
   "cell_type": "code",
   "execution_count": 2,
   "id": "b76f2636",
   "metadata": {},
   "outputs": [],
   "source": [
    "pd.set_option('display.max_columns', None)"
   ]
  },
  {
   "cell_type": "code",
   "execution_count": 9,
   "id": "72cb6096",
   "metadata": {},
   "outputs": [],
   "source": [
    "df = pd.read_csv('../AdventureWorks2019withBikeNames.csv', sep=';', header=0)"
   ]
  },
  {
   "cell_type": "code",
   "execution_count": 10,
   "id": "b9554b5f",
   "metadata": {},
   "outputs": [
    {
     "data": {
      "text/html": [
       "<div>\n",
       "<style scoped>\n",
       "    .dataframe tbody tr th:only-of-type {\n",
       "        vertical-align: middle;\n",
       "    }\n",
       "\n",
       "    .dataframe tbody tr th {\n",
       "        vertical-align: top;\n",
       "    }\n",
       "\n",
       "    .dataframe thead th {\n",
       "        text-align: right;\n",
       "    }\n",
       "</style>\n",
       "<table border=\"1\" class=\"dataframe\">\n",
       "  <thead>\n",
       "    <tr style=\"text-align: right;\">\n",
       "      <th></th>\n",
       "      <th>ProductID</th>\n",
       "      <th>ListPrice</th>\n",
       "      <th>StandardCost</th>\n",
       "      <th>Color</th>\n",
       "      <th>Size</th>\n",
       "      <th>Weight</th>\n",
       "      <th>Style</th>\n",
       "      <th>class</th>\n",
       "      <th>BikeName</th>\n",
       "      <th>SubName</th>\n",
       "      <th>CatName</th>\n",
       "      <th>UnitPrice</th>\n",
       "      <th>UnitPriceDiscount</th>\n",
       "      <th>OrderQty</th>\n",
       "      <th>TotalDue</th>\n",
       "      <th>SubTotal</th>\n",
       "      <th>TerritoryID</th>\n",
       "      <th>SellStartDate</th>\n",
       "      <th>SellEndDate</th>\n",
       "    </tr>\n",
       "  </thead>\n",
       "  <tbody>\n",
       "    <tr>\n",
       "      <th>0</th>\n",
       "      <td>776</td>\n",
       "      <td>3374,99</td>\n",
       "      <td>1898,0944</td>\n",
       "      <td>Black</td>\n",
       "      <td>42</td>\n",
       "      <td>20.77</td>\n",
       "      <td>U</td>\n",
       "      <td>H</td>\n",
       "      <td>Mountain-100 Black, 42</td>\n",
       "      <td>Mountain Bikes</td>\n",
       "      <td>Bikes</td>\n",
       "      <td>2024,994</td>\n",
       "      <td>0,00</td>\n",
       "      <td>1</td>\n",
       "      <td>23153,2339</td>\n",
       "      <td>20565,6206</td>\n",
       "      <td>5</td>\n",
       "      <td>2011-05-31 00:00:00.000</td>\n",
       "      <td>2012-05-29 00:00:00.000</td>\n",
       "    </tr>\n",
       "    <tr>\n",
       "      <th>1</th>\n",
       "      <td>777</td>\n",
       "      <td>3374,99</td>\n",
       "      <td>1898,0944</td>\n",
       "      <td>Black</td>\n",
       "      <td>44</td>\n",
       "      <td>21.13</td>\n",
       "      <td>U</td>\n",
       "      <td>H</td>\n",
       "      <td>Mountain-100 Black, 44</td>\n",
       "      <td>Mountain Bikes</td>\n",
       "      <td>Bikes</td>\n",
       "      <td>2024,994</td>\n",
       "      <td>0,00</td>\n",
       "      <td>3</td>\n",
       "      <td>23153,2339</td>\n",
       "      <td>20565,6206</td>\n",
       "      <td>5</td>\n",
       "      <td>2011-05-31 00:00:00.000</td>\n",
       "      <td>2012-05-29 00:00:00.000</td>\n",
       "    </tr>\n",
       "    <tr>\n",
       "      <th>2</th>\n",
       "      <td>778</td>\n",
       "      <td>3374,99</td>\n",
       "      <td>1898,0944</td>\n",
       "      <td>Black</td>\n",
       "      <td>48</td>\n",
       "      <td>21.42</td>\n",
       "      <td>U</td>\n",
       "      <td>H</td>\n",
       "      <td>Mountain-100 Black, 48</td>\n",
       "      <td>Mountain Bikes</td>\n",
       "      <td>Bikes</td>\n",
       "      <td>2024,994</td>\n",
       "      <td>0,00</td>\n",
       "      <td>1</td>\n",
       "      <td>23153,2339</td>\n",
       "      <td>20565,6206</td>\n",
       "      <td>5</td>\n",
       "      <td>2011-05-31 00:00:00.000</td>\n",
       "      <td>2012-05-29 00:00:00.000</td>\n",
       "    </tr>\n",
       "    <tr>\n",
       "      <th>3</th>\n",
       "      <td>771</td>\n",
       "      <td>3399,99</td>\n",
       "      <td>1912,1544</td>\n",
       "      <td>Silver</td>\n",
       "      <td>38</td>\n",
       "      <td>20.35</td>\n",
       "      <td>U</td>\n",
       "      <td>H</td>\n",
       "      <td>Mountain-100 Silver, 38</td>\n",
       "      <td>Mountain Bikes</td>\n",
       "      <td>Bikes</td>\n",
       "      <td>2039,994</td>\n",
       "      <td>0,00</td>\n",
       "      <td>1</td>\n",
       "      <td>23153,2339</td>\n",
       "      <td>20565,6206</td>\n",
       "      <td>5</td>\n",
       "      <td>2011-05-31 00:00:00.000</td>\n",
       "      <td>2012-05-29 00:00:00.000</td>\n",
       "    </tr>\n",
       "    <tr>\n",
       "      <th>4</th>\n",
       "      <td>772</td>\n",
       "      <td>3399,99</td>\n",
       "      <td>1912,1544</td>\n",
       "      <td>Silver</td>\n",
       "      <td>42</td>\n",
       "      <td>20.77</td>\n",
       "      <td>U</td>\n",
       "      <td>H</td>\n",
       "      <td>Mountain-100 Silver, 42</td>\n",
       "      <td>Mountain Bikes</td>\n",
       "      <td>Bikes</td>\n",
       "      <td>2039,994</td>\n",
       "      <td>0,00</td>\n",
       "      <td>1</td>\n",
       "      <td>23153,2339</td>\n",
       "      <td>20565,6206</td>\n",
       "      <td>5</td>\n",
       "      <td>2011-05-31 00:00:00.000</td>\n",
       "      <td>2012-05-29 00:00:00.000</td>\n",
       "    </tr>\n",
       "    <tr>\n",
       "      <th>...</th>\n",
       "      <td>...</td>\n",
       "      <td>...</td>\n",
       "      <td>...</td>\n",
       "      <td>...</td>\n",
       "      <td>...</td>\n",
       "      <td>...</td>\n",
       "      <td>...</td>\n",
       "      <td>...</td>\n",
       "      <td>...</td>\n",
       "      <td>...</td>\n",
       "      <td>...</td>\n",
       "      <td>...</td>\n",
       "      <td>...</td>\n",
       "      <td>...</td>\n",
       "      <td>...</td>\n",
       "      <td>...</td>\n",
       "      <td>...</td>\n",
       "      <td>...</td>\n",
       "      <td>...</td>\n",
       "    </tr>\n",
       "    <tr>\n",
       "      <th>40026</th>\n",
       "      <td>999</td>\n",
       "      <td>539,99</td>\n",
       "      <td>343,6496</td>\n",
       "      <td>Black</td>\n",
       "      <td>52</td>\n",
       "      <td>20.42</td>\n",
       "      <td>U</td>\n",
       "      <td>L</td>\n",
       "      <td>Road-750 Black, 52</td>\n",
       "      <td>Road Bikes</td>\n",
       "      <td>Bikes</td>\n",
       "      <td>539,99</td>\n",
       "      <td>0,00</td>\n",
       "      <td>1</td>\n",
       "      <td>639,1983</td>\n",
       "      <td>578,46</td>\n",
       "      <td>10</td>\n",
       "      <td>2013-05-30 00:00:00.000</td>\n",
       "      <td>NaN</td>\n",
       "    </tr>\n",
       "    <tr>\n",
       "      <th>40027</th>\n",
       "      <td>967</td>\n",
       "      <td>2384,07</td>\n",
       "      <td>1481,9379</td>\n",
       "      <td>Blue</td>\n",
       "      <td>50</td>\n",
       "      <td>25.42</td>\n",
       "      <td>U</td>\n",
       "      <td>H</td>\n",
       "      <td>Touring-1000 Blue, 50</td>\n",
       "      <td>Touring Bikes</td>\n",
       "      <td>Bikes</td>\n",
       "      <td>2384,07</td>\n",
       "      <td>0,00</td>\n",
       "      <td>1</td>\n",
       "      <td>2673,0613</td>\n",
       "      <td>2419,06</td>\n",
       "      <td>8</td>\n",
       "      <td>2013-05-30 00:00:00.000</td>\n",
       "      <td>NaN</td>\n",
       "    </tr>\n",
       "    <tr>\n",
       "      <th>40028</th>\n",
       "      <td>954</td>\n",
       "      <td>2384,07</td>\n",
       "      <td>1481,9379</td>\n",
       "      <td>Yellow</td>\n",
       "      <td>46</td>\n",
       "      <td>25.13</td>\n",
       "      <td>U</td>\n",
       "      <td>H</td>\n",
       "      <td>Touring-1000 Yellow, 46</td>\n",
       "      <td>Touring Bikes</td>\n",
       "      <td>Bikes</td>\n",
       "      <td>2384,07</td>\n",
       "      <td>0,00</td>\n",
       "      <td>1</td>\n",
       "      <td>2634,3974</td>\n",
       "      <td>2384,07</td>\n",
       "      <td>9</td>\n",
       "      <td>2013-05-30 00:00:00.000</td>\n",
       "      <td>NaN</td>\n",
       "    </tr>\n",
       "    <tr>\n",
       "      <th>40029</th>\n",
       "      <td>977</td>\n",
       "      <td>539,99</td>\n",
       "      <td>343,6496</td>\n",
       "      <td>Black</td>\n",
       "      <td>58</td>\n",
       "      <td>20.79</td>\n",
       "      <td>U</td>\n",
       "      <td>L</td>\n",
       "      <td>Road-750 Black, 58</td>\n",
       "      <td>Road Bikes</td>\n",
       "      <td>Bikes</td>\n",
       "      <td>539,99</td>\n",
       "      <td>0,00</td>\n",
       "      <td>1</td>\n",
       "      <td>596,689</td>\n",
       "      <td>539,99</td>\n",
       "      <td>9</td>\n",
       "      <td>2013-05-30 00:00:00.000</td>\n",
       "      <td>NaN</td>\n",
       "    </tr>\n",
       "    <tr>\n",
       "      <th>40030</th>\n",
       "      <td>998</td>\n",
       "      <td>539,99</td>\n",
       "      <td>343,6496</td>\n",
       "      <td>Black</td>\n",
       "      <td>48</td>\n",
       "      <td>20.13</td>\n",
       "      <td>U</td>\n",
       "      <td>L</td>\n",
       "      <td>Road-750 Black, 48</td>\n",
       "      <td>Road Bikes</td>\n",
       "      <td>Bikes</td>\n",
       "      <td>539,99</td>\n",
       "      <td>0,00</td>\n",
       "      <td>1</td>\n",
       "      <td>680,0944</td>\n",
       "      <td>615,47</td>\n",
       "      <td>9</td>\n",
       "      <td>2013-05-30 00:00:00.000</td>\n",
       "      <td>NaN</td>\n",
       "    </tr>\n",
       "  </tbody>\n",
       "</table>\n",
       "<p>40031 rows × 19 columns</p>\n",
       "</div>"
      ],
      "text/plain": [
       "       ProductID ListPrice StandardCost   Color  Size  Weight Style class  \\\n",
       "0            776   3374,99    1898,0944   Black    42   20.77    U     H    \n",
       "1            777   3374,99    1898,0944   Black    44   21.13    U     H    \n",
       "2            778   3374,99    1898,0944   Black    48   21.42    U     H    \n",
       "3            771   3399,99    1912,1544  Silver    38   20.35    U     H    \n",
       "4            772   3399,99    1912,1544  Silver    42   20.77    U     H    \n",
       "...          ...       ...          ...     ...   ...     ...   ...   ...   \n",
       "40026        999    539,99     343,6496   Black    52   20.42    U     L    \n",
       "40027        967   2384,07    1481,9379    Blue    50   25.42    U     H    \n",
       "40028        954   2384,07    1481,9379  Yellow    46   25.13    U     H    \n",
       "40029        977    539,99     343,6496   Black    58   20.79    U     L    \n",
       "40030        998    539,99     343,6496   Black    48   20.13    U     L    \n",
       "\n",
       "                      BikeName         SubName CatName UnitPrice  \\\n",
       "0       Mountain-100 Black, 42  Mountain Bikes   Bikes  2024,994   \n",
       "1       Mountain-100 Black, 44  Mountain Bikes   Bikes  2024,994   \n",
       "2       Mountain-100 Black, 48  Mountain Bikes   Bikes  2024,994   \n",
       "3      Mountain-100 Silver, 38  Mountain Bikes   Bikes  2039,994   \n",
       "4      Mountain-100 Silver, 42  Mountain Bikes   Bikes  2039,994   \n",
       "...                        ...             ...     ...       ...   \n",
       "40026       Road-750 Black, 52      Road Bikes   Bikes    539,99   \n",
       "40027    Touring-1000 Blue, 50   Touring Bikes   Bikes   2384,07   \n",
       "40028  Touring-1000 Yellow, 46   Touring Bikes   Bikes   2384,07   \n",
       "40029       Road-750 Black, 58      Road Bikes   Bikes    539,99   \n",
       "40030       Road-750 Black, 48      Road Bikes   Bikes    539,99   \n",
       "\n",
       "      UnitPriceDiscount  OrderQty    TotalDue    SubTotal  TerritoryID  \\\n",
       "0                  0,00         1  23153,2339  20565,6206            5   \n",
       "1                  0,00         3  23153,2339  20565,6206            5   \n",
       "2                  0,00         1  23153,2339  20565,6206            5   \n",
       "3                  0,00         1  23153,2339  20565,6206            5   \n",
       "4                  0,00         1  23153,2339  20565,6206            5   \n",
       "...                 ...       ...         ...         ...          ...   \n",
       "40026              0,00         1    639,1983      578,46           10   \n",
       "40027              0,00         1   2673,0613     2419,06            8   \n",
       "40028              0,00         1   2634,3974     2384,07            9   \n",
       "40029              0,00         1     596,689      539,99            9   \n",
       "40030              0,00         1    680,0944      615,47            9   \n",
       "\n",
       "                 SellStartDate              SellEndDate  \n",
       "0      2011-05-31 00:00:00.000  2012-05-29 00:00:00.000  \n",
       "1      2011-05-31 00:00:00.000  2012-05-29 00:00:00.000  \n",
       "2      2011-05-31 00:00:00.000  2012-05-29 00:00:00.000  \n",
       "3      2011-05-31 00:00:00.000  2012-05-29 00:00:00.000  \n",
       "4      2011-05-31 00:00:00.000  2012-05-29 00:00:00.000  \n",
       "...                        ...                      ...  \n",
       "40026  2013-05-30 00:00:00.000                      NaN  \n",
       "40027  2013-05-30 00:00:00.000                      NaN  \n",
       "40028  2013-05-30 00:00:00.000                      NaN  \n",
       "40029  2013-05-30 00:00:00.000                      NaN  \n",
       "40030  2013-05-30 00:00:00.000                      NaN  \n",
       "\n",
       "[40031 rows x 19 columns]"
      ]
     },
     "execution_count": 10,
     "metadata": {},
     "output_type": "execute_result"
    }
   ],
   "source": [
    "df"
   ]
  },
  {
   "cell_type": "code",
   "execution_count": 4,
   "id": "18de8e49",
   "metadata": {},
   "outputs": [
    {
     "data": {
      "text/plain": [
       "array(['Bikes', 'Clothing', 'Accessories', 'Components'], dtype=object)"
      ]
     },
     "execution_count": 4,
     "metadata": {},
     "output_type": "execute_result"
    }
   ],
   "source": [
    "df['CatName'].unique()"
   ]
  },
  {
   "cell_type": "code",
   "execution_count": 5,
   "id": "893766e9",
   "metadata": {},
   "outputs": [
    {
     "data": {
      "text/plain": [
       "array(['Mountain Bikes', 'Road Bikes', 'Touring Bikes'], dtype=object)"
      ]
     },
     "execution_count": 5,
     "metadata": {},
     "output_type": "execute_result"
    }
   ],
   "source": [
    "df['SubName'][df['CatName'] == 'Bikes'].unique()"
   ]
  },
  {
   "cell_type": "code",
   "execution_count": 8,
   "id": "b25b71a8",
   "metadata": {},
   "outputs": [],
   "source": [
    "RoadBikes = df[df['SubName'] == 'Road Bikes']\n",
    "MountainBikes = df[df['SubName'] == 'Mountain Bikes']\n",
    "TouringBikes = df[df['SubName'] == 'Touring Bikes']"
   ]
  },
  {
   "cell_type": "markdown",
   "id": "37d1044f",
   "metadata": {},
   "source": [
    "## Spliting bikes\n",
    "\n",
    "Firt of all I would like to split bikes by avebility, becouse some of the bikes are no longer aveliable in store. I will concat them in the end to compare"
   ]
  },
  {
   "cell_type": "code",
   "execution_count": null,
   "id": "0a830f93",
   "metadata": {},
   "outputs": [],
   "source": []
  },
  {
   "cell_type": "code",
   "execution_count": null,
   "id": "68ea2b7b",
   "metadata": {},
   "outputs": [],
   "source": []
  },
  {
   "cell_type": "code",
   "execution_count": null,
   "id": "c32c2afe",
   "metadata": {},
   "outputs": [],
   "source": []
  },
  {
   "cell_type": "code",
   "execution_count": null,
   "id": "95479dc5",
   "metadata": {},
   "outputs": [],
   "source": []
  },
  {
   "cell_type": "code",
   "execution_count": null,
   "id": "47d51912",
   "metadata": {},
   "outputs": [],
   "source": []
  },
  {
   "cell_type": "code",
   "execution_count": null,
   "id": "a712acb7",
   "metadata": {},
   "outputs": [],
   "source": []
  },
  {
   "cell_type": "code",
   "execution_count": null,
   "id": "e5f3b006",
   "metadata": {},
   "outputs": [],
   "source": []
  },
  {
   "cell_type": "code",
   "execution_count": null,
   "id": "82ef7e5a",
   "metadata": {},
   "outputs": [],
   "source": []
  },
  {
   "cell_type": "code",
   "execution_count": null,
   "id": "16b966e4",
   "metadata": {},
   "outputs": [],
   "source": []
  },
  {
   "cell_type": "code",
   "execution_count": null,
   "id": "3abbe96f",
   "metadata": {},
   "outputs": [],
   "source": []
  },
  {
   "cell_type": "code",
   "execution_count": null,
   "id": "e45f649f",
   "metadata": {},
   "outputs": [],
   "source": []
  },
  {
   "cell_type": "code",
   "execution_count": null,
   "id": "36b62cdd",
   "metadata": {},
   "outputs": [],
   "source": []
  },
  {
   "cell_type": "code",
   "execution_count": null,
   "id": "29225acb",
   "metadata": {},
   "outputs": [],
   "source": []
  },
  {
   "cell_type": "code",
   "execution_count": null,
   "id": "f4b8948a",
   "metadata": {},
   "outputs": [],
   "source": []
  },
  {
   "cell_type": "code",
   "execution_count": null,
   "id": "1f5b4233",
   "metadata": {},
   "outputs": [],
   "source": []
  },
  {
   "cell_type": "code",
   "execution_count": null,
   "id": "b286c2d1",
   "metadata": {},
   "outputs": [],
   "source": []
  },
  {
   "cell_type": "code",
   "execution_count": null,
   "id": "cca93320",
   "metadata": {},
   "outputs": [],
   "source": []
  },
  {
   "cell_type": "code",
   "execution_count": null,
   "id": "e079b723",
   "metadata": {},
   "outputs": [],
   "source": []
  },
  {
   "cell_type": "code",
   "execution_count": null,
   "id": "4ca00d52",
   "metadata": {},
   "outputs": [],
   "source": []
  },
  {
   "cell_type": "code",
   "execution_count": null,
   "id": "39ef2a82",
   "metadata": {},
   "outputs": [],
   "source": []
  },
  {
   "cell_type": "code",
   "execution_count": null,
   "id": "5fca3823",
   "metadata": {},
   "outputs": [],
   "source": []
  },
  {
   "cell_type": "code",
   "execution_count": null,
   "id": "33dfda0e",
   "metadata": {},
   "outputs": [],
   "source": []
  },
  {
   "cell_type": "code",
   "execution_count": null,
   "id": "46022f7e",
   "metadata": {},
   "outputs": [],
   "source": []
  },
  {
   "cell_type": "code",
   "execution_count": null,
   "id": "2aa29911",
   "metadata": {},
   "outputs": [],
   "source": []
  },
  {
   "cell_type": "code",
   "execution_count": null,
   "id": "dfd256a6",
   "metadata": {},
   "outputs": [],
   "source": []
  },
  {
   "cell_type": "code",
   "execution_count": null,
   "id": "b8071dda",
   "metadata": {},
   "outputs": [],
   "source": []
  },
  {
   "cell_type": "code",
   "execution_count": null,
   "id": "f13a3d1d",
   "metadata": {},
   "outputs": [],
   "source": []
  },
  {
   "cell_type": "code",
   "execution_count": null,
   "id": "c214bd36",
   "metadata": {},
   "outputs": [],
   "source": []
  },
  {
   "cell_type": "code",
   "execution_count": null,
   "id": "f0aee45d",
   "metadata": {},
   "outputs": [],
   "source": []
  },
  {
   "cell_type": "code",
   "execution_count": null,
   "id": "d2170764",
   "metadata": {},
   "outputs": [],
   "source": []
  },
  {
   "cell_type": "code",
   "execution_count": null,
   "id": "9cb58301",
   "metadata": {},
   "outputs": [],
   "source": []
  },
  {
   "cell_type": "code",
   "execution_count": null,
   "id": "d88b21d5",
   "metadata": {},
   "outputs": [],
   "source": []
  },
  {
   "cell_type": "code",
   "execution_count": null,
   "id": "f6ef3aca",
   "metadata": {},
   "outputs": [],
   "source": []
  },
  {
   "cell_type": "code",
   "execution_count": null,
   "id": "7bbc94c1",
   "metadata": {},
   "outputs": [],
   "source": []
  },
  {
   "cell_type": "code",
   "execution_count": null,
   "id": "6719ad7c",
   "metadata": {},
   "outputs": [],
   "source": []
  },
  {
   "cell_type": "code",
   "execution_count": null,
   "id": "9b01822d",
   "metadata": {},
   "outputs": [],
   "source": []
  },
  {
   "cell_type": "code",
   "execution_count": null,
   "id": "e217f8e5",
   "metadata": {},
   "outputs": [],
   "source": []
  },
  {
   "cell_type": "code",
   "execution_count": null,
   "id": "adfbcf19",
   "metadata": {},
   "outputs": [],
   "source": []
  },
  {
   "cell_type": "code",
   "execution_count": null,
   "id": "03dcc19e",
   "metadata": {},
   "outputs": [],
   "source": []
  },
  {
   "cell_type": "code",
   "execution_count": null,
   "id": "5f63a3cf",
   "metadata": {},
   "outputs": [],
   "source": []
  },
  {
   "cell_type": "code",
   "execution_count": null,
   "id": "e82fcc47",
   "metadata": {},
   "outputs": [],
   "source": []
  },
  {
   "cell_type": "code",
   "execution_count": null,
   "id": "244dbdff",
   "metadata": {},
   "outputs": [],
   "source": []
  },
  {
   "cell_type": "code",
   "execution_count": null,
   "id": "4c981f86",
   "metadata": {},
   "outputs": [],
   "source": []
  },
  {
   "cell_type": "code",
   "execution_count": null,
   "id": "70c01653",
   "metadata": {},
   "outputs": [],
   "source": []
  },
  {
   "cell_type": "code",
   "execution_count": null,
   "id": "9b201a59",
   "metadata": {},
   "outputs": [],
   "source": []
  },
  {
   "cell_type": "code",
   "execution_count": null,
   "id": "332e6f68",
   "metadata": {},
   "outputs": [],
   "source": []
  },
  {
   "cell_type": "code",
   "execution_count": null,
   "id": "664a9dec",
   "metadata": {},
   "outputs": [],
   "source": []
  },
  {
   "cell_type": "code",
   "execution_count": null,
   "id": "6272486a",
   "metadata": {},
   "outputs": [],
   "source": []
  },
  {
   "cell_type": "code",
   "execution_count": null,
   "id": "ce3c32b5",
   "metadata": {},
   "outputs": [],
   "source": []
  },
  {
   "cell_type": "code",
   "execution_count": null,
   "id": "d4d4ae00",
   "metadata": {},
   "outputs": [],
   "source": []
  },
  {
   "cell_type": "code",
   "execution_count": null,
   "id": "3f8d82c2",
   "metadata": {},
   "outputs": [],
   "source": []
  },
  {
   "cell_type": "code",
   "execution_count": null,
   "id": "8d796173",
   "metadata": {},
   "outputs": [],
   "source": []
  },
  {
   "cell_type": "code",
   "execution_count": null,
   "id": "94a861aa",
   "metadata": {},
   "outputs": [],
   "source": []
  },
  {
   "cell_type": "code",
   "execution_count": null,
   "id": "2cc6f646",
   "metadata": {},
   "outputs": [],
   "source": []
  },
  {
   "cell_type": "code",
   "execution_count": null,
   "id": "d3e1e2ac",
   "metadata": {},
   "outputs": [],
   "source": []
  },
  {
   "cell_type": "code",
   "execution_count": null,
   "id": "142dd3cc",
   "metadata": {},
   "outputs": [],
   "source": []
  },
  {
   "cell_type": "code",
   "execution_count": null,
   "id": "f3ed47cc",
   "metadata": {},
   "outputs": [],
   "source": []
  },
  {
   "cell_type": "code",
   "execution_count": null,
   "id": "a01ed8ec",
   "metadata": {},
   "outputs": [],
   "source": []
  },
  {
   "cell_type": "code",
   "execution_count": null,
   "id": "4670913e",
   "metadata": {},
   "outputs": [],
   "source": []
  },
  {
   "cell_type": "code",
   "execution_count": null,
   "id": "626454e2",
   "metadata": {},
   "outputs": [],
   "source": []
  },
  {
   "cell_type": "code",
   "execution_count": null,
   "id": "8ec9eefd",
   "metadata": {},
   "outputs": [],
   "source": []
  },
  {
   "cell_type": "code",
   "execution_count": null,
   "id": "78eecc1d",
   "metadata": {},
   "outputs": [],
   "source": []
  },
  {
   "cell_type": "code",
   "execution_count": null,
   "id": "cb263931",
   "metadata": {},
   "outputs": [],
   "source": []
  },
  {
   "cell_type": "code",
   "execution_count": null,
   "id": "d4fd3d8d",
   "metadata": {},
   "outputs": [],
   "source": []
  },
  {
   "cell_type": "code",
   "execution_count": null,
   "id": "74258d83",
   "metadata": {},
   "outputs": [],
   "source": []
  },
  {
   "cell_type": "code",
   "execution_count": null,
   "id": "7d26921b",
   "metadata": {},
   "outputs": [],
   "source": []
  },
  {
   "cell_type": "code",
   "execution_count": null,
   "id": "2d2d3486",
   "metadata": {},
   "outputs": [],
   "source": []
  },
  {
   "cell_type": "code",
   "execution_count": null,
   "id": "92d42869",
   "metadata": {},
   "outputs": [],
   "source": []
  },
  {
   "cell_type": "code",
   "execution_count": null,
   "id": "51acf2aa",
   "metadata": {},
   "outputs": [],
   "source": []
  },
  {
   "cell_type": "code",
   "execution_count": null,
   "id": "82fa2651",
   "metadata": {},
   "outputs": [],
   "source": []
  },
  {
   "cell_type": "code",
   "execution_count": null,
   "id": "ea2f8451",
   "metadata": {},
   "outputs": [],
   "source": []
  },
  {
   "cell_type": "code",
   "execution_count": null,
   "id": "4bc254bf",
   "metadata": {},
   "outputs": [],
   "source": []
  },
  {
   "cell_type": "code",
   "execution_count": null,
   "id": "8e7d0cae",
   "metadata": {},
   "outputs": [],
   "source": []
  },
  {
   "cell_type": "code",
   "execution_count": null,
   "id": "8cd209e6",
   "metadata": {},
   "outputs": [],
   "source": []
  },
  {
   "cell_type": "code",
   "execution_count": null,
   "id": "1df35068",
   "metadata": {},
   "outputs": [],
   "source": []
  },
  {
   "cell_type": "code",
   "execution_count": null,
   "id": "b8affe4c",
   "metadata": {},
   "outputs": [],
   "source": []
  },
  {
   "cell_type": "code",
   "execution_count": null,
   "id": "7966c124",
   "metadata": {},
   "outputs": [],
   "source": []
  },
  {
   "cell_type": "code",
   "execution_count": null,
   "id": "94ea9ba3",
   "metadata": {},
   "outputs": [],
   "source": []
  },
  {
   "cell_type": "code",
   "execution_count": null,
   "id": "6495baa9",
   "metadata": {},
   "outputs": [],
   "source": []
  },
  {
   "cell_type": "code",
   "execution_count": null,
   "id": "f8bd76ea",
   "metadata": {},
   "outputs": [],
   "source": []
  },
  {
   "cell_type": "code",
   "execution_count": null,
   "id": "422bf0fd",
   "metadata": {},
   "outputs": [],
   "source": []
  },
  {
   "cell_type": "code",
   "execution_count": null,
   "id": "30f284af",
   "metadata": {},
   "outputs": [],
   "source": []
  },
  {
   "cell_type": "code",
   "execution_count": null,
   "id": "bc412ac8",
   "metadata": {},
   "outputs": [],
   "source": []
  },
  {
   "cell_type": "code",
   "execution_count": null,
   "id": "a3c52e79",
   "metadata": {},
   "outputs": [],
   "source": []
  },
  {
   "cell_type": "code",
   "execution_count": null,
   "id": "61a78105",
   "metadata": {},
   "outputs": [],
   "source": []
  },
  {
   "cell_type": "code",
   "execution_count": null,
   "id": "87fa4141",
   "metadata": {},
   "outputs": [],
   "source": []
  },
  {
   "cell_type": "code",
   "execution_count": null,
   "id": "32b1a4de",
   "metadata": {},
   "outputs": [],
   "source": []
  },
  {
   "cell_type": "code",
   "execution_count": null,
   "id": "0b708fd5",
   "metadata": {},
   "outputs": [],
   "source": []
  },
  {
   "cell_type": "code",
   "execution_count": null,
   "id": "953b1eeb",
   "metadata": {},
   "outputs": [],
   "source": []
  },
  {
   "cell_type": "code",
   "execution_count": null,
   "id": "66e9905c",
   "metadata": {},
   "outputs": [],
   "source": []
  },
  {
   "cell_type": "code",
   "execution_count": null,
   "id": "84592532",
   "metadata": {},
   "outputs": [],
   "source": []
  },
  {
   "cell_type": "code",
   "execution_count": null,
   "id": "104c0c0d",
   "metadata": {},
   "outputs": [],
   "source": []
  },
  {
   "cell_type": "code",
   "execution_count": null,
   "id": "4d1caa8b",
   "metadata": {},
   "outputs": [],
   "source": []
  },
  {
   "cell_type": "code",
   "execution_count": null,
   "id": "f2c0f915",
   "metadata": {},
   "outputs": [],
   "source": []
  }
 ],
 "metadata": {
  "kernelspec": {
   "display_name": "Python 3",
   "language": "python",
   "name": "python3"
  },
  "language_info": {
   "codemirror_mode": {
    "name": "ipython",
    "version": 3
   },
   "file_extension": ".py",
   "mimetype": "text/x-python",
   "name": "python",
   "nbconvert_exporter": "python",
   "pygments_lexer": "ipython3",
   "version": "3.8.8"
  }
 },
 "nbformat": 4,
 "nbformat_minor": 5
}
