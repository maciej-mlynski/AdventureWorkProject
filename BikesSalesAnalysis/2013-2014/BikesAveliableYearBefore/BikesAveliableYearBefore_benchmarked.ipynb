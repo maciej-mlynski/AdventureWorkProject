{
 "cells": [
  {
   "cell_type": "code",
   "execution_count": 1,
   "id": "26cab67b",
   "metadata": {},
   "outputs": [],
   "source": [
    "import pandas as pd\n",
    "import numpy as np\n",
    "import matplotlib.pyplot as plt\n",
    "%matplotlib inline\n",
    "import seaborn as sns\n",
    "pd.set_option('display.max_columns', None)"
   ]
  },
  {
   "cell_type": "code",
   "execution_count": 2,
   "id": "0838b22f",
   "metadata": {},
   "outputs": [],
   "source": [
    "sns.set(rc={'figure.figsize':(10,6)})"
   ]
  },
  {
   "cell_type": "markdown",
   "id": "f1f822d5",
   "metadata": {},
   "source": [
    "#### 1. SUbcategory"
   ]
  },
  {
   "cell_type": "code",
   "execution_count": 3,
   "id": "4ab7c4e7",
   "metadata": {},
   "outputs": [],
   "source": [
    "df = pd.read_csv('./../GroupedData/2013-2014_Gr_Avlb_2012_sub_class_color_size.csv', sep=';')"
   ]
  },
  {
   "cell_type": "code",
   "execution_count": 4,
   "id": "444a29fb",
   "metadata": {},
   "outputs": [],
   "source": [
    "df['totalSellAmt'] = df[['totalSellAmt']].applymap(lambda x: str(x.replace(',','.'))).astype('float64')\n",
    "df['totalCosts'] = df[['totalCosts']].applymap(lambda x: str(x.replace(',','.'))).astype('float64')\n",
    "df['totalGrossProfit'] = df[['totalGrossProfit']].applymap(lambda x: str(x.replace(',','.'))).astype('float64')"
   ]
  },
  {
   "cell_type": "code",
   "execution_count": 5,
   "id": "a210691c",
   "metadata": {},
   "outputs": [],
   "source": [
    "MBikes = df[df['SubName'] == 'Mountain Bikes']"
   ]
  },
  {
   "cell_type": "code",
   "execution_count": 6,
   "id": "a85b6908",
   "metadata": {},
   "outputs": [
    {
     "name": "stderr",
     "output_type": "stream",
     "text": [
      "<ipython-input-6-345608c87182>:1: SettingWithCopyWarning: \n",
      "A value is trying to be set on a copy of a slice from a DataFrame.\n",
      "Try using .loc[row_indexer,col_indexer] = value instead\n",
      "\n",
      "See the caveats in the documentation: https://pandas.pydata.org/pandas-docs/stable/user_guide/indexing.html#returning-a-view-versus-a-copy\n",
      "  MBikes['totalGrossProfit'] = round(MBikes['totalGrossProfit'],2)\n"
     ]
    }
   ],
   "source": [
    "MBikes['totalGrossProfit'] = round(MBikes['totalGrossProfit'],2)"
   ]
  },
  {
   "cell_type": "code",
   "execution_count": 7,
   "id": "9f1c3fef",
   "metadata": {},
   "outputs": [
    {
     "data": {
      "text/html": [
       "<div>\n",
       "<style scoped>\n",
       "    .dataframe tbody tr th:only-of-type {\n",
       "        vertical-align: middle;\n",
       "    }\n",
       "\n",
       "    .dataframe tbody tr th {\n",
       "        vertical-align: top;\n",
       "    }\n",
       "\n",
       "    .dataframe thead th {\n",
       "        text-align: right;\n",
       "    }\n",
       "</style>\n",
       "<table border=\"1\" class=\"dataframe\">\n",
       "  <thead>\n",
       "    <tr style=\"text-align: right;\">\n",
       "      <th></th>\n",
       "      <th>SubName</th>\n",
       "      <th>Class</th>\n",
       "      <th>Color</th>\n",
       "      <th>Size</th>\n",
       "      <th>totalSellAmt</th>\n",
       "      <th>totalCosts</th>\n",
       "      <th>totalQuantity</th>\n",
       "      <th>totalGrossProfit</th>\n",
       "    </tr>\n",
       "  </thead>\n",
       "  <tbody>\n",
       "    <tr>\n",
       "      <th>0</th>\n",
       "      <td>Mountain Bikes</td>\n",
       "      <td>H</td>\n",
       "      <td>Black</td>\n",
       "      <td>38.0</td>\n",
       "      <td>2.591413e+06</td>\n",
       "      <td>2.020698e+06</td>\n",
       "      <td>1614</td>\n",
       "      <td>570715.06</td>\n",
       "    </tr>\n",
       "    <tr>\n",
       "      <th>1</th>\n",
       "      <td>Mountain Bikes</td>\n",
       "      <td>H</td>\n",
       "      <td>Black</td>\n",
       "      <td>42.0</td>\n",
       "      <td>2.269584e+06</td>\n",
       "      <td>1.713962e+06</td>\n",
       "      <td>1369</td>\n",
       "      <td>555621.18</td>\n",
       "    </tr>\n",
       "    <tr>\n",
       "      <th>2</th>\n",
       "      <td>Mountain Bikes</td>\n",
       "      <td>H</td>\n",
       "      <td>Black</td>\n",
       "      <td>46.0</td>\n",
       "      <td>1.959577e+06</td>\n",
       "      <td>1.433519e+06</td>\n",
       "      <td>1145</td>\n",
       "      <td>526058.75</td>\n",
       "    </tr>\n",
       "    <tr>\n",
       "      <th>3</th>\n",
       "      <td>Mountain Bikes</td>\n",
       "      <td>H</td>\n",
       "      <td>Black</td>\n",
       "      <td>NaN</td>\n",
       "      <td>6.820574e+06</td>\n",
       "      <td>5.168179e+06</td>\n",
       "      <td>4128</td>\n",
       "      <td>1652394.99</td>\n",
       "    </tr>\n",
       "    <tr>\n",
       "      <th>4</th>\n",
       "      <td>Mountain Bikes</td>\n",
       "      <td>H</td>\n",
       "      <td>Silver</td>\n",
       "      <td>38.0</td>\n",
       "      <td>2.163053e+06</td>\n",
       "      <td>1.614930e+06</td>\n",
       "      <td>1276</td>\n",
       "      <td>548122.53</td>\n",
       "    </tr>\n",
       "    <tr>\n",
       "      <th>5</th>\n",
       "      <td>Mountain Bikes</td>\n",
       "      <td>H</td>\n",
       "      <td>Silver</td>\n",
       "      <td>42.0</td>\n",
       "      <td>1.918691e+06</td>\n",
       "      <td>1.417494e+06</td>\n",
       "      <td>1120</td>\n",
       "      <td>501196.85</td>\n",
       "    </tr>\n",
       "    <tr>\n",
       "      <th>6</th>\n",
       "      <td>Mountain Bikes</td>\n",
       "      <td>H</td>\n",
       "      <td>Silver</td>\n",
       "      <td>46.0</td>\n",
       "      <td>1.906249e+06</td>\n",
       "      <td>1.397244e+06</td>\n",
       "      <td>1104</td>\n",
       "      <td>509004.62</td>\n",
       "    </tr>\n",
       "    <tr>\n",
       "      <th>7</th>\n",
       "      <td>Mountain Bikes</td>\n",
       "      <td>H</td>\n",
       "      <td>Silver</td>\n",
       "      <td>NaN</td>\n",
       "      <td>5.987992e+06</td>\n",
       "      <td>4.429668e+06</td>\n",
       "      <td>3500</td>\n",
       "      <td>1558324.01</td>\n",
       "    </tr>\n",
       "    <tr>\n",
       "      <th>8</th>\n",
       "      <td>Mountain Bikes</td>\n",
       "      <td>H</td>\n",
       "      <td>NaN</td>\n",
       "      <td>NaN</td>\n",
       "      <td>1.280857e+07</td>\n",
       "      <td>9.597847e+06</td>\n",
       "      <td>7628</td>\n",
       "      <td>3210718.99</td>\n",
       "    </tr>\n",
       "    <tr>\n",
       "      <th>9</th>\n",
       "      <td>Mountain Bikes</td>\n",
       "      <td>NaN</td>\n",
       "      <td>NaN</td>\n",
       "      <td>NaN</td>\n",
       "      <td>1.280857e+07</td>\n",
       "      <td>9.597847e+06</td>\n",
       "      <td>7628</td>\n",
       "      <td>3210718.99</td>\n",
       "    </tr>\n",
       "  </tbody>\n",
       "</table>\n",
       "</div>"
      ],
      "text/plain": [
       "          SubName Class   Color  Size  totalSellAmt    totalCosts  \\\n",
       "0  Mountain Bikes    H    Black  38.0  2.591413e+06  2.020698e+06   \n",
       "1  Mountain Bikes    H    Black  42.0  2.269584e+06  1.713962e+06   \n",
       "2  Mountain Bikes    H    Black  46.0  1.959577e+06  1.433519e+06   \n",
       "3  Mountain Bikes    H    Black   NaN  6.820574e+06  5.168179e+06   \n",
       "4  Mountain Bikes    H   Silver  38.0  2.163053e+06  1.614930e+06   \n",
       "5  Mountain Bikes    H   Silver  42.0  1.918691e+06  1.417494e+06   \n",
       "6  Mountain Bikes    H   Silver  46.0  1.906249e+06  1.397244e+06   \n",
       "7  Mountain Bikes    H   Silver   NaN  5.987992e+06  4.429668e+06   \n",
       "8  Mountain Bikes    H      NaN   NaN  1.280857e+07  9.597847e+06   \n",
       "9  Mountain Bikes   NaN     NaN   NaN  1.280857e+07  9.597847e+06   \n",
       "\n",
       "   totalQuantity  totalGrossProfit  \n",
       "0           1614         570715.06  \n",
       "1           1369         555621.18  \n",
       "2           1145         526058.75  \n",
       "3           4128        1652394.99  \n",
       "4           1276         548122.53  \n",
       "5           1120         501196.85  \n",
       "6           1104         509004.62  \n",
       "7           3500        1558324.01  \n",
       "8           7628        3210718.99  \n",
       "9           7628        3210718.99  "
      ]
     },
     "execution_count": 7,
     "metadata": {},
     "output_type": "execute_result"
    }
   ],
   "source": [
    "MBikes"
   ]
  },
  {
   "cell_type": "code",
   "execution_count": 8,
   "id": "98a7d577",
   "metadata": {},
   "outputs": [],
   "source": [
    "RBikes = df[df['SubName'] == 'Road Bikes']"
   ]
  },
  {
   "cell_type": "code",
   "execution_count": 9,
   "id": "686f6507",
   "metadata": {},
   "outputs": [
    {
     "data": {
      "text/html": [
       "<div>\n",
       "<style scoped>\n",
       "    .dataframe tbody tr th:only-of-type {\n",
       "        vertical-align: middle;\n",
       "    }\n",
       "\n",
       "    .dataframe tbody tr th {\n",
       "        vertical-align: top;\n",
       "    }\n",
       "\n",
       "    .dataframe thead th {\n",
       "        text-align: right;\n",
       "    }\n",
       "</style>\n",
       "<table border=\"1\" class=\"dataframe\">\n",
       "  <thead>\n",
       "    <tr style=\"text-align: right;\">\n",
       "      <th></th>\n",
       "      <th>SubName</th>\n",
       "      <th>Class</th>\n",
       "      <th>Color</th>\n",
       "      <th>Size</th>\n",
       "      <th>totalSellAmt</th>\n",
       "      <th>totalCosts</th>\n",
       "      <th>totalQuantity</th>\n",
       "      <th>totalGrossProfit</th>\n",
       "    </tr>\n",
       "  </thead>\n",
       "  <tbody>\n",
       "    <tr>\n",
       "      <th>10</th>\n",
       "      <td>Road Bikes</td>\n",
       "      <td>H</td>\n",
       "      <td>Black</td>\n",
       "      <td>44.0</td>\n",
       "      <td>1.262461e+06</td>\n",
       "      <td>1.191090e+06</td>\n",
       "      <td>766</td>\n",
       "      <td>71371.4011</td>\n",
       "    </tr>\n",
       "    <tr>\n",
       "      <th>11</th>\n",
       "      <td>Road Bikes</td>\n",
       "      <td>H</td>\n",
       "      <td>Black</td>\n",
       "      <td>48.0</td>\n",
       "      <td>1.197858e+06</td>\n",
       "      <td>1.108678e+06</td>\n",
       "      <td>713</td>\n",
       "      <td>89180.3484</td>\n",
       "    </tr>\n",
       "    <tr>\n",
       "      <th>12</th>\n",
       "      <td>Road Bikes</td>\n",
       "      <td>H</td>\n",
       "      <td>Black</td>\n",
       "      <td>52.0</td>\n",
       "      <td>9.748967e+05</td>\n",
       "      <td>8.816555e+05</td>\n",
       "      <td>567</td>\n",
       "      <td>93241.1907</td>\n",
       "    </tr>\n",
       "    <tr>\n",
       "      <th>13</th>\n",
       "      <td>Road Bikes</td>\n",
       "      <td>H</td>\n",
       "      <td>Black</td>\n",
       "      <td>58.0</td>\n",
       "      <td>7.432671e+05</td>\n",
       "      <td>6.577430e+05</td>\n",
       "      <td>423</td>\n",
       "      <td>85524.1083</td>\n",
       "    </tr>\n",
       "    <tr>\n",
       "      <th>14</th>\n",
       "      <td>Road Bikes</td>\n",
       "      <td>H</td>\n",
       "      <td>Black</td>\n",
       "      <td>NaN</td>\n",
       "      <td>4.178483e+06</td>\n",
       "      <td>3.839166e+06</td>\n",
       "      <td>2469</td>\n",
       "      <td>339317.0485</td>\n",
       "    </tr>\n",
       "    <tr>\n",
       "      <th>15</th>\n",
       "      <td>Road Bikes</td>\n",
       "      <td>H</td>\n",
       "      <td>Red</td>\n",
       "      <td>58.0</td>\n",
       "      <td>7.649954e+05</td>\n",
       "      <td>6.717375e+05</td>\n",
       "      <td>432</td>\n",
       "      <td>93257.9397</td>\n",
       "    </tr>\n",
       "    <tr>\n",
       "      <th>16</th>\n",
       "      <td>Road Bikes</td>\n",
       "      <td>H</td>\n",
       "      <td>Red</td>\n",
       "      <td>NaN</td>\n",
       "      <td>7.649954e+05</td>\n",
       "      <td>6.717375e+05</td>\n",
       "      <td>432</td>\n",
       "      <td>93257.9397</td>\n",
       "    </tr>\n",
       "    <tr>\n",
       "      <th>17</th>\n",
       "      <td>Road Bikes</td>\n",
       "      <td>H</td>\n",
       "      <td>NaN</td>\n",
       "      <td>NaN</td>\n",
       "      <td>4.943479e+06</td>\n",
       "      <td>4.510904e+06</td>\n",
       "      <td>2901</td>\n",
       "      <td>432574.9882</td>\n",
       "    </tr>\n",
       "    <tr>\n",
       "      <th>18</th>\n",
       "      <td>Road Bikes</td>\n",
       "      <td>M</td>\n",
       "      <td>Yellow</td>\n",
       "      <td>38.0</td>\n",
       "      <td>6.920025e+05</td>\n",
       "      <td>6.403457e+05</td>\n",
       "      <td>898</td>\n",
       "      <td>51656.8621</td>\n",
       "    </tr>\n",
       "    <tr>\n",
       "      <th>19</th>\n",
       "      <td>Road Bikes</td>\n",
       "      <td>M</td>\n",
       "      <td>Yellow</td>\n",
       "      <td>40.0</td>\n",
       "      <td>6.050879e+05</td>\n",
       "      <td>5.476453e+05</td>\n",
       "      <td>768</td>\n",
       "      <td>57442.6196</td>\n",
       "    </tr>\n",
       "    <tr>\n",
       "      <th>20</th>\n",
       "      <td>Road Bikes</td>\n",
       "      <td>M</td>\n",
       "      <td>Yellow</td>\n",
       "      <td>42.0</td>\n",
       "      <td>5.586763e+05</td>\n",
       "      <td>4.799027e+05</td>\n",
       "      <td>673</td>\n",
       "      <td>78773.6086</td>\n",
       "    </tr>\n",
       "    <tr>\n",
       "      <th>21</th>\n",
       "      <td>Road Bikes</td>\n",
       "      <td>M</td>\n",
       "      <td>Yellow</td>\n",
       "      <td>44.0</td>\n",
       "      <td>4.343019e+05</td>\n",
       "      <td>3.608184e+05</td>\n",
       "      <td>506</td>\n",
       "      <td>73483.5452</td>\n",
       "    </tr>\n",
       "    <tr>\n",
       "      <th>22</th>\n",
       "      <td>Road Bikes</td>\n",
       "      <td>M</td>\n",
       "      <td>Yellow</td>\n",
       "      <td>48.0</td>\n",
       "      <td>6.973450e+05</td>\n",
       "      <td>6.510419e+05</td>\n",
       "      <td>913</td>\n",
       "      <td>46303.1611</td>\n",
       "    </tr>\n",
       "    <tr>\n",
       "      <th>23</th>\n",
       "      <td>Road Bikes</td>\n",
       "      <td>M</td>\n",
       "      <td>Yellow</td>\n",
       "      <td>NaN</td>\n",
       "      <td>2.987414e+06</td>\n",
       "      <td>2.679754e+06</td>\n",
       "      <td>3758</td>\n",
       "      <td>307659.7966</td>\n",
       "    </tr>\n",
       "    <tr>\n",
       "      <th>24</th>\n",
       "      <td>Road Bikes</td>\n",
       "      <td>M</td>\n",
       "      <td>NaN</td>\n",
       "      <td>NaN</td>\n",
       "      <td>2.987414e+06</td>\n",
       "      <td>2.679754e+06</td>\n",
       "      <td>3758</td>\n",
       "      <td>307659.7966</td>\n",
       "    </tr>\n",
       "    <tr>\n",
       "      <th>25</th>\n",
       "      <td>Road Bikes</td>\n",
       "      <td>NaN</td>\n",
       "      <td>NaN</td>\n",
       "      <td>NaN</td>\n",
       "      <td>7.930893e+06</td>\n",
       "      <td>7.190658e+06</td>\n",
       "      <td>6659</td>\n",
       "      <td>740234.7848</td>\n",
       "    </tr>\n",
       "  </tbody>\n",
       "</table>\n",
       "</div>"
      ],
      "text/plain": [
       "       SubName Class   Color  Size  totalSellAmt    totalCosts  totalQuantity  \\\n",
       "10  Road Bikes    H    Black  44.0  1.262461e+06  1.191090e+06            766   \n",
       "11  Road Bikes    H    Black  48.0  1.197858e+06  1.108678e+06            713   \n",
       "12  Road Bikes    H    Black  52.0  9.748967e+05  8.816555e+05            567   \n",
       "13  Road Bikes    H    Black  58.0  7.432671e+05  6.577430e+05            423   \n",
       "14  Road Bikes    H    Black   NaN  4.178483e+06  3.839166e+06           2469   \n",
       "15  Road Bikes    H      Red  58.0  7.649954e+05  6.717375e+05            432   \n",
       "16  Road Bikes    H      Red   NaN  7.649954e+05  6.717375e+05            432   \n",
       "17  Road Bikes    H      NaN   NaN  4.943479e+06  4.510904e+06           2901   \n",
       "18  Road Bikes    M   Yellow  38.0  6.920025e+05  6.403457e+05            898   \n",
       "19  Road Bikes    M   Yellow  40.0  6.050879e+05  5.476453e+05            768   \n",
       "20  Road Bikes    M   Yellow  42.0  5.586763e+05  4.799027e+05            673   \n",
       "21  Road Bikes    M   Yellow  44.0  4.343019e+05  3.608184e+05            506   \n",
       "22  Road Bikes    M   Yellow  48.0  6.973450e+05  6.510419e+05            913   \n",
       "23  Road Bikes    M   Yellow   NaN  2.987414e+06  2.679754e+06           3758   \n",
       "24  Road Bikes    M      NaN   NaN  2.987414e+06  2.679754e+06           3758   \n",
       "25  Road Bikes   NaN     NaN   NaN  7.930893e+06  7.190658e+06           6659   \n",
       "\n",
       "    totalGrossProfit  \n",
       "10        71371.4011  \n",
       "11        89180.3484  \n",
       "12        93241.1907  \n",
       "13        85524.1083  \n",
       "14       339317.0485  \n",
       "15        93257.9397  \n",
       "16        93257.9397  \n",
       "17       432574.9882  \n",
       "18        51656.8621  \n",
       "19        57442.6196  \n",
       "20        78773.6086  \n",
       "21        73483.5452  \n",
       "22        46303.1611  \n",
       "23       307659.7966  \n",
       "24       307659.7966  \n",
       "25       740234.7848  "
      ]
     },
     "execution_count": 9,
     "metadata": {},
     "output_type": "execute_result"
    }
   ],
   "source": [
    "RBikes"
   ]
  },
  {
   "cell_type": "code",
   "execution_count": 10,
   "id": "677ee3ca",
   "metadata": {},
   "outputs": [],
   "source": [
    "road_mountain = RBikes[RBikes['Size'].isnull() & RBikes['Color'].isnull() & RBikes['Class'].isnull()]"
   ]
  },
  {
   "cell_type": "code",
   "execution_count": 11,
   "id": "a36692f8",
   "metadata": {},
   "outputs": [],
   "source": [
    "x=  MBikes[MBikes['Size'].isnull() & MBikes['Color'].isnull() & MBikes['Class'].isnull()]"
   ]
  },
  {
   "cell_type": "code",
   "execution_count": 12,
   "id": "f29abdd1",
   "metadata": {},
   "outputs": [],
   "source": [
    "road_mountain = pd.concat([road_mountain, x])"
   ]
  },
  {
   "cell_type": "code",
   "execution_count": 13,
   "id": "f64c4de4",
   "metadata": {},
   "outputs": [
    {
     "data": {
      "image/png": "[encoded data removed]",
      "text/plain": [
       "<Figure size 720x432 with 1 Axes>"
      ]
     },
     "metadata": {},
     "output_type": "display_data"
    }
   ],
   "source": [
    "plt.pie(road_mountain['totalQuantity'], autopct = '%0.0f%%', labels =road_mountain['SubName']);"
   ]
  },
  {
   "cell_type": "code",
   "execution_count": 26,
   "id": "0782da07",
   "metadata": {},
   "outputs": [],
   "source": [
    "df2 = pd.read_csv('../../2012-2013/GroupedData/2012-2013_Gr_Avlb_2013_sub_color_size_class.csv', sep=\";\")"
   ]
  },
  {
   "cell_type": "code",
   "execution_count": 27,
   "id": "777b3f63",
   "metadata": {},
   "outputs": [],
   "source": [
    "df2['totalSellAmt'] = df2[['totalSellAmt']].applymap(lambda x: str(x.replace(',','.'))).astype('float')\n",
    "df2['totalCosts'] = df2[['totalCosts']].applymap(lambda x: str(x.replace(',','.'))).astype('float')\n",
    "df2['totalGrossProfit'] = df2[['totalGrossProfit']].applymap(lambda x: str(x.replace(',','.'))).astype('float')"
   ]
  },
  {
   "cell_type": "code",
   "execution_count": 28,
   "id": "03bf8e44",
   "metadata": {},
   "outputs": [],
   "source": [
    "road_mountain2012 = df2[df2['Size'].isnull() & df2['Color'].isnull() & df2['Class'].isnull()]"
   ]
  },
  {
   "cell_type": "code",
   "execution_count": 29,
   "id": "fc1d558c",
   "metadata": {},
   "outputs": [],
   "source": [
    "road_mountain_y_compare = pd.concat([road_mountain, road_mountain2012])"
   ]
  },
  {
   "cell_type": "code",
   "execution_count": 30,
   "id": "4112b3a2",
   "metadata": {},
   "outputs": [
    {
     "data": {
      "text/html": [
       "<div>\n",
       "<style scoped>\n",
       "    .dataframe tbody tr th:only-of-type {\n",
       "        vertical-align: middle;\n",
       "    }\n",
       "\n",
       "    .dataframe tbody tr th {\n",
       "        vertical-align: top;\n",
       "    }\n",
       "\n",
       "    .dataframe thead th {\n",
       "        text-align: right;\n",
       "    }\n",
       "</style>\n",
       "<table border=\"1\" class=\"dataframe\">\n",
       "  <thead>\n",
       "    <tr style=\"text-align: right;\">\n",
       "      <th></th>\n",
       "      <th>SubName</th>\n",
       "      <th>Class</th>\n",
       "      <th>Color</th>\n",
       "      <th>Size</th>\n",
       "      <th>totalSellAmt</th>\n",
       "      <th>totalCosts</th>\n",
       "      <th>totalQuantity</th>\n",
       "      <th>totalGrossProfit</th>\n",
       "    </tr>\n",
       "  </thead>\n",
       "  <tbody>\n",
       "    <tr>\n",
       "      <th>25</th>\n",
       "      <td>Road Bikes</td>\n",
       "      <td>NaN</td>\n",
       "      <td>NaN</td>\n",
       "      <td>NaN</td>\n",
       "      <td>7.930893e+06</td>\n",
       "      <td>7.190658e+06</td>\n",
       "      <td>6659</td>\n",
       "      <td>7.402348e+05</td>\n",
       "    </tr>\n",
       "    <tr>\n",
       "      <th>9</th>\n",
       "      <td>Mountain Bikes</td>\n",
       "      <td>NaN</td>\n",
       "      <td>NaN</td>\n",
       "      <td>NaN</td>\n",
       "      <td>1.280857e+07</td>\n",
       "      <td>9.597847e+06</td>\n",
       "      <td>7628</td>\n",
       "      <td>3.210719e+06</td>\n",
       "    </tr>\n",
       "    <tr>\n",
       "      <th>9</th>\n",
       "      <td>Mountain Bikes</td>\n",
       "      <td>NaN</td>\n",
       "      <td>NaN</td>\n",
       "      <td>NaN</td>\n",
       "      <td>9.477609e+06</td>\n",
       "      <td>8.769412e+06</td>\n",
       "      <td>6968</td>\n",
       "      <td>7.081967e+05</td>\n",
       "    </tr>\n",
       "    <tr>\n",
       "      <th>25</th>\n",
       "      <td>Road Bikes</td>\n",
       "      <td>NaN</td>\n",
       "      <td>NaN</td>\n",
       "      <td>NaN</td>\n",
       "      <td>7.222461e+06</td>\n",
       "      <td>7.635824e+06</td>\n",
       "      <td>6765</td>\n",
       "      <td>-4.133637e+05</td>\n",
       "    </tr>\n",
       "  </tbody>\n",
       "</table>\n",
       "</div>"
      ],
      "text/plain": [
       "           SubName Class Color  Size  totalSellAmt    totalCosts  \\\n",
       "25      Road Bikes   NaN   NaN   NaN  7.930893e+06  7.190658e+06   \n",
       "9   Mountain Bikes   NaN   NaN   NaN  1.280857e+07  9.597847e+06   \n",
       "9   Mountain Bikes   NaN   NaN   NaN  9.477609e+06  8.769412e+06   \n",
       "25      Road Bikes   NaN   NaN   NaN  7.222461e+06  7.635824e+06   \n",
       "\n",
       "    totalQuantity  totalGrossProfit  \n",
       "25           6659      7.402348e+05  \n",
       "9            7628      3.210719e+06  \n",
       "9            6968      7.081967e+05  \n",
       "25           6765     -4.133637e+05  "
      ]
     },
     "execution_count": 30,
     "metadata": {},
     "output_type": "execute_result"
    }
   ],
   "source": [
    "road_mountain_y_compare"
   ]
  },
  {
   "cell_type": "code",
   "execution_count": 31,
   "id": "096ee658",
   "metadata": {},
   "outputs": [
    {
     "name": "stderr",
     "output_type": "stream",
     "text": [
      "C:\\ProgramData\\Anaconda3\\lib\\site-packages\\pandas\\core\\indexing.py:1732: SettingWithCopyWarning: \n",
      "A value is trying to be set on a copy of a slice from a DataFrame\n",
      "\n",
      "See the caveats in the documentation: https://pandas.pydata.org/pandas-docs/stable/user_guide/indexing.html#returning-a-view-versus-a-copy\n",
      "  self._setitem_single_block(indexer, value, name)\n"
     ]
    }
   ],
   "source": [
    "road_mountain_y_compare['SubName'].iloc[0] = 'Road Bikes 2013-2014'\n",
    "road_mountain_y_compare['SubName'].iloc[1] = 'Mountain Bikes 2013-2014'\n",
    "road_mountain_y_compare['SubName'].iloc[2] = 'Mountain Bikes 2012-2013'\n",
    "road_mountain_y_compare['SubName'].iloc[3] = 'Road Bikes 2012-2013'"
   ]
  },
  {
   "cell_type": "code",
   "execution_count": 32,
   "id": "04f749c5",
   "metadata": {},
   "outputs": [
    {
     "data": {
      "text/plain": [
       "<AxesSubplot:xlabel='SubName', ylabel='totalQuantity'>"
      ]
     },
     "execution_count": 32,
     "metadata": {},
     "output_type": "execute_result"
    },
    {
     "data": {
      "image/png": "[encoded data removed]",
      "text/plain": [
       "<Figure size 720x432 with 1 Axes>"
      ]
     },
     "metadata": {},
     "output_type": "display_data"
    }
   ],
   "source": [
    "sns.barplot(x=road_mountain_y_compare['SubName'], y=road_mountain_y_compare['totalQuantity'])"
   ]
  },
  {
   "cell_type": "markdown",
   "id": "23f9d88b",
   "metadata": {},
   "source": [
    "We can see increase of total quantity of sales Mountain bikes and litle decrease of road bikes sale in compare to previos year. "
   ]
  },
  {
   "cell_type": "code",
   "execution_count": 34,
   "id": "61a3b54e",
   "metadata": {},
   "outputs": [
    {
     "name": "stderr",
     "output_type": "stream",
     "text": [
      "<ipython-input-34-99162e62b434>:5: UserWarning: FixedFormatter should only be used together with FixedLocator\n",
      "  ax.set_yticklabels(y_value);\n"
     ]
    },
    {
     "data": {
      "image/png": "[encoded data removed]",
      "text/plain": [
       "<Figure size 720x432 with 1 Axes>"
      ]
     },
     "metadata": {},
     "output_type": "display_data"
    }
   ],
   "source": [
    "fig = plt.figure()\n",
    "ax = fig.add_subplot(1, 1, 1)\n",
    "sns.barplot(x=road_mountain_y_compare['SubName'], y=road_mountain_y_compare['totalGrossProfit'])\n",
    "y_value=['{:,.0f}'.format(x).replace(\",\", \" \") + 'USD' for x in ax.get_yticks()]\n",
    "ax.set_yticklabels(y_value);"
   ]
  },
  {
   "cell_type": "markdown",
   "id": "a18ce7bb",
   "metadata": {},
   "source": [
    "The Mountain bikes bring hudge profit for company. However it should be noted that the company might grow and become more popular. OK. We want to know which specific bikes bring the best and the worst results for company."
   ]
  },
  {
   "cell_type": "markdown",
   "id": "73af4f38",
   "metadata": {},
   "source": [
    "#### 2. Class"
   ]
  },
  {
   "cell_type": "code",
   "execution_count": 37,
   "id": "1a5ad9fe",
   "metadata": {},
   "outputs": [],
   "source": [
    "class2013 = df[df['Color'].isnull() & df['Class'].notnull()]"
   ]
  },
  {
   "cell_type": "code",
   "execution_count": 38,
   "id": "40644590",
   "metadata": {},
   "outputs": [],
   "source": [
    "class2012 = df2[df2['Color'].isnull() & df2['Class'].notnull()]"
   ]
  },
  {
   "cell_type": "code",
   "execution_count": 40,
   "id": "3ac6b2cc",
   "metadata": {},
   "outputs": [],
   "source": [
    "class_2012_2013 = pd.concat([class2013, class2012])"
   ]
  },
  {
   "cell_type": "code",
   "execution_count": 43,
   "id": "45f09469",
   "metadata": {},
   "outputs": [
    {
     "data": {
      "text/html": [
       "<div>\n",
       "<style scoped>\n",
       "    .dataframe tbody tr th:only-of-type {\n",
       "        vertical-align: middle;\n",
       "    }\n",
       "\n",
       "    .dataframe tbody tr th {\n",
       "        vertical-align: top;\n",
       "    }\n",
       "\n",
       "    .dataframe thead th {\n",
       "        text-align: right;\n",
       "    }\n",
       "</style>\n",
       "<table border=\"1\" class=\"dataframe\">\n",
       "  <thead>\n",
       "    <tr style=\"text-align: right;\">\n",
       "      <th></th>\n",
       "      <th>SubName</th>\n",
       "      <th>Class</th>\n",
       "      <th>Color</th>\n",
       "      <th>Size</th>\n",
       "      <th>totalSellAmt</th>\n",
       "      <th>totalCosts</th>\n",
       "      <th>totalQuantity</th>\n",
       "      <th>totalGrossProfit</th>\n",
       "    </tr>\n",
       "  </thead>\n",
       "  <tbody>\n",
       "    <tr>\n",
       "      <th>8</th>\n",
       "      <td>Mountain Bikes</td>\n",
       "      <td>H</td>\n",
       "      <td>NaN</td>\n",
       "      <td>NaN</td>\n",
       "      <td>9.477609e+06</td>\n",
       "      <td>8.769412e+06</td>\n",
       "      <td>6968</td>\n",
       "      <td>708196.7144</td>\n",
       "    </tr>\n",
       "    <tr>\n",
       "      <th>17</th>\n",
       "      <td>Road Bikes</td>\n",
       "      <td>H</td>\n",
       "      <td>NaN</td>\n",
       "      <td>NaN</td>\n",
       "      <td>5.026868e+06</td>\n",
       "      <td>5.193526e+06</td>\n",
       "      <td>3340</td>\n",
       "      <td>-166657.9724</td>\n",
       "    </tr>\n",
       "    <tr>\n",
       "      <th>24</th>\n",
       "      <td>Road Bikes</td>\n",
       "      <td>M</td>\n",
       "      <td>NaN</td>\n",
       "      <td>NaN</td>\n",
       "      <td>2.195593e+06</td>\n",
       "      <td>2.442298e+06</td>\n",
       "      <td>3425</td>\n",
       "      <td>-246705.7617</td>\n",
       "    </tr>\n",
       "  </tbody>\n",
       "</table>\n",
       "</div>"
      ],
      "text/plain": [
       "           SubName Class Color  Size  totalSellAmt    totalCosts  \\\n",
       "8   Mountain Bikes    H    NaN   NaN  9.477609e+06  8.769412e+06   \n",
       "17      Road Bikes    H    NaN   NaN  5.026868e+06  5.193526e+06   \n",
       "24      Road Bikes    M    NaN   NaN  2.195593e+06  2.442298e+06   \n",
       "\n",
       "    totalQuantity  totalGrossProfit  \n",
       "8            6968       708196.7144  \n",
       "17           3340      -166657.9724  \n",
       "24           3425      -246705.7617  "
      ]
     },
     "execution_count": 43,
     "metadata": {},
     "output_type": "execute_result"
    }
   ],
   "source": [
    "class2012"
   ]
  },
  {
   "cell_type": "code",
   "execution_count": 41,
   "id": "8a561c4e",
   "metadata": {},
   "outputs": [
    {
     "data": {
      "text/html": [
       "<div>\n",
       "<style scoped>\n",
       "    .dataframe tbody tr th:only-of-type {\n",
       "        vertical-align: middle;\n",
       "    }\n",
       "\n",
       "    .dataframe tbody tr th {\n",
       "        vertical-align: top;\n",
       "    }\n",
       "\n",
       "    .dataframe thead th {\n",
       "        text-align: right;\n",
       "    }\n",
       "</style>\n",
       "<table border=\"1\" class=\"dataframe\">\n",
       "  <thead>\n",
       "    <tr style=\"text-align: right;\">\n",
       "      <th></th>\n",
       "      <th>SubName</th>\n",
       "      <th>Class</th>\n",
       "      <th>Color</th>\n",
       "      <th>Size</th>\n",
       "      <th>totalSellAmt</th>\n",
       "      <th>totalCosts</th>\n",
       "      <th>totalQuantity</th>\n",
       "      <th>totalGrossProfit</th>\n",
       "    </tr>\n",
       "  </thead>\n",
       "  <tbody>\n",
       "    <tr>\n",
       "      <th>8</th>\n",
       "      <td>Mountain Bikes</td>\n",
       "      <td>H</td>\n",
       "      <td>NaN</td>\n",
       "      <td>NaN</td>\n",
       "      <td>1.280857e+07</td>\n",
       "      <td>9.597847e+06</td>\n",
       "      <td>7628</td>\n",
       "      <td>3.210719e+06</td>\n",
       "    </tr>\n",
       "    <tr>\n",
       "      <th>17</th>\n",
       "      <td>Road Bikes</td>\n",
       "      <td>H</td>\n",
       "      <td>NaN</td>\n",
       "      <td>NaN</td>\n",
       "      <td>4.943479e+06</td>\n",
       "      <td>4.510904e+06</td>\n",
       "      <td>2901</td>\n",
       "      <td>4.325750e+05</td>\n",
       "    </tr>\n",
       "    <tr>\n",
       "      <th>24</th>\n",
       "      <td>Road Bikes</td>\n",
       "      <td>M</td>\n",
       "      <td>NaN</td>\n",
       "      <td>NaN</td>\n",
       "      <td>2.987414e+06</td>\n",
       "      <td>2.679754e+06</td>\n",
       "      <td>3758</td>\n",
       "      <td>3.076598e+05</td>\n",
       "    </tr>\n",
       "    <tr>\n",
       "      <th>8</th>\n",
       "      <td>Mountain Bikes</td>\n",
       "      <td>H</td>\n",
       "      <td>NaN</td>\n",
       "      <td>NaN</td>\n",
       "      <td>9.477609e+06</td>\n",
       "      <td>8.769412e+06</td>\n",
       "      <td>6968</td>\n",
       "      <td>7.081967e+05</td>\n",
       "    </tr>\n",
       "    <tr>\n",
       "      <th>17</th>\n",
       "      <td>Road Bikes</td>\n",
       "      <td>H</td>\n",
       "      <td>NaN</td>\n",
       "      <td>NaN</td>\n",
       "      <td>5.026868e+06</td>\n",
       "      <td>5.193526e+06</td>\n",
       "      <td>3340</td>\n",
       "      <td>-1.666580e+05</td>\n",
       "    </tr>\n",
       "    <tr>\n",
       "      <th>24</th>\n",
       "      <td>Road Bikes</td>\n",
       "      <td>M</td>\n",
       "      <td>NaN</td>\n",
       "      <td>NaN</td>\n",
       "      <td>2.195593e+06</td>\n",
       "      <td>2.442298e+06</td>\n",
       "      <td>3425</td>\n",
       "      <td>-2.467058e+05</td>\n",
       "    </tr>\n",
       "  </tbody>\n",
       "</table>\n",
       "</div>"
      ],
      "text/plain": [
       "           SubName Class Color  Size  totalSellAmt    totalCosts  \\\n",
       "8   Mountain Bikes    H    NaN   NaN  1.280857e+07  9.597847e+06   \n",
       "17      Road Bikes    H    NaN   NaN  4.943479e+06  4.510904e+06   \n",
       "24      Road Bikes    M    NaN   NaN  2.987414e+06  2.679754e+06   \n",
       "8   Mountain Bikes    H    NaN   NaN  9.477609e+06  8.769412e+06   \n",
       "17      Road Bikes    H    NaN   NaN  5.026868e+06  5.193526e+06   \n",
       "24      Road Bikes    M    NaN   NaN  2.195593e+06  2.442298e+06   \n",
       "\n",
       "    totalQuantity  totalGrossProfit  \n",
       "8            7628      3.210719e+06  \n",
       "17           2901      4.325750e+05  \n",
       "24           3758      3.076598e+05  \n",
       "8            6968      7.081967e+05  \n",
       "17           3340     -1.666580e+05  \n",
       "24           3425     -2.467058e+05  "
      ]
     },
     "execution_count": 41,
     "metadata": {},
     "output_type": "execute_result"
    }
   ],
   "source": [
    "class_2012_2013"
   ]
  },
  {
   "cell_type": "code",
   "execution_count": 44,
   "id": "e9ae5fdb",
   "metadata": {},
   "outputs": [
    {
     "name": "stderr",
     "output_type": "stream",
     "text": [
      "C:\\ProgramData\\Anaconda3\\lib\\site-packages\\pandas\\core\\indexing.py:1732: SettingWithCopyWarning: \n",
      "A value is trying to be set on a copy of a slice from a DataFrame\n",
      "\n",
      "See the caveats in the documentation: https://pandas.pydata.org/pandas-docs/stable/user_guide/indexing.html#returning-a-view-versus-a-copy\n",
      "  self._setitem_single_block(indexer, value, name)\n"
     ]
    }
   ],
   "source": [
    "class_2012_2013['SubName'].iloc[0] = 'Mountain Bikes_H_2013-2014'\n",
    "class_2012_2013['SubName'].iloc[1] = 'Road Bikes_H_2013-2014'\n",
    "class_2012_2013['SubName'].iloc[2] = 'Road Bikes_M_2013-2014'\n",
    "class_2012_2013['SubName'].iloc[3] = 'Mountain Bikes_H_2012-2013'\n",
    "class_2012_2013['SubName'].iloc[4] = 'Road Bikes_H_2012-2013'\n",
    "class_2012_2013['SubName'].iloc[5] = 'Road Bikes_M_2012-2013'"
   ]
  },
  {
   "cell_type": "code",
   "execution_count": 46,
   "id": "4e0c12f7",
   "metadata": {},
   "outputs": [
    {
     "name": "stderr",
     "output_type": "stream",
     "text": [
      "<ipython-input-46-f980cad7e70e>:5: UserWarning: FixedFormatter should only be used together with FixedLocator\n",
      "  ax.set_yticklabels(y_value)\n"
     ]
    },
    {
     "data": {
      "image/png": "[encoded data removed]",
      "text/plain": [
       "<Figure size 720x432 with 1 Axes>"
      ]
     },
     "metadata": {},
     "output_type": "display_data"
    }
   ],
   "source": [
    "fig = plt.figure()\n",
    "ax = fig.add_subplot(1, 1, 1)\n",
    "sns.barplot(x=class_2012_2013['SubName'], y=class_2012_2013['totalGrossProfit'])\n",
    "y_value=['{:,.0f}'.format(x).replace(\",\", \" \") + 'USD' for x in ax.get_yticks()]\n",
    "ax.set_yticklabels(y_value)\n",
    "plt.xticks(rotation=30);"
   ]
  },
  {
   "cell_type": "markdown",
   "id": "9ae5edeb",
   "metadata": {},
   "source": [
    "#### 2. Model size class color"
   ]
  },
  {
   "cell_type": "code",
   "execution_count": 120,
   "id": "c7ff8000",
   "metadata": {},
   "outputs": [],
   "source": [
    "df3 = pd.read_csv('./../GroupedData/2013-2014_Gr_Avlb_2012_model_color_size.csv', sep=';')\n",
    "df4 = pd.read_csv('../../2012-2013/GroupedData/2012-2013_Gr_Avlb_2013_model_color_size.csv', sep=\";\")"
   ]
  },
  {
   "cell_type": "code",
   "execution_count": 121,
   "id": "a51ccaf7",
   "metadata": {},
   "outputs": [],
   "source": [
    "df3['totalSellAmt'] = df3[['totalSellAmt']].applymap(lambda x: str(x.replace(',','.'))).astype('float')\n",
    "df3['totalCosts'] = df3[['totalCosts']].applymap(lambda x: str(x.replace(',','.'))).astype('float')\n",
    "df3['totalGrossProfite'] = df3[['totalGrossProfite']].applymap(lambda x: str(x.replace(',','.'))).astype('float')"
   ]
  },
  {
   "cell_type": "code",
   "execution_count": 122,
   "id": "3cf613c6",
   "metadata": {},
   "outputs": [],
   "source": [
    "df4['totalSellAmt'] = df4[['totalSellAmt']].applymap(lambda x: str(x.replace(',','.'))).astype('float')\n",
    "df4['totalCosts'] = df4[['totalCosts']].applymap(lambda x: str(x.replace(',','.'))).astype('float')\n",
    "df4['totalGrossProfit'] = df4[['totalGrossProfit']].applymap(lambda x: str(x.replace(',','.'))).astype('float')"
   ]
  },
  {
   "cell_type": "code",
   "execution_count": 123,
   "id": "253ff480",
   "metadata": {},
   "outputs": [],
   "source": [
    "df3.rename(columns ={'totalGrossProfite':'totalGrossProfit'}, inplace=True)"
   ]
  },
  {
   "cell_type": "code",
   "execution_count": 124,
   "id": "6e4d8471",
   "metadata": {},
   "outputs": [],
   "source": [
    "bikes2013 = df3[df3['Size'].isnull() & df3['Color'].isnull()]\n",
    "bikes2012 = df4[df4['Size'].isnull() & df4['Color'].isnull()]"
   ]
  },
  {
   "cell_type": "code",
   "execution_count": 125,
   "id": "fd48a3b3",
   "metadata": {},
   "outputs": [],
   "source": [
    "models_2012_2013 = pd.concat([bikes2012, bikes2013])"
   ]
  },
  {
   "cell_type": "code",
   "execution_count": 127,
   "id": "c7cacc75",
   "metadata": {},
   "outputs": [
    {
     "data": {
      "text/html": [
       "<div>\n",
       "<style scoped>\n",
       "    .dataframe tbody tr th:only-of-type {\n",
       "        vertical-align: middle;\n",
       "    }\n",
       "\n",
       "    .dataframe tbody tr th {\n",
       "        vertical-align: top;\n",
       "    }\n",
       "\n",
       "    .dataframe thead th {\n",
       "        text-align: right;\n",
       "    }\n",
       "</style>\n",
       "<table border=\"1\" class=\"dataframe\">\n",
       "  <thead>\n",
       "    <tr style=\"text-align: right;\">\n",
       "      <th></th>\n",
       "      <th>ModelName</th>\n",
       "      <th>Color</th>\n",
       "      <th>Size</th>\n",
       "      <th>totalSellAmt</th>\n",
       "      <th>totalCosts</th>\n",
       "      <th>totalQuantity</th>\n",
       "      <th>totalGrossProfit</th>\n",
       "    </tr>\n",
       "  </thead>\n",
       "  <tbody>\n",
       "    <tr>\n",
       "      <th>25</th>\n",
       "      <td>Mountain-200</td>\n",
       "      <td>NaN</td>\n",
       "      <td>NaN</td>\n",
       "      <td>9.477609e+06</td>\n",
       "      <td>8.769412e+06</td>\n",
       "      <td>6968</td>\n",
       "      <td>708196.7144</td>\n",
       "    </tr>\n",
       "    <tr>\n",
       "      <th>26</th>\n",
       "      <td>Road-250</td>\n",
       "      <td>NaN</td>\n",
       "      <td>NaN</td>\n",
       "      <td>5.026868e+06</td>\n",
       "      <td>5.193526e+06</td>\n",
       "      <td>3340</td>\n",
       "      <td>-166657.9724</td>\n",
       "    </tr>\n",
       "    <tr>\n",
       "      <th>27</th>\n",
       "      <td>Road-550-W</td>\n",
       "      <td>NaN</td>\n",
       "      <td>NaN</td>\n",
       "      <td>2.195593e+06</td>\n",
       "      <td>2.442298e+06</td>\n",
       "      <td>3425</td>\n",
       "      <td>-246705.7617</td>\n",
       "    </tr>\n",
       "  </tbody>\n",
       "</table>\n",
       "</div>"
      ],
      "text/plain": [
       "       ModelName Color  Size  totalSellAmt    totalCosts  totalQuantity  \\\n",
       "25  Mountain-200   NaN   NaN  9.477609e+06  8.769412e+06           6968   \n",
       "26      Road-250   NaN   NaN  5.026868e+06  5.193526e+06           3340   \n",
       "27    Road-550-W   NaN   NaN  2.195593e+06  2.442298e+06           3425   \n",
       "\n",
       "    totalGrossProfit  \n",
       "25       708196.7144  \n",
       "26      -166657.9724  \n",
       "27      -246705.7617  "
      ]
     },
     "execution_count": 127,
     "metadata": {},
     "output_type": "execute_result"
    }
   ],
   "source": [
    "bikes2012"
   ]
  },
  {
   "cell_type": "code",
   "execution_count": 128,
   "id": "56b18726",
   "metadata": {},
   "outputs": [
    {
     "name": "stderr",
     "output_type": "stream",
     "text": [
      "C:\\ProgramData\\Anaconda3\\lib\\site-packages\\pandas\\core\\indexing.py:1732: SettingWithCopyWarning: \n",
      "A value is trying to be set on a copy of a slice from a DataFrame\n",
      "\n",
      "See the caveats in the documentation: https://pandas.pydata.org/pandas-docs/stable/user_guide/indexing.html#returning-a-view-versus-a-copy\n",
      "  self._setitem_single_block(indexer, value, name)\n"
     ]
    }
   ],
   "source": [
    "models_2012_2013['ModelName'].iloc[0] = 'Mountain-200_2012-2013'\n",
    "models_2012_2013['ModelName'].iloc[1] = 'Road-250_2012-2013'\n",
    "models_2012_2013['ModelName'].iloc[2] = 'Road-550-W_2012-2013'\n",
    "models_2012_2013['ModelName'].iloc[3] = 'Mountain-200_2013-2014'\n",
    "models_2012_2013['ModelName'].iloc[4] = 'Road-250_2013-2014'\n",
    "models_2012_2013['ModelName'].iloc[5] = 'Road-550-W_2013-2014'"
   ]
  },
  {
   "cell_type": "code",
   "execution_count": 130,
   "id": "6a594df8",
   "metadata": {},
   "outputs": [
    {
     "name": "stderr",
     "output_type": "stream",
     "text": [
      "<ipython-input-130-d0b152c68a77>:5: UserWarning: FixedFormatter should only be used together with FixedLocator\n",
      "  ax.set_yticklabels(y_value)\n"
     ]
    },
    {
     "data": {
      "image/png": "[encoded data removed]",
      "text/plain": [
       "<Figure size 720x432 with 1 Axes>"
      ]
     },
     "metadata": {},
     "output_type": "display_data"
    }
   ],
   "source": [
    "fig = plt.figure()\n",
    "ax = fig.add_subplot(1, 1, 1)\n",
    "sns.barplot(x=models_2012_2013['ModelName'], y=models_2012_2013['totalGrossProfit'])\n",
    "y_value=['{:,.0f}'.format(x).replace(\",\", \" \") + 'USD' for x in ax.get_yticks()]\n",
    "ax.set_yticklabels(y_value)\n",
    "plt.xticks(rotation=30);"
   ]
  },
  {
   "cell_type": "markdown",
   "id": "9fbf567a",
   "metadata": {},
   "source": [
    "As expected. Let's check the color of the bikes"
   ]
  },
  {
   "cell_type": "code",
   "execution_count": 137,
   "id": "ee2777ce",
   "metadata": {},
   "outputs": [],
   "source": [
    "bikes2013 = df3[df3['Color'].notnull() & df3['Size'].isnull() & df3['ModelName'].notnull()]\n",
    "bikes2012 = df4[df4['Color'].notnull() & df4['Size'].isnull() & df4['ModelName'].notnull()]"
   ]
  },
  {
   "cell_type": "code",
   "execution_count": 138,
   "id": "160f8a29",
   "metadata": {},
   "outputs": [],
   "source": [
    "models_2012_2013 = pd.concat([bikes2012, bikes2013])"
   ]
  },
  {
   "cell_type": "code",
   "execution_count": 139,
   "id": "a9974960",
   "metadata": {},
   "outputs": [
    {
     "data": {
      "text/html": [
       "<div>\n",
       "<style scoped>\n",
       "    .dataframe tbody tr th:only-of-type {\n",
       "        vertical-align: middle;\n",
       "    }\n",
       "\n",
       "    .dataframe tbody tr th {\n",
       "        vertical-align: top;\n",
       "    }\n",
       "\n",
       "    .dataframe thead th {\n",
       "        text-align: right;\n",
       "    }\n",
       "</style>\n",
       "<table border=\"1\" class=\"dataframe\">\n",
       "  <thead>\n",
       "    <tr style=\"text-align: right;\">\n",
       "      <th></th>\n",
       "      <th>ModelName</th>\n",
       "      <th>Color</th>\n",
       "      <th>Size</th>\n",
       "      <th>totalSellAmt</th>\n",
       "      <th>totalCosts</th>\n",
       "      <th>totalQuantity</th>\n",
       "      <th>totalGrossProfit</th>\n",
       "    </tr>\n",
       "  </thead>\n",
       "  <tbody>\n",
       "    <tr>\n",
       "      <th>3</th>\n",
       "      <td>Mountain-200</td>\n",
       "      <td>Black</td>\n",
       "      <td>NaN</td>\n",
       "      <td>4.899187e+06</td>\n",
       "      <td>4.537180e+06</td>\n",
       "      <td>3624</td>\n",
       "      <td>3.620068e+05</td>\n",
       "    </tr>\n",
       "    <tr>\n",
       "      <th>8</th>\n",
       "      <td>Road-250</td>\n",
       "      <td>Black</td>\n",
       "      <td>NaN</td>\n",
       "      <td>4.204855e+06</td>\n",
       "      <td>4.394283e+06</td>\n",
       "      <td>2826</td>\n",
       "      <td>-1.894275e+05</td>\n",
       "    </tr>\n",
       "    <tr>\n",
       "      <th>11</th>\n",
       "      <td>Road-250</td>\n",
       "      <td>Red</td>\n",
       "      <td>NaN</td>\n",
       "      <td>8.220128e+05</td>\n",
       "      <td>7.992432e+05</td>\n",
       "      <td>514</td>\n",
       "      <td>2.276953e+04</td>\n",
       "    </tr>\n",
       "    <tr>\n",
       "      <th>16</th>\n",
       "      <td>Mountain-200</td>\n",
       "      <td>Silver</td>\n",
       "      <td>NaN</td>\n",
       "      <td>4.578422e+06</td>\n",
       "      <td>4.232232e+06</td>\n",
       "      <td>3344</td>\n",
       "      <td>3.461900e+05</td>\n",
       "    </tr>\n",
       "    <tr>\n",
       "      <th>23</th>\n",
       "      <td>Road-550-W</td>\n",
       "      <td>Yellow</td>\n",
       "      <td>NaN</td>\n",
       "      <td>2.195593e+06</td>\n",
       "      <td>2.442298e+06</td>\n",
       "      <td>3425</td>\n",
       "      <td>-2.467058e+05</td>\n",
       "    </tr>\n",
       "    <tr>\n",
       "      <th>3</th>\n",
       "      <td>Mountain-200</td>\n",
       "      <td>Black</td>\n",
       "      <td>NaN</td>\n",
       "      <td>6.820574e+06</td>\n",
       "      <td>5.168179e+06</td>\n",
       "      <td>4128</td>\n",
       "      <td>1.652395e+06</td>\n",
       "    </tr>\n",
       "    <tr>\n",
       "      <th>8</th>\n",
       "      <td>Road-250</td>\n",
       "      <td>Black</td>\n",
       "      <td>NaN</td>\n",
       "      <td>4.178483e+06</td>\n",
       "      <td>3.839166e+06</td>\n",
       "      <td>2469</td>\n",
       "      <td>3.393170e+05</td>\n",
       "    </tr>\n",
       "    <tr>\n",
       "      <th>11</th>\n",
       "      <td>Road-250</td>\n",
       "      <td>Red</td>\n",
       "      <td>NaN</td>\n",
       "      <td>7.649954e+05</td>\n",
       "      <td>6.717375e+05</td>\n",
       "      <td>432</td>\n",
       "      <td>9.325794e+04</td>\n",
       "    </tr>\n",
       "    <tr>\n",
       "      <th>16</th>\n",
       "      <td>Mountain-200</td>\n",
       "      <td>Silver</td>\n",
       "      <td>NaN</td>\n",
       "      <td>5.987992e+06</td>\n",
       "      <td>4.429668e+06</td>\n",
       "      <td>3500</td>\n",
       "      <td>1.558324e+06</td>\n",
       "    </tr>\n",
       "    <tr>\n",
       "      <th>23</th>\n",
       "      <td>Road-550-W</td>\n",
       "      <td>Yellow</td>\n",
       "      <td>NaN</td>\n",
       "      <td>2.987414e+06</td>\n",
       "      <td>2.679754e+06</td>\n",
       "      <td>3758</td>\n",
       "      <td>3.076598e+05</td>\n",
       "    </tr>\n",
       "  </tbody>\n",
       "</table>\n",
       "</div>"
      ],
      "text/plain": [
       "       ModelName   Color  Size  totalSellAmt    totalCosts  totalQuantity  \\\n",
       "3   Mountain-200   Black   NaN  4.899187e+06  4.537180e+06           3624   \n",
       "8       Road-250   Black   NaN  4.204855e+06  4.394283e+06           2826   \n",
       "11      Road-250     Red   NaN  8.220128e+05  7.992432e+05            514   \n",
       "16  Mountain-200  Silver   NaN  4.578422e+06  4.232232e+06           3344   \n",
       "23    Road-550-W  Yellow   NaN  2.195593e+06  2.442298e+06           3425   \n",
       "3   Mountain-200   Black   NaN  6.820574e+06  5.168179e+06           4128   \n",
       "8       Road-250   Black   NaN  4.178483e+06  3.839166e+06           2469   \n",
       "11      Road-250     Red   NaN  7.649954e+05  6.717375e+05            432   \n",
       "16  Mountain-200  Silver   NaN  5.987992e+06  4.429668e+06           3500   \n",
       "23    Road-550-W  Yellow   NaN  2.987414e+06  2.679754e+06           3758   \n",
       "\n",
       "    totalGrossProfit  \n",
       "3       3.620068e+05  \n",
       "8      -1.894275e+05  \n",
       "11      2.276953e+04  \n",
       "16      3.461900e+05  \n",
       "23     -2.467058e+05  \n",
       "3       1.652395e+06  \n",
       "8       3.393170e+05  \n",
       "11      9.325794e+04  \n",
       "16      1.558324e+06  \n",
       "23      3.076598e+05  "
      ]
     },
     "execution_count": 139,
     "metadata": {},
     "output_type": "execute_result"
    }
   ],
   "source": [
    "models_2012_2013"
   ]
  },
  {
   "cell_type": "code",
   "execution_count": 140,
   "id": "38793e06",
   "metadata": {},
   "outputs": [
    {
     "name": "stderr",
     "output_type": "stream",
     "text": [
      "C:\\ProgramData\\Anaconda3\\lib\\site-packages\\pandas\\core\\indexing.py:1732: SettingWithCopyWarning: \n",
      "A value is trying to be set on a copy of a slice from a DataFrame\n",
      "\n",
      "See the caveats in the documentation: https://pandas.pydata.org/pandas-docs/stable/user_guide/indexing.html#returning-a-view-versus-a-copy\n",
      "  self._setitem_single_block(indexer, value, name)\n"
     ]
    }
   ],
   "source": [
    "models_2012_2013['ModelName'].iloc[0] = 'Mountain-200_BLACK_2012-2013'\n",
    "models_2012_2013['ModelName'].iloc[1] = 'Road-250_BLACK_2012-2013'\n",
    "models_2012_2013['ModelName'].iloc[2] = 'Road-250_RED_2012-2013'\n",
    "models_2012_2013['ModelName'].iloc[3] = 'Mountain-200_SILVER_2012-2013'\n",
    "models_2012_2013['ModelName'].iloc[4] = 'Road-550-W_YELLOW_2012-2013'\n",
    "\n",
    "models_2012_2013['ModelName'].iloc[5] = 'Mountain-200_BLACK_2013-2014'\n",
    "models_2012_2013['ModelName'].iloc[6] = 'Road-250_BLACK_2013-2014'\n",
    "models_2012_2013['ModelName'].iloc[7] = 'Road-250_RED_2013-2014'\n",
    "models_2012_2013['ModelName'].iloc[8] = 'Mountain-200_SILVER_2013-2014'\n",
    "models_2012_2013['ModelName'].iloc[9] = 'Road-550-W_YELLOW_2013-2014'"
   ]
  },
  {
   "cell_type": "code",
   "execution_count": 144,
   "id": "31d7069b",
   "metadata": {},
   "outputs": [
    {
     "name": "stderr",
     "output_type": "stream",
     "text": [
      "<ipython-input-144-2cd4afce68f0>:5: UserWarning: FixedFormatter should only be used together with FixedLocator\n",
      "  ax.set_yticklabels(y_value)\n"
     ]
    },
    {
     "data": {
      "image/png": "[encoded data removed]",
      "text/plain": [
       "<Figure size 720x432 with 1 Axes>"
      ]
     },
     "metadata": {},
     "output_type": "display_data"
    }
   ],
   "source": [
    "fig = plt.figure()\n",
    "ax = fig.add_subplot(1, 1, 1)\n",
    "sns.barplot(x=models_2012_2013['ModelName'], y=models_2012_2013['totalGrossProfit'])\n",
    "y_value=['{:,.0f}'.format(x).replace(\",\", \" \") + 'USD' for x in ax.get_yticks()]\n",
    "ax.set_yticklabels(y_value)\n",
    "plt.xticks(rotation=60);"
   ]
  },
  {
   "cell_type": "markdown",
   "id": "d40af762",
   "metadata": {},
   "source": [
    "As we can see the best profitable models are black or silver in period 2013-2014, unlikly to previous period, where Red is slightly more profitable in general becouse there is much loss on road 250 black model. All the models in all aveliable colors bring positiive gross profit to the company"
   ]
  },
  {
   "cell_type": "markdown",
   "id": "d4173e51",
   "metadata": {},
   "source": [
    "----------------------------------------------------------\n",
    "Now I would like to see results of sales from brad new bikes. For now we can say that the shop is much more profitable. The question is if new models of bicykles bring negative income to the company and decrease total income for Adventure shop. Let's check that out "
   ]
  },
  {
   "cell_type": "code",
   "execution_count": null,
   "id": "c739251b",
   "metadata": {},
   "outputs": [],
   "source": []
  }
 ],
 "metadata": {
  "kernelspec": {
   "display_name": "Python 3",
   "language": "python",
   "name": "python3"
  },
  "language_info": {
   "codemirror_mode": {
    "name": "ipython",
    "version": 3
   },
   "file_extension": ".py",
   "mimetype": "text/x-python",
   "name": "python",
   "nbconvert_exporter": "python",
   "pygments_lexer": "ipython3",
   "version": "3.8.8"
  }
 },
 "nbformat": 4,
 "nbformat_minor": 5
}
