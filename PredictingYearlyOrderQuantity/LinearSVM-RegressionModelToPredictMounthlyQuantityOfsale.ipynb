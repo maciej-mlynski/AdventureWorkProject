{
 "cells": [
  {
   "cell_type": "code",
   "execution_count": 7,
   "id": "410e47ed",
   "metadata": {},
   "outputs": [],
   "source": [
    "import pandas as pd\n",
    "import numpy as np\n",
    "import matplotlib.pyplot as plt\n",
    "%matplotlib inline\n",
    "import seaborn as sns\n",
    "pd.set_option('display.max_columns', None)"
   ]
  },
  {
   "cell_type": "code",
   "execution_count": 8,
   "id": "b9b8ae58",
   "metadata": {},
   "outputs": [],
   "source": [
    "sns.set(rc={'figure.figsize':(12,6)})"
   ]
  },
  {
   "cell_type": "code",
   "execution_count": 9,
   "id": "0b383566",
   "metadata": {},
   "outputs": [],
   "source": [
    "df = pd.read_csv('Data/PreparedData.csv')"
   ]
  },
  {
   "cell_type": "code",
   "execution_count": 10,
   "id": "9a162c6d",
   "metadata": {},
   "outputs": [
    {
     "data": {
      "text/plain": [
       "Index(['Size', 'YearsOfAveliability', 'Weight', 'StanstadCost', 'ListPrice',\n",
       "       'FinalSellPrice', 'PriceToCost', 'OrdersQuantity', 'Black', 'Silver',\n",
       "       'Red', 'Yellow', 'Blue', 'H', 'L', 'M', 'isNew', '2011Sales',\n",
       "       '2012Sales', '2013Sales', 'Mountain Bikes', 'Road Bikes',\n",
       "       'Touring Bikes', 'Jan', 'Feb', 'Mar', 'Apr', 'May', 'Jun', 'Jul', 'Aug',\n",
       "       'Sep', 'Oct', 'Nov', 'Dec', 'Isdiscounted', 'IsPriceHigherThanCosts'],\n",
       "      dtype='object')"
      ]
     },
     "execution_count": 10,
     "metadata": {},
     "output_type": "execute_result"
    }
   ],
   "source": [
    "df.columns"
   ]
  },
  {
   "cell_type": "markdown",
   "id": "b6cbb933",
   "metadata": {},
   "source": [
    "##### Get X and y"
   ]
  },
  {
   "cell_type": "code",
   "execution_count": 11,
   "id": "e4c8055a",
   "metadata": {},
   "outputs": [],
   "source": [
    "# REpresentants:\n",
    "# Color: Blcakc\n",
    "# Class: H\n",
    "# Sub Name: Mountain\n",
    "# Moth: Jan\n",
    "X = df[['Size', 'YearsOfAveliability', 'Weight', 'StanstadCost'\n",
    "       , 'PriceToCost', 'Silver', 'Red', 'Yellow', 'Blue', \n",
    "        'L', 'M', 'isNew','Road Bikes', 'Touring Bikes', \n",
    "        'Feb', 'Mar', 'Apr', 'May', 'Jun', 'Jul', 'Aug',\n",
    "       'Sep', 'Oct', 'Nov', 'Dec', 'Isdiscounted', 'IsPriceHigherThanCosts']]"
   ]
  },
  {
   "cell_type": "code",
   "execution_count": 12,
   "id": "c0197ab0",
   "metadata": {},
   "outputs": [],
   "source": [
    "y = df['OrdersQuantity']"
   ]
  },
  {
   "cell_type": "markdown",
   "id": "f4cafdee",
   "metadata": {},
   "source": [
    "#### Train test split"
   ]
  },
  {
   "cell_type": "code",
   "execution_count": 13,
   "id": "322ec650",
   "metadata": {},
   "outputs": [],
   "source": [
    "from sklearn.model_selection import train_test_split"
   ]
  },
  {
   "cell_type": "code",
   "execution_count": 14,
   "id": "5d4957a4",
   "metadata": {},
   "outputs": [],
   "source": [
    "X_train, X_test, y_train, y_test = train_test_split(X, y, test_size=0.3, random_state=101)"
   ]
  },
  {
   "cell_type": "markdown",
   "id": "f055e70c",
   "metadata": {},
   "source": [
    "#### Scale data"
   ]
  },
  {
   "cell_type": "code",
   "execution_count": 15,
   "id": "b094a91e",
   "metadata": {},
   "outputs": [],
   "source": [
    "from sklearn.preprocessing import MinMaxScaler"
   ]
  },
  {
   "cell_type": "code",
   "execution_count": 17,
   "id": "0ede1562",
   "metadata": {},
   "outputs": [],
   "source": [
    "scaler = MinMaxScaler()"
   ]
  },
  {
   "cell_type": "code",
   "execution_count": 18,
   "id": "652c1ea6",
   "metadata": {},
   "outputs": [],
   "source": [
    "scaled_X_train = scaler.fit_transform(X_train)\n",
    "scaled_X_test = scaler.transform(X_test)"
   ]
  },
  {
   "cell_type": "code",
   "execution_count": 19,
   "id": "587d873c",
   "metadata": {},
   "outputs": [],
   "source": [
    "from sklearn.svm import SVR,LinearSVR"
   ]
  },
  {
   "cell_type": "code",
   "execution_count": 20,
   "id": "5f1efc9a",
   "metadata": {},
   "outputs": [],
   "source": [
    "from sklearn.model_selection import GridSearchCV"
   ]
  },
  {
   "cell_type": "markdown",
   "id": "40a3f5b5",
   "metadata": {},
   "source": [
    "#### Grid search params"
   ]
  },
  {
   "cell_type": "code",
   "execution_count": 21,
   "id": "71500314",
   "metadata": {},
   "outputs": [],
   "source": [
    "param_grid = {'C':[0.001,0.01,0.1,0.5,1],\n",
    "             'kernel':['linear','rbf','poly'],\n",
    "              'gamma':['scale','auto'],\n",
    "              'degree':[2,3,4],\n",
    "              'epsilon':[0,0.01,0.1,0.5,1,2]}"
   ]
  },
  {
   "cell_type": "code",
   "execution_count": 22,
   "id": "14d26df2",
   "metadata": {},
   "outputs": [],
   "source": [
    "svr = SVR()\n",
    "grid = GridSearchCV(svr,param_grid=param_grid)"
   ]
  },
  {
   "cell_type": "markdown",
   "id": "74e5f381",
   "metadata": {},
   "source": [
    "#### Fit model"
   ]
  },
  {
   "cell_type": "code",
   "execution_count": 23,
   "id": "f4c0d567",
   "metadata": {},
   "outputs": [
    {
     "data": {
      "text/plain": [
       "GridSearchCV(estimator=SVR(),\n",
       "             param_grid={'C': [0.001, 0.01, 0.1, 0.5, 1], 'degree': [2, 3, 4],\n",
       "                         'epsilon': [0, 0.01, 0.1, 0.5, 1, 2],\n",
       "                         'gamma': ['scale', 'auto'],\n",
       "                         'kernel': ['linear', 'rbf', 'poly']})"
      ]
     },
     "execution_count": 23,
     "metadata": {},
     "output_type": "execute_result"
    }
   ],
   "source": [
    "grid.fit(scaled_X_train,y_train)"
   ]
  },
  {
   "cell_type": "code",
   "execution_count": 24,
   "id": "967fa685",
   "metadata": {},
   "outputs": [],
   "source": [
    "from sklearn.metrics import mean_absolute_error,mean_squared_error"
   ]
  },
  {
   "cell_type": "code",
   "execution_count": 25,
   "id": "34761a70",
   "metadata": {},
   "outputs": [
    {
     "data": {
      "text/plain": [
       "{'C': 1, 'degree': 4, 'epsilon': 0.1, 'gamma': 'scale', 'kernel': 'poly'}"
      ]
     },
     "execution_count": 25,
     "metadata": {},
     "output_type": "execute_result"
    }
   ],
   "source": [
    "grid.best_params_"
   ]
  },
  {
   "cell_type": "code",
   "execution_count": 26,
   "id": "1a7e9166",
   "metadata": {},
   "outputs": [],
   "source": [
    "grid_preds = grid.predict(scaled_X_test)"
   ]
  },
  {
   "cell_type": "code",
   "execution_count": 27,
   "id": "a09019b5",
   "metadata": {},
   "outputs": [
    {
     "data": {
      "text/plain": [
       "15.623518433868945"
      ]
     },
     "execution_count": 27,
     "metadata": {},
     "output_type": "execute_result"
    }
   ],
   "source": [
    "mean_absolute_error(y_test,grid_preds)"
   ]
  },
  {
   "cell_type": "code",
   "execution_count": 28,
   "id": "94ced36d",
   "metadata": {},
   "outputs": [
    {
     "data": {
      "text/plain": [
       "23.828155462498756"
      ]
     },
     "execution_count": 28,
     "metadata": {},
     "output_type": "execute_result"
    }
   ],
   "source": [
    "np.sqrt(mean_squared_error(y_test,grid_preds))"
   ]
  },
  {
   "cell_type": "code",
   "execution_count": 32,
   "id": "915aad74",
   "metadata": {},
   "outputs": [
    {
     "data": {
      "text/plain": [
       "841"
      ]
     },
     "execution_count": 32,
     "metadata": {},
     "output_type": "execute_result"
    }
   ],
   "source": [
    "len(grid_preds.reshape(-1,1))"
   ]
  },
  {
   "cell_type": "code",
   "execution_count": 95,
   "id": "151807d9",
   "metadata": {},
   "outputs": [],
   "source": [
    "check = pd.DataFrame()\n",
    "check['TrueValues'] = y_test"
   ]
  },
  {
   "cell_type": "code",
   "execution_count": 96,
   "id": "ebf197fc",
   "metadata": {},
   "outputs": [],
   "source": [
    "check['predictions'] = grid_preds.reshape(-1,1)"
   ]
  },
  {
   "cell_type": "code",
   "execution_count": 97,
   "id": "bba36e95",
   "metadata": {},
   "outputs": [],
   "source": [
    "check.reset_index(inplace=True)"
   ]
  },
  {
   "cell_type": "code",
   "execution_count": 98,
   "id": "3290ceda",
   "metadata": {},
   "outputs": [],
   "source": [
    "check.drop('index', inplace=True, axis=1)"
   ]
  },
  {
   "cell_type": "code",
   "execution_count": 99,
   "id": "c12bc53c",
   "metadata": {},
   "outputs": [
    {
     "data": {
      "text/html": [
       "<div>\n",
       "<style scoped>\n",
       "    .dataframe tbody tr th:only-of-type {\n",
       "        vertical-align: middle;\n",
       "    }\n",
       "\n",
       "    .dataframe tbody tr th {\n",
       "        vertical-align: top;\n",
       "    }\n",
       "\n",
       "    .dataframe thead th {\n",
       "        text-align: right;\n",
       "    }\n",
       "</style>\n",
       "<table border=\"1\" class=\"dataframe\">\n",
       "  <thead>\n",
       "    <tr style=\"text-align: right;\">\n",
       "      <th></th>\n",
       "      <th>TrueValues</th>\n",
       "      <th>predictions</th>\n",
       "    </tr>\n",
       "  </thead>\n",
       "  <tbody>\n",
       "    <tr>\n",
       "      <th>0</th>\n",
       "      <td>4</td>\n",
       "      <td>4.611401</td>\n",
       "    </tr>\n",
       "    <tr>\n",
       "      <th>1</th>\n",
       "      <td>6</td>\n",
       "      <td>21.123888</td>\n",
       "    </tr>\n",
       "    <tr>\n",
       "      <th>2</th>\n",
       "      <td>34</td>\n",
       "      <td>23.356759</td>\n",
       "    </tr>\n",
       "    <tr>\n",
       "      <th>3</th>\n",
       "      <td>17</td>\n",
       "      <td>16.941623</td>\n",
       "    </tr>\n",
       "    <tr>\n",
       "      <th>4</th>\n",
       "      <td>17</td>\n",
       "      <td>32.869252</td>\n",
       "    </tr>\n",
       "    <tr>\n",
       "      <th>...</th>\n",
       "      <td>...</td>\n",
       "      <td>...</td>\n",
       "    </tr>\n",
       "    <tr>\n",
       "      <th>836</th>\n",
       "      <td>67</td>\n",
       "      <td>38.873222</td>\n",
       "    </tr>\n",
       "    <tr>\n",
       "      <th>837</th>\n",
       "      <td>26</td>\n",
       "      <td>16.709090</td>\n",
       "    </tr>\n",
       "    <tr>\n",
       "      <th>838</th>\n",
       "      <td>6</td>\n",
       "      <td>11.384998</td>\n",
       "    </tr>\n",
       "    <tr>\n",
       "      <th>839</th>\n",
       "      <td>23</td>\n",
       "      <td>41.681136</td>\n",
       "    </tr>\n",
       "    <tr>\n",
       "      <th>840</th>\n",
       "      <td>11</td>\n",
       "      <td>8.722621</td>\n",
       "    </tr>\n",
       "  </tbody>\n",
       "</table>\n",
       "<p>841 rows × 2 columns</p>\n",
       "</div>"
      ],
      "text/plain": [
       "     TrueValues  predictions\n",
       "0             4     4.611401\n",
       "1             6    21.123888\n",
       "2            34    23.356759\n",
       "3            17    16.941623\n",
       "4            17    32.869252\n",
       "..          ...          ...\n",
       "836          67    38.873222\n",
       "837          26    16.709090\n",
       "838           6    11.384998\n",
       "839          23    41.681136\n",
       "840          11     8.722621\n",
       "\n",
       "[841 rows x 2 columns]"
      ]
     },
     "execution_count": 99,
     "metadata": {},
     "output_type": "execute_result"
    }
   ],
   "source": [
    "check"
   ]
  },
  {
   "cell_type": "code",
   "execution_count": 100,
   "id": "b5b081bd",
   "metadata": {},
   "outputs": [],
   "source": [
    "check['SVMModelerror'] = check['predictions'] - check['TrueValues']"
   ]
  },
  {
   "cell_type": "markdown",
   "id": "610d394b",
   "metadata": {},
   "source": [
    "I take mean y_train values to compare with my model results"
   ]
  },
  {
   "cell_type": "code",
   "execution_count": 113,
   "id": "80ac079a",
   "metadata": {},
   "outputs": [
    {
     "data": {
      "text/plain": [
       "30.95616717635066"
      ]
     },
     "execution_count": 113,
     "metadata": {},
     "output_type": "execute_result"
    }
   ],
   "source": [
    "np.mean(y_train)"
   ]
  },
  {
   "cell_type": "code",
   "execution_count": 114,
   "id": "b44c4ab6",
   "metadata": {},
   "outputs": [],
   "source": [
    "check['MeanModelerror'] = np.mean(y_train) - check['TrueValues']"
   ]
  },
  {
   "cell_type": "code",
   "execution_count": 115,
   "id": "b2c764f9",
   "metadata": {},
   "outputs": [
    {
     "data": {
      "text/plain": [
       "-3.9369055534430664"
      ]
     },
     "execution_count": 115,
     "metadata": {},
     "output_type": "execute_result"
    }
   ],
   "source": [
    "np.mean(check['SVMModelerror'])"
   ]
  },
  {
   "cell_type": "code",
   "execution_count": 116,
   "id": "0274a25a",
   "metadata": {},
   "outputs": [
    {
     "data": {
      "text/plain": [
       "1.7135988053637132"
      ]
     },
     "execution_count": 116,
     "metadata": {},
     "output_type": "execute_result"
    }
   ],
   "source": [
    "np.mean(check['MeanModelerror'])"
   ]
  },
  {
   "cell_type": "markdown",
   "id": "cce546d6",
   "metadata": {},
   "source": [
    "My model is much worst than simple mean that we could use without any costs..."
   ]
  },
  {
   "cell_type": "code",
   "execution_count": 118,
   "id": "2e8b8ce3",
   "metadata": {},
   "outputs": [
    {
     "data": {
      "text/plain": [
       "array([[0.41666667, 0.        , 0.33025262, ..., 0.        , 0.        ,\n",
       "        1.        ],\n",
       "       [0.41666667, 0.        , 0.39186691, ..., 0.        , 1.        ,\n",
       "        0.        ],\n",
       "       [0.25      , 0.        , 0.30807147, ..., 0.        , 0.        ,\n",
       "        1.        ],\n",
       "       ...,\n",
       "       [0.41666667, 0.        , 0.30252619, ..., 0.        , 0.        ,\n",
       "        0.        ],\n",
       "       [0.58333333, 0.        , 0.91866913, ..., 0.        , 0.        ,\n",
       "        1.        ],\n",
       "       [0.58333333, 1.        , 0.34812076, ..., 0.        , 0.        ,\n",
       "        1.        ]])"
      ]
     },
     "execution_count": 118,
     "metadata": {},
     "output_type": "execute_result"
    }
   ],
   "source": [
    "scaled_X_train"
   ]
  },
  {
   "cell_type": "code",
   "execution_count": null,
   "id": "dd81e59e",
   "metadata": {},
   "outputs": [],
   "source": []
  }
 ],
 "metadata": {
  "kernelspec": {
   "display_name": "Python 3",
   "language": "python",
   "name": "python3"
  },
  "language_info": {
   "codemirror_mode": {
    "name": "ipython",
    "version": 3
   },
   "file_extension": ".py",
   "mimetype": "text/x-python",
   "name": "python",
   "nbconvert_exporter": "python",
   "pygments_lexer": "ipython3",
   "version": "3.8.8"
  }
 },
 "nbformat": 4,
 "nbformat_minor": 5
}
