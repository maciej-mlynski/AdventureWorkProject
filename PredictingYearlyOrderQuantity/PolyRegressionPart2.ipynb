{
 "cells": [
  {
   "cell_type": "code",
   "execution_count": 1,
   "id": "f448d5a0",
   "metadata": {},
   "outputs": [],
   "source": [
    "import pandas as pd\n",
    "import numpy as np\n",
    "import matplotlib.pyplot as plt\n",
    "%matplotlib inline\n",
    "import seaborn as sns\n",
    "pd.set_option('display.max_columns', None)\n",
    "\n",
    "sns.set(rc={'figure.figsize':(12,6)})"
   ]
  },
  {
   "cell_type": "code",
   "execution_count": 2,
   "id": "82eb8fb0",
   "metadata": {},
   "outputs": [],
   "source": [
    "df = pd.read_csv('Data/PreparedData.csv')"
   ]
  },
  {
   "cell_type": "code",
   "execution_count": 3,
   "id": "f3cc76ad",
   "metadata": {},
   "outputs": [
    {
     "data": {
      "text/plain": [
       "count    2803.000000\n",
       "mean       30.442026\n",
       "std        30.385997\n",
       "min         1.000000\n",
       "25%         8.000000\n",
       "50%        19.000000\n",
       "75%        46.000000\n",
       "max       229.000000\n",
       "Name: OrdersQuantity, dtype: float64"
      ]
     },
     "execution_count": 3,
     "metadata": {},
     "output_type": "execute_result"
    }
   ],
   "source": [
    "df['OrdersQuantity'].describe()"
   ]
  },
  {
   "cell_type": "code",
   "execution_count": 4,
   "id": "bd6411e6",
   "metadata": {},
   "outputs": [
    {
     "data": {
      "text/plain": [
       "<AxesSubplot:xlabel='OrdersQuantity', ylabel='Count'>"
      ]
     },
     "execution_count": 4,
     "metadata": {},
     "output_type": "execute_result"
    },
    {
     "data": {
      "image/png": "[encoded data removed]",
      "text/plain": [
       "<Figure size 864x432 with 1 Axes>"
      ]
     },
     "metadata": {},
     "output_type": "display_data"
    }
   ],
   "source": [
    "sns.histplot(df['OrdersQuantity'], kde=True)"
   ]
  },
  {
   "cell_type": "code",
   "execution_count": 5,
   "id": "eef5ea7a",
   "metadata": {},
   "outputs": [
    {
     "data": {
      "text/html": [
       "<div>\n",
       "<style scoped>\n",
       "    .dataframe tbody tr th:only-of-type {\n",
       "        vertical-align: middle;\n",
       "    }\n",
       "\n",
       "    .dataframe tbody tr th {\n",
       "        vertical-align: top;\n",
       "    }\n",
       "\n",
       "    .dataframe thead th {\n",
       "        text-align: right;\n",
       "    }\n",
       "</style>\n",
       "<table border=\"1\" class=\"dataframe\">\n",
       "  <thead>\n",
       "    <tr style=\"text-align: right;\">\n",
       "      <th></th>\n",
       "      <th>Size</th>\n",
       "      <th>YearsOfAveliability</th>\n",
       "      <th>Weight</th>\n",
       "      <th>StanstadCost</th>\n",
       "      <th>ListPrice</th>\n",
       "      <th>FinalSellPrice</th>\n",
       "      <th>PriceToCost</th>\n",
       "      <th>OrdersQuantity</th>\n",
       "      <th>Black</th>\n",
       "      <th>Silver</th>\n",
       "      <th>Red</th>\n",
       "      <th>Yellow</th>\n",
       "      <th>Blue</th>\n",
       "      <th>H</th>\n",
       "      <th>L</th>\n",
       "      <th>M</th>\n",
       "      <th>isNew</th>\n",
       "      <th>2011Sales</th>\n",
       "      <th>2012Sales</th>\n",
       "      <th>2013Sales</th>\n",
       "      <th>Mountain Bikes</th>\n",
       "      <th>Road Bikes</th>\n",
       "      <th>Touring Bikes</th>\n",
       "      <th>Jan</th>\n",
       "      <th>Feb</th>\n",
       "      <th>Mar</th>\n",
       "      <th>Apr</th>\n",
       "      <th>May</th>\n",
       "      <th>Jun</th>\n",
       "      <th>Jul</th>\n",
       "      <th>Aug</th>\n",
       "      <th>Sep</th>\n",
       "      <th>Oct</th>\n",
       "      <th>Nov</th>\n",
       "      <th>Dec</th>\n",
       "      <th>Isdiscounted</th>\n",
       "      <th>IsPriceHigherThanCosts</th>\n",
       "    </tr>\n",
       "  </thead>\n",
       "  <tbody>\n",
       "    <tr>\n",
       "      <th>294</th>\n",
       "      <td>44</td>\n",
       "      <td>0</td>\n",
       "      <td>18.77</td>\n",
       "      <td>486.7066</td>\n",
       "      <td>782.99</td>\n",
       "      <td>419.4589</td>\n",
       "      <td>0.8618</td>\n",
       "      <td>154</td>\n",
       "      <td>0</td>\n",
       "      <td>0</td>\n",
       "      <td>1</td>\n",
       "      <td>0</td>\n",
       "      <td>0</td>\n",
       "      <td>0</td>\n",
       "      <td>1</td>\n",
       "      <td>0</td>\n",
       "      <td>0</td>\n",
       "      <td>1</td>\n",
       "      <td>0</td>\n",
       "      <td>0</td>\n",
       "      <td>0</td>\n",
       "      <td>1</td>\n",
       "      <td>0</td>\n",
       "      <td>0</td>\n",
       "      <td>0</td>\n",
       "      <td>0</td>\n",
       "      <td>0</td>\n",
       "      <td>0</td>\n",
       "      <td>0</td>\n",
       "      <td>0</td>\n",
       "      <td>0</td>\n",
       "      <td>0</td>\n",
       "      <td>1</td>\n",
       "      <td>0</td>\n",
       "      <td>0</td>\n",
       "      <td>0</td>\n",
       "      <td>0</td>\n",
       "    </tr>\n",
       "    <tr>\n",
       "      <th>408</th>\n",
       "      <td>52</td>\n",
       "      <td>0</td>\n",
       "      <td>17.42</td>\n",
       "      <td>884.7083</td>\n",
       "      <td>1457.99</td>\n",
       "      <td>874.7940</td>\n",
       "      <td>0.9887</td>\n",
       "      <td>157</td>\n",
       "      <td>0</td>\n",
       "      <td>0</td>\n",
       "      <td>1</td>\n",
       "      <td>0</td>\n",
       "      <td>0</td>\n",
       "      <td>0</td>\n",
       "      <td>0</td>\n",
       "      <td>1</td>\n",
       "      <td>0</td>\n",
       "      <td>1</td>\n",
       "      <td>0</td>\n",
       "      <td>0</td>\n",
       "      <td>0</td>\n",
       "      <td>1</td>\n",
       "      <td>0</td>\n",
       "      <td>0</td>\n",
       "      <td>0</td>\n",
       "      <td>0</td>\n",
       "      <td>0</td>\n",
       "      <td>0</td>\n",
       "      <td>0</td>\n",
       "      <td>0</td>\n",
       "      <td>0</td>\n",
       "      <td>0</td>\n",
       "      <td>1</td>\n",
       "      <td>0</td>\n",
       "      <td>0</td>\n",
       "      <td>0</td>\n",
       "      <td>0</td>\n",
       "    </tr>\n",
       "    <tr>\n",
       "      <th>486</th>\n",
       "      <td>60</td>\n",
       "      <td>0</td>\n",
       "      <td>19.90</td>\n",
       "      <td>486.7066</td>\n",
       "      <td>782.99</td>\n",
       "      <td>419.4589</td>\n",
       "      <td>0.8618</td>\n",
       "      <td>153</td>\n",
       "      <td>0</td>\n",
       "      <td>0</td>\n",
       "      <td>1</td>\n",
       "      <td>0</td>\n",
       "      <td>0</td>\n",
       "      <td>0</td>\n",
       "      <td>1</td>\n",
       "      <td>0</td>\n",
       "      <td>0</td>\n",
       "      <td>1</td>\n",
       "      <td>0</td>\n",
       "      <td>0</td>\n",
       "      <td>0</td>\n",
       "      <td>1</td>\n",
       "      <td>0</td>\n",
       "      <td>0</td>\n",
       "      <td>0</td>\n",
       "      <td>0</td>\n",
       "      <td>0</td>\n",
       "      <td>0</td>\n",
       "      <td>0</td>\n",
       "      <td>0</td>\n",
       "      <td>0</td>\n",
       "      <td>0</td>\n",
       "      <td>1</td>\n",
       "      <td>0</td>\n",
       "      <td>0</td>\n",
       "      <td>0</td>\n",
       "      <td>0</td>\n",
       "    </tr>\n",
       "    <tr>\n",
       "      <th>603</th>\n",
       "      <td>42</td>\n",
       "      <td>0</td>\n",
       "      <td>23.77</td>\n",
       "      <td>1251.9813</td>\n",
       "      <td>2294.99</td>\n",
       "      <td>1229.4589</td>\n",
       "      <td>0.9820</td>\n",
       "      <td>145</td>\n",
       "      <td>1</td>\n",
       "      <td>0</td>\n",
       "      <td>0</td>\n",
       "      <td>0</td>\n",
       "      <td>0</td>\n",
       "      <td>1</td>\n",
       "      <td>0</td>\n",
       "      <td>0</td>\n",
       "      <td>0</td>\n",
       "      <td>0</td>\n",
       "      <td>1</td>\n",
       "      <td>0</td>\n",
       "      <td>1</td>\n",
       "      <td>0</td>\n",
       "      <td>0</td>\n",
       "      <td>0</td>\n",
       "      <td>0</td>\n",
       "      <td>0</td>\n",
       "      <td>0</td>\n",
       "      <td>0</td>\n",
       "      <td>0</td>\n",
       "      <td>0</td>\n",
       "      <td>0</td>\n",
       "      <td>1</td>\n",
       "      <td>0</td>\n",
       "      <td>0</td>\n",
       "      <td>0</td>\n",
       "      <td>0</td>\n",
       "      <td>0</td>\n",
       "    </tr>\n",
       "    <tr>\n",
       "      <th>856</th>\n",
       "      <td>52</td>\n",
       "      <td>1</td>\n",
       "      <td>19.42</td>\n",
       "      <td>486.7066</td>\n",
       "      <td>782.99</td>\n",
       "      <td>469.7940</td>\n",
       "      <td>0.9652</td>\n",
       "      <td>154</td>\n",
       "      <td>1</td>\n",
       "      <td>0</td>\n",
       "      <td>0</td>\n",
       "      <td>0</td>\n",
       "      <td>0</td>\n",
       "      <td>0</td>\n",
       "      <td>1</td>\n",
       "      <td>0</td>\n",
       "      <td>1</td>\n",
       "      <td>0</td>\n",
       "      <td>1</td>\n",
       "      <td>0</td>\n",
       "      <td>0</td>\n",
       "      <td>1</td>\n",
       "      <td>0</td>\n",
       "      <td>0</td>\n",
       "      <td>0</td>\n",
       "      <td>0</td>\n",
       "      <td>0</td>\n",
       "      <td>0</td>\n",
       "      <td>1</td>\n",
       "      <td>0</td>\n",
       "      <td>0</td>\n",
       "      <td>0</td>\n",
       "      <td>0</td>\n",
       "      <td>0</td>\n",
       "      <td>0</td>\n",
       "      <td>0</td>\n",
       "      <td>0</td>\n",
       "    </tr>\n",
       "    <tr>\n",
       "      <th>995</th>\n",
       "      <td>44</td>\n",
       "      <td>1</td>\n",
       "      <td>18.77</td>\n",
       "      <td>486.7066</td>\n",
       "      <td>782.99</td>\n",
       "      <td>164.4279</td>\n",
       "      <td>0.3378</td>\n",
       "      <td>169</td>\n",
       "      <td>0</td>\n",
       "      <td>0</td>\n",
       "      <td>1</td>\n",
       "      <td>0</td>\n",
       "      <td>0</td>\n",
       "      <td>0</td>\n",
       "      <td>1</td>\n",
       "      <td>0</td>\n",
       "      <td>1</td>\n",
       "      <td>0</td>\n",
       "      <td>1</td>\n",
       "      <td>0</td>\n",
       "      <td>0</td>\n",
       "      <td>1</td>\n",
       "      <td>0</td>\n",
       "      <td>0</td>\n",
       "      <td>0</td>\n",
       "      <td>0</td>\n",
       "      <td>0</td>\n",
       "      <td>0</td>\n",
       "      <td>1</td>\n",
       "      <td>0</td>\n",
       "      <td>0</td>\n",
       "      <td>0</td>\n",
       "      <td>0</td>\n",
       "      <td>0</td>\n",
       "      <td>0</td>\n",
       "      <td>1</td>\n",
       "      <td>0</td>\n",
       "    </tr>\n",
       "    <tr>\n",
       "      <th>1383</th>\n",
       "      <td>38</td>\n",
       "      <td>1</td>\n",
       "      <td>23.35</td>\n",
       "      <td>1251.9813</td>\n",
       "      <td>2294.99</td>\n",
       "      <td>1376.9940</td>\n",
       "      <td>1.0998</td>\n",
       "      <td>149</td>\n",
       "      <td>1</td>\n",
       "      <td>0</td>\n",
       "      <td>0</td>\n",
       "      <td>0</td>\n",
       "      <td>0</td>\n",
       "      <td>1</td>\n",
       "      <td>0</td>\n",
       "      <td>0</td>\n",
       "      <td>1</td>\n",
       "      <td>0</td>\n",
       "      <td>0</td>\n",
       "      <td>1</td>\n",
       "      <td>1</td>\n",
       "      <td>0</td>\n",
       "      <td>0</td>\n",
       "      <td>0</td>\n",
       "      <td>0</td>\n",
       "      <td>1</td>\n",
       "      <td>0</td>\n",
       "      <td>0</td>\n",
       "      <td>0</td>\n",
       "      <td>0</td>\n",
       "      <td>0</td>\n",
       "      <td>0</td>\n",
       "      <td>0</td>\n",
       "      <td>0</td>\n",
       "      <td>0</td>\n",
       "      <td>0</td>\n",
       "      <td>1</td>\n",
       "    </tr>\n",
       "    <tr>\n",
       "      <th>1900</th>\n",
       "      <td>48</td>\n",
       "      <td>0</td>\n",
       "      <td>20.13</td>\n",
       "      <td>343.6496</td>\n",
       "      <td>539.99</td>\n",
       "      <td>323.9940</td>\n",
       "      <td>0.9428</td>\n",
       "      <td>177</td>\n",
       "      <td>1</td>\n",
       "      <td>0</td>\n",
       "      <td>0</td>\n",
       "      <td>0</td>\n",
       "      <td>0</td>\n",
       "      <td>0</td>\n",
       "      <td>1</td>\n",
       "      <td>0</td>\n",
       "      <td>0</td>\n",
       "      <td>0</td>\n",
       "      <td>0</td>\n",
       "      <td>1</td>\n",
       "      <td>0</td>\n",
       "      <td>1</td>\n",
       "      <td>0</td>\n",
       "      <td>0</td>\n",
       "      <td>0</td>\n",
       "      <td>1</td>\n",
       "      <td>0</td>\n",
       "      <td>0</td>\n",
       "      <td>0</td>\n",
       "      <td>0</td>\n",
       "      <td>0</td>\n",
       "      <td>0</td>\n",
       "      <td>0</td>\n",
       "      <td>0</td>\n",
       "      <td>0</td>\n",
       "      <td>0</td>\n",
       "      <td>0</td>\n",
       "    </tr>\n",
       "    <tr>\n",
       "      <th>1947</th>\n",
       "      <td>52</td>\n",
       "      <td>0</td>\n",
       "      <td>20.42</td>\n",
       "      <td>343.6496</td>\n",
       "      <td>539.99</td>\n",
       "      <td>323.9940</td>\n",
       "      <td>0.9428</td>\n",
       "      <td>165</td>\n",
       "      <td>1</td>\n",
       "      <td>0</td>\n",
       "      <td>0</td>\n",
       "      <td>0</td>\n",
       "      <td>0</td>\n",
       "      <td>0</td>\n",
       "      <td>1</td>\n",
       "      <td>0</td>\n",
       "      <td>0</td>\n",
       "      <td>0</td>\n",
       "      <td>0</td>\n",
       "      <td>1</td>\n",
       "      <td>0</td>\n",
       "      <td>1</td>\n",
       "      <td>0</td>\n",
       "      <td>0</td>\n",
       "      <td>0</td>\n",
       "      <td>1</td>\n",
       "      <td>0</td>\n",
       "      <td>0</td>\n",
       "      <td>0</td>\n",
       "      <td>0</td>\n",
       "      <td>0</td>\n",
       "      <td>0</td>\n",
       "      <td>0</td>\n",
       "      <td>0</td>\n",
       "      <td>0</td>\n",
       "      <td>0</td>\n",
       "      <td>0</td>\n",
       "    </tr>\n",
       "    <tr>\n",
       "      <th>2100</th>\n",
       "      <td>40</td>\n",
       "      <td>0</td>\n",
       "      <td>15.35</td>\n",
       "      <td>1082.5100</td>\n",
       "      <td>1700.99</td>\n",
       "      <td>1020.5940</td>\n",
       "      <td>0.9428</td>\n",
       "      <td>196</td>\n",
       "      <td>0</td>\n",
       "      <td>0</td>\n",
       "      <td>0</td>\n",
       "      <td>1</td>\n",
       "      <td>0</td>\n",
       "      <td>0</td>\n",
       "      <td>0</td>\n",
       "      <td>1</td>\n",
       "      <td>0</td>\n",
       "      <td>0</td>\n",
       "      <td>0</td>\n",
       "      <td>1</td>\n",
       "      <td>0</td>\n",
       "      <td>1</td>\n",
       "      <td>0</td>\n",
       "      <td>0</td>\n",
       "      <td>0</td>\n",
       "      <td>1</td>\n",
       "      <td>0</td>\n",
       "      <td>0</td>\n",
       "      <td>0</td>\n",
       "      <td>0</td>\n",
       "      <td>0</td>\n",
       "      <td>0</td>\n",
       "      <td>0</td>\n",
       "      <td>0</td>\n",
       "      <td>0</td>\n",
       "      <td>0</td>\n",
       "      <td>0</td>\n",
       "    </tr>\n",
       "    <tr>\n",
       "      <th>2250</th>\n",
       "      <td>48</td>\n",
       "      <td>0</td>\n",
       "      <td>16.42</td>\n",
       "      <td>1082.5100</td>\n",
       "      <td>1700.99</td>\n",
       "      <td>1020.5940</td>\n",
       "      <td>0.9428</td>\n",
       "      <td>229</td>\n",
       "      <td>0</td>\n",
       "      <td>0</td>\n",
       "      <td>0</td>\n",
       "      <td>1</td>\n",
       "      <td>0</td>\n",
       "      <td>0</td>\n",
       "      <td>0</td>\n",
       "      <td>1</td>\n",
       "      <td>0</td>\n",
       "      <td>0</td>\n",
       "      <td>0</td>\n",
       "      <td>1</td>\n",
       "      <td>0</td>\n",
       "      <td>1</td>\n",
       "      <td>0</td>\n",
       "      <td>0</td>\n",
       "      <td>0</td>\n",
       "      <td>1</td>\n",
       "      <td>0</td>\n",
       "      <td>0</td>\n",
       "      <td>0</td>\n",
       "      <td>0</td>\n",
       "      <td>0</td>\n",
       "      <td>0</td>\n",
       "      <td>0</td>\n",
       "      <td>0</td>\n",
       "      <td>0</td>\n",
       "      <td>0</td>\n",
       "      <td>0</td>\n",
       "    </tr>\n",
       "  </tbody>\n",
       "</table>\n",
       "</div>"
      ],
      "text/plain": [
       "      Size  YearsOfAveliability  Weight  StanstadCost  ListPrice  \\\n",
       "294     44                    0   18.77      486.7066     782.99   \n",
       "408     52                    0   17.42      884.7083    1457.99   \n",
       "486     60                    0   19.90      486.7066     782.99   \n",
       "603     42                    0   23.77     1251.9813    2294.99   \n",
       "856     52                    1   19.42      486.7066     782.99   \n",
       "995     44                    1   18.77      486.7066     782.99   \n",
       "1383    38                    1   23.35     1251.9813    2294.99   \n",
       "1900    48                    0   20.13      343.6496     539.99   \n",
       "1947    52                    0   20.42      343.6496     539.99   \n",
       "2100    40                    0   15.35     1082.5100    1700.99   \n",
       "2250    48                    0   16.42     1082.5100    1700.99   \n",
       "\n",
       "      FinalSellPrice  PriceToCost  OrdersQuantity  Black  Silver  Red  Yellow  \\\n",
       "294         419.4589       0.8618             154      0       0    1       0   \n",
       "408         874.7940       0.9887             157      0       0    1       0   \n",
       "486         419.4589       0.8618             153      0       0    1       0   \n",
       "603        1229.4589       0.9820             145      1       0    0       0   \n",
       "856         469.7940       0.9652             154      1       0    0       0   \n",
       "995         164.4279       0.3378             169      0       0    1       0   \n",
       "1383       1376.9940       1.0998             149      1       0    0       0   \n",
       "1900        323.9940       0.9428             177      1       0    0       0   \n",
       "1947        323.9940       0.9428             165      1       0    0       0   \n",
       "2100       1020.5940       0.9428             196      0       0    0       1   \n",
       "2250       1020.5940       0.9428             229      0       0    0       1   \n",
       "\n",
       "      Blue  H  L  M  isNew  2011Sales  2012Sales  2013Sales  Mountain Bikes  \\\n",
       "294      0  0  1  0      0          1          0          0               0   \n",
       "408      0  0  0  1      0          1          0          0               0   \n",
       "486      0  0  1  0      0          1          0          0               0   \n",
       "603      0  1  0  0      0          0          1          0               1   \n",
       "856      0  0  1  0      1          0          1          0               0   \n",
       "995      0  0  1  0      1          0          1          0               0   \n",
       "1383     0  1  0  0      1          0          0          1               1   \n",
       "1900     0  0  1  0      0          0          0          1               0   \n",
       "1947     0  0  1  0      0          0          0          1               0   \n",
       "2100     0  0  0  1      0          0          0          1               0   \n",
       "2250     0  0  0  1      0          0          0          1               0   \n",
       "\n",
       "      Road Bikes  Touring Bikes  Jan  Feb  Mar  Apr  May  Jun  Jul  Aug  Sep  \\\n",
       "294            1              0    0    0    0    0    0    0    0    0    0   \n",
       "408            1              0    0    0    0    0    0    0    0    0    0   \n",
       "486            1              0    0    0    0    0    0    0    0    0    0   \n",
       "603            0              0    0    0    0    0    0    0    0    0    1   \n",
       "856            1              0    0    0    0    0    0    1    0    0    0   \n",
       "995            1              0    0    0    0    0    0    1    0    0    0   \n",
       "1383           0              0    0    0    1    0    0    0    0    0    0   \n",
       "1900           1              0    0    0    1    0    0    0    0    0    0   \n",
       "1947           1              0    0    0    1    0    0    0    0    0    0   \n",
       "2100           1              0    0    0    1    0    0    0    0    0    0   \n",
       "2250           1              0    0    0    1    0    0    0    0    0    0   \n",
       "\n",
       "      Oct  Nov  Dec  Isdiscounted  IsPriceHigherThanCosts  \n",
       "294     1    0    0             0                       0  \n",
       "408     1    0    0             0                       0  \n",
       "486     1    0    0             0                       0  \n",
       "603     0    0    0             0                       0  \n",
       "856     0    0    0             0                       0  \n",
       "995     0    0    0             1                       0  \n",
       "1383    0    0    0             0                       1  \n",
       "1900    0    0    0             0                       0  \n",
       "1947    0    0    0             0                       0  \n",
       "2100    0    0    0             0                       0  \n",
       "2250    0    0    0             0                       0  "
      ]
     },
     "execution_count": 5,
     "metadata": {},
     "output_type": "execute_result"
    }
   ],
   "source": [
    "df[df['OrdersQuantity']>140]"
   ]
  },
  {
   "cell_type": "code",
   "execution_count": 6,
   "id": "df50a9e9",
   "metadata": {},
   "outputs": [
    {
     "data": {
      "text/plain": [
       "28"
      ]
     },
     "execution_count": 6,
     "metadata": {},
     "output_type": "execute_result"
    }
   ],
   "source": [
    "len(df[df['OrdersQuantity']>=130])"
   ]
  },
  {
   "cell_type": "code",
   "execution_count": 7,
   "id": "859f9f23",
   "metadata": {},
   "outputs": [
    {
     "data": {
      "text/plain": [
       "0.009989297181591153"
      ]
     },
     "execution_count": 7,
     "metadata": {},
     "output_type": "execute_result"
    }
   ],
   "source": [
    "len(df[df['OrdersQuantity']>=130])/len(df)"
   ]
  },
  {
   "cell_type": "markdown",
   "id": "e1f2df9d",
   "metadata": {},
   "source": [
    "We have 11 orders equal or higher than 130 units, which is less than 1% of my data. I will cut this data and make polynomial model again"
   ]
  },
  {
   "cell_type": "code",
   "execution_count": 8,
   "id": "5ae0cd5f",
   "metadata": {},
   "outputs": [],
   "source": [
    "df = df[df['OrdersQuantity']<130].copy()"
   ]
  },
  {
   "cell_type": "code",
   "execution_count": 9,
   "id": "d51c4c45",
   "metadata": {},
   "outputs": [],
   "source": [
    "# REpresentants:\n",
    "# Color: Blcakc\n",
    "# Class: H\n",
    "# Sub Name: Mountain\n",
    "# Moth: Jan\n",
    "X = df[['Size', 'Weight', 'StanstadCost'\n",
    "       , 'PriceToCost','FinalSellPrice' ,'Silver', 'Red', 'Yellow', 'Blue', \n",
    "        'L', 'M', 'isNew','Road Bikes', 'Touring Bikes', \n",
    "        'Feb', 'Mar', 'Apr', 'May', 'Jun', 'Jul', 'Aug',\n",
    "       'Sep', 'Oct', 'Nov', 'Dec', 'Isdiscounted', 'IsPriceHigherThanCosts']]\n",
    "\n",
    "y = df['OrdersQuantity']"
   ]
  },
  {
   "cell_type": "code",
   "execution_count": 19,
   "id": "84ede8c7",
   "metadata": {},
   "outputs": [],
   "source": [
    "from sklearn.model_selection import train_test_split\n",
    "from sklearn.preprocessing import PolynomialFeatures\n",
    "from sklearn.metrics import mean_absolute_error,mean_squared_error\n",
    "from sklearn.linear_model import LinearRegression\n",
    "\n",
    "polynomial_converter = PolynomialFeatures(degree=2,include_bias=False)\n",
    "poly_features = polynomial_converter.fit_transform(X)"
   ]
  },
  {
   "cell_type": "code",
   "execution_count": 20,
   "id": "8fb8c45b",
   "metadata": {},
   "outputs": [
    {
     "data": {
      "text/plain": [
       "LinearRegression()"
      ]
     },
     "execution_count": 20,
     "metadata": {},
     "output_type": "execute_result"
    }
   ],
   "source": [
    "# SPLIT THIS NEW POLY DATA SET\n",
    "X_train, X_test, y_train, y_test = train_test_split(poly_features, y, test_size=0.3, random_state=101)\n",
    "\n",
    "# TRAIN ON THIS NEW POLY SET\n",
    "model = LinearRegression(fit_intercept=True)\n",
    "model.fit(X_train,y_train)"
   ]
  },
  {
   "cell_type": "code",
   "execution_count": 21,
   "id": "756c2aac",
   "metadata": {},
   "outputs": [],
   "source": [
    "# PREDICT ON BOTH TRAIN AND TEST\n",
    "train_pred = model.predict(X_train)\n",
    "test_pred = model.predict(X_test)"
   ]
  },
  {
   "cell_type": "code",
   "execution_count": 22,
   "id": "eb0feed0",
   "metadata": {},
   "outputs": [
    {
     "data": {
      "text/plain": [
       "13.08981109699046"
      ]
     },
     "execution_count": 22,
     "metadata": {},
     "output_type": "execute_result"
    }
   ],
   "source": [
    "np.sqrt(mean_squared_error(y_train,train_pred))"
   ]
  },
  {
   "cell_type": "code",
   "execution_count": 23,
   "id": "bddcb168",
   "metadata": {},
   "outputs": [
    {
     "data": {
      "text/plain": [
       "9.322615870996747"
      ]
     },
     "execution_count": 23,
     "metadata": {},
     "output_type": "execute_result"
    }
   ],
   "source": [
    "mean_absolute_error(y_train,train_pred)"
   ]
  },
  {
   "cell_type": "code",
   "execution_count": 24,
   "id": "31685d3a",
   "metadata": {},
   "outputs": [
    {
     "data": {
      "text/plain": [
       "0.7038715686543326"
      ]
     },
     "execution_count": 24,
     "metadata": {},
     "output_type": "execute_result"
    }
   ],
   "source": [
    "from sklearn.metrics import r2_score\n",
    "\n",
    "r2_score(train_pred, y_train)"
   ]
  },
  {
   "cell_type": "code",
   "execution_count": 25,
   "id": "03661d13",
   "metadata": {},
   "outputs": [
    {
     "data": {
      "text/plain": [
       "0.5426966282202228"
      ]
     },
     "execution_count": 25,
     "metadata": {},
     "output_type": "execute_result"
    }
   ],
   "source": [
    "r2_score(test_pred, y_test)"
   ]
  },
  {
   "cell_type": "code",
   "execution_count": 26,
   "id": "b4a7cecf",
   "metadata": {},
   "outputs": [],
   "source": [
    "c = pd.DataFrame()\n",
    "c['y_test'] = y_test\n",
    "c['test_pred'] = test_pred"
   ]
  },
  {
   "cell_type": "code",
   "execution_count": 27,
   "id": "a88aaba4",
   "metadata": {},
   "outputs": [
    {
     "data": {
      "text/plain": [
       "17.11344791187362"
      ]
     },
     "execution_count": 27,
     "metadata": {},
     "output_type": "execute_result"
    }
   ],
   "source": [
    "np.sqrt(mean_squared_error(y_test,test_pred))"
   ]
  },
  {
   "cell_type": "markdown",
   "id": "5eed9ea0",
   "metadata": {},
   "source": [
    "#### Conclusion:\n",
    "\n",
    "Small improvment on train data, and 6% unimprovmet on test data. Pure"
   ]
  },
  {
   "cell_type": "code",
   "execution_count": 30,
   "id": "8b2efadf",
   "metadata": {},
   "outputs": [
    {
     "data": {
      "text/plain": [
       "<AxesSubplot:xlabel='PriceToCost', ylabel='Count'>"
      ]
     },
     "execution_count": 30,
     "metadata": {},
     "output_type": "execute_result"
    },
    {
     "data": {
      "image/png": "[encoded data removed]",
      "text/plain": [
       "<Figure size 864x432 with 1 Axes>"
      ]
     },
     "metadata": {},
     "output_type": "display_data"
    }
   ],
   "source": [
    "sns.histplot(df['PriceToCost'], kde=True)"
   ]
  },
  {
   "cell_type": "code",
   "execution_count": 40,
   "id": "aac04d97",
   "metadata": {},
   "outputs": [
    {
     "data": {
      "text/plain": [
       "0.006486486486486486"
      ]
     },
     "execution_count": 40,
     "metadata": {},
     "output_type": "execute_result"
    }
   ],
   "source": [
    "(len(df[df['PriceToCost'] <=0.3]))/len(df)"
   ]
  },
  {
   "cell_type": "markdown",
   "id": "5813fa9d",
   "metadata": {},
   "source": [
    "We have 0.65% of data which PriceToCost is lover than 0.3%, which meand that the bike has been sold at 10% of the production standard cost. Let drop them"
   ]
  },
  {
   "cell_type": "code",
   "execution_count": 45,
   "id": "1fb08489",
   "metadata": {},
   "outputs": [],
   "source": [
    "df = df[df['PriceToCost'] >0.3].copy()"
   ]
  },
  {
   "cell_type": "code",
   "execution_count": 51,
   "id": "32435f73",
   "metadata": {},
   "outputs": [],
   "source": [
    "# REpresentants:\n",
    "# Color: Blcakc\n",
    "# Class: H\n",
    "# Sub Name: Mountain\n",
    "# Moth: Jan\n",
    "X = df[['Size', 'Weight', 'StanstadCost'\n",
    "       , 'PriceToCost','FinalSellPrice' ,'Silver', 'Red', 'Yellow', 'Blue', \n",
    "        'L', 'M', 'isNew','Road Bikes', 'Touring Bikes', \n",
    "        'Feb', 'Mar', 'Apr', 'May', 'Jun', 'Jul', 'Aug',\n",
    "       'Sep', 'Oct', 'Nov', 'Dec', 'Isdiscounted', 'IsPriceHigherThanCosts']]\n",
    "\n",
    "y = df['OrdersQuantity']\n",
    "\n",
    "\n",
    "polynomial_converter2 = PolynomialFeatures(degree=2,include_bias=False)\n",
    "poly_features = polynomial_converter2.fit_transform(X)\n",
    "\n",
    "# SPLIT THIS NEW POLY DATA SET\n",
    "X_train, X_test, y_train, y_test = train_test_split(poly_features, y, test_size=0.3, random_state=101)\n",
    "\n",
    "# TRAIN ON THIS NEW POLY SET\n",
    "model = LinearRegression(fit_intercept=True)\n",
    "model.fit(X_train,y_train)\n",
    "\n",
    "train_pred = model.predict(X_train)\n",
    "test_pred = model.predict(X_test)"
   ]
  },
  {
   "cell_type": "code",
   "execution_count": 52,
   "id": "8ef0f5c2",
   "metadata": {},
   "outputs": [
    {
     "data": {
      "text/plain": [
       "13.04561236528946"
      ]
     },
     "execution_count": 52,
     "metadata": {},
     "output_type": "execute_result"
    }
   ],
   "source": [
    "np.sqrt(mean_squared_error(y_train,train_pred))"
   ]
  },
  {
   "cell_type": "code",
   "execution_count": 53,
   "id": "f0140b43",
   "metadata": {},
   "outputs": [
    {
     "data": {
      "text/plain": [
       "9.32745838783812"
      ]
     },
     "execution_count": 53,
     "metadata": {},
     "output_type": "execute_result"
    }
   ],
   "source": [
    "mean_absolute_error(y_train,train_pred)"
   ]
  },
  {
   "cell_type": "code",
   "execution_count": 57,
   "id": "d0f2d8f9",
   "metadata": {},
   "outputs": [
    {
     "data": {
      "text/plain": [
       "12.194760050692777"
      ]
     },
     "execution_count": 57,
     "metadata": {},
     "output_type": "execute_result"
    }
   ],
   "source": [
    "mean_absolute_error(y_test,test_pred)"
   ]
  },
  {
   "cell_type": "code",
   "execution_count": 54,
   "id": "c1fa002e",
   "metadata": {},
   "outputs": [
    {
     "data": {
      "text/plain": [
       "0.7227513604122784"
      ]
     },
     "execution_count": 54,
     "metadata": {},
     "output_type": "execute_result"
    }
   ],
   "source": [
    "r2_score(train_pred, y_train)"
   ]
  },
  {
   "cell_type": "code",
   "execution_count": 55,
   "id": "8b6dd7b1",
   "metadata": {},
   "outputs": [
    {
     "data": {
      "text/plain": [
       "0.47985406867202707"
      ]
     },
     "execution_count": 55,
     "metadata": {},
     "output_type": "execute_result"
    }
   ],
   "source": [
    "r2_score(test_pred, y_test)"
   ]
  },
  {
   "cell_type": "code",
   "execution_count": 56,
   "id": "f4b8bcf1",
   "metadata": {},
   "outputs": [
    {
     "data": {
      "text/plain": [
       "17.86812007265326"
      ]
     },
     "execution_count": 56,
     "metadata": {},
     "output_type": "execute_result"
    }
   ],
   "source": [
    "r2_score(test_pred, y_test)\n",
    "\n",
    "c = pd.DataFrame()\n",
    "c['y_test'] = y_test\n",
    "c['test_pred'] = test_pred\n",
    "\n",
    "np.sqrt(mean_squared_error(y_test,test_pred))"
   ]
  },
  {
   "cell_type": "markdown",
   "id": "34aa52ad",
   "metadata": {},
   "source": [
    "#### Conclusion:\n",
    "\n",
    "Removing outliers improve train results but whem meeting new data results getting worse"
   ]
  },
  {
   "cell_type": "code",
   "execution_count": null,
   "id": "42acc690",
   "metadata": {},
   "outputs": [],
   "source": []
  }
 ],
 "metadata": {
  "kernelspec": {
   "display_name": "Python 3",
   "language": "python",
   "name": "python3"
  },
  "language_info": {
   "codemirror_mode": {
    "name": "ipython",
    "version": 3
   },
   "file_extension": ".py",
   "mimetype": "text/x-python",
   "name": "python",
   "nbconvert_exporter": "python",
   "pygments_lexer": "ipython3",
   "version": "3.8.8"
  }
 },
 "nbformat": 4,
 "nbformat_minor": 5
}
