{
 "cells": [
  {
   "cell_type": "markdown",
   "id": "33486c81",
   "metadata": {},
   "source": [
    "I will use polynomial regression to predict order quantity. This model can help Adventure shop to prepare for new season. \n",
    "\n",
    "1. They can check how new bikes aveliable in 2013-2014 could perform next year. U can just pass to the model repeated values, except isNew (change from 0 to 1)\n",
    "2. Thhey can chceck how rand new bikes (isNew = 0) could perform next year. "
   ]
  },
  {
   "cell_type": "code",
   "execution_count": 1,
   "id": "dc27cebf",
   "metadata": {},
   "outputs": [],
   "source": [
    "import pandas as pd\n",
    "import numpy as np\n",
    "import matplotlib.pyplot as plt\n",
    "%matplotlib inline\n",
    "import seaborn as sns\n",
    "pd.set_option('display.max_columns', None)"
   ]
  },
  {
   "cell_type": "code",
   "execution_count": 2,
   "id": "f07e0627",
   "metadata": {},
   "outputs": [],
   "source": [
    "sns.set(rc={'figure.figsize':(12,6)})"
   ]
  },
  {
   "cell_type": "code",
   "execution_count": 3,
   "id": "f9199580",
   "metadata": {},
   "outputs": [],
   "source": [
    "df = pd.read_csv('Data/PreparedData.csv')"
   ]
  },
  {
   "cell_type": "code",
   "execution_count": 4,
   "id": "0eebb980",
   "metadata": {},
   "outputs": [],
   "source": [
    "# REpresentants:\n",
    "# Color: Blcakc\n",
    "# Class: H\n",
    "# Sub Name: Mountain\n",
    "# Moth: Jan\n",
    "X = df[['Size', 'Weight', 'StanstadCost'\n",
    "       , 'PriceToCost','FinalSellPrice' ,'Silver', 'Red', 'Yellow', 'Blue', \n",
    "        'L', 'M', 'isNew','Road Bikes', 'Touring Bikes', \n",
    "        'Feb', 'Mar', 'Apr', 'May', 'Jun', 'Jul', 'Aug',\n",
    "       'Sep', 'Oct', 'Nov', 'Dec', 'Isdiscounted', 'IsPriceHigherThanCosts']]"
   ]
  },
  {
   "cell_type": "code",
   "execution_count": 5,
   "id": "f4a9c266",
   "metadata": {},
   "outputs": [],
   "source": [
    "y = df['OrdersQuantity']"
   ]
  },
  {
   "cell_type": "code",
   "execution_count": 6,
   "id": "f04d4fe7",
   "metadata": {},
   "outputs": [],
   "source": [
    "from sklearn.model_selection import train_test_split\n",
    "from sklearn.preprocessing import PolynomialFeatures\n",
    "from sklearn.metrics import mean_absolute_error,mean_squared_error\n",
    "from sklearn.linear_model import LinearRegression"
   ]
  },
  {
   "cell_type": "code",
   "execution_count": 7,
   "id": "f0eecebd",
   "metadata": {},
   "outputs": [],
   "source": [
    "polynomial_converter = PolynomialFeatures(degree=2,include_bias=False)\n",
    "poly_features = polynomial_converter.fit_transform(X)"
   ]
  },
  {
   "cell_type": "code",
   "execution_count": 8,
   "id": "e5fd1ba5",
   "metadata": {},
   "outputs": [],
   "source": [
    "# SPLIT THIS NEW POLY DATA SET\n",
    "X_train, X_test, y_train, y_test = train_test_split(poly_features, y, test_size=0.3, random_state=101)"
   ]
  },
  {
   "cell_type": "code",
   "execution_count": 9,
   "id": "1b06ed86",
   "metadata": {},
   "outputs": [
    {
     "data": {
      "text/plain": [
       "LinearRegression()"
      ]
     },
     "execution_count": 9,
     "metadata": {},
     "output_type": "execute_result"
    }
   ],
   "source": [
    "# TRAIN ON THIS NEW POLY SET\n",
    "model = LinearRegression(fit_intercept=True)\n",
    "model.fit(X_train,y_train)"
   ]
  },
  {
   "cell_type": "code",
   "execution_count": 10,
   "id": "0e3fc35c",
   "metadata": {},
   "outputs": [],
   "source": [
    "# PREDICT ON BOTH TRAIN AND TEST\n",
    "train_pred = model.predict(X_train)\n",
    "test_pred = model.predict(X_test)"
   ]
  },
  {
   "cell_type": "code",
   "execution_count": 11,
   "id": "53dbb4fd",
   "metadata": {},
   "outputs": [
    {
     "data": {
      "text/plain": [
       "15.237667659333356"
      ]
     },
     "execution_count": 11,
     "metadata": {},
     "output_type": "execute_result"
    }
   ],
   "source": [
    "np.sqrt(mean_squared_error(y_train,train_pred))\n"
   ]
  },
  {
   "cell_type": "code",
   "execution_count": 12,
   "id": "86251351",
   "metadata": {},
   "outputs": [
    {
     "data": {
      "text/plain": [
       "16.82227837056913"
      ]
     },
     "execution_count": 12,
     "metadata": {},
     "output_type": "execute_result"
    }
   ],
   "source": [
    "np.sqrt(mean_squared_error(y_test,test_pred))\n"
   ]
  },
  {
   "cell_type": "code",
   "execution_count": 13,
   "id": "6c1aaa2e",
   "metadata": {},
   "outputs": [
    {
     "data": {
      "text/plain": [
       "11.920481658467429"
      ]
     },
     "execution_count": 13,
     "metadata": {},
     "output_type": "execute_result"
    }
   ],
   "source": [
    "mean_absolute_error(y_test,test_pred)"
   ]
  },
  {
   "cell_type": "code",
   "execution_count": 29,
   "id": "ac7ab1e2",
   "metadata": {},
   "outputs": [
    {
     "data": {
      "text/plain": [
       "16.82227837056913"
      ]
     },
     "execution_count": 29,
     "metadata": {},
     "output_type": "execute_result"
    }
   ],
   "source": [
    "np.sqrt(mean_squared_error(y_test,test_pred))"
   ]
  },
  {
   "cell_type": "code",
   "execution_count": 31,
   "id": "20fc8d56",
   "metadata": {},
   "outputs": [],
   "source": [
    "c = pd.DataFrame()"
   ]
  },
  {
   "cell_type": "code",
   "execution_count": 32,
   "id": "83afe7d5",
   "metadata": {},
   "outputs": [],
   "source": [
    "c['y_test'] = y_test\n",
    "c['test_pred'] = test_pred"
   ]
  },
  {
   "cell_type": "code",
   "execution_count": 37,
   "id": "2808d457",
   "metadata": {},
   "outputs": [],
   "source": [
    "c['mean_y_train'] = np.mean(y_train)"
   ]
  },
  {
   "cell_type": "code",
   "execution_count": 34,
   "id": "cba9030b",
   "metadata": {},
   "outputs": [
    {
     "data": {
      "text/plain": [
       "array([[3.8000000e+01, 2.0350000e+01, 1.8980944e+03, ..., 1.0000000e+00,\n",
       "        0.0000000e+00, 0.0000000e+00],\n",
       "       [3.8000000e+01, 2.0350000e+01, 1.8980944e+03, ..., 0.0000000e+00,\n",
       "        0.0000000e+00, 1.0000000e+00],\n",
       "       [3.8000000e+01, 2.0350000e+01, 1.8980944e+03, ..., 0.0000000e+00,\n",
       "        0.0000000e+00, 1.0000000e+00],\n",
       "       ...,\n",
       "       [6.2000000e+01, 3.0000000e+01, 4.6144480e+02, ..., 0.0000000e+00,\n",
       "        0.0000000e+00, 1.0000000e+00],\n",
       "       [6.2000000e+01, 3.0000000e+01, 4.6144480e+02, ..., 0.0000000e+00,\n",
       "        0.0000000e+00, 1.0000000e+00],\n",
       "       [6.2000000e+01, 3.0000000e+01, 4.6144480e+02, ..., 0.0000000e+00,\n",
       "        0.0000000e+00, 1.0000000e+00]])"
      ]
     },
     "execution_count": 34,
     "metadata": {},
     "output_type": "execute_result"
    }
   ],
   "source": [
    "poly_features3"
   ]
  },
  {
   "cell_type": "code",
   "execution_count": 30,
   "id": "8569c4e3",
   "metadata": {},
   "outputs": [
    {
     "data": {
      "text/plain": [
       "11.920481658467429"
      ]
     },
     "execution_count": 30,
     "metadata": {},
     "output_type": "execute_result"
    }
   ],
   "source": [
    "# absolute mean error from my model\n",
    "mean_absolute_error(y_test,test_pred)"
   ]
  },
  {
   "cell_type": "code",
   "execution_count": 39,
   "id": "efca0bb6",
   "metadata": {},
   "outputs": [
    {
     "data": {
      "text/plain": [
       "23.8387447107407"
      ]
     },
     "execution_count": 39,
     "metadata": {},
     "output_type": "execute_result"
    }
   ],
   "source": [
    "# absolute mean error with mean y_train value\n",
    "mean_absolute_error(y_test,c['mean_y_train'])"
   ]
  },
  {
   "cell_type": "code",
   "execution_count": 40,
   "id": "866d20fd",
   "metadata": {},
   "outputs": [
    {
     "data": {
      "text/html": [
       "<div>\n",
       "<style scoped>\n",
       "    .dataframe tbody tr th:only-of-type {\n",
       "        vertical-align: middle;\n",
       "    }\n",
       "\n",
       "    .dataframe tbody tr th {\n",
       "        vertical-align: top;\n",
       "    }\n",
       "\n",
       "    .dataframe thead th {\n",
       "        text-align: right;\n",
       "    }\n",
       "</style>\n",
       "<table border=\"1\" class=\"dataframe\">\n",
       "  <thead>\n",
       "    <tr style=\"text-align: right;\">\n",
       "      <th></th>\n",
       "      <th>y_test</th>\n",
       "      <th>test_pred</th>\n",
       "      <th>mean_y_train</th>\n",
       "    </tr>\n",
       "  </thead>\n",
       "  <tbody>\n",
       "    <tr>\n",
       "      <th>1838</th>\n",
       "      <td>4</td>\n",
       "      <td>7.978916</td>\n",
       "      <td>30.956167</td>\n",
       "    </tr>\n",
       "  </tbody>\n",
       "</table>\n",
       "</div>"
      ],
      "text/plain": [
       "      y_test  test_pred  mean_y_train\n",
       "1838       4   7.978916     30.956167"
      ]
     },
     "execution_count": 40,
     "metadata": {},
     "output_type": "execute_result"
    }
   ],
   "source": [
    "c.head(1)"
   ]
  },
  {
   "cell_type": "code",
   "execution_count": 42,
   "id": "1336ec46",
   "metadata": {},
   "outputs": [
    {
     "data": {
      "text/plain": [
       "0.38507614946511287"
      ]
     },
     "execution_count": 42,
     "metadata": {},
     "output_type": "execute_result"
    }
   ],
   "source": [
    "mean_absolute_error(y_test,test_pred)/c['mean_y_train'].iloc[0]"
   ]
  },
  {
   "cell_type": "markdown",
   "id": "ca3261d5",
   "metadata": {},
   "source": [
    "As we can see my poly model is much better than average values, but results are still no satysfing. Mean order quantity is about 30 units. My model errors by 11.9 units (38.5% of mean), which can by confusing. I guess that acceptable results is from 5-10% errors versus mean order quantity. For now the model is useless"
   ]
  },
  {
   "cell_type": "code",
   "execution_count": 73,
   "id": "33918215",
   "metadata": {},
   "outputs": [
    {
     "data": {
      "text/plain": [
       "<matplotlib.collections.PathCollection at 0x1436aa169a0>"
      ]
     },
     "execution_count": 73,
     "metadata": {},
     "output_type": "execute_result"
    },
    {
     "data": {
      "image/png": "[encoded data removed]",
      "text/plain": [
       "<Figure size 864x432 with 1 Axes>"
      ]
     },
     "metadata": {},
     "output_type": "display_data"
    }
   ],
   "source": [
    "plt.scatter(y_train,train_pred,color=\"blue\")"
   ]
  },
  {
   "cell_type": "code",
   "execution_count": 76,
   "id": "2fc31eab",
   "metadata": {},
   "outputs": [],
   "source": [
    "coef = pd.DataFrame(model.coef_)"
   ]
  },
  {
   "cell_type": "code",
   "execution_count": 79,
   "id": "a5b18b76",
   "metadata": {},
   "outputs": [
    {
     "data": {
      "text/html": [
       "<div>\n",
       "<style scoped>\n",
       "    .dataframe tbody tr th:only-of-type {\n",
       "        vertical-align: middle;\n",
       "    }\n",
       "\n",
       "    .dataframe tbody tr th {\n",
       "        vertical-align: top;\n",
       "    }\n",
       "\n",
       "    .dataframe thead th {\n",
       "        text-align: right;\n",
       "    }\n",
       "</style>\n",
       "<table border=\"1\" class=\"dataframe\">\n",
       "  <thead>\n",
       "    <tr style=\"text-align: right;\">\n",
       "      <th></th>\n",
       "      <th>0</th>\n",
       "    </tr>\n",
       "  </thead>\n",
       "  <tbody>\n",
       "    <tr>\n",
       "      <th>0</th>\n",
       "      <td>1.837527e+03</td>\n",
       "    </tr>\n",
       "    <tr>\n",
       "      <th>1</th>\n",
       "      <td>-1.377866e+04</td>\n",
       "    </tr>\n",
       "    <tr>\n",
       "      <th>2</th>\n",
       "      <td>2.990001e+04</td>\n",
       "    </tr>\n",
       "    <tr>\n",
       "      <th>3</th>\n",
       "      <td>1.091044e+04</td>\n",
       "    </tr>\n",
       "    <tr>\n",
       "      <th>4</th>\n",
       "      <td>5.412958e+04</td>\n",
       "    </tr>\n",
       "    <tr>\n",
       "      <th>...</th>\n",
       "      <td>...</td>\n",
       "    </tr>\n",
       "    <tr>\n",
       "      <th>400</th>\n",
       "      <td>6.430704e+00</td>\n",
       "    </tr>\n",
       "    <tr>\n",
       "      <th>401</th>\n",
       "      <td>-2.075815e+01</td>\n",
       "    </tr>\n",
       "    <tr>\n",
       "      <th>402</th>\n",
       "      <td>-1.921537e+08</td>\n",
       "    </tr>\n",
       "    <tr>\n",
       "      <th>403</th>\n",
       "      <td>0.000000e+00</td>\n",
       "    </tr>\n",
       "    <tr>\n",
       "      <th>404</th>\n",
       "      <td>1.062954e+08</td>\n",
       "    </tr>\n",
       "  </tbody>\n",
       "</table>\n",
       "<p>405 rows × 1 columns</p>\n",
       "</div>"
      ],
      "text/plain": [
       "                0\n",
       "0    1.837527e+03\n",
       "1   -1.377866e+04\n",
       "2    2.990001e+04\n",
       "3    1.091044e+04\n",
       "4    5.412958e+04\n",
       "..            ...\n",
       "400  6.430704e+00\n",
       "401 -2.075815e+01\n",
       "402 -1.921537e+08\n",
       "403  0.000000e+00\n",
       "404  1.062954e+08\n",
       "\n",
       "[405 rows x 1 columns]"
      ]
     },
     "execution_count": 79,
     "metadata": {},
     "output_type": "execute_result"
    }
   ],
   "source": [
    "coef"
   ]
  },
  {
   "cell_type": "code",
   "execution_count": 83,
   "id": "675032d2",
   "metadata": {},
   "outputs": [
    {
     "data": {
      "text/plain": [
       "0.6717415509455367"
      ]
     },
     "execution_count": 83,
     "metadata": {},
     "output_type": "execute_result"
    }
   ],
   "source": [
    "from sklearn.metrics import r2_score\n",
    "\n",
    "r2_score(train_pred, y_train)"
   ]
  },
  {
   "cell_type": "markdown",
   "id": "7680e9cf",
   "metadata": {},
   "source": [
    "The model describe the orders quantity predictions in about 67% on train, which is not bad"
   ]
  },
  {
   "cell_type": "code",
   "execution_count": 84,
   "id": "d7ffe9f4",
   "metadata": {},
   "outputs": [
    {
     "data": {
      "text/plain": [
       "0.6002145513800771"
      ]
     },
     "execution_count": 84,
     "metadata": {},
     "output_type": "execute_result"
    }
   ],
   "source": [
    "r2_score(test_pred, y_test)"
   ]
  },
  {
   "cell_type": "markdown",
   "id": "28471098",
   "metadata": {},
   "source": [
    "On test data model still works not bad"
   ]
  },
  {
   "cell_type": "code",
   "execution_count": null,
   "id": "8632f28a",
   "metadata": {},
   "outputs": [],
   "source": []
  }
 ],
 "metadata": {
  "kernelspec": {
   "display_name": "Python 3",
   "language": "python",
   "name": "python3"
  },
  "language_info": {
   "codemirror_mode": {
    "name": "ipython",
    "version": 3
   },
   "file_extension": ".py",
   "mimetype": "text/x-python",
   "name": "python",
   "nbconvert_exporter": "python",
   "pygments_lexer": "ipython3",
   "version": "3.8.8"
  }
 },
 "nbformat": 4,
 "nbformat_minor": 5
}
